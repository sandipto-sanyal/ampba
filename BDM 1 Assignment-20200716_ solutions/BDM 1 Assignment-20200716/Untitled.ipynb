{
 "cells": [
  {
   "cell_type": "code",
   "execution_count": null,
   "metadata": {
    "collapsed": true
   },
   "outputs": [],
   "source": [
    "import findspark\n",
    "findspark.init()\n",
    "import os\n",
    "from pyspark import SparkContext\n",
    "import csv\n",
    "from StringIO import StringIO\n",
    "import numpy as np"
   ]
  },
  {
   "cell_type": "code",
   "execution_count": null,
   "metadata": {
    "collapsed": true
   },
   "outputs": [],
   "source": [
    "sc = SparkContext(master=\"local\", appName=\"sessions\")"
   ]
  },
  {
   "cell_type": "code",
   "execution_count": null,
   "metadata": {
    "collapsed": true
   },
   "outputs": [],
   "source": [
    "def split(line):\n",
    "    \"\"\"\n",
    "    Operator function for splitting a line with csv module\n",
    "    \"\"\"\n",
    "    reader = csv.reader(StringIO(line))\n",
    "    return reader.next()"
   ]
  },
  {
   "cell_type": "code",
   "execution_count": null,
   "metadata": {
    "collapsed": true
   },
   "outputs": [],
   "source": [
    "users_link = r'file:///home/cloudera/Desktop/git/big_data_management1/BDM 1 Assignment-20200716/users.csv'\n",
    "transactions_link = r'file:///home/cloudera/Desktop/git/big_data_management1/BDM 1 Assignment-20200716/transactions.csv'\n",
    "users_rdd = sc.textFile(users_link).cache()\n",
    "transactions_rdd = sc.textFile(transactions_link).cache()"
   ]
  },
  {
   "cell_type": "code",
   "execution_count": null,
   "metadata": {
    "collapsed": true
   },
   "outputs": [],
   "source": [
    "users_rdd = users_rdd.map(split)\n",
    "transactions_rdd = transactions_rdd.map(split)"
   ]
  },
  {
   "cell_type": "code",
   "execution_count": null,
   "metadata": {
    "collapsed": false,
    "scrolled": true
   },
   "outputs": [],
   "source": [
    "users_rdd.collect()"
   ]
  },
  {
   "cell_type": "code",
   "execution_count": null,
   "metadata": {
    "collapsed": false,
    "scrolled": true
   },
   "outputs": [],
   "source": [
    "transactions_rdd.collect()"
   ]
  },
  {
   "cell_type": "markdown",
   "metadata": {},
   "source": [
    "# Looping concept to understand how map works\n",
    "Here we will create a loop logic to convert users_rdd to (userid, locations) map as Key value map."
   ]
  },
  {
   "cell_type": "code",
   "execution_count": null,
   "metadata": {
    "collapsed": false,
    "scrolled": true
   },
   "outputs": [],
   "source": [
    "users_location_map_thru_loop = []\n",
    "for rows in users_rdd.collect():\n",
    "    users_kv_map_thru_loop.append((rows[0],rows[3]))\n",
    "users_kv_map_thru_loop"
   ]
  },
  {
   "cell_type": "markdown",
   "metadata": {},
   "source": [
    "# Simple mapping using lambda\n",
    "Here we will create a lambda logic to convert users_rdd to (userid, locations) map as Key value map."
   ]
  },
  {
   "cell_type": "code",
   "execution_count": null,
   "metadata": {
    "collapsed": false,
    "scrolled": true
   },
   "outputs": [],
   "source": [
    "userid_locations_rdd = users_rdd.map(lambda row: ???)\n",
    "userid_locations_rdd.collect()"
   ]
  },
  {
   "cell_type": "markdown",
   "metadata": {},
   "source": [
    "# Checkpoint\n",
    "If the above is achievable using simple for loop and a list comprehension technique why we are torturing ourselves with map lambdas etc.?"
   ]
  },
  {
   "cell_type": "markdown",
   "metadata": {},
   "source": [
    "# A bit complex mapping\n",
    "We do a complex mapping using a custom function whose rules are as follows:\n",
    "1. if domain of email is '.com' return (userid, 'company')\n",
    "2. if domain in .org or .edu return (userid, 'organisation or education sites)\n",
    "3. for others return (userid, 'others')"
   ]
  },
  {
   "cell_type": "code",
   "execution_count": null,
   "metadata": {
    "collapsed": false
   },
   "outputs": [],
   "source": [
    "def mapping_fn(row):\n",
    "    ...\n",
    "user_domain_map = users_rdd.map(mapping_fn)\n",
    "user_domain_map.collect()"
   ]
  },
  {
   "cell_type": "markdown",
   "metadata": {},
   "source": [
    "# JoinByKeys\n",
    "Here we will join two rdds based on common keys"
   ]
  },
  {
   "cell_type": "code",
   "execution_count": null,
   "metadata": {
    "collapsed": true
   },
   "outputs": [],
   "source": [
    "userid_locations_rdd = userid_locations_rdd\n",
    "userid_items_rdd = transactions_rdd.map(lambda row: (???))\n",
    "userid_items_location_rdd  = userid_locations_rdd.join..."
   ]
  },
  {
   "cell_type": "markdown",
   "metadata": {},
   "source": [
    "# GroupByKeys\n",
    "Here we will group the transactions_rdd as follows:<br>\n",
    "item | total amount transacted | number of transactions"
   ]
  },
  {
   "cell_type": "code",
   "execution_count": null,
   "metadata": {
    "collapsed": true
   },
   "outputs": [],
   "source": []
  },
  {
   "cell_type": "code",
   "execution_count": null,
   "metadata": {
    "collapsed": true
   },
   "outputs": [],
   "source": []
  },
  {
   "cell_type": "code",
   "execution_count": null,
   "metadata": {
    "collapsed": true
   },
   "outputs": [],
   "source": []
  },
  {
   "cell_type": "code",
   "execution_count": null,
   "metadata": {
    "collapsed": true
   },
   "outputs": [],
   "source": []
  }
 ],
 "metadata": {
  "kernelspec": {
   "display_name": "Python [Root]",
   "language": "python",
   "name": "Python [Root]"
  },
  "language_info": {
   "codemirror_mode": {
    "name": "ipython",
    "version": 2
   },
   "file_extension": ".py",
   "mimetype": "text/x-python",
   "name": "python",
   "nbconvert_exporter": "python",
   "pygments_lexer": "ipython2",
   "version": "2.7.12"
  }
 },
 "nbformat": 4,
 "nbformat_minor": 0
}
