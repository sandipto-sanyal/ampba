{
 "cells": [
  {
   "cell_type": "markdown",
   "metadata": {},
   "source": [
    "# Name: Sandipto Sanyal\n",
    "# PGID: 12010004"
   ]
  },
  {
   "cell_type": "markdown",
   "metadata": {},
   "source": [
    "# Install findspark"
   ]
  },
  {
   "cell_type": "code",
   "execution_count": 1,
   "metadata": {
    "collapsed": true
   },
   "outputs": [],
   "source": [
    "#!pip install findspark"
   ]
  },
  {
   "cell_type": "markdown",
   "metadata": {},
   "source": [
    "# Import necessary libraries"
   ]
  },
  {
   "cell_type": "code",
   "execution_count": 2,
   "metadata": {
    "collapsed": true
   },
   "outputs": [],
   "source": [
    "import findspark\n",
    "findspark.init()\n",
    "import os\n",
    "from pyspark import SparkContext\n",
    "import csv\n",
    "from StringIO import StringIO\n",
    "import numpy as np"
   ]
  },
  {
   "cell_type": "markdown",
   "metadata": {},
   "source": [
    "# Create SparkContext"
   ]
  },
  {
   "cell_type": "code",
   "execution_count": 3,
   "metadata": {
    "collapsed": true
   },
   "outputs": [],
   "source": [
    "sc = SparkContext(master=\"local\", appName=\"Question 1\")"
   ]
  },
  {
   "cell_type": "markdown",
   "metadata": {},
   "source": [
    "# Define a function to read the csv and split the lines"
   ]
  },
  {
   "cell_type": "code",
   "execution_count": 4,
   "metadata": {
    "collapsed": true
   },
   "outputs": [],
   "source": [
    "def split(line):\n",
    "    \"\"\"\n",
    "    Operator function for splitting a line with csv module\n",
    "    \"\"\"\n",
    "    reader = csv.reader(StringIO(line))\n",
    "    return reader.next()"
   ]
  },
  {
   "cell_type": "markdown",
   "metadata": {},
   "source": [
    "# Question 1"
   ]
  },
  {
   "cell_type": "markdown",
   "metadata": {},
   "source": [
    "## Create RDDs of the input"
   ]
  },
  {
   "cell_type": "code",
   "execution_count": 5,
   "metadata": {},
   "outputs": [],
   "source": [
    "users_link = r'file:///home/cloudera/Desktop/git/big_data_management1/BDM 1 Assignment-20200716/users.csv'\n",
    "transactions_link = r'file:///home/cloudera/Desktop/git/big_data_management1/BDM 1 Assignment-20200716/transactions.csv'\n",
    "users_rdd = sc.textFile(users_link).cache()\n",
    "transactions_rdd = sc.textFile(transactions_link).cache()"
   ]
  },
  {
   "cell_type": "markdown",
   "metadata": {},
   "source": [
    "## Make transformations of the data\n",
    "Below we make some transformations of the dataset so that it renders into a CSV format."
   ]
  },
  {
   "cell_type": "code",
   "execution_count": 6,
   "metadata": {
    "collapsed": true
   },
   "outputs": [],
   "source": [
    "users_rdd = users_rdd.map(split)\n",
    "transactions_rdd = transactions_rdd.map(split)"
   ]
  },
  {
   "cell_type": "code",
   "execution_count": 7,
   "metadata": {
    "scrolled": true
   },
   "outputs": [
    {
     "data": {
      "text/plain": [
       "[['1', 'user1@company.com', 'ES', 'MX'],\n",
       " ['2', 'user4@domain.com', 'EN', 'US'],\n",
       " ['3', 'user5@company.com', 'FR', 'FR'],\n",
       " ['4', 'user9@site.org', 'HI', 'IN'],\n",
       " ['5', 'user12@service.io', 'EN', 'CA'],\n",
       " ['6', 'user17@website.net', 'FR', 'FR'],\n",
       " ['7', 'user21@company.com', 'FR', 'FR'],\n",
       " ['8', 'user25@company.com', 'FR', 'FR'],\n",
       " ['9', 'user27@school.edu', 'ES', 'MX'],\n",
       " ['10', 'user31@website.net', 'EN', 'CA'],\n",
       " ['11', 'user36@website.net', 'FR', 'FR'],\n",
       " ['12', 'user39@domain.com', 'FR', 'FR'],\n",
       " ['13', 'user41@company.com', 'ES', 'MX'],\n",
       " ['14', 'user45@domain.com', 'HI', 'IN'],\n",
       " ['15', 'user48@site.org', 'ES', 'MX'],\n",
       " ['16', 'user53@school.edu', 'EN', 'US'],\n",
       " ['17', 'user57@school.edu', 'ES', 'MX'],\n",
       " ['18', 'user59@website.net', 'HI', 'IN'],\n",
       " ['19', 'user64@school.edu', 'EN', 'US'],\n",
       " ['20', 'user67@domain.com', 'HI', 'IN'],\n",
       " ['21', 'user68@site.org', 'EN', 'US'],\n",
       " ['22', 'user71@domain.com', 'ES', 'MX'],\n",
       " ['23', 'user74@service.io', 'EN', 'US'],\n",
       " ['24', 'user79@website.net', 'ES', 'MX'],\n",
       " ['25', 'user81@site.org', 'EN', 'US'],\n",
       " ['26', 'user85@service.io', 'HI', 'IN'],\n",
       " ['27', 'user89@service.io', 'EN', 'CA'],\n",
       " ['28', 'user91@company.com', 'EN', 'CA'],\n",
       " ['29', 'user96@site.org', 'ES', 'MX'],\n",
       " ['30', 'user99@website.net', 'EN', 'US']]"
      ]
     },
     "execution_count": 7,
     "metadata": {},
     "output_type": "execute_result"
    }
   ],
   "source": [
    "users_rdd.collect()"
   ]
  },
  {
   "cell_type": "code",
   "execution_count": 8,
   "metadata": {
    "scrolled": true
   },
   "outputs": [
    {
     "data": {
      "text/plain": [
       "[['1', '1004', '19', '129', 'whatchamacallit'],\n",
       " ['2', '1001', '10', '99', 'thingamajig'],\n",
       " ['3', '1004', '17', '129', 'whatchamacallit'],\n",
       " ['4', '1001', '9', '99', 'thingamajig'],\n",
       " ['5', '1003', '3', '89', 'gadget'],\n",
       " ['6', '1002', '19', '149', 'gizmo'],\n",
       " ['7', '1002', '30', '149', 'gizmo'],\n",
       " ['8', '1002', '26', '149', 'gizmo'],\n",
       " ['9', '1001', '22', '99', 'thingamajig'],\n",
       " ['10', '1003', '6', '89', 'gadget'],\n",
       " ['11', '1004', '1', '129', 'whatchamacallit'],\n",
       " ['12', '1004', '2', '129', 'whatchamacallit'],\n",
       " ['13', '1005', '5', '199', 'doohickey'],\n",
       " ['14', '1004', '7', '129', 'whatchamacallit'],\n",
       " ['15', '1002', '16', '149', 'gizmo']]"
      ]
     },
     "execution_count": 8,
     "metadata": {},
     "output_type": "execute_result"
    }
   ],
   "source": [
    "transactions_rdd.collect()"
   ]
  },
  {
   "cell_type": "markdown",
   "metadata": {},
   "source": [
    "## a) Count of unique locations where each product is sold"
   ]
  },
  {
   "cell_type": "markdown",
   "metadata": {},
   "source": [
    "### Create RDDs userid|location and userid|product to perform join on userid"
   ]
  },
  {
   "cell_type": "code",
   "execution_count": 9,
   "metadata": {},
   "outputs": [],
   "source": [
    "def create_userid_location_rdd(row):\n",
    "    data = [row[0], row[3]]\n",
    "    return data\n",
    "def create_userid_product_rdd(row):\n",
    "    data = [row[2],row[4], float(row[3])]\n",
    "    return data\n",
    "userid_location_rdd = users_rdd.map(create_userid_location_rdd)\n",
    "userid_product_rdd = transactions_rdd.map(create_userid_product_rdd)"
   ]
  },
  {
   "cell_type": "code",
   "execution_count": 10,
   "metadata": {},
   "outputs": [],
   "source": [
    "joined_rdd = userid_location_rdd.rightOuterJoin(userid_product_rdd)"
   ]
  },
  {
   "cell_type": "code",
   "execution_count": 11,
   "metadata": {},
   "outputs": [
    {
     "data": {
      "text/plain": [
       "[('26', ('IN', 'gizmo')),\n",
       " ('17', ('MX', 'whatchamacallit')),\n",
       " ('22', ('MX', 'thingamajig')),\n",
       " ('19', ('US', 'whatchamacallit')),\n",
       " ('19', ('US', 'gizmo')),\n",
       " ('1', ('MX', 'whatchamacallit')),\n",
       " ('3', ('FR', 'gadget')),\n",
       " ('5', ('CA', 'doohickey')),\n",
       " ('7', ('FR', 'whatchamacallit')),\n",
       " ('9', ('MX', 'thingamajig')),\n",
       " ('30', ('US', 'gizmo')),\n",
       " ('16', ('US', 'gizmo')),\n",
       " ('2', ('US', 'whatchamacallit')),\n",
       " ('6', ('FR', 'gadget')),\n",
       " ('10', ('CA', 'thingamajig'))]"
      ]
     },
     "execution_count": 11,
     "metadata": {},
     "output_type": "execute_result"
    }
   ],
   "source": [
    "joined_rdd.collect()"
   ]
  },
  {
   "cell_type": "code",
   "execution_count": 12,
   "metadata": {},
   "outputs": [
    {
     "data": {
      "text/plain": [
       "[('thingamajig', <pyspark.resultiterable.ResultIterable at 0x7fa2f267c5d0>),\n",
       " ('gadget', <pyspark.resultiterable.ResultIterable at 0x7fa2f267c7d0>),\n",
       " ('doohickey', <pyspark.resultiterable.ResultIterable at 0x7fa2f267c710>),\n",
       " ('whatchamacallit',\n",
       "  <pyspark.resultiterable.ResultIterable at 0x7fa2f267c790>),\n",
       " ('gizmo', <pyspark.resultiterable.ResultIterable at 0x7fa2f32b0890>)]"
      ]
     },
     "execution_count": 12,
     "metadata": {},
     "output_type": "execute_result"
    }
   ],
   "source": [
    "grouped_rdd = joined_rdd.map(lambda row:(row[1][1],row[1][0])).groupByKey().collect()\n",
    "grouped_rdd"
   ]
  },
  {
   "cell_type": "code",
   "execution_count": 13,
   "metadata": {},
   "outputs": [
    {
     "name": "stdout",
     "output_type": "stream",
     "text": [
      "Count of unique locations where each product is sold:\n"
     ]
    },
    {
     "data": {
      "text/plain": [
       "[('thingamajig', 2),\n",
       " ('gadget', 1),\n",
       " ('doohickey', 1),\n",
       " ('whatchamacallit', 3),\n",
       " ('gizmo', 2)]"
      ]
     },
     "execution_count": 13,
     "metadata": {},
     "output_type": "execute_result"
    }
   ],
   "source": [
    "print(\"Count of unique locations where each product is sold:\")\n",
    "[(items, (np.unique(np.array((list(locations))))).shape[0]) for (items, locations) in grouped_rdd]"
   ]
  },
  {
   "cell_type": "markdown",
   "metadata": {},
   "source": [
    "## b) Products bought by each user\n",
    "To perform this we will make use of the joined_rdd that we created earlier in step a"
   ]
  },
  {
   "cell_type": "code",
   "execution_count": 14,
   "metadata": {},
   "outputs": [
    {
     "name": "stdout",
     "output_type": "stream",
     "text": [
      "Products bought by each user:\n"
     ]
    },
    {
     "data": {
      "text/plain": [
       "[('26', ['gizmo']),\n",
       " ('17', ['whatchamacallit']),\n",
       " ('22', ['thingamajig']),\n",
       " ('19', ['whatchamacallit', 'gizmo']),\n",
       " ('1', ['whatchamacallit']),\n",
       " ('3', ['gadget']),\n",
       " ('5', ['doohickey']),\n",
       " ('7', ['whatchamacallit']),\n",
       " ('9', ['thingamajig']),\n",
       " ('10', ['thingamajig']),\n",
       " ('30', ['gizmo']),\n",
       " ('2', ['whatchamacallit']),\n",
       " ('16', ['gizmo']),\n",
       " ('6', ['gadget'])]"
      ]
     },
     "execution_count": 14,
     "metadata": {},
     "output_type": "execute_result"
    }
   ],
   "source": [
    "grouped_rdd = joined_rdd.map(lambda row: (row[0],row[1][1])).groupByKey()\n",
    "print('Products bought by each user:')\n",
    "([(userid, list(items)) for (userid, items) in grouped_rdd.collect()])"
   ]
  },
  {
   "cell_type": "markdown",
   "metadata": {
    "collapsed": true
   },
   "source": [
    "# c) Total spending done by each user on each product\n",
    "To perform this we take help of the userid_product_rdd"
   ]
  },
  {
   "cell_type": "code",
   "execution_count": 15,
   "metadata": {},
   "outputs": [
    {
     "data": {
      "text/plain": [
       "[['19', 'whatchamacallit', 129.0],\n",
       " ['10', 'thingamajig', 99.0],\n",
       " ['17', 'whatchamacallit', 129.0],\n",
       " ['9', 'thingamajig', 99.0],\n",
       " ['3', 'gadget', 89.0],\n",
       " ['19', 'gizmo', 149.0],\n",
       " ['30', 'gizmo', 149.0],\n",
       " ['26', 'gizmo', 149.0],\n",
       " ['22', 'thingamajig', 99.0],\n",
       " ['6', 'gadget', 89.0],\n",
       " ['1', 'whatchamacallit', 129.0],\n",
       " ['2', 'whatchamacallit', 129.0],\n",
       " ['5', 'doohickey', 199.0],\n",
       " ['7', 'whatchamacallit', 129.0],\n",
       " ['16', 'gizmo', 149.0]]"
      ]
     },
     "execution_count": 15,
     "metadata": {},
     "output_type": "execute_result"
    }
   ],
   "source": [
    "userid_product_rdd.collect()"
   ]
  },
  {
   "cell_type": "code",
   "execution_count": 16,
   "metadata": {},
   "outputs": [
    {
     "name": "stdout",
     "output_type": "stream",
     "text": [
      "Total spending done on each product by each user::\n"
     ]
    },
    {
     "data": {
      "text/plain": [
       "[('1', 'whatchamacallit', 129.0),\n",
       " ('10', 'thingamajig', 99.0),\n",
       " ('16', 'gizmo', 149.0),\n",
       " ('17', 'whatchamacallit', 129.0),\n",
       " ('19', 'gizmo', 149.0),\n",
       " ('19', 'whatchamacallit', 129.0),\n",
       " ('2', 'whatchamacallit', 129.0),\n",
       " ('22', 'thingamajig', 99.0),\n",
       " ('26', 'gizmo', 149.0),\n",
       " ('3', 'gadget', 89.0),\n",
       " ('30', 'gizmo', 149.0),\n",
       " ('5', 'doohickey', 199.0),\n",
       " ('6', 'gadget', 89.0),\n",
       " ('7', 'whatchamacallit', 129.0),\n",
       " ('9', 'thingamajig', 99.0)]"
      ]
     },
     "execution_count": 16,
     "metadata": {},
     "output_type": "execute_result"
    }
   ],
   "source": [
    "spending_user_item = userid_product_rdd.map(lambda row: ((row[0],row[1]),row[2])).groupByKey().sortByKey()\n",
    "print('Total spending done on each product by each user::')\n",
    "([(key[0],key[1],sum(list(value))) for (key, value) in spending_user_item.collect()])"
   ]
  },
  {
   "cell_type": "markdown",
   "metadata": {
    "collapsed": true
   },
   "source": [
    "# Question 2"
   ]
  },
  {
   "cell_type": "markdown",
   "metadata": {},
   "source": [
    "## Read the CSV file and parse into new separated lines"
   ]
  },
  {
   "cell_type": "code",
   "execution_count": 17,
   "metadata": {
    "collapsed": true
   },
   "outputs": [],
   "source": [
    "olympics_link = r'file:///home/cloudera/Desktop/git/big_data_management1/BDM 1 Assignment-20200716/olympics.csv'\n",
    "olympics_rdd = sc.textFile(olympics_link, use_unicode=False).cache()\n",
    "olympics_rdd = olympics_rdd.map(split).map(lambda row: row[0].split('\\t'))"
   ]
  },
  {
   "cell_type": "code",
   "execution_count": 18,
   "metadata": {},
   "outputs": [
    {
     "data": {
      "text/plain": [
       "['Michael Phelps',\n",
       " '23',\n",
       " 'United States',\n",
       " '2008',\n",
       " '08-24-08',\n",
       " 'Swimming',\n",
       " '8',\n",
       " '0',\n",
       " '0',\n",
       " '8']"
      ]
     },
     "execution_count": 18,
     "metadata": {},
     "output_type": "execute_result"
    }
   ],
   "source": [
    "olympics_rdd.first()"
   ]
  },
  {
   "cell_type": "markdown",
   "metadata": {},
   "source": [
    "<font color='red'>Assuming columns are: player name, age, country, year, date, category, gold, silver, bronze, total"
   ]
  },
  {
   "cell_type": "markdown",
   "metadata": {
    "collapsed": true
   },
   "source": [
    "## a) Total medals that each country won in particular sport"
   ]
  },
  {
   "cell_type": "code",
   "execution_count": 19,
   "metadata": {
    "scrolled": true
   },
   "outputs": [
    {
     "name": "stdout",
     "output_type": "stream",
     "text": [
      "Total medals by country by sport\n"
     ]
    },
    {
     "data": {
      "text/plain": [
       "[('Afghanistan', 'Taekwondo', 2),\n",
       " ('Algeria', 'Athletics', 5),\n",
       " ('Algeria', 'Boxing', 1),\n",
       " ('Algeria', 'Judo', 2),\n",
       " ('Argentina', 'Basketball', 24),\n",
       " ('Argentina', 'Cycling', 2),\n",
       " ('Argentina', 'Football', 34),\n",
       " ('Argentina', 'Hockey', 65),\n",
       " ('Argentina', 'Judo', 1),\n",
       " ('Argentina', 'Sailing', 10),\n",
       " ('Argentina', 'Swimming', 1),\n",
       " ('Argentina', 'Taekwondo', 1),\n",
       " ('Argentina', 'Tennis', 3),\n",
       " ('Armenia', 'Boxing', 1),\n",
       " ('Armenia', 'Weightlifting', 5),\n",
       " ('Armenia', 'Wrestling', 4),\n",
       " ('Australia', 'Archery', 2),\n",
       " ('Australia', 'Athletics', 16),\n",
       " ('Australia', 'Baseball', 24),\n",
       " ('Australia', 'Basketball', 48),\n",
       " ('Australia', 'Beach Volleyball', 2),\n",
       " ('Australia', 'Canoeing', 19),\n",
       " ('Australia', 'Cycling', 36),\n",
       " ('Australia', 'Diving', 17),\n",
       " ('Australia', 'Equestrian', 10),\n",
       " ('Australia', 'Freestyle Skiing', 5),\n",
       " ('Australia', 'Hockey', 81),\n",
       " ('Australia', 'Judo', 1),\n",
       " ('Australia', 'Rowing', 61),\n",
       " ('Australia', 'Sailing', 21),\n",
       " ('Australia', 'Shooting', 6),\n",
       " ('Australia', 'Short-Track Speed Skating', 1),\n",
       " ('Australia', 'Snowboarding', 1),\n",
       " ('Australia', 'Softball', 45),\n",
       " ('Australia', 'Swimming', 163),\n",
       " ('Australia', 'Taekwondo', 2),\n",
       " ('Australia', 'Tennis', 3),\n",
       " ('Australia', 'Trampoline', 1),\n",
       " ('Australia', 'Triathlon', 5),\n",
       " ('Australia', 'Waterpolo', 39),\n",
       " ('Austria', 'Alpine Skiing', 27),\n",
       " ('Austria', 'Athletics', 1),\n",
       " ('Austria', 'Biathlon', 6),\n",
       " ('Austria', 'Canoeing', 1),\n",
       " ('Austria', 'Cross Country Skiing', 3),\n",
       " ('Austria', 'Freestyle Skiing', 1),\n",
       " ('Austria', 'Judo', 2),\n",
       " ('Austria', 'Luge', 6),\n",
       " ('Austria', 'Nordic Combined', 17),\n",
       " ('Austria', 'Sailing', 6),\n",
       " ('Austria', 'Shooting', 1),\n",
       " ('Austria', 'Skeleton', 1),\n",
       " ('Austria', 'Ski Jumping', 12),\n",
       " ('Austria', 'Snowboarding', 3),\n",
       " ('Austria', 'Swimming', 3),\n",
       " ('Austria', 'Triathlon', 1),\n",
       " ('Azerbaijan', 'Boxing', 6),\n",
       " ('Azerbaijan', 'Judo', 2),\n",
       " ('Azerbaijan', 'Shooting', 3),\n",
       " ('Azerbaijan', 'Weightlifting', 1),\n",
       " ('Azerbaijan', 'Wrestling', 13),\n",
       " ('Bahamas', 'Athletics', 24),\n",
       " ('Bahrain', 'Athletics', 1),\n",
       " ('Barbados', 'Athletics', 1),\n",
       " ('Belarus', 'Athletics', 15),\n",
       " ('Belarus', 'Biathlon', 2),\n",
       " ('Belarus', 'Boxing', 2),\n",
       " ('Belarus', 'Canoeing', 18),\n",
       " ('Belarus', 'Cycling', 1),\n",
       " ('Belarus', 'Freestyle Skiing', 3),\n",
       " ('Belarus', 'Judo', 2),\n",
       " ('Belarus', 'Modern Pentathlon', 1),\n",
       " ('Belarus', 'Rhythmic Gymnastics', 21),\n",
       " ('Belarus', 'Rowing', 7),\n",
       " ('Belarus', 'Shooting', 6),\n",
       " ('Belarus', 'Swimming', 2),\n",
       " ('Belarus', 'Tennis', 3),\n",
       " ('Belarus', 'Weightlifting', 10),\n",
       " ('Belarus', 'Wrestling', 4),\n",
       " ('Belgium', 'Athletics', 5),\n",
       " ('Belgium', 'Cycling', 4),\n",
       " ('Belgium', 'Judo', 4),\n",
       " ('Belgium', 'Sailing', 1),\n",
       " ('Belgium', 'Shooting', 1),\n",
       " ('Belgium', 'Tennis', 3),\n",
       " ('Botswana', 'Athletics', 1),\n",
       " ('Brazil', 'Athletics', 7),\n",
       " ('Brazil', 'Basketball', 12),\n",
       " ('Brazil', 'Beach Volleyball', 18),\n",
       " ('Brazil', 'Boxing', 3),\n",
       " ('Brazil', 'Equestrian', 5),\n",
       " ('Brazil', 'Football', 70),\n",
       " ('Brazil', 'Gymnastics', 1),\n",
       " ('Brazil', 'Judo', 11),\n",
       " ('Brazil', 'Modern Pentathlon', 1),\n",
       " ('Brazil', 'Sailing', 12),\n",
       " ('Brazil', 'Swimming', 8),\n",
       " ('Brazil', 'Taekwondo', 1),\n",
       " ('Brazil', 'Volleyball', 72),\n",
       " ('Bulgaria', 'Athletics', 1),\n",
       " ('Bulgaria', 'Biathlon', 1),\n",
       " ('Bulgaria', 'Boxing', 2),\n",
       " ('Bulgaria', 'Canoeing', 2),\n",
       " ('Bulgaria', 'Gymnastics', 4),\n",
       " ('Bulgaria', 'Judo', 1),\n",
       " ('Bulgaria', 'Rhythmic Gymnastics', 6),\n",
       " ('Bulgaria', 'Rowing', 4),\n",
       " ('Bulgaria', 'Shooting', 4),\n",
       " ('Bulgaria', 'Short-Track Speed Skating', 3),\n",
       " ('Bulgaria', 'Weightlifting', 5),\n",
       " ('Bulgaria', 'Wrestling', 8),\n",
       " ('Cameroon', 'Athletics', 2),\n",
       " ('Cameroon', 'Football', 18),\n",
       " ('Canada', 'Athletics', 2),\n",
       " ('Canada', 'Bobsleigh', 10),\n",
       " ('Canada', 'Canoeing', 10),\n",
       " ('Canada', 'Cross Country Skiing', 4),\n",
       " ('Canada', 'Curling', 30),\n",
       " ('Canada', 'Cycling', 5),\n",
       " ('Canada', 'Diving', 12),\n",
       " ('Canada', 'Equestrian', 5),\n",
       " ('Canada', 'Figure Skating', 6),\n",
       " ('Canada', 'Football', 18),\n",
       " ('Canada', 'Freestyle Skiing', 6),\n",
       " ('Canada', 'Gymnastics', 1),\n",
       " ('Canada', 'Ice Hockey', 105),\n",
       " ('Canada', 'Judo', 2),\n",
       " ('Canada', 'Rowing', 48),\n",
       " ('Canada', 'Sailing', 2),\n",
       " ('Canada', 'Short-Track Speed Skating', 38),\n",
       " ('Canada', 'Skeleton', 4),\n",
       " ('Canada', 'Snowboarding', 4),\n",
       " ('Canada', 'Speed Skating', 26),\n",
       " ('Canada', 'Swimming', 5),\n",
       " ('Canada', 'Synchronized Swimming', 8),\n",
       " ('Canada', 'Taekwondo', 2),\n",
       " ('Canada', 'Tennis', 2),\n",
       " ('Canada', 'Trampoline', 6),\n",
       " ('Canada', 'Triathlon', 2),\n",
       " ('Canada', 'Weightlifting', 1),\n",
       " ('Canada', 'Wrestling', 6),\n",
       " ('Chile', 'Football', 17),\n",
       " ('Chile', 'Tennis', 5),\n",
       " ('China', 'Archery', 14),\n",
       " ('China', 'Athletics', 11),\n",
       " ('China', 'Badminton', 44),\n",
       " ('China', 'Beach Volleyball', 4),\n",
       " ('China', 'Boxing', 8),\n",
       " ('China', 'Canoeing', 4),\n",
       " ('China', 'Curling', 4),\n",
       " ('China', 'Cycling', 7),\n",
       " ('China', 'Diving', 55),\n",
       " ('China', 'Fencing', 23),\n",
       " ('China', 'Figure Skating', 10),\n",
       " ('China', 'Freestyle Skiing', 5),\n",
       " ('China', 'Gymnastics', 51),\n",
       " ('China', 'Hockey', 16),\n",
       " ('China', 'Judo', 15),\n",
       " ('China', 'Modern Pentathlon', 1),\n",
       " ('China', 'Rhythmic Gymnastics', 6),\n",
       " ('China', 'Rowing', 8),\n",
       " ('China', 'Sailing', 4),\n",
       " ('China', 'Shooting', 32),\n",
       " ('China', 'Short-Track Speed Skating', 26),\n",
       " ('China', 'Speed Skating', 3),\n",
       " ('China', 'Swimming', 35),\n",
       " ('China', 'Synchronized Swimming', 20),\n",
       " ('China', 'Table Tennis', 43),\n",
       " ('China', 'Taekwondo', 8),\n",
       " ('China', 'Tennis', 4),\n",
       " ('China', 'Trampoline', 8),\n",
       " ('China', 'Volleyball', 24),\n",
       " ('China', 'Weightlifting', 31),\n",
       " ('China', 'Wrestling', 6),\n",
       " ('Chinese Taipei', 'Archery', 6),\n",
       " ('Chinese Taipei', 'Table Tennis', 1),\n",
       " ('Chinese Taipei', 'Taekwondo', 8),\n",
       " ('Chinese Taipei', 'Weightlifting', 5),\n",
       " ('Colombia', 'Athletics', 1),\n",
       " ('Colombia', 'Cycling', 4),\n",
       " ('Colombia', 'Judo', 1),\n",
       " ('Colombia', 'Taekwondo', 1),\n",
       " ('Colombia', 'Weightlifting', 4),\n",
       " ('Colombia', 'Wrestling', 2),\n",
       " ('Costa Rica', 'Swimming', 2),\n",
       " ('Croatia', 'Alpine Skiing', 9),\n",
       " ('Croatia', 'Athletics', 2),\n",
       " ('Croatia', 'Biathlon', 1),\n",
       " ('Croatia', 'Gymnastics', 1),\n",
       " ('Croatia', 'Handball', 30),\n",
       " ('Croatia', 'Rowing', 15),\n",
       " ('Croatia', 'Shooting', 2),\n",
       " ('Croatia', 'Swimming', 1),\n",
       " ('Croatia', 'Taekwondo', 3),\n",
       " ('Croatia', 'Tennis', 2),\n",
       " ('Croatia', 'Waterpolo', 13),\n",
       " ('Croatia', 'Weightlifting', 2),\n",
       " ('Cuba', 'Athletics', 21),\n",
       " ('Cuba', 'Baseball', 72),\n",
       " ('Cuba', 'Boxing', 26),\n",
       " ('Cuba', 'Canoeing', 5),\n",
       " ('Cuba', 'Cycling', 1),\n",
       " ('Cuba', 'Fencing', 3),\n",
       " ('Cuba', 'Judo', 20),\n",
       " ('Cuba', 'Shooting', 3),\n",
       " ('Cuba', 'Taekwondo', 5),\n",
       " ('Cuba', 'Volleyball', 20),\n",
       " ('Cuba', 'Weightlifting', 1),\n",
       " ('Cuba', 'Wrestling', 11),\n",
       " ('Cyprus', 'Sailing', 1),\n",
       " ('Czech Republic', 'Alpine Skiing', 1),\n",
       " ('Czech Republic', 'Athletics', 7),\n",
       " ('Czech Republic', 'Boxing', 1),\n",
       " ('Czech Republic', 'Canoeing', 12),\n",
       " ('Czech Republic', 'Cross Country Skiing', 10),\n",
       " ('Czech Republic', 'Cycling', 1),\n",
       " ('Czech Republic', 'Freestyle Skiing', 1),\n",
       " ('Czech Republic', 'Ice Hockey', 24),\n",
       " ('Czech Republic', 'Modern Pentathlon', 2),\n",
       " ('Czech Republic', 'Rowing', 7),\n",
       " ('Czech Republic', 'Sailing', 1),\n",
       " ('Czech Republic', 'Shooting', 8),\n",
       " ('Czech Republic', 'Speed Skating', 3),\n",
       " ('Czech Republic', 'Tennis', 2),\n",
       " ('Czech Republic', 'Triathlon', 1),\n",
       " ('Denmark', 'Athletics', 3),\n",
       " ('Denmark', 'Badminton', 7),\n",
       " ('Denmark', 'Canoeing', 2),\n",
       " ('Denmark', 'Cycling', 6),\n",
       " ('Denmark', 'Equestrian', 3),\n",
       " ('Denmark', 'Handball', 30),\n",
       " ('Denmark', 'Rowing', 21),\n",
       " ('Denmark', 'Sailing', 12),\n",
       " ('Denmark', 'Shooting', 2),\n",
       " ('Denmark', 'Swimming', 1),\n",
       " ('Denmark', 'Table Tennis', 2),\n",
       " ('Dominican Republic', 'Athletics', 3),\n",
       " ('Dominican Republic', 'Boxing', 1),\n",
       " ('Dominican Republic', 'Taekwondo', 1),\n",
       " ('Ecuador', 'Athletics', 1),\n",
       " ('Egypt', 'Boxing', 3),\n",
       " ('Egypt', 'Fencing', 1),\n",
       " ('Egypt', 'Judo', 1),\n",
       " ('Egypt', 'Taekwondo', 1),\n",
       " ('Egypt', 'Wrestling', 2),\n",
       " ('Eritrea', 'Athletics', 1),\n",
       " ('Estonia', 'Athletics', 4),\n",
       " ('Estonia', 'Cross Country Skiing', 7),\n",
       " ('Estonia', 'Judo', 3),\n",
       " ('Estonia', 'Rowing', 3),\n",
       " ('Estonia', 'Wrestling', 1),\n",
       " ('Ethiopia', 'Athletics', 29),\n",
       " ('Finland', 'Alpine Skiing', 1),\n",
       " ('Finland', 'Athletics', 3),\n",
       " ('Finland', 'Cross Country Skiing', 7),\n",
       " ('Finland', 'Curling', 4),\n",
       " ('Finland', 'Freestyle Skiing', 2),\n",
       " ('Finland', 'Ice Hockey', 64),\n",
       " ('Finland', 'Nordic Combined', 11),\n",
       " ('Finland', 'Rowing', 2),\n",
       " ('Finland', 'Sailing', 6),\n",
       " ('Finland', 'Shooting', 4),\n",
       " ('Finland', 'Ski Jumping', 10),\n",
       " ('Finland', 'Snowboarding', 2),\n",
       " ('Finland', 'Wrestling', 2),\n",
       " ('France', 'Alpine Skiing', 6),\n",
       " ('France', 'Archery', 3),\n",
       " ('France', 'Athletics', 9),\n",
       " ('France', 'Basketball', 24),\n",
       " ('France', 'Biathlon', 24),\n",
       " ('France', 'Boxing', 6),\n",
       " ('France', 'Canoeing', 11),\n",
       " ('France', 'Cross Country Skiing', 1),\n",
       " ('France', 'Cycling', 30),\n",
       " ('France', 'Equestrian', 5),\n",
       " ('France', 'Fencing', 36),\n",
       " ('France', 'Figure Skating', 2),\n",
       " ('France', 'Freestyle Skiing', 3),\n",
       " ('France', 'Gymnastics', 6),\n",
       " ('France', 'Handball', 30),\n",
       " ('France', 'Judo', 18),\n",
       " ('France', 'Nordic Combined', 1),\n",
       " ('France', 'Rowing', 22),\n",
       " ('France', 'Sailing', 8),\n",
       " ('France', 'Shooting', 5),\n",
       " ('France', 'Snowboarding', 7),\n",
       " ('France', 'Swimming', 39),\n",
       " ('France', 'Synchronized Swimming', 2),\n",
       " ('France', 'Table Tennis', 2),\n",
       " ('France', 'Taekwondo', 6),\n",
       " ('France', 'Tennis', 6),\n",
       " ('France', 'Weightlifting', 1),\n",
       " ('France', 'Wrestling', 5),\n",
       " ('Gabon', 'Taekwondo', 1),\n",
       " ('Georgia', 'Boxing', 1),\n",
       " ('Georgia', 'Judo', 5),\n",
       " ('Georgia', 'Shooting', 1),\n",
       " ('Georgia', 'Weightlifting', 2),\n",
       " ('Georgia', 'Wrestling', 14),\n",
       " ('Germany', 'Alpine Skiing', 4),\n",
       " ('Germany', 'Archery', 3),\n",
       " ('Germany', 'Athletics', 16),\n",
       " ('Germany', 'Beach Volleyball', 4),\n",
       " ('Germany', 'Biathlon', 40),\n",
       " ('Germany', 'Bobsleigh', 26),\n",
       " ('Germany', 'Boxing', 3),\n",
       " ('Germany', 'Canoeing', 68),\n",
       " ('Germany', 'Cross Country Skiing', 31),\n",
       " ('Germany', 'Cycling', 36),\n",
       " ('Germany', 'Diving', 9),\n",
       " ('Germany', 'Equestrian', 40),\n",
       " ('Germany', 'Fencing', 22),\n",
       " ('Germany', 'Figure Skating', 2),\n",
       " ('Germany', 'Football', 50),\n",
       " ('Germany', 'Gymnastics', 5),\n",
       " ('Germany', 'Handball', 15),\n",
       " ('Germany', 'Hockey', 65),\n",
       " ('Germany', 'Judo', 10),\n",
       " ('Germany', 'Luge', 17),\n",
       " ('Germany', 'Modern Pentathlon', 1),\n",
       " ('Germany', 'Nordic Combined', 15),\n",
       " ('Germany', 'Rowing', 46),\n",
       " ('Germany', 'Sailing', 8),\n",
       " ('Germany', 'Shooting', 7),\n",
       " ('Germany', 'Skeleton', 2),\n",
       " ('Germany', 'Ski Jumping', 9),\n",
       " ('Germany', 'Snowboarding', 1),\n",
       " ('Germany', 'Speed Skating', 22),\n",
       " ('Germany', 'Swimming', 32),\n",
       " ('Germany', 'Table Tennis', 7),\n",
       " ('Germany', 'Taekwondo', 2),\n",
       " ('Germany', 'Tennis', 3),\n",
       " ('Germany', 'Trampoline', 2),\n",
       " ('Germany', 'Triathlon', 2),\n",
       " ('Germany', 'Weightlifting', 3),\n",
       " ('Germany', 'Wrestling', 1),\n",
       " ('Great Britain', 'Archery', 1),\n",
       " ('Great Britain', 'Athletics', 23),\n",
       " ('Great Britain', 'Badminton', 4),\n",
       " ('Great Britain', 'Boxing', 10),\n",
       " ('Great Britain', 'Canoeing', 15),\n",
       " ('Great Britain', 'Curling', 5),\n",
       " ('Great Britain', 'Cycling', 58),\n",
       " ('Great Britain', 'Diving', 3),\n",
       " ('Great Britain', 'Equestrian', 31),\n",
       " ('Great Britain', 'Gymnastics', 9),\n",
       " ('Great Britain', 'Hockey', 16),\n",
       " ('Great Britain', 'Judo', 3),\n",
       " ('Great Britain', 'Modern Pentathlon', 5),\n",
       " ('Great Britain', 'Rowing', 80),\n",
       " ('Great Britain', 'Sailing', 34),\n",
       " ('Great Britain', 'Shooting', 3),\n",
       " ('Great Britain', 'Skeleton', 3),\n",
       " ('Great Britain', 'Swimming', 11),\n",
       " ('Great Britain', 'Taekwondo', 3),\n",
       " ('Great Britain', 'Tennis', 3),\n",
       " ('Great Britain', 'Triathlon', 2),\n",
       " ('Greece', 'Athletics', 10),\n",
       " ('Greece', 'Diving', 2),\n",
       " ('Greece', 'Gymnastics', 2),\n",
       " ('Greece', 'Judo', 2),\n",
       " ('Greece', 'Rhythmic Gymnastics', 6),\n",
       " ('Greece', 'Rowing', 6),\n",
       " ('Greece', 'Sailing', 6),\n",
       " ('Greece', 'Taekwondo', 4),\n",
       " ('Greece', 'Waterpolo', 13),\n",
       " ('Greece', 'Weightlifting', 6),\n",
       " ('Greece', 'Wrestling', 2),\n",
       " ('Grenada', 'Athletics', 1),\n",
       " ('Guatemala', 'Athletics', 1),\n",
       " ('Hong Kong', 'Cycling', 1),\n",
       " ('Hong Kong', 'Table Tennis', 2),\n",
       " ('Hungary', 'Athletics', 2),\n",
       " ('Hungary', 'Boxing', 1),\n",
       " ('Hungary', 'Canoeing', 54),\n",
       " ('Hungary', 'Fencing', 9),\n",
       " ('Hungary', 'Gymnastics', 2),\n",
       " ('Hungary', 'Handball', 15),\n",
       " ('Hungary', 'Judo', 2),\n",
       " ('Hungary', 'Modern Pentathlon', 3),\n",
       " ('Hungary', 'Shooting', 2),\n",
       " ('Hungary', 'Swimming', 9),\n",
       " ('Hungary', 'Waterpolo', 39),\n",
       " ('Hungary', 'Weightlifting', 2),\n",
       " ('Hungary', 'Wrestling', 5),\n",
       " ('Iceland', 'Athletics', 1),\n",
       " ('Iceland', 'Handball', 14),\n",
       " ('India', 'Badminton', 1),\n",
       " ('India', 'Boxing', 2),\n",
       " ('India', 'Shooting', 4),\n",
       " ('India', 'Weightlifting', 1),\n",
       " ('India', 'Wrestling', 3),\n",
       " ('Indonesia', 'Badminton', 14),\n",
       " ('Indonesia', 'Weightlifting', 8),\n",
       " ('Iran', 'Athletics', 1),\n",
       " ('Iran', 'Taekwondo', 5),\n",
       " ('Iran', 'Weightlifting', 7),\n",
       " ('Iran', 'Wrestling', 11),\n",
       " ('Ireland', 'Athletics', 1),\n",
       " ('Ireland', 'Boxing', 7),\n",
       " ('Ireland', 'Equestrian', 1),\n",
       " ('Israel', 'Canoeing', 1),\n",
       " ('Israel', 'Judo', 1),\n",
       " ('Israel', 'Sailing', 2),\n",
       " ('Italy', 'Alpine Skiing', 4),\n",
       " ('Italy', 'Archery', 10),\n",
       " ('Italy', 'Athletics', 8),\n",
       " ('Italy', 'Basketball', 12),\n",
       " ('Italy', 'Bobsleigh', 2),\n",
       " ('Italy', 'Boxing', 8),\n",
       " ('Italy', 'Canoeing', 11),\n",
       " ('Italy', 'Cross Country Skiing', 20),\n",
       " ('Italy', 'Cycling', 7),\n",
       " ('Italy', 'Fencing', 57),\n",
       " ('Italy', 'Figure Skating', 2),\n",
       " ('Italy', 'Football', 17),\n",
       " ('Italy', 'Gymnastics', 3),\n",
       " ('Italy', 'Judo', 7),\n",
       " ('Italy', 'Luge', 5),\n",
       " ('Italy', 'Nordic Combined', 1),\n",
       " ('Italy', 'Rhythmic Gymnastics', 12),\n",
       " ('Italy', 'Rowing', 28),\n",
       " ('Italy', 'Sailing', 5),\n",
       " ('Italy', 'Shooting', 13),\n",
       " ('Italy', 'Short-Track Speed Skating', 10),\n",
       " ('Italy', 'Snowboarding', 1),\n",
       " ('Italy', 'Speed Skating', 6),\n",
       " ('Italy', 'Swimming', 16),\n",
       " ('Italy', 'Taekwondo', 3),\n",
       " ('Italy', 'Volleyball', 36),\n",
       " ('Italy', 'Waterpolo', 26),\n",
       " ('Italy', 'Wrestling', 1),\n",
       " ('Jamaica', 'Athletics', 80),\n",
       " ('Japan', 'Archery', 5),\n",
       " ('Japan', 'Athletics', 8),\n",
       " ('Japan', 'Badminton', 2),\n",
       " ('Japan', 'Baseball', 24),\n",
       " ('Japan', 'Boxing', 2),\n",
       " ('Japan', 'Cycling', 4),\n",
       " ('Japan', 'Fencing', 5),\n",
       " ('Japan', 'Figure Skating', 3),\n",
       " ('Japan', 'Football', 18),\n",
       " ('Japan', 'Freestyle Skiing', 1),\n",
       " ('Japan', 'Gymnastics', 23),\n",
       " ('Japan', 'Judo', 32),\n",
       " ('Japan', 'Sailing', 2),\n",
       " ('Japan', 'Softball', 44),\n",
       " ('Japan', 'Speed Skating', 6),\n",
       " ('Japan', 'Swimming', 43),\n",
       " ('Japan', 'Synchronized Swimming', 24),\n",
       " ('Japan', 'Table Tennis', 3),\n",
       " ('Japan', 'Taekwondo', 1),\n",
       " ('Japan', 'Volleyball', 12),\n",
       " ('Japan', 'Weightlifting', 1),\n",
       " ('Japan', 'Wrestling', 19),\n",
       " ('Kazakhstan', 'Athletics', 3),\n",
       " ('Kazakhstan', 'Biathlon', 1),\n",
       " ('Kazakhstan', 'Boxing', 13),\n",
       " ('Kazakhstan', 'Cycling', 2),\n",
       " ('Kazakhstan', 'Judo', 1),\n",
       " ('Kazakhstan', 'Taekwondo', 1),\n",
       " ('Kazakhstan', 'Weightlifting', 9),\n",
       " ('Kazakhstan', 'Wrestling', 12),\n",
       " ('Kenya', 'Athletics', 39),\n",
       " ('Kuwait', 'Shooting', 2),\n",
       " ('Kyrgyzstan', 'Judo', 1),\n",
       " ('Kyrgyzstan', 'Wrestling', 2),\n",
       " ('Latvia', 'Athletics', 3),\n",
       " ('Latvia', 'Beach Volleyball', 2),\n",
       " ('Latvia', 'Cycling', 2),\n",
       " ('Latvia', 'Gymnastics', 2),\n",
       " ('Latvia', 'Judo', 1),\n",
       " ('Latvia', 'Luge', 3),\n",
       " ('Latvia', 'Modern Pentathlon', 1),\n",
       " ('Latvia', 'Skeleton', 1),\n",
       " ('Latvia', 'Weightlifting', 2),\n",
       " ('Lithuania', 'Athletics', 4),\n",
       " ('Lithuania', 'Basketball', 12),\n",
       " ('Lithuania', 'Boxing', 1),\n",
       " ('Lithuania', 'Canoeing', 1),\n",
       " ('Lithuania', 'Cycling', 1),\n",
       " ('Lithuania', 'Modern Pentathlon', 4),\n",
       " ('Lithuania', 'Rowing', 2),\n",
       " ('Lithuania', 'Sailing', 1),\n",
       " ('Lithuania', 'Shooting', 1),\n",
       " ('Lithuania', 'Swimming', 1),\n",
       " ('Lithuania', 'Wrestling', 2),\n",
       " ('Macedonia', 'Wrestling', 1),\n",
       " ('Malaysia', 'Badminton', 2),\n",
       " ('Malaysia', 'Diving', 1),\n",
       " ('Mauritius', 'Boxing', 1),\n",
       " ('Mexico', 'Archery', 2),\n",
       " ('Mexico', 'Athletics', 3),\n",
       " ('Mexico', 'Boxing', 1),\n",
       " ('Mexico', 'Cycling', 1),\n",
       " ('Mexico', 'Diving', 8),\n",
       " ('Mexico', 'Football', 16),\n",
       " ('Mexico', 'Taekwondo', 6),\n",
       " ('Mexico', 'Weightlifting', 1),\n",
       " ('Moldova', 'Boxing', 2),\n",
       " ('Moldova', 'Shooting', 1),\n",
       " ('Moldova', 'Weightlifting', 2),\n",
       " ('Mongolia', 'Boxing', 4),\n",
       " ('Mongolia', 'Judo', 4),\n",
       " ('Mongolia', 'Shooting', 1),\n",
       " ('Mongolia', 'Wrestling', 1),\n",
       " ('Montenegro', 'Handball', 14),\n",
       " ('Morocco', 'Athletics', 10),\n",
       " ('Morocco', 'Boxing', 1),\n",
       " ('Mozambique', 'Athletics', 1),\n",
       " ('Netherlands', 'Archery', 1),\n",
       " ('Netherlands', 'Badminton', 1),\n",
       " ('Netherlands', 'Cycling', 12),\n",
       " ('Netherlands', 'Equestrian', 21),\n",
       " ('Netherlands', 'Gymnastics', 1),\n",
       " ('Netherlands', 'Hockey', 113),\n",
       " ('Netherlands', 'Judo', 12),\n",
       " ('Netherlands', 'Rowing', 55),\n",
       " ('Netherlands', 'Sailing', 10),\n",
       " ('Netherlands', 'Snowboarding', 1),\n",
       " ('Netherlands', 'Speed Skating', 31),\n",
       " ('Netherlands', 'Swimming', 46),\n",
       " ('Netherlands', 'Tennis', 2),\n",
       " ('Netherlands', 'Waterpolo', 12),\n",
       " ('New Zealand', 'Athletics', 3),\n",
       " ('New Zealand', 'Canoeing', 2),\n",
       " ('New Zealand', 'Cycling', 14),\n",
       " ('New Zealand', 'Equestrian', 6),\n",
       " ('New Zealand', 'Rowing', 17),\n",
       " ('New Zealand', 'Sailing', 7),\n",
       " ('New Zealand', 'Triathlon', 3),\n",
       " ('Nigeria', 'Athletics', 21),\n",
       " ('Nigeria', 'Football', 16),\n",
       " ('Nigeria', 'Taekwondo', 1),\n",
       " ('Nigeria', 'Weightlifting', 1),\n",
       " ('North Korea', 'Boxing', 2),\n",
       " ('North Korea', 'Gymnastics', 1),\n",
       " ('North Korea', 'Judo', 6),\n",
       " ('North Korea', 'Shooting', 1),\n",
       " ('North Korea', 'Table Tennis', 1),\n",
       " ('North Korea', 'Weightlifting', 8),\n",
       " ('North Korea', 'Wrestling', 2),\n",
       " ('Norway', 'Alpine Skiing', 9),\n",
       " ('Norway', 'Athletics', 5),\n",
       " ('Norway', 'Biathlon', 26),\n",
       " ('Norway', 'Canoeing', 7),\n",
       " ('Norway', 'Cross Country Skiing', 38),\n",
       " ('Norway', 'Curling', 9),\n",
       " ('Norway', 'Cycling', 2),\n",
       " ('Norway', 'Fencing', 1),\n",
       " ('Norway', 'Football', 17),\n",
       " ('Norway', 'Freestyle Skiing', 4),\n",
       " ('Norway', 'Handball', 43),\n",
       " ('Norway', 'Nordic Combined', 2),\n",
       " ('Norway', 'Rowing', 4),\n",
       " ('Norway', 'Sailing', 4),\n",
       " ('Norway', 'Shooting', 2),\n",
       " ('Norway', 'Ski Jumping', 11),\n",
       " ('Norway', 'Snowboarding', 1),\n",
       " ('Norway', 'Speed Skating', 3),\n",
       " ('Norway', 'Swimming', 2),\n",
       " ('Norway', 'Taekwondo', 2),\n",
       " ('Panama', 'Athletics', 1),\n",
       " ('Paraguay', 'Football', 17),\n",
       " ('Poland', 'Athletics', 10),\n",
       " ('Poland', 'Biathlon', 1),\n",
       " ('Poland', 'Canoeing', 16),\n",
       " ('Poland', 'Cross Country Skiing', 4),\n",
       " ('Poland', 'Cycling', 1),\n",
       " ('Poland', 'Fencing', 9),\n",
       " ('Poland', 'Gymnastics', 2),\n",
       " ('Poland', 'Rowing', 14),\n",
       " ('Poland', 'Sailing', 3),\n",
       " ('Poland', 'Shooting', 2),\n",
       " ('Poland', 'Ski Jumping', 4),\n",
       " ('Poland', 'Speed Skating', 3),\n",
       " ('Poland', 'Swimming', 3),\n",
       " ('Poland', 'Weightlifting', 6),\n",
       " ('Poland', 'Wrestling', 2),\n",
       " ('Portugal', 'Athletics', 4),\n",
       " ('Portugal', 'Canoeing', 2),\n",
       " ('Portugal', 'Cycling', 1),\n",
       " ('Portugal', 'Judo', 1),\n",
       " ('Portugal', 'Triathlon', 1),\n",
       " ('Puerto Rico', 'Athletics', 1),\n",
       " ('Puerto Rico', 'Wrestling', 1),\n",
       " ('Qatar', 'Athletics', 1),\n",
       " ('Qatar', 'Shooting', 1),\n",
       " ('Qatar', 'Weightlifting', 1),\n",
       " ('Romania', 'Athletics', 9),\n",
       " ('Romania', 'Boxing', 3),\n",
       " ('Romania', 'Canoeing', 8),\n",
       " ('Romania', 'Fencing', 7),\n",
       " ('Romania', 'Gymnastics', 45),\n",
       " ('Romania', 'Judo', 4),\n",
       " ('Romania', 'Rowing', 37),\n",
       " ('Romania', 'Shooting', 2),\n",
       " ('Romania', 'Swimming', 6),\n",
       " ('Romania', 'Weightlifting', 2),\n",
       " ('Russia', 'Archery', 1),\n",
       " ('Russia', 'Athletics', 98),\n",
       " ('Russia', 'Badminton', 2),\n",
       " ('Russia', 'Basketball', 36),\n",
       " ('Russia', 'Biathlon', 27),\n",
       " ('Russia', 'Bobsleigh', 6),\n",
       " ('Russia', 'Boxing', 22),\n",
       " ('Russia', 'Canoeing', 16),\n",
       " ('Russia', 'Cross Country Skiing', 21),\n",
       " ('Russia', 'Cycling', 15),\n",
       " ('Russia', 'Diving', 25),\n",
       " ('Russia', 'Fencing', 32),\n",
       " ('Russia', 'Figure Skating', 16),\n",
       " ('Russia', 'Freestyle Skiing', 1),\n",
       " ('Russia', 'Gymnastics', 47),\n",
       " ('Russia', 'Handball', 43),\n",
       " ('Russia', 'Ice Hockey', 21),\n",
       " ('Russia', 'Judo', 13),\n",
       " ('Russia', 'Luge', 1),\n",
       " ('Russia', 'Modern Pentathlon', 3),\n",
       " ('Russia', 'Rhythmic Gymnastics', 31),\n",
       " ('Russia', 'Rowing', 8),\n",
       " ('Russia', 'Shooting', 21),\n",
       " ('Russia', 'Skeleton', 1),\n",
       " ('Russia', 'Snowboarding', 1),\n",
       " ('Russia', 'Speed Skating', 9),\n",
       " ('Russia', 'Swimming', 20),\n",
       " ('Russia', 'Synchronized Swimming', 43),\n",
       " ('Russia', 'Taekwondo', 3),\n",
       " ('Russia', 'Tennis', 8),\n",
       " ('Russia', 'Trampoline', 4),\n",
       " ('Russia', 'Volleyball', 70),\n",
       " ('Russia', 'Waterpolo', 38),\n",
       " ('Russia', 'Weightlifting', 24),\n",
       " ('Russia', 'Wrestling', 41),\n",
       " ('Saudi Arabia', 'Athletics', 1),\n",
       " ('Saudi Arabia', 'Equestrian', 5),\n",
       " ('Serbia', 'Shooting', 2),\n",
       " ('Serbia', 'Swimming', 1),\n",
       " ('Serbia', 'Taekwondo', 1),\n",
       " ('Serbia', 'Tennis', 1),\n",
       " ('Serbia', 'Waterpolo', 26),\n",
       " ('Serbia and Montenegro', 'Shooting', 2),\n",
       " ('Serbia and Montenegro', 'Volleyball', 11),\n",
       " ('Serbia and Montenegro', 'Waterpolo', 25),\n",
       " ('Singapore', 'Table Tennis', 7),\n",
       " ('Slovakia', 'Biathlon', 3),\n",
       " ('Slovakia', 'Canoeing', 23),\n",
       " ('Slovakia', 'Judo', 1),\n",
       " ('Slovakia', 'Shooting', 4),\n",
       " ('Slovakia', 'Snowboarding', 1),\n",
       " ('Slovakia', 'Swimming', 2),\n",
       " ('Slovakia', 'Wrestling', 1),\n",
       " ('Slovenia', 'Alpine Skiing', 2),\n",
       " ('Slovenia', 'Athletics', 3),\n",
       " ('Slovenia', 'Cross Country Skiing', 1),\n",
       " ('Slovenia', 'Judo', 3),\n",
       " ('Slovenia', 'Rowing', 6),\n",
       " ('Slovenia', 'Sailing', 2),\n",
       " ('Slovenia', 'Shooting', 3),\n",
       " ('Slovenia', 'Ski Jumping', 4),\n",
       " ('Slovenia', 'Swimming', 1),\n",
       " ('South Africa', 'Athletics', 7),\n",
       " ('South Africa', 'Canoeing', 1),\n",
       " ('South Africa', 'Rowing', 6),\n",
       " ('South Africa', 'Swimming', 11),\n",
       " ('South Korea', 'Archery', 34),\n",
       " ('South Korea', 'Badminton', 19),\n",
       " ('South Korea', 'Baseball', 48),\n",
       " ('South Korea', 'Boxing', 4),\n",
       " ('South Korea', 'Fencing', 18),\n",
       " ('South Korea', 'Figure Skating', 1),\n",
       " ('South Korea', 'Football', 18),\n",
       " ('South Korea', 'Gymnastics', 6),\n",
       " ('South Korea', 'Handball', 29),\n",
       " ('South Korea', 'Hockey', 16),\n",
       " ('South Korea', 'Judo', 15),\n",
       " ('South Korea', 'Shooting', 11),\n",
       " ('South Korea', 'Short-Track Speed Skating', 37),\n",
       " ('South Korea', 'Speed Skating', 6),\n",
       " ('South Korea', 'Swimming', 4),\n",
       " ('South Korea', 'Table Tennis', 15),\n",
       " ('South Korea', 'Taekwondo', 14),\n",
       " ('South Korea', 'Weightlifting', 5),\n",
       " ('South Korea', 'Wrestling', 8),\n",
       " ('Spain', 'Athletics', 3),\n",
       " ('Spain', 'Basketball', 24),\n",
       " ('Spain', 'Beach Volleyball', 2),\n",
       " ('Spain', 'Boxing', 1),\n",
       " ('Spain', 'Canoeing', 9),\n",
       " ('Spain', 'Cycling', 15),\n",
       " ('Spain', 'Equestrian', 5),\n",
       " ('Spain', 'Fencing', 1),\n",
       " ('Spain', 'Football', 17),\n",
       " ('Spain', 'Gymnastics', 4),\n",
       " ('Spain', 'Handball', 44),\n",
       " ('Spain', 'Hockey', 16),\n",
       " ('Spain', 'Judo', 1),\n",
       " ('Spain', 'Sailing', 13),\n",
       " ('Spain', 'Shooting', 1),\n",
       " ('Spain', 'Swimming', 3),\n",
       " ('Spain', 'Synchronized Swimming', 21),\n",
       " ('Spain', 'Taekwondo', 4),\n",
       " ('Spain', 'Tennis', 7),\n",
       " ('Spain', 'Triathlon', 1),\n",
       " ('Spain', 'Waterpolo', 12),\n",
       " ('Spain', 'Wrestling', 1),\n",
       " ('Sri Lanka', 'Athletics', 1),\n",
       " ('Sudan', 'Athletics', 1),\n",
       " ('Sweden', 'Alpine Skiing', 8),\n",
       " ('Sweden', 'Athletics', 4),\n",
       " ('Sweden', 'Biathlon', 5),\n",
       " ('Sweden', 'Canoeing', 4),\n",
       " ('Sweden', 'Cross Country Skiing', 22),\n",
       " ('Sweden', 'Curling', 8),\n",
       " ('Sweden', 'Cycling', 2),\n",
       " ('Sweden', 'Equestrian', 6),\n",
       " ('Sweden', 'Handball', 29),\n",
       " ('Sweden', 'Ice Hockey', 64),\n",
       " ('Sweden', 'Sailing', 8),\n",
       " ('Sweden', 'Shooting', 3),\n",
       " ('Sweden', 'Snowboarding', 1),\n",
       " ('Sweden', 'Swimming', 9),\n",
       " ('Sweden', 'Table Tennis', 1),\n",
       " ('Sweden', 'Tennis', 2),\n",
       " ('Sweden', 'Triathlon', 1),\n",
       " ('Sweden', 'Wrestling', 4),\n",
       " ('Switzerland', 'Alpine Skiing', 7),\n",
       " ('Switzerland', 'Beach Volleyball', 2),\n",
       " ('Switzerland', 'Bobsleigh', 10),\n",
       " ('Switzerland', 'Cross Country Skiing', 5),\n",
       " ('Switzerland', 'Curling', 18),\n",
       " ('Switzerland', 'Cycling', 10),\n",
       " ('Switzerland', 'Equestrian', 9),\n",
       " ('Switzerland', 'Fencing', 5),\n",
       " ('Switzerland', 'Figure Skating', 1),\n",
       " ('Switzerland', 'Freestyle Skiing', 2),\n",
       " ('Switzerland', 'Judo', 1),\n",
       " ('Switzerland', 'Rowing', 1),\n",
       " ('Switzerland', 'Shooting', 1),\n",
       " ('Switzerland', 'Skeleton', 3),\n",
       " ('Switzerland', 'Ski Jumping', 4),\n",
       " ('Switzerland', 'Snowboarding', 7),\n",
       " ('Switzerland', 'Tennis', 3),\n",
       " ('Switzerland', 'Triathlon', 4),\n",
       " ('Syria', 'Boxing', 1),\n",
       " ('Tajikistan', 'Boxing', 1),\n",
       " ('Tajikistan', 'Judo', 1),\n",
       " ('Tajikistan', 'Wrestling', 1),\n",
       " ('Thailand', 'Boxing', 8),\n",
       " ('Thailand', 'Taekwondo', 3),\n",
       " ('Thailand', 'Weightlifting', 7),\n",
       " ('Togo', 'Canoeing', 1),\n",
       " ('Trinidad and Tobago', 'Athletics', 18),\n",
       " ('Trinidad and Tobago', 'Swimming', 1),\n",
       " ('Tunisia', 'Athletics', 1),\n",
       " ('Tunisia', 'Swimming', 3),\n",
       " ('Turkey', 'Athletics', 5),\n",
       " ('Turkey', 'Boxing', 2),\n",
       " ('Turkey', 'Judo', 1),\n",
       " ('Turkey', 'Taekwondo', 6),\n",
       " ('Turkey', 'Weightlifting', 6),\n",
       " ('Turkey', 'Wrestling', 8),\n",
       " ('Uganda', 'Athletics', 1),\n",
       " ('Ukraine', 'Archery', 7),\n",
       " ('Ukraine', 'Athletics', 17),\n",
       " ('Ukraine', 'Biathlon', 1),\n",
       " ('Ukraine', 'Boxing', 12),\n",
       " ('Ukraine', 'Canoeing', 9),\n",
       " ('Ukraine', 'Cycling', 6),\n",
       " ('Ukraine', 'Diving', 4),\n",
       " ('Ukraine', 'Fencing', 7),\n",
       " ('Ukraine', 'Figure Skating', 2),\n",
       " ('Ukraine', 'Gymnastics', 10),\n",
       " ('Ukraine', 'Handball', 15),\n",
       " ('Ukraine', 'Judo', 3),\n",
       " ('Ukraine', 'Modern Pentathlon', 1),\n",
       " ('Ukraine', 'Rhythmic Gymnastics', 2),\n",
       " ('Ukraine', 'Rowing', 8),\n",
       " ('Ukraine', 'Sailing', 7),\n",
       " ('Ukraine', 'Shooting', 7),\n",
       " ('Ukraine', 'Swimming', 7),\n",
       " ('Ukraine', 'Trampoline', 2),\n",
       " ('Ukraine', 'Weightlifting', 6),\n",
       " ('Ukraine', 'Wrestling', 10),\n",
       " ('United Arab Emirates', 'Shooting', 1),\n",
       " ('United States', 'Alpine Skiing', 12),\n",
       " ('United States', 'Archery', 7),\n",
       " ('United States', 'Athletics', 147),\n",
       " ('United States', 'Baseball', 48),\n",
       " ('United States', 'Basketball', 95),\n",
       " ('United States', 'Beach Volleyball', 14),\n",
       " ('United States', 'Bobsleigh', 18),\n",
       " ('United States', 'Boxing', 9),\n",
       " ('United States', 'Canoeing', 1),\n",
       " ('United States', 'Curling', 4),\n",
       " ('United States', 'Cycling', 18),\n",
       " ('United States', 'Diving', 8),\n",
       " ('United States', 'Equestrian', 30),\n",
       " ('United States', 'Fencing', 19),\n",
       " ('United States', 'Figure Skating', 9),\n",
       " ('United States', 'Football', 64),\n",
       " ('United States', 'Freestyle Skiing', 8),\n",
       " ('United States', 'Gymnastics', 55),\n",
       " ('United States', 'Ice Hockey', 106),\n",
       " ('United States', 'Judo', 4),\n",
       " ('United States', 'Luge', 4),\n",
       " ('United States', 'Modern Pentathlon', 1),\n",
       " ('United States', 'Nordic Combined', 7),\n",
       " ('United States', 'Rowing', 60),\n",
       " ('United States', 'Sailing', 14),\n",
       " ('United States', 'Shooting', 16),\n",
       " ('United States', 'Short-Track Speed Skating', 23),\n",
       " ('United States', 'Skeleton', 3),\n",
       " ('United States', 'Snowboarding', 17),\n",
       " ('United States', 'Softball', 45),\n",
       " ('United States', 'Speed Skating', 22),\n",
       " ('United States', 'Swimming', 267),\n",
       " ('United States', 'Synchronized Swimming', 11),\n",
       " ('United States', 'Taekwondo', 8),\n",
       " ('United States', 'Tennis', 16),\n",
       " ('United States', 'Triathlon', 1),\n",
       " ('United States', 'Volleyball', 36),\n",
       " ('United States', 'Waterpolo', 63),\n",
       " ('United States', 'Weightlifting', 2),\n",
       " ('United States', 'Wrestling', 20),\n",
       " ('Uruguay', 'Cycling', 1),\n",
       " ('Uzbekistan', 'Boxing', 6),\n",
       " ('Uzbekistan', 'Gymnastics', 1),\n",
       " ('Uzbekistan', 'Judo', 3),\n",
       " ('Uzbekistan', 'Trampoline', 1),\n",
       " ('Uzbekistan', 'Wrestling', 8),\n",
       " ('Venezuela', 'Fencing', 1),\n",
       " ('Venezuela', 'Taekwondo', 2),\n",
       " ('Venezuela', 'Weightlifting', 1),\n",
       " ('Vietnam', 'Taekwondo', 1),\n",
       " ('Vietnam', 'Weightlifting', 1),\n",
       " ('Zimbabwe', 'Swimming', 7)]"
      ]
     },
     "execution_count": 19,
     "metadata": {},
     "output_type": "execute_result"
    }
   ],
   "source": [
    "total_medals = olympics_rdd.map(lambda row: [(row[2],row[5]), int(row[9])]).groupByKey().sortByKey().collect()\n",
    "print('Total medals by country by sport')\n",
    "([(key[0], key[1], sum(list(value))) for (key, value) in total_medals])"
   ]
  },
  {
   "cell_type": "markdown",
   "metadata": {},
   "source": [
    "# b) India medals in each olympic game"
   ]
  },
  {
   "cell_type": "code",
   "execution_count": 20,
   "metadata": {
    "scrolled": true
   },
   "outputs": [
    {
     "name": "stdout",
     "output_type": "stream",
     "text": [
      "Number of India medals in each olympic\n"
     ]
    },
    {
     "data": {
      "text/plain": [
       "[('India', '2000', 1),\n",
       " ('India', '2004', 1),\n",
       " ('India', '2008', 3),\n",
       " ('India', '2012', 6)]"
      ]
     },
     "execution_count": 20,
     "metadata": {},
     "output_type": "execute_result"
    }
   ],
   "source": [
    "india_medals = olympics_rdd.filter(lambda row: row[2]=='India').map(lambda row:[(row[2],row[3]), int(row[9])]).groupByKey().sortByKey().collect()\n",
    "print('Number of India medals in each olympic')\n",
    "[(key[0], key[1], sum(list(value))) for (key, value) in india_medals]"
   ]
  },
  {
   "cell_type": "markdown",
   "metadata": {},
   "source": [
    "# c) Top 3 countries by total medal by each olympic games"
   ]
  },
  {
   "cell_type": "code",
   "execution_count": 21,
   "metadata": {
    "scrolled": false
   },
   "outputs": [
    {
     "data": {
      "text/plain": [
       "[('2002',\n",
       "  [('2002', 84, 'United States'),\n",
       "   ('2002', 74, 'Canada'),\n",
       "   ('2002', 61, 'Germany')]),\n",
       " ('2000',\n",
       "  [('2000', 243, 'United States'),\n",
       "   ('2000', 187, 'Russia'),\n",
       "   ('2000', 183, 'Australia')]),\n",
       " ('2006',\n",
       "  [('2006', 69, 'Canada'), ('2006', 64, 'Sweden'), ('2006', 54, 'Germany')]),\n",
       " ('2004',\n",
       "  [('2004', 265, 'United States'),\n",
       "   ('2004', 191, 'Russia'),\n",
       "   ('2004', 156, 'Australia')]),\n",
       " ('2008',\n",
       "  [('2008', 317, 'United States'),\n",
       "   ('2008', 184, 'China'),\n",
       "   ('2008', 149, 'Australia')]),\n",
       " ('2010',\n",
       "  [('2010', 97, 'United States'),\n",
       "   ('2010', 90, 'Canada'),\n",
       "   ('2010', 54, 'Germany')]),\n",
       " ('2012',\n",
       "  [('2012', 254, 'United States'),\n",
       "   ('2012', 140, 'Russia'),\n",
       "   ('2012', 126, 'Great Britain')])]"
      ]
     },
     "execution_count": 21,
     "metadata": {},
     "output_type": "execute_result"
    }
   ],
   "source": [
    "# first group by year country and total medals tally\n",
    "country_year_medals_rdd = olympics_rdd.map(lambda row:[(row[3],row[2]),int(row[9])]).groupByKey().map(lambda row: (row[0][0],sum(list(row[1])),row[0][1]))\n",
    "# sort the RDD based on year and total medals\n",
    "country_year_medals_rdd = country_year_medals_rdd.sortBy(lambda row: (row[0],row[1]),ascending=False)\n",
    "# group the RDD based on year\n",
    "country_year_medals_rdd = country_year_medals_rdd.groupBy(lambda row: row[0]).map(lambda row: (row[0],list(row[1])[0:3]))\n",
    "country_year_medals_rdd.collect()"
   ]
  },
  {
   "cell_type": "code",
   "execution_count": 22,
   "metadata": {
    "collapsed": true
   },
   "outputs": [],
   "source": [
    "sc.stop()"
   ]
  },
  {
   "cell_type": "code",
   "execution_count": null,
   "metadata": {
    "collapsed": true
   },
   "outputs": [],
   "source": []
  }
 ],
 "metadata": {
  "kernelspec": {
   "display_name": "Python 3",
   "language": "python",
   "name": "python3"
  },
  "language_info": {
   "codemirror_mode": {
    "name": "ipython",
    "version": 3
   },
   "file_extension": ".py",
   "mimetype": "text/x-python",
   "name": "python",
   "nbconvert_exporter": "python",
   "pygments_lexer": "ipython3",
   "version": "3.7.6"
  }
 },
 "nbformat": 4,
 "nbformat_minor": 1
}
