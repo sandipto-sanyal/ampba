{
 "cells": [
  {
   "cell_type": "code",
   "execution_count": 1,
   "metadata": {
    "collapsed": true
   },
   "outputs": [],
   "source": [
    "import findspark\n",
    "findspark.init()\n",
    "import os\n",
    "from pyspark import SparkContext\n",
    "import csv\n",
    "from StringIO import StringIO\n",
    "import numpy as np"
   ]
  },
  {
   "cell_type": "code",
   "execution_count": 2,
   "metadata": {
    "collapsed": true
   },
   "outputs": [],
   "source": [
    "sc = SparkContext(master=\"local\", appName=\"sessions\")"
   ]
  },
  {
   "cell_type": "code",
   "execution_count": 3,
   "metadata": {
    "collapsed": true
   },
   "outputs": [],
   "source": [
    "def split(line):\n",
    "    \"\"\"\n",
    "    Operator function for splitting a line with csv module\n",
    "    \"\"\"\n",
    "    reader = csv.reader(StringIO(line))\n",
    "    return reader.next()"
   ]
  },
  {
   "cell_type": "code",
   "execution_count": 4,
   "metadata": {
    "collapsed": true
   },
   "outputs": [],
   "source": [
    "users_link = r'file:///home/cloudera/Desktop/git/big_data_management1/BDM 1 Assignment-20200716/users.csv'\n",
    "transactions_link = r'file:///home/cloudera/Desktop/git/big_data_management1/BDM 1 Assignment-20200716/transactions.csv'\n",
    "users_rdd = sc.textFile(users_link).cache()\n",
    "transactions_rdd = sc.textFile(transactions_link).cache()"
   ]
  },
  {
   "cell_type": "code",
   "execution_count": 5,
   "metadata": {
    "collapsed": true
   },
   "outputs": [],
   "source": [
    "users_rdd = users_rdd.map(split)\n",
    "transactions_rdd = transactions_rdd.map(split)"
   ]
  },
  {
   "cell_type": "code",
   "execution_count": 6,
   "metadata": {
    "collapsed": false,
    "scrolled": true
   },
   "outputs": [
    {
     "data": {
      "text/plain": [
       "[['1', 'user1@company.com', 'ES', 'MX'],\n",
       " ['2', 'user4@domain.com', 'EN', 'US'],\n",
       " ['3', 'user5@company.com', 'FR', 'FR'],\n",
       " ['4', 'user9@site.org', 'HI', 'IN'],\n",
       " ['5', 'user12@service.io', 'EN', 'CA'],\n",
       " ['6', 'user17@website.net', 'FR', 'FR'],\n",
       " ['7', 'user21@company.com', 'FR', 'FR'],\n",
       " ['8', 'user25@company.com', 'FR', 'FR'],\n",
       " ['9', 'user27@school.edu', 'ES', 'MX'],\n",
       " ['10', 'user31@website.net', 'EN', 'CA'],\n",
       " ['11', 'user36@website.net', 'FR', 'FR'],\n",
       " ['12', 'user39@domain.com', 'FR', 'FR'],\n",
       " ['13', 'user41@company.com', 'ES', 'MX'],\n",
       " ['14', 'user45@domain.com', 'HI', 'IN'],\n",
       " ['15', 'user48@site.org', 'ES', 'MX'],\n",
       " ['16', 'user53@school.edu', 'EN', 'US'],\n",
       " ['17', 'user57@school.edu', 'ES', 'MX'],\n",
       " ['18', 'user59@website.net', 'HI', 'IN'],\n",
       " ['19', 'user64@school.edu', 'EN', 'US'],\n",
       " ['20', 'user67@domain.com', 'HI', 'IN'],\n",
       " ['21', 'user68@site.org', 'EN', 'US'],\n",
       " ['22', 'user71@domain.com', 'ES', 'MX'],\n",
       " ['23', 'user74@service.io', 'EN', 'US'],\n",
       " ['24', 'user79@website.net', 'ES', 'MX'],\n",
       " ['25', 'user81@site.org', 'EN', 'US'],\n",
       " ['26', 'user85@service.io', 'HI', 'IN'],\n",
       " ['27', 'user89@service.io', 'EN', 'CA'],\n",
       " ['28', 'user91@company.com', 'EN', 'CA'],\n",
       " ['29', 'user96@site.org', 'ES', 'MX'],\n",
       " ['30', 'user99@website.net', 'EN', 'US']]"
      ]
     },
     "execution_count": 6,
     "metadata": {},
     "output_type": "execute_result"
    }
   ],
   "source": [
    "users_rdd.collect()"
   ]
  },
  {
   "cell_type": "code",
   "execution_count": 8,
   "metadata": {
    "collapsed": false,
    "scrolled": true
   },
   "outputs": [
    {
     "data": {
      "text/plain": [
       "[['1', '1004', '19', '129', 'whatchamacallit'],\n",
       " ['2', '1001', '10', '99', 'thingamajig'],\n",
       " ['3', '1004', '17', '129', 'whatchamacallit'],\n",
       " ['4', '1001', '9', '99', 'thingamajig'],\n",
       " ['5', '1003', '3', '89', 'gadget'],\n",
       " ['6', '1002', '19', '149', 'gizmo'],\n",
       " ['7', '1002', '30', '149', 'gizmo'],\n",
       " ['8', '1002', '26', '149', 'gizmo'],\n",
       " ['9', '1001', '22', '99', 'thingamajig'],\n",
       " ['10', '1003', '6', '89', 'gadget'],\n",
       " ['11', '1004', '1', '129', 'whatchamacallit'],\n",
       " ['12', '1004', '2', '129', 'whatchamacallit'],\n",
       " ['13', '1005', '5', '199', 'doohickey'],\n",
       " ['14', '1004', '7', '129', 'whatchamacallit'],\n",
       " ['15', '1002', '16', '149', 'gizmo']]"
      ]
     },
     "execution_count": 8,
     "metadata": {},
     "output_type": "execute_result"
    }
   ],
   "source": [
    "transactions_rdd.collect()"
   ]
  },
  {
   "cell_type": "markdown",
   "metadata": {},
   "source": [
    "# Looping concept to understand how map works\n",
    "Here we will create a loop logic to convert users_rdd to (userid, locations) map as Key value map."
   ]
  },
  {
   "cell_type": "code",
   "execution_count": 10,
   "metadata": {
    "collapsed": false,
    "scrolled": true
   },
   "outputs": [
    {
     "data": {
      "text/plain": [
       "[('1', 'MX'),\n",
       " ('2', 'US'),\n",
       " ('3', 'FR'),\n",
       " ('4', 'IN'),\n",
       " ('5', 'CA'),\n",
       " ('6', 'FR'),\n",
       " ('7', 'FR'),\n",
       " ('8', 'FR'),\n",
       " ('9', 'MX'),\n",
       " ('10', 'CA'),\n",
       " ('11', 'FR'),\n",
       " ('12', 'FR'),\n",
       " ('13', 'MX'),\n",
       " ('14', 'IN'),\n",
       " ('15', 'MX'),\n",
       " ('16', 'US'),\n",
       " ('17', 'MX'),\n",
       " ('18', 'IN'),\n",
       " ('19', 'US'),\n",
       " ('20', 'IN'),\n",
       " ('21', 'US'),\n",
       " ('22', 'MX'),\n",
       " ('23', 'US'),\n",
       " ('24', 'MX'),\n",
       " ('25', 'US'),\n",
       " ('26', 'IN'),\n",
       " ('27', 'CA'),\n",
       " ('28', 'CA'),\n",
       " ('29', 'MX'),\n",
       " ('30', 'US'),\n",
       " ('1', 'MX'),\n",
       " ('2', 'US'),\n",
       " ('3', 'FR'),\n",
       " ('4', 'IN'),\n",
       " ('5', 'CA'),\n",
       " ('6', 'FR'),\n",
       " ('7', 'FR'),\n",
       " ('8', 'FR'),\n",
       " ('9', 'MX'),\n",
       " ('10', 'CA'),\n",
       " ('11', 'FR'),\n",
       " ('12', 'FR'),\n",
       " ('13', 'MX'),\n",
       " ('14', 'IN'),\n",
       " ('15', 'MX'),\n",
       " ('16', 'US'),\n",
       " ('17', 'MX'),\n",
       " ('18', 'IN'),\n",
       " ('19', 'US'),\n",
       " ('20', 'IN'),\n",
       " ('21', 'US'),\n",
       " ('22', 'MX'),\n",
       " ('23', 'US'),\n",
       " ('24', 'MX'),\n",
       " ('25', 'US'),\n",
       " ('26', 'IN'),\n",
       " ('27', 'CA'),\n",
       " ('28', 'CA'),\n",
       " ('29', 'MX'),\n",
       " ('30', 'US')]"
      ]
     },
     "execution_count": 10,
     "metadata": {},
     "output_type": "execute_result"
    }
   ],
   "source": [
    "users_location_map_thru_loop = []\n",
    "for rows in users_rdd.collect():\n",
    "    users_kv_map_thru_loop.append((rows[0],rows[3]))\n",
    "users_kv_map_thru_loop"
   ]
  },
  {
   "cell_type": "markdown",
   "metadata": {},
   "source": [
    "# Simple mapping using lambda\n",
    "Here we will create a lambda logic to convert users_rdd to (userid, locations) map as Key value map."
   ]
  },
  {
   "cell_type": "code",
   "execution_count": null,
   "metadata": {
    "collapsed": false,
    "scrolled": true
   },
   "outputs": [],
   "source": [
    "userid_locations_rdd = users_rdd.map(lambda row: ???)\n",
    "userid_locations_rdd.collect()"
   ]
  },
  {
   "cell_type": "markdown",
   "metadata": {},
   "source": [
    "# Checkpoint\n",
    "If the above is achievable using simple for loop and a list comprehension technique why we are torturing ourselves with map lambdas etc.?"
   ]
  },
  {
   "cell_type": "markdown",
   "metadata": {},
   "source": [
    "# A bit complex mapping\n",
    "We do a complex mapping using a custom function whose rules are as follows:\n",
    "1. if domain of email is '.com' return (userid, 'company')\n",
    "2. if domain in .org or .edu return (userid, 'organisation or education sites)\n",
    "3. for others return (userid, 'others')"
   ]
  },
  {
   "cell_type": "code",
   "execution_count": 8,
   "metadata": {
    "collapsed": false
   },
   "outputs": [
    {
     "ename": "SyntaxError",
     "evalue": "invalid syntax (<ipython-input-8-59f62ce25a10>, line 2)",
     "output_type": "error",
     "traceback": [
      "\u001b[1;36m  File \u001b[1;32m\"<ipython-input-8-59f62ce25a10>\"\u001b[1;36m, line \u001b[1;32m2\u001b[0m\n\u001b[1;33m    ...\u001b[0m\n\u001b[1;37m    ^\u001b[0m\n\u001b[1;31mSyntaxError\u001b[0m\u001b[1;31m:\u001b[0m invalid syntax\n"
     ]
    }
   ],
   "source": [
    "def mapping_fn(row):\n",
    "    ...\n",
    "user_domain_map = users_rdd.map(mapping_fn)\n",
    "user_domain_map.collect()"
   ]
  },
  {
   "cell_type": "markdown",
   "metadata": {},
   "source": [
    "# JoinByKeys\n",
    "Here we will join two rdds based on common keys"
   ]
  },
  {
   "cell_type": "code",
   "execution_count": null,
   "metadata": {
    "collapsed": true
   },
   "outputs": [],
   "source": [
    "userid_locations_rdd = userid_locations_rdd\n",
    "userid_items_rdd = transactions_rdd.map(lambda row: (???))\n",
    "userid_items_location_rdd  = userid_locations_rdd.join..."
   ]
  },
  {
   "cell_type": "markdown",
   "metadata": {},
   "source": [
    "# GroupByKeys\n",
    "Here we will group the transactions_rdd as follows:<br>\n",
    "item | total amount transacted | number of transactions"
   ]
  },
  {
   "cell_type": "code",
   "execution_count": null,
   "metadata": {
    "collapsed": true
   },
   "outputs": [],
   "source": []
  },
  {
   "cell_type": "code",
   "execution_count": null,
   "metadata": {
    "collapsed": true
   },
   "outputs": [],
   "source": []
  },
  {
   "cell_type": "code",
   "execution_count": null,
   "metadata": {
    "collapsed": true
   },
   "outputs": [],
   "source": []
  },
  {
   "cell_type": "code",
   "execution_count": null,
   "metadata": {
    "collapsed": true
   },
   "outputs": [],
   "source": []
  }
 ],
 "metadata": {
  "kernelspec": {
   "display_name": "Python [Root]",
   "language": "python",
   "name": "Python [Root]"
  },
  "language_info": {
   "codemirror_mode": {
    "name": "ipython",
    "version": 2
   },
   "file_extension": ".py",
   "mimetype": "text/x-python",
   "name": "python",
   "nbconvert_exporter": "python",
   "pygments_lexer": "ipython2",
   "version": "2.7.12"
  }
 },
 "nbformat": 4,
 "nbformat_minor": 0
}
