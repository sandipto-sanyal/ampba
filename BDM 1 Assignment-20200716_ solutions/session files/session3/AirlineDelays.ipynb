{
 "cells": [
  {
   "cell_type": "code",
   "execution_count": null,
   "metadata": {
    "collapsed": false
   },
   "outputs": [],
   "source": [
    "import csv\n",
    "import matplotlib.pyplot as plt\n",
    "\n",
    "from StringIO import StringIO\n",
    "from datetime import datetime\n",
    "from collections import namedtuple\n",
    "from operator import add, itemgetter"
   ]
  },
  {
   "cell_type": "code",
   "execution_count": null,
   "metadata": {
    "collapsed": true
   },
   "outputs": [],
   "source": [
    "APP_NAME = \"Flight Delay Analysis\"\n",
    "DATE_FMT = \"%Y-%m-%d\"\n",
    "TIME_FMT = \"%H%M\"\n",
    "\n",
    "fields   = ('date', 'airline', 'flightnum', 'origin', 'dest', 'dep',\n",
    "            'dep_delay', 'arv', 'arv_delay', 'airtime', 'distance')\n",
    "Flight   = namedtuple('Flight', fields)"
   ]
  },
  {
   "cell_type": "code",
   "execution_count": null,
   "metadata": {
    "collapsed": true
   },
   "outputs": [],
   "source": [
    "def parse(row):\n",
    "    \"\"\"\n",
    "    Parses a row and returns a named tuple.\n",
    "    \"\"\"\n",
    "\n",
    "    row[0]  = datetime.strptime(row[0], DATE_FMT).date()\n",
    "    row[5]  = datetime.strptime(row[5], TIME_FMT).time()\n",
    "    row[6]  = float(row[6])\n",
    "    row[7]  = datetime.strptime(row[7], TIME_FMT).time()\n",
    "    row[8]  = float(row[8])\n",
    "    row[9]  = float(row[9])\n",
    "    row[10] = float(row[10])\n",
    "    return Flight(*row[:11])\n"
   ]
  },
  {
   "cell_type": "code",
   "execution_count": null,
   "metadata": {
    "collapsed": true
   },
   "outputs": [],
   "source": [
    "def split(line):\n",
    "    \"\"\"\n",
    "    Operator function for splitting a line with csv module\n",
    "    \"\"\"\n",
    "    reader = csv.reader(StringIO(line))\n",
    "    return reader.next()"
   ]
  },
  {
   "cell_type": "code",
   "execution_count": null,
   "metadata": {
    "collapsed": true
   },
   "outputs": [],
   "source": [
    "def plot(delays):\n",
    "    \"\"\"\n",
    "    Show a bar chart of the total delay per airline\n",
    "    \"\"\"\n",
    "    airlines = [d[0] for d in delays]\n",
    "    minutes  = [d[1] for d in delays]\n",
    "    index    = list(xrange(len(airlines)))\n",
    "\n",
    "    fig, axe = plt.subplots()\n",
    "    bars = axe.barh(index, minutes)\n",
    "\n",
    "    # Add the total minutes to the right\n",
    "    for idx, air, min in zip(index, airlines, minutes):\n",
    "        if min > 0:\n",
    "            bars[idx].set_color('#d9230f')\n",
    "            axe.annotate(\" %0.0f min\" % min, xy=(min+1, idx+0.5), va='center')\n",
    "        else:\n",
    "            bars[idx].set_color('#469408')\n",
    "            axe.annotate(\" %0.0f min\" % min, xy=(10, idx+0.5), va='center')\n",
    "\n",
    "    # Set the ticks\n",
    "    ticks = plt.yticks([idx+ 0.5 for idx in index], airlines)\n",
    "    xt = plt.xticks()[0]\n",
    "    plt.xticks(xt, [' '] * len(xt))\n",
    "\n",
    "    # minimize chart junk\n",
    "    plt.grid(axis = 'x', color ='white', linestyle='-')\n",
    "\n",
    "    plt.title('Total Minutes Delayed per Airline')\n",
    "    plt.show()"
   ]
  },
  {
   "cell_type": "code",
   "execution_count": null,
   "metadata": {
    "collapsed": true
   },
   "outputs": [],
   "source": [
    "airlines = dict(sc.textFile(\"/home/cloudera/ontime/airlines.csv\").map(split).collect())"
   ]
  },
  {
   "cell_type": "code",
   "execution_count": null,
   "metadata": {
    "collapsed": false
   },
   "outputs": [],
   "source": [
    "print airlines"
   ]
  },
  {
   "cell_type": "code",
   "execution_count": null,
   "metadata": {
    "collapsed": true
   },
   "outputs": [],
   "source": [
    "airline_lookup = sc.broadcast(airlines)"
   ]
  },
  {
   "cell_type": "code",
   "execution_count": null,
   "metadata": {
    "collapsed": true
   },
   "outputs": [],
   "source": [
    "flights = sc.textFile(\"/home/cloudera/ontime/flights.csv\").map(split).map(parse)"
   ]
  },
  {
   "cell_type": "code",
   "execution_count": null,
   "metadata": {
    "collapsed": false
   },
   "outputs": [],
   "source": [
    "flights.glom().collect()"
   ]
  },
  {
   "cell_type": "code",
   "execution_count": null,
   "metadata": {
    "collapsed": true
   },
   "outputs": [],
   "source": [
    "delays  = flights.map(lambda f: (airline_lookup.value[f.airline],\n",
    "                                     add(f.dep_delay, f.arv_delay)))"
   ]
  },
  {
   "cell_type": "code",
   "execution_count": null,
   "metadata": {
    "collapsed": false
   },
   "outputs": [],
   "source": [
    "print delays"
   ]
  },
  {
   "cell_type": "code",
   "execution_count": null,
   "metadata": {
    "collapsed": false
   },
   "outputs": [],
   "source": [
    "delays  = delays.reduceByKey(add).collect()\n",
    "print delays"
   ]
  },
  {
   "cell_type": "code",
   "execution_count": null,
   "metadata": {
    "collapsed": true
   },
   "outputs": [],
   "source": [
    "delays  = sorted(delays, key=itemgetter(1))"
   ]
  },
  {
   "cell_type": "code",
   "execution_count": null,
   "metadata": {
    "collapsed": false
   },
   "outputs": [],
   "source": [
    "for d in delays:\n",
    "    print \"%0.0f minutes delayed\\t%s\" % (d[1], d[0])\n",
    "# Show a bar chart of the delays\n",
    "plot(delays)"
   ]
  },
  {
   "cell_type": "code",
   "execution_count": null,
   "metadata": {
    "collapsed": true
   },
   "outputs": [],
   "source": []
  }
 ],
 "metadata": {
  "kernelspec": {
   "display_name": "Python [Root]",
   "language": "python",
   "name": "Python [Root]"
  },
  "language_info": {
   "codemirror_mode": {
    "name": "ipython",
    "version": 2
   },
   "file_extension": ".py",
   "mimetype": "text/x-python",
   "name": "python",
   "nbconvert_exporter": "python",
   "pygments_lexer": "ipython2",
   "version": "2.7.12"
  }
 },
 "nbformat": 4,
 "nbformat_minor": 0
}
