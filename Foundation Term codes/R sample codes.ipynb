{
 "cells": [
  {
   "cell_type": "markdown",
   "metadata": {},
   "source": [
    "# Basic data types"
   ]
  },
  {
   "cell_type": "markdown",
   "metadata": {},
   "source": [
    "## Vectors"
   ]
  },
  {
   "cell_type": "code",
   "execution_count": 4,
   "metadata": {},
   "outputs": [
    {
     "name": "stdout",
     "output_type": "stream",
     "text": [
      "[1] \"1\" \"2\" \"3\" \"A\" \"B\" \"C\"\n"
     ]
    }
   ],
   "source": [
    "v1 = c(1,2,3,\"A\",\"B\",\"C\")\n",
    "print(v1)"
   ]
  },
  {
   "cell_type": "markdown",
   "metadata": {},
   "source": [
    "## Vector operations"
   ]
  },
  {
   "cell_type": "markdown",
   "metadata": {},
   "source": [
    "### Accessing elements\n",
    "In R index starts from 1"
   ]
  },
  {
   "cell_type": "code",
   "execution_count": 5,
   "metadata": {},
   "outputs": [
    {
     "data": {
      "text/html": [
       "'1'"
      ],
      "text/latex": [
       "'1'"
      ],
      "text/markdown": [
       "'1'"
      ],
      "text/plain": [
       "[1] \"1\""
      ]
     },
     "metadata": {},
     "output_type": "display_data"
    }
   ],
   "source": [
    "v1[1]"
   ]
  },
  {
   "cell_type": "markdown",
   "metadata": {},
   "source": [
    "### Getting length of vector"
   ]
  },
  {
   "cell_type": "code",
   "execution_count": 6,
   "metadata": {},
   "outputs": [
    {
     "data": {
      "text/html": [
       "6"
      ],
      "text/latex": [
       "6"
      ],
      "text/markdown": [
       "6"
      ],
      "text/plain": [
       "[1] 6"
      ]
     },
     "metadata": {},
     "output_type": "display_data"
    }
   ],
   "source": [
    "length(v1)"
   ]
  },
  {
   "cell_type": "markdown",
   "metadata": {},
   "source": [
    "### Slicing elements"
   ]
  },
  {
   "cell_type": "markdown",
   "metadata": {},
   "source": [
    "#### From To"
   ]
  },
  {
   "cell_type": "code",
   "execution_count": 7,
   "metadata": {},
   "outputs": [
    {
     "name": "stdout",
     "output_type": "stream",
     "text": [
      "[1] \"Elements from position 2 to 5\"\n",
      "[1] \"2\" \"3\" \"A\" \"B\"\n"
     ]
    }
   ],
   "source": [
    "print(\"Elements from position 2 to 5\")\n",
    "print(v1[2:5])"
   ]
  },
  {
   "cell_type": "markdown",
   "metadata": {},
   "source": [
    "#### Give last 2 elements"
   ]
  },
  {
   "cell_type": "code",
   "execution_count": 8,
   "metadata": {},
   "outputs": [
    {
     "data": {
      "text/html": [
       "<ol class=list-inline>\n",
       "\t<li>'B'</li>\n",
       "\t<li>'C'</li>\n",
       "</ol>\n"
      ],
      "text/latex": [
       "\\begin{enumerate*}\n",
       "\\item 'B'\n",
       "\\item 'C'\n",
       "\\end{enumerate*}\n"
      ],
      "text/markdown": [
       "1. 'B'\n",
       "2. 'C'\n",
       "\n",
       "\n"
      ],
      "text/plain": [
       "[1] \"B\" \"C\""
      ]
     },
     "metadata": {},
     "output_type": "display_data"
    }
   ],
   "source": [
    "tail(v1, 2)"
   ]
  },
  {
   "cell_type": "markdown",
   "metadata": {},
   "source": [
    "#### Remove 2nd element"
   ]
  },
  {
   "cell_type": "code",
   "execution_count": 9,
   "metadata": {},
   "outputs": [
    {
     "data": {
      "text/html": [
       "<ol class=list-inline>\n",
       "\t<li>'1'</li>\n",
       "\t<li>'3'</li>\n",
       "\t<li>'A'</li>\n",
       "\t<li>'B'</li>\n",
       "\t<li>'C'</li>\n",
       "</ol>\n"
      ],
      "text/latex": [
       "\\begin{enumerate*}\n",
       "\\item '1'\n",
       "\\item '3'\n",
       "\\item 'A'\n",
       "\\item 'B'\n",
       "\\item 'C'\n",
       "\\end{enumerate*}\n"
      ],
      "text/markdown": [
       "1. '1'\n",
       "2. '3'\n",
       "3. 'A'\n",
       "4. 'B'\n",
       "5. 'C'\n",
       "\n",
       "\n"
      ],
      "text/plain": [
       "[1] \"1\" \"3\" \"A\" \"B\" \"C\""
      ]
     },
     "metadata": {},
     "output_type": "display_data"
    }
   ],
   "source": [
    "v1[-2]"
   ]
  },
  {
   "cell_type": "markdown",
   "metadata": {},
   "source": [
    "#### Remove 2nd to 4th elements"
   ]
  },
  {
   "cell_type": "code",
   "execution_count": 10,
   "metadata": {},
   "outputs": [
    {
     "data": {
      "text/html": [
       "<ol class=list-inline>\n",
       "\t<li>'1'</li>\n",
       "\t<li>'B'</li>\n",
       "\t<li>'C'</li>\n",
       "</ol>\n"
      ],
      "text/latex": [
       "\\begin{enumerate*}\n",
       "\\item '1'\n",
       "\\item 'B'\n",
       "\\item 'C'\n",
       "\\end{enumerate*}\n"
      ],
      "text/markdown": [
       "1. '1'\n",
       "2. 'B'\n",
       "3. 'C'\n",
       "\n",
       "\n"
      ],
      "text/plain": [
       "[1] \"1\" \"B\" \"C\""
      ]
     },
     "metadata": {},
     "output_type": "display_data"
    }
   ],
   "source": [
    "v1[-2:-4]"
   ]
  },
  {
   "cell_type": "markdown",
   "metadata": {},
   "source": [
    "### Element wise addition"
   ]
  },
  {
   "cell_type": "code",
   "execution_count": 30,
   "metadata": {},
   "outputs": [
    {
     "data": {
      "text/html": [
       "<ol class=list-inline>\n",
       "\t<li>3</li>\n",
       "\t<li>5</li>\n",
       "\t<li>7</li>\n",
       "</ol>\n"
      ],
      "text/latex": [
       "\\begin{enumerate*}\n",
       "\\item 3\n",
       "\\item 5\n",
       "\\item 7\n",
       "\\end{enumerate*}\n"
      ],
      "text/markdown": [
       "1. 3\n",
       "2. 5\n",
       "3. 7\n",
       "\n",
       "\n"
      ],
      "text/plain": [
       "[1] 3 5 7"
      ]
     },
     "metadata": {},
     "output_type": "display_data"
    }
   ],
   "source": [
    "v2 = c(1,2,3)\n",
    "v3 = c(2,3,4)\n",
    "v2 + v3"
   ]
  },
  {
   "cell_type": "markdown",
   "metadata": {},
   "source": [
    "## Append to vector"
   ]
  },
  {
   "cell_type": "code",
   "execution_count": 40,
   "metadata": {},
   "outputs": [
    {
     "data": {
      "text/html": [
       "<ol class=list-inline>\n",
       "\t<li>'1'</li>\n",
       "\t<li>'2'</li>\n",
       "\t<li>'3'</li>\n",
       "\t<li>'A'</li>\n",
       "\t<li>'B'</li>\n",
       "\t<li>'C'</li>\n",
       "\t<li>'D'</li>\n",
       "</ol>\n"
      ],
      "text/latex": [
       "\\begin{enumerate*}\n",
       "\\item '1'\n",
       "\\item '2'\n",
       "\\item '3'\n",
       "\\item 'A'\n",
       "\\item 'B'\n",
       "\\item 'C'\n",
       "\\item 'D'\n",
       "\\end{enumerate*}\n"
      ],
      "text/markdown": [
       "1. '1'\n",
       "2. '2'\n",
       "3. '3'\n",
       "4. 'A'\n",
       "5. 'B'\n",
       "6. 'C'\n",
       "7. 'D'\n",
       "\n",
       "\n"
      ],
      "text/plain": [
       "[1] \"1\" \"2\" \"3\" \"A\" \"B\" \"C\" \"D\""
      ]
     },
     "metadata": {},
     "output_type": "display_data"
    }
   ],
   "source": [
    "v1 = c(v1,\"D\")\n",
    "v1"
   ]
  },
  {
   "cell_type": "markdown",
   "metadata": {},
   "source": [
    "### Dot and cross product"
   ]
  },
  {
   "cell_type": "code",
   "execution_count": 31,
   "metadata": {},
   "outputs": [],
   "source": [
    "#install.packages('pracma')"
   ]
  },
  {
   "cell_type": "code",
   "execution_count": 33,
   "metadata": {},
   "outputs": [
    {
     "name": "stdout",
     "output_type": "stream",
     "text": [
      "[1] 20\n",
      "[1] -1  2 -1\n"
     ]
    }
   ],
   "source": [
    "library(pracma)\n",
    "print(dot(v2,v3))\n",
    "print(cross(v2,v3))"
   ]
  },
  {
   "cell_type": "markdown",
   "metadata": {},
   "source": [
    "#### Check whether a value is in the vector"
   ]
  },
  {
   "cell_type": "code",
   "execution_count": 36,
   "metadata": {},
   "outputs": [
    {
     "data": {
      "text/html": [
       "TRUE"
      ],
      "text/latex": [
       "TRUE"
      ],
      "text/markdown": [
       "TRUE"
      ],
      "text/plain": [
       "[1] TRUE"
      ]
     },
     "metadata": {},
     "output_type": "display_data"
    }
   ],
   "source": [
    "2 %in% v2"
   ]
  },
  {
   "cell_type": "markdown",
   "metadata": {},
   "source": [
    "## Sequences"
   ]
  },
  {
   "cell_type": "code",
   "execution_count": 34,
   "metadata": {},
   "outputs": [
    {
     "data": {
      "text/html": [
       "<ol class=list-inline>\n",
       "\t<li>20</li>\n",
       "\t<li>19.5</li>\n",
       "\t<li>19</li>\n",
       "\t<li>18.5</li>\n",
       "\t<li>18</li>\n",
       "\t<li>17.5</li>\n",
       "\t<li>17</li>\n",
       "\t<li>16.5</li>\n",
       "\t<li>16</li>\n",
       "\t<li>15.5</li>\n",
       "\t<li>15</li>\n",
       "\t<li>14.5</li>\n",
       "\t<li>14</li>\n",
       "\t<li>13.5</li>\n",
       "\t<li>13</li>\n",
       "\t<li>12.5</li>\n",
       "\t<li>12</li>\n",
       "\t<li>11.5</li>\n",
       "\t<li>11</li>\n",
       "\t<li>10.5</li>\n",
       "\t<li>10</li>\n",
       "\t<li>9.5</li>\n",
       "\t<li>9</li>\n",
       "\t<li>8.5</li>\n",
       "\t<li>8</li>\n",
       "\t<li>7.5</li>\n",
       "\t<li>7</li>\n",
       "\t<li>6.5</li>\n",
       "\t<li>6</li>\n",
       "\t<li>5.5</li>\n",
       "\t<li>5</li>\n",
       "\t<li>4.5</li>\n",
       "\t<li>4</li>\n",
       "\t<li>3.5</li>\n",
       "\t<li>3</li>\n",
       "\t<li>2.5</li>\n",
       "\t<li>2</li>\n",
       "\t<li>1.5</li>\n",
       "\t<li>1</li>\n",
       "</ol>\n"
      ],
      "text/latex": [
       "\\begin{enumerate*}\n",
       "\\item 20\n",
       "\\item 19.5\n",
       "\\item 19\n",
       "\\item 18.5\n",
       "\\item 18\n",
       "\\item 17.5\n",
       "\\item 17\n",
       "\\item 16.5\n",
       "\\item 16\n",
       "\\item 15.5\n",
       "\\item 15\n",
       "\\item 14.5\n",
       "\\item 14\n",
       "\\item 13.5\n",
       "\\item 13\n",
       "\\item 12.5\n",
       "\\item 12\n",
       "\\item 11.5\n",
       "\\item 11\n",
       "\\item 10.5\n",
       "\\item 10\n",
       "\\item 9.5\n",
       "\\item 9\n",
       "\\item 8.5\n",
       "\\item 8\n",
       "\\item 7.5\n",
       "\\item 7\n",
       "\\item 6.5\n",
       "\\item 6\n",
       "\\item 5.5\n",
       "\\item 5\n",
       "\\item 4.5\n",
       "\\item 4\n",
       "\\item 3.5\n",
       "\\item 3\n",
       "\\item 2.5\n",
       "\\item 2\n",
       "\\item 1.5\n",
       "\\item 1\n",
       "\\end{enumerate*}\n"
      ],
      "text/markdown": [
       "1. 20\n",
       "2. 19.5\n",
       "3. 19\n",
       "4. 18.5\n",
       "5. 18\n",
       "6. 17.5\n",
       "7. 17\n",
       "8. 16.5\n",
       "9. 16\n",
       "10. 15.5\n",
       "11. 15\n",
       "12. 14.5\n",
       "13. 14\n",
       "14. 13.5\n",
       "15. 13\n",
       "16. 12.5\n",
       "17. 12\n",
       "18. 11.5\n",
       "19. 11\n",
       "20. 10.5\n",
       "21. 10\n",
       "22. 9.5\n",
       "23. 9\n",
       "24. 8.5\n",
       "25. 8\n",
       "26. 7.5\n",
       "27. 7\n",
       "28. 6.5\n",
       "29. 6\n",
       "30. 5.5\n",
       "31. 5\n",
       "32. 4.5\n",
       "33. 4\n",
       "34. 3.5\n",
       "35. 3\n",
       "36. 2.5\n",
       "37. 2\n",
       "38. 1.5\n",
       "39. 1\n",
       "\n",
       "\n"
      ],
      "text/plain": [
       " [1] 20.0 19.5 19.0 18.5 18.0 17.5 17.0 16.5 16.0 15.5 15.0 14.5 14.0 13.5 13.0\n",
       "[16] 12.5 12.0 11.5 11.0 10.5 10.0  9.5  9.0  8.5  8.0  7.5  7.0  6.5  6.0  5.5\n",
       "[31]  5.0  4.5  4.0  3.5  3.0  2.5  2.0  1.5  1.0"
      ]
     },
     "metadata": {},
     "output_type": "display_data"
    }
   ],
   "source": [
    "seq1 = seq(20,1, -0.5)\n",
    "seq1"
   ]
  },
  {
   "cell_type": "markdown",
   "metadata": {},
   "source": [
    "### Operations\n",
    "Same as that of Vectors"
   ]
  },
  {
   "cell_type": "markdown",
   "metadata": {},
   "source": [
    "## Repeats"
   ]
  },
  {
   "cell_type": "code",
   "execution_count": 35,
   "metadata": {},
   "outputs": [
    {
     "data": {
      "text/html": [
       "<ol class=list-inline>\n",
       "\t<li>1</li>\n",
       "\t<li>1</li>\n",
       "\t<li>1</li>\n",
       "\t<li>2</li>\n",
       "\t<li>2</li>\n",
       "\t<li>2</li>\n",
       "\t<li>3</li>\n",
       "\t<li>3</li>\n",
       "\t<li>3</li>\n",
       "\t<li>4</li>\n",
       "\t<li>4</li>\n",
       "\t<li>4</li>\n",
       "\t<li>5</li>\n",
       "\t<li>5</li>\n",
       "\t<li>5</li>\n",
       "\t<li>6</li>\n",
       "\t<li>6</li>\n",
       "\t<li>6</li>\n",
       "\t<li>7</li>\n",
       "\t<li>7</li>\n",
       "\t<li>7</li>\n",
       "</ol>\n"
      ],
      "text/latex": [
       "\\begin{enumerate*}\n",
       "\\item 1\n",
       "\\item 1\n",
       "\\item 1\n",
       "\\item 2\n",
       "\\item 2\n",
       "\\item 2\n",
       "\\item 3\n",
       "\\item 3\n",
       "\\item 3\n",
       "\\item 4\n",
       "\\item 4\n",
       "\\item 4\n",
       "\\item 5\n",
       "\\item 5\n",
       "\\item 5\n",
       "\\item 6\n",
       "\\item 6\n",
       "\\item 6\n",
       "\\item 7\n",
       "\\item 7\n",
       "\\item 7\n",
       "\\end{enumerate*}\n"
      ],
      "text/markdown": [
       "1. 1\n",
       "2. 1\n",
       "3. 1\n",
       "4. 2\n",
       "5. 2\n",
       "6. 2\n",
       "7. 3\n",
       "8. 3\n",
       "9. 3\n",
       "10. 4\n",
       "11. 4\n",
       "12. 4\n",
       "13. 5\n",
       "14. 5\n",
       "15. 5\n",
       "16. 6\n",
       "17. 6\n",
       "18. 6\n",
       "19. 7\n",
       "20. 7\n",
       "21. 7\n",
       "\n",
       "\n"
      ],
      "text/plain": [
       " [1] 1 1 1 2 2 2 3 3 3 4 4 4 5 5 5 6 6 6 7 7 7"
      ]
     },
     "metadata": {},
     "output_type": "display_data"
    }
   ],
   "source": [
    "rep(1:7,each=3)"
   ]
  },
  {
   "cell_type": "markdown",
   "metadata": {},
   "source": [
    "## Sets"
   ]
  },
  {
   "cell_type": "code",
   "execution_count": 37,
   "metadata": {},
   "outputs": [
    {
     "name": "stdout",
     "output_type": "stream",
     "text": [
      "[1] \"a\" \"b\" \"c\" \"d\" \"e\" \"f\" \"g\"\n",
      "[1] \"d\" \"e\"\n",
      "[1] \"a\" \"b\" \"c\"\n"
     ]
    }
   ],
   "source": [
    "setA <- c(\"a\", \"b\", \"c\", \"d\", \"e\")\n",
    "setB <- c(\"d\", \"e\", \"f\", \"g\")\n",
    "print(union(setA, setB))\n",
    "print(intersect(setA, setB))\n",
    "print(setdiff(setA,setB))"
   ]
  },
  {
   "cell_type": "markdown",
   "metadata": {},
   "source": [
    "# Dataframes"
   ]
  },
  {
   "cell_type": "markdown",
   "metadata": {},
   "source": [
    "## Create dataframe"
   ]
  },
  {
   "cell_type": "code",
   "execution_count": 51,
   "metadata": {},
   "outputs": [
    {
     "data": {
      "text/html": [
       "<table>\n",
       "<thead><tr><th scope=col>col1</th><th scope=col>col2</th><th scope=col>col3</th></tr></thead>\n",
       "<tbody>\n",
       "\t<tr><td> 1        </td><td>A         </td><td>03/20/2020</td></tr>\n",
       "\t<tr><td> 2        </td><td>B         </td><td>03/21/2020</td></tr>\n",
       "\t<tr><td> 3        </td><td>C         </td><td>03/22/2020</td></tr>\n",
       "\t<tr><td> 4        </td><td>D         </td><td>03/23/2020</td></tr>\n",
       "\t<tr><td> 5        </td><td>A         </td><td>03/20/2020</td></tr>\n",
       "\t<tr><td> 6        </td><td>B         </td><td>03/21/2020</td></tr>\n",
       "\t<tr><td> 7        </td><td>C         </td><td>03/22/2020</td></tr>\n",
       "\t<tr><td> 8        </td><td>D         </td><td>03/23/2020</td></tr>\n",
       "\t<tr><td> 9        </td><td>A         </td><td>03/20/2020</td></tr>\n",
       "\t<tr><td>10        </td><td>B         </td><td>03/21/2020</td></tr>\n",
       "\t<tr><td>11        </td><td>C         </td><td>03/22/2020</td></tr>\n",
       "\t<tr><td>12        </td><td>D         </td><td>03/23/2020</td></tr>\n",
       "\t<tr><td>13        </td><td>A         </td><td>03/20/2020</td></tr>\n",
       "\t<tr><td>14        </td><td>B         </td><td>03/21/2020</td></tr>\n",
       "\t<tr><td>15        </td><td>C         </td><td>03/22/2020</td></tr>\n",
       "\t<tr><td>16        </td><td>D         </td><td>03/23/2020</td></tr>\n",
       "\t<tr><td>17        </td><td>A         </td><td>03/20/2020</td></tr>\n",
       "\t<tr><td>18        </td><td>B         </td><td>03/21/2020</td></tr>\n",
       "\t<tr><td>19        </td><td>C         </td><td>03/22/2020</td></tr>\n",
       "\t<tr><td>20        </td><td>D         </td><td>03/23/2020</td></tr>\n",
       "</tbody>\n",
       "</table>\n"
      ],
      "text/latex": [
       "\\begin{tabular}{r|lll}\n",
       " col1 & col2 & col3\\\\\n",
       "\\hline\n",
       "\t  1         & A          & 03/20/2020\\\\\n",
       "\t  2         & B          & 03/21/2020\\\\\n",
       "\t  3         & C          & 03/22/2020\\\\\n",
       "\t  4         & D          & 03/23/2020\\\\\n",
       "\t  5         & A          & 03/20/2020\\\\\n",
       "\t  6         & B          & 03/21/2020\\\\\n",
       "\t  7         & C          & 03/22/2020\\\\\n",
       "\t  8         & D          & 03/23/2020\\\\\n",
       "\t  9         & A          & 03/20/2020\\\\\n",
       "\t 10         & B          & 03/21/2020\\\\\n",
       "\t 11         & C          & 03/22/2020\\\\\n",
       "\t 12         & D          & 03/23/2020\\\\\n",
       "\t 13         & A          & 03/20/2020\\\\\n",
       "\t 14         & B          & 03/21/2020\\\\\n",
       "\t 15         & C          & 03/22/2020\\\\\n",
       "\t 16         & D          & 03/23/2020\\\\\n",
       "\t 17         & A          & 03/20/2020\\\\\n",
       "\t 18         & B          & 03/21/2020\\\\\n",
       "\t 19         & C          & 03/22/2020\\\\\n",
       "\t 20         & D          & 03/23/2020\\\\\n",
       "\\end{tabular}\n"
      ],
      "text/markdown": [
       "\n",
       "| col1 | col2 | col3 |\n",
       "|---|---|---|\n",
       "|  1         | A          | 03/20/2020 |\n",
       "|  2         | B          | 03/21/2020 |\n",
       "|  3         | C          | 03/22/2020 |\n",
       "|  4         | D          | 03/23/2020 |\n",
       "|  5         | A          | 03/20/2020 |\n",
       "|  6         | B          | 03/21/2020 |\n",
       "|  7         | C          | 03/22/2020 |\n",
       "|  8         | D          | 03/23/2020 |\n",
       "|  9         | A          | 03/20/2020 |\n",
       "| 10         | B          | 03/21/2020 |\n",
       "| 11         | C          | 03/22/2020 |\n",
       "| 12         | D          | 03/23/2020 |\n",
       "| 13         | A          | 03/20/2020 |\n",
       "| 14         | B          | 03/21/2020 |\n",
       "| 15         | C          | 03/22/2020 |\n",
       "| 16         | D          | 03/23/2020 |\n",
       "| 17         | A          | 03/20/2020 |\n",
       "| 18         | B          | 03/21/2020 |\n",
       "| 19         | C          | 03/22/2020 |\n",
       "| 20         | D          | 03/23/2020 |\n",
       "\n"
      ],
      "text/plain": [
       "   col1 col2 col3      \n",
       "1   1   A    03/20/2020\n",
       "2   2   B    03/21/2020\n",
       "3   3   C    03/22/2020\n",
       "4   4   D    03/23/2020\n",
       "5   5   A    03/20/2020\n",
       "6   6   B    03/21/2020\n",
       "7   7   C    03/22/2020\n",
       "8   8   D    03/23/2020\n",
       "9   9   A    03/20/2020\n",
       "10 10   B    03/21/2020\n",
       "11 11   C    03/22/2020\n",
       "12 12   D    03/23/2020\n",
       "13 13   A    03/20/2020\n",
       "14 14   B    03/21/2020\n",
       "15 15   C    03/22/2020\n",
       "16 16   D    03/23/2020\n",
       "17 17   A    03/20/2020\n",
       "18 18   B    03/21/2020\n",
       "19 19   C    03/22/2020\n",
       "20 20   D    03/23/2020"
      ]
     },
     "metadata": {},
     "output_type": "display_data"
    }
   ],
   "source": [
    "c1 = seq(1:20)\n",
    "c2 = c(\"A\",\"B\",\"C\", \"D\")\n",
    "c3 = c(\"03/20/2020\",\"03/21/2020\",\"03/22/2020\",\"03/23/2020\")\n",
    "df1 = data.frame(col1=c1, col2=c2, col3=c3, stringsAsFactors = FALSE)\n",
    "df1"
   ]
  },
  {
   "cell_type": "markdown",
   "metadata": {},
   "source": [
    "## View datatypes of columns"
   ]
  },
  {
   "cell_type": "code",
   "execution_count": 52,
   "metadata": {},
   "outputs": [
    {
     "name": "stdout",
     "output_type": "stream",
     "text": [
      "'data.frame':\t20 obs. of  3 variables:\n",
      " $ col1: int  1 2 3 4 5 6 7 8 9 10 ...\n",
      " $ col2: chr  \"A\" \"B\" \"C\" \"D\" ...\n",
      " $ col3: chr  \"03/20/2020\" \"03/21/2020\" \"03/22/2020\" \"03/23/2020\" ...\n"
     ]
    }
   ],
   "source": [
    "str(df1)"
   ]
  },
  {
   "cell_type": "markdown",
   "metadata": {},
   "source": [
    "## Convert dates from String"
   ]
  },
  {
   "cell_type": "code",
   "execution_count": 55,
   "metadata": {},
   "outputs": [
    {
     "name": "stdout",
     "output_type": "stream",
     "text": [
      "'data.frame':\t20 obs. of  3 variables:\n",
      " $ col1: int  1 2 3 4 5 6 7 8 9 10 ...\n",
      " $ col2: chr  \"A\" \"B\" \"C\" \"D\" ...\n",
      " $ col3: Date, format: \"2020-03-20\" \"2020-03-21\" ...\n"
     ]
    }
   ],
   "source": [
    "df1$col3 = as.Date(df1$col3, format=\"%m/%d/%Y\")\n",
    "str(df1)"
   ]
  },
  {
   "cell_type": "markdown",
   "metadata": {},
   "source": [
    "## Convert to factors/Label Encoding"
   ]
  },
  {
   "cell_type": "code",
   "execution_count": 57,
   "metadata": {},
   "outputs": [
    {
     "name": "stdout",
     "output_type": "stream",
     "text": [
      "'data.frame':\t20 obs. of  3 variables:\n",
      " $ col1: int  1 2 3 4 5 6 7 8 9 10 ...\n",
      " $ col2: Factor w/ 4 levels \"A\",\"B\",\"C\",\"D\": 1 2 3 4 1 2 3 4 1 2 ...\n",
      " $ col3: Date, format: \"2020-03-20\" \"2020-03-21\" ...\n"
     ]
    }
   ],
   "source": [
    "df1$col2 = factor(df1$col2)\n",
    "str(df1)"
   ]
  },
  {
   "cell_type": "markdown",
   "metadata": {},
   "source": [
    "## Statistical Summary of dataframe"
   ]
  },
  {
   "cell_type": "code",
   "execution_count": 58,
   "metadata": {},
   "outputs": [
    {
     "data": {
      "text/plain": [
       "      col1       col2       col3           \n",
       " Min.   : 1.00   A:5   Min.   :2020-03-20  \n",
       " 1st Qu.: 5.75   B:5   1st Qu.:2020-03-20  \n",
       " Median :10.50   C:5   Median :2020-03-21  \n",
       " Mean   :10.50   D:5   Mean   :2020-03-21  \n",
       " 3rd Qu.:15.25         3rd Qu.:2020-03-22  \n",
       " Max.   :20.00         Max.   :2020-03-23  "
      ]
     },
     "metadata": {},
     "output_type": "display_data"
    }
   ],
   "source": [
    "summary(df1)"
   ]
  },
  {
   "cell_type": "markdown",
   "metadata": {},
   "source": [
    "## Select two columns"
   ]
  },
  {
   "cell_type": "code",
   "execution_count": 60,
   "metadata": {},
   "outputs": [
    {
     "data": {
      "text/html": [
       "<table>\n",
       "<thead><tr><th scope=col>col1</th><th scope=col>col2</th></tr></thead>\n",
       "<tbody>\n",
       "\t<tr><td> 1</td><td>A </td></tr>\n",
       "\t<tr><td> 2</td><td>B </td></tr>\n",
       "\t<tr><td> 3</td><td>C </td></tr>\n",
       "\t<tr><td> 4</td><td>D </td></tr>\n",
       "\t<tr><td> 5</td><td>A </td></tr>\n",
       "\t<tr><td> 6</td><td>B </td></tr>\n",
       "\t<tr><td> 7</td><td>C </td></tr>\n",
       "\t<tr><td> 8</td><td>D </td></tr>\n",
       "\t<tr><td> 9</td><td>A </td></tr>\n",
       "\t<tr><td>10</td><td>B </td></tr>\n",
       "\t<tr><td>11</td><td>C </td></tr>\n",
       "\t<tr><td>12</td><td>D </td></tr>\n",
       "\t<tr><td>13</td><td>A </td></tr>\n",
       "\t<tr><td>14</td><td>B </td></tr>\n",
       "\t<tr><td>15</td><td>C </td></tr>\n",
       "\t<tr><td>16</td><td>D </td></tr>\n",
       "\t<tr><td>17</td><td>A </td></tr>\n",
       "\t<tr><td>18</td><td>B </td></tr>\n",
       "\t<tr><td>19</td><td>C </td></tr>\n",
       "\t<tr><td>20</td><td>D </td></tr>\n",
       "</tbody>\n",
       "</table>\n"
      ],
      "text/latex": [
       "\\begin{tabular}{r|ll}\n",
       " col1 & col2\\\\\n",
       "\\hline\n",
       "\t  1 & A \\\\\n",
       "\t  2 & B \\\\\n",
       "\t  3 & C \\\\\n",
       "\t  4 & D \\\\\n",
       "\t  5 & A \\\\\n",
       "\t  6 & B \\\\\n",
       "\t  7 & C \\\\\n",
       "\t  8 & D \\\\\n",
       "\t  9 & A \\\\\n",
       "\t 10 & B \\\\\n",
       "\t 11 & C \\\\\n",
       "\t 12 & D \\\\\n",
       "\t 13 & A \\\\\n",
       "\t 14 & B \\\\\n",
       "\t 15 & C \\\\\n",
       "\t 16 & D \\\\\n",
       "\t 17 & A \\\\\n",
       "\t 18 & B \\\\\n",
       "\t 19 & C \\\\\n",
       "\t 20 & D \\\\\n",
       "\\end{tabular}\n"
      ],
      "text/markdown": [
       "\n",
       "| col1 | col2 |\n",
       "|---|---|\n",
       "|  1 | A  |\n",
       "|  2 | B  |\n",
       "|  3 | C  |\n",
       "|  4 | D  |\n",
       "|  5 | A  |\n",
       "|  6 | B  |\n",
       "|  7 | C  |\n",
       "|  8 | D  |\n",
       "|  9 | A  |\n",
       "| 10 | B  |\n",
       "| 11 | C  |\n",
       "| 12 | D  |\n",
       "| 13 | A  |\n",
       "| 14 | B  |\n",
       "| 15 | C  |\n",
       "| 16 | D  |\n",
       "| 17 | A  |\n",
       "| 18 | B  |\n",
       "| 19 | C  |\n",
       "| 20 | D  |\n",
       "\n"
      ],
      "text/plain": [
       "   col1 col2\n",
       "1   1   A   \n",
       "2   2   B   \n",
       "3   3   C   \n",
       "4   4   D   \n",
       "5   5   A   \n",
       "6   6   B   \n",
       "7   7   C   \n",
       "8   8   D   \n",
       "9   9   A   \n",
       "10 10   B   \n",
       "11 11   C   \n",
       "12 12   D   \n",
       "13 13   A   \n",
       "14 14   B   \n",
       "15 15   C   \n",
       "16 16   D   \n",
       "17 17   A   \n",
       "18 18   B   \n",
       "19 19   C   \n",
       "20 20   D   "
      ]
     },
     "metadata": {},
     "output_type": "display_data"
    }
   ],
   "source": [
    "df1[c('col1', 'col2')]"
   ]
  },
  {
   "cell_type": "markdown",
   "metadata": {},
   "source": [
    "## Conditional slicing"
   ]
  },
  {
   "cell_type": "code",
   "execution_count": 62,
   "metadata": {},
   "outputs": [
    {
     "data": {
      "text/html": [
       "<table>\n",
       "<thead><tr><th></th><th scope=col>col1</th><th scope=col>col2</th><th scope=col>col3</th></tr></thead>\n",
       "<tbody>\n",
       "\t<tr><th scope=row>15</th><td>15        </td><td>C         </td><td>2020-03-22</td></tr>\n",
       "\t<tr><th scope=row>16</th><td>16        </td><td>D         </td><td>2020-03-23</td></tr>\n",
       "\t<tr><th scope=row>17</th><td>17        </td><td>A         </td><td>2020-03-20</td></tr>\n",
       "\t<tr><th scope=row>18</th><td>18        </td><td>B         </td><td>2020-03-21</td></tr>\n",
       "\t<tr><th scope=row>19</th><td>19        </td><td>C         </td><td>2020-03-22</td></tr>\n",
       "\t<tr><th scope=row>20</th><td>20        </td><td>D         </td><td>2020-03-23</td></tr>\n",
       "</tbody>\n",
       "</table>\n"
      ],
      "text/latex": [
       "\\begin{tabular}{r|lll}\n",
       "  & col1 & col2 & col3\\\\\n",
       "\\hline\n",
       "\t15 & 15         & C          & 2020-03-22\\\\\n",
       "\t16 & 16         & D          & 2020-03-23\\\\\n",
       "\t17 & 17         & A          & 2020-03-20\\\\\n",
       "\t18 & 18         & B          & 2020-03-21\\\\\n",
       "\t19 & 19         & C          & 2020-03-22\\\\\n",
       "\t20 & 20         & D          & 2020-03-23\\\\\n",
       "\\end{tabular}\n"
      ],
      "text/markdown": [
       "\n",
       "| <!--/--> | col1 | col2 | col3 |\n",
       "|---|---|---|---|\n",
       "| 15 | 15         | C          | 2020-03-22 |\n",
       "| 16 | 16         | D          | 2020-03-23 |\n",
       "| 17 | 17         | A          | 2020-03-20 |\n",
       "| 18 | 18         | B          | 2020-03-21 |\n",
       "| 19 | 19         | C          | 2020-03-22 |\n",
       "| 20 | 20         | D          | 2020-03-23 |\n",
       "\n"
      ],
      "text/plain": [
       "   col1 col2 col3      \n",
       "15 15   C    2020-03-22\n",
       "16 16   D    2020-03-23\n",
       "17 17   A    2020-03-20\n",
       "18 18   B    2020-03-21\n",
       "19 19   C    2020-03-22\n",
       "20 20   D    2020-03-23"
      ]
     },
     "metadata": {},
     "output_type": "display_data"
    }
   ],
   "source": [
    "subset.data.frame(df1, col1 >= 15)"
   ]
  },
  {
   "cell_type": "code",
   "execution_count": 63,
   "metadata": {},
   "outputs": [
    {
     "data": {
      "text/html": [
       "<table>\n",
       "<thead><tr><th></th><th scope=col>col1</th><th scope=col>col2</th><th scope=col>col3</th></tr></thead>\n",
       "<tbody>\n",
       "\t<tr><th scope=row>9</th><td> 9        </td><td>A         </td><td>2020-03-20</td></tr>\n",
       "\t<tr><th scope=row>12</th><td>12        </td><td>D         </td><td>2020-03-23</td></tr>\n",
       "\t<tr><th scope=row>15</th><td>15        </td><td>C         </td><td>2020-03-22</td></tr>\n",
       "</tbody>\n",
       "</table>\n"
      ],
      "text/latex": [
       "\\begin{tabular}{r|lll}\n",
       "  & col1 & col2 & col3\\\\\n",
       "\\hline\n",
       "\t9 &  9         & A          & 2020-03-20\\\\\n",
       "\t12 & 12         & D          & 2020-03-23\\\\\n",
       "\t15 & 15         & C          & 2020-03-22\\\\\n",
       "\\end{tabular}\n"
      ],
      "text/markdown": [
       "\n",
       "| <!--/--> | col1 | col2 | col3 |\n",
       "|---|---|---|---|\n",
       "| 9 |  9         | A          | 2020-03-20 |\n",
       "| 12 | 12         | D          | 2020-03-23 |\n",
       "| 15 | 15         | C          | 2020-03-22 |\n",
       "\n"
      ],
      "text/plain": [
       "   col1 col2 col3      \n",
       "9   9   A    2020-03-20\n",
       "12 12   D    2020-03-23\n",
       "15 15   C    2020-03-22"
      ]
     },
     "metadata": {},
     "output_type": "display_data"
    }
   ],
   "source": [
    "subset.data.frame(df1, col1 %in% c(15,12,9))"
   ]
  },
  {
   "cell_type": "markdown",
   "metadata": {},
   "source": [
    "## Condition based column creation"
   ]
  },
  {
   "cell_type": "code",
   "execution_count": 64,
   "metadata": {},
   "outputs": [
    {
     "data": {
      "text/html": [
       "<table>\n",
       "<thead><tr><th scope=col>col1</th><th scope=col>col2</th><th scope=col>col3</th><th scope=col>col4</th></tr></thead>\n",
       "<tbody>\n",
       "\t<tr><td> 1        </td><td>A         </td><td>2020-03-20</td><td>1         </td></tr>\n",
       "\t<tr><td> 2        </td><td>B         </td><td>2020-03-21</td><td>1         </td></tr>\n",
       "\t<tr><td> 3        </td><td>C         </td><td>2020-03-22</td><td>2         </td></tr>\n",
       "\t<tr><td> 4        </td><td>D         </td><td>2020-03-23</td><td>2         </td></tr>\n",
       "\t<tr><td> 5        </td><td>A         </td><td>2020-03-20</td><td>1         </td></tr>\n",
       "\t<tr><td> 6        </td><td>B         </td><td>2020-03-21</td><td>1         </td></tr>\n",
       "\t<tr><td> 7        </td><td>C         </td><td>2020-03-22</td><td>2         </td></tr>\n",
       "\t<tr><td> 8        </td><td>D         </td><td>2020-03-23</td><td>2         </td></tr>\n",
       "\t<tr><td> 9        </td><td>A         </td><td>2020-03-20</td><td>1         </td></tr>\n",
       "\t<tr><td>10        </td><td>B         </td><td>2020-03-21</td><td>1         </td></tr>\n",
       "\t<tr><td>11        </td><td>C         </td><td>2020-03-22</td><td>2         </td></tr>\n",
       "\t<tr><td>12        </td><td>D         </td><td>2020-03-23</td><td>2         </td></tr>\n",
       "\t<tr><td>13        </td><td>A         </td><td>2020-03-20</td><td>1         </td></tr>\n",
       "\t<tr><td>14        </td><td>B         </td><td>2020-03-21</td><td>1         </td></tr>\n",
       "\t<tr><td>15        </td><td>C         </td><td>2020-03-22</td><td>2         </td></tr>\n",
       "\t<tr><td>16        </td><td>D         </td><td>2020-03-23</td><td>2         </td></tr>\n",
       "\t<tr><td>17        </td><td>A         </td><td>2020-03-20</td><td>1         </td></tr>\n",
       "\t<tr><td>18        </td><td>B         </td><td>2020-03-21</td><td>1         </td></tr>\n",
       "\t<tr><td>19        </td><td>C         </td><td>2020-03-22</td><td>2         </td></tr>\n",
       "\t<tr><td>20        </td><td>D         </td><td>2020-03-23</td><td>2         </td></tr>\n",
       "</tbody>\n",
       "</table>\n"
      ],
      "text/latex": [
       "\\begin{tabular}{r|llll}\n",
       " col1 & col2 & col3 & col4\\\\\n",
       "\\hline\n",
       "\t  1         & A          & 2020-03-20 & 1         \\\\\n",
       "\t  2         & B          & 2020-03-21 & 1         \\\\\n",
       "\t  3         & C          & 2020-03-22 & 2         \\\\\n",
       "\t  4         & D          & 2020-03-23 & 2         \\\\\n",
       "\t  5         & A          & 2020-03-20 & 1         \\\\\n",
       "\t  6         & B          & 2020-03-21 & 1         \\\\\n",
       "\t  7         & C          & 2020-03-22 & 2         \\\\\n",
       "\t  8         & D          & 2020-03-23 & 2         \\\\\n",
       "\t  9         & A          & 2020-03-20 & 1         \\\\\n",
       "\t 10         & B          & 2020-03-21 & 1         \\\\\n",
       "\t 11         & C          & 2020-03-22 & 2         \\\\\n",
       "\t 12         & D          & 2020-03-23 & 2         \\\\\n",
       "\t 13         & A          & 2020-03-20 & 1         \\\\\n",
       "\t 14         & B          & 2020-03-21 & 1         \\\\\n",
       "\t 15         & C          & 2020-03-22 & 2         \\\\\n",
       "\t 16         & D          & 2020-03-23 & 2         \\\\\n",
       "\t 17         & A          & 2020-03-20 & 1         \\\\\n",
       "\t 18         & B          & 2020-03-21 & 1         \\\\\n",
       "\t 19         & C          & 2020-03-22 & 2         \\\\\n",
       "\t 20         & D          & 2020-03-23 & 2         \\\\\n",
       "\\end{tabular}\n"
      ],
      "text/markdown": [
       "\n",
       "| col1 | col2 | col3 | col4 |\n",
       "|---|---|---|---|\n",
       "|  1         | A          | 2020-03-20 | 1          |\n",
       "|  2         | B          | 2020-03-21 | 1          |\n",
       "|  3         | C          | 2020-03-22 | 2          |\n",
       "|  4         | D          | 2020-03-23 | 2          |\n",
       "|  5         | A          | 2020-03-20 | 1          |\n",
       "|  6         | B          | 2020-03-21 | 1          |\n",
       "|  7         | C          | 2020-03-22 | 2          |\n",
       "|  8         | D          | 2020-03-23 | 2          |\n",
       "|  9         | A          | 2020-03-20 | 1          |\n",
       "| 10         | B          | 2020-03-21 | 1          |\n",
       "| 11         | C          | 2020-03-22 | 2          |\n",
       "| 12         | D          | 2020-03-23 | 2          |\n",
       "| 13         | A          | 2020-03-20 | 1          |\n",
       "| 14         | B          | 2020-03-21 | 1          |\n",
       "| 15         | C          | 2020-03-22 | 2          |\n",
       "| 16         | D          | 2020-03-23 | 2          |\n",
       "| 17         | A          | 2020-03-20 | 1          |\n",
       "| 18         | B          | 2020-03-21 | 1          |\n",
       "| 19         | C          | 2020-03-22 | 2          |\n",
       "| 20         | D          | 2020-03-23 | 2          |\n",
       "\n"
      ],
      "text/plain": [
       "   col1 col2 col3       col4\n",
       "1   1   A    2020-03-20 1   \n",
       "2   2   B    2020-03-21 1   \n",
       "3   3   C    2020-03-22 2   \n",
       "4   4   D    2020-03-23 2   \n",
       "5   5   A    2020-03-20 1   \n",
       "6   6   B    2020-03-21 1   \n",
       "7   7   C    2020-03-22 2   \n",
       "8   8   D    2020-03-23 2   \n",
       "9   9   A    2020-03-20 1   \n",
       "10 10   B    2020-03-21 1   \n",
       "11 11   C    2020-03-22 2   \n",
       "12 12   D    2020-03-23 2   \n",
       "13 13   A    2020-03-20 1   \n",
       "14 14   B    2020-03-21 1   \n",
       "15 15   C    2020-03-22 2   \n",
       "16 16   D    2020-03-23 2   \n",
       "17 17   A    2020-03-20 1   \n",
       "18 18   B    2020-03-21 1   \n",
       "19 19   C    2020-03-22 2   \n",
       "20 20   D    2020-03-23 2   "
      ]
     },
     "metadata": {},
     "output_type": "display_data"
    }
   ],
   "source": [
    "df1$col4 = ifelse(df1$col2 %in% c('A','B'), 1, 2)\n",
    "df1"
   ]
  },
  {
   "cell_type": "markdown",
   "metadata": {},
   "source": [
    "## Calculation based column creation"
   ]
  },
  {
   "cell_type": "code",
   "execution_count": 86,
   "metadata": {},
   "outputs": [
    {
     "data": {
      "text/html": [
       "<table>\n",
       "<thead><tr><th scope=col>col1</th><th scope=col>col2</th><th scope=col>col3</th><th scope=col>col4</th><th scope=col>col5</th></tr></thead>\n",
       "<tbody>\n",
       "\t<tr><td> 1          </td><td>A           </td><td>2020-03-20  </td><td>1           </td><td>7.991871e-06</td></tr>\n",
       "\t<tr><td> 2          </td><td>B           </td><td>2020-03-21  </td><td>1           </td><td>6.691511e-05</td></tr>\n",
       "\t<tr><td> 3          </td><td>C           </td><td>2020-03-22  </td><td>2           </td><td>4.363413e-04</td></tr>\n",
       "\t<tr><td> 4          </td><td>D           </td><td>2020-03-23  </td><td>2           </td><td>2.215924e-03</td></tr>\n",
       "\t<tr><td> 5          </td><td>A           </td><td>2020-03-20  </td><td>1           </td><td>8.764150e-03</td></tr>\n",
       "\t<tr><td> 6          </td><td>B           </td><td>2020-03-21  </td><td>1           </td><td>2.699548e-02</td></tr>\n",
       "\t<tr><td> 7          </td><td>C           </td><td>2020-03-22  </td><td>2           </td><td>6.475880e-02</td></tr>\n",
       "\t<tr><td> 8          </td><td>D           </td><td>2020-03-23  </td><td>2           </td><td>1.209854e-01</td></tr>\n",
       "\t<tr><td> 9          </td><td>A           </td><td>2020-03-20  </td><td>1           </td><td>1.760327e-01</td></tr>\n",
       "\t<tr><td>10          </td><td>B           </td><td>2020-03-21  </td><td>1           </td><td>1.994711e-01</td></tr>\n",
       "\t<tr><td>11          </td><td>C           </td><td>2020-03-22  </td><td>2           </td><td>1.760327e-01</td></tr>\n",
       "\t<tr><td>12          </td><td>D           </td><td>2020-03-23  </td><td>2           </td><td>1.209854e-01</td></tr>\n",
       "\t<tr><td>13          </td><td>A           </td><td>2020-03-20  </td><td>1           </td><td>6.475880e-02</td></tr>\n",
       "\t<tr><td>14          </td><td>B           </td><td>2020-03-21  </td><td>1           </td><td>2.699548e-02</td></tr>\n",
       "\t<tr><td>15          </td><td>C           </td><td>2020-03-22  </td><td>2           </td><td>8.764150e-03</td></tr>\n",
       "\t<tr><td>16          </td><td>D           </td><td>2020-03-23  </td><td>2           </td><td>2.215924e-03</td></tr>\n",
       "\t<tr><td>17          </td><td>A           </td><td>2020-03-20  </td><td>1           </td><td>4.363413e-04</td></tr>\n",
       "\t<tr><td>18          </td><td>B           </td><td>2020-03-21  </td><td>1           </td><td>6.691511e-05</td></tr>\n",
       "\t<tr><td>19          </td><td>C           </td><td>2020-03-22  </td><td>2           </td><td>7.991871e-06</td></tr>\n",
       "\t<tr><td>20          </td><td>D           </td><td>2020-03-23  </td><td>2           </td><td>7.433598e-07</td></tr>\n",
       "</tbody>\n",
       "</table>\n"
      ],
      "text/latex": [
       "\\begin{tabular}{r|lllll}\n",
       " col1 & col2 & col3 & col4 & col5\\\\\n",
       "\\hline\n",
       "\t  1           & A            & 2020-03-20   & 1            & 7.991871e-06\\\\\n",
       "\t  2           & B            & 2020-03-21   & 1            & 6.691511e-05\\\\\n",
       "\t  3           & C            & 2020-03-22   & 2            & 4.363413e-04\\\\\n",
       "\t  4           & D            & 2020-03-23   & 2            & 2.215924e-03\\\\\n",
       "\t  5           & A            & 2020-03-20   & 1            & 8.764150e-03\\\\\n",
       "\t  6           & B            & 2020-03-21   & 1            & 2.699548e-02\\\\\n",
       "\t  7           & C            & 2020-03-22   & 2            & 6.475880e-02\\\\\n",
       "\t  8           & D            & 2020-03-23   & 2            & 1.209854e-01\\\\\n",
       "\t  9           & A            & 2020-03-20   & 1            & 1.760327e-01\\\\\n",
       "\t 10           & B            & 2020-03-21   & 1            & 1.994711e-01\\\\\n",
       "\t 11           & C            & 2020-03-22   & 2            & 1.760327e-01\\\\\n",
       "\t 12           & D            & 2020-03-23   & 2            & 1.209854e-01\\\\\n",
       "\t 13           & A            & 2020-03-20   & 1            & 6.475880e-02\\\\\n",
       "\t 14           & B            & 2020-03-21   & 1            & 2.699548e-02\\\\\n",
       "\t 15           & C            & 2020-03-22   & 2            & 8.764150e-03\\\\\n",
       "\t 16           & D            & 2020-03-23   & 2            & 2.215924e-03\\\\\n",
       "\t 17           & A            & 2020-03-20   & 1            & 4.363413e-04\\\\\n",
       "\t 18           & B            & 2020-03-21   & 1            & 6.691511e-05\\\\\n",
       "\t 19           & C            & 2020-03-22   & 2            & 7.991871e-06\\\\\n",
       "\t 20           & D            & 2020-03-23   & 2            & 7.433598e-07\\\\\n",
       "\\end{tabular}\n"
      ],
      "text/markdown": [
       "\n",
       "| col1 | col2 | col3 | col4 | col5 |\n",
       "|---|---|---|---|---|\n",
       "|  1           | A            | 2020-03-20   | 1            | 7.991871e-06 |\n",
       "|  2           | B            | 2020-03-21   | 1            | 6.691511e-05 |\n",
       "|  3           | C            | 2020-03-22   | 2            | 4.363413e-04 |\n",
       "|  4           | D            | 2020-03-23   | 2            | 2.215924e-03 |\n",
       "|  5           | A            | 2020-03-20   | 1            | 8.764150e-03 |\n",
       "|  6           | B            | 2020-03-21   | 1            | 2.699548e-02 |\n",
       "|  7           | C            | 2020-03-22   | 2            | 6.475880e-02 |\n",
       "|  8           | D            | 2020-03-23   | 2            | 1.209854e-01 |\n",
       "|  9           | A            | 2020-03-20   | 1            | 1.760327e-01 |\n",
       "| 10           | B            | 2020-03-21   | 1            | 1.994711e-01 |\n",
       "| 11           | C            | 2020-03-22   | 2            | 1.760327e-01 |\n",
       "| 12           | D            | 2020-03-23   | 2            | 1.209854e-01 |\n",
       "| 13           | A            | 2020-03-20   | 1            | 6.475880e-02 |\n",
       "| 14           | B            | 2020-03-21   | 1            | 2.699548e-02 |\n",
       "| 15           | C            | 2020-03-22   | 2            | 8.764150e-03 |\n",
       "| 16           | D            | 2020-03-23   | 2            | 2.215924e-03 |\n",
       "| 17           | A            | 2020-03-20   | 1            | 4.363413e-04 |\n",
       "| 18           | B            | 2020-03-21   | 1            | 6.691511e-05 |\n",
       "| 19           | C            | 2020-03-22   | 2            | 7.991871e-06 |\n",
       "| 20           | D            | 2020-03-23   | 2            | 7.433598e-07 |\n",
       "\n"
      ],
      "text/plain": [
       "   col1 col2 col3       col4 col5        \n",
       "1   1   A    2020-03-20 1    7.991871e-06\n",
       "2   2   B    2020-03-21 1    6.691511e-05\n",
       "3   3   C    2020-03-22 2    4.363413e-04\n",
       "4   4   D    2020-03-23 2    2.215924e-03\n",
       "5   5   A    2020-03-20 1    8.764150e-03\n",
       "6   6   B    2020-03-21 1    2.699548e-02\n",
       "7   7   C    2020-03-22 2    6.475880e-02\n",
       "8   8   D    2020-03-23 2    1.209854e-01\n",
       "9   9   A    2020-03-20 1    1.760327e-01\n",
       "10 10   B    2020-03-21 1    1.994711e-01\n",
       "11 11   C    2020-03-22 2    1.760327e-01\n",
       "12 12   D    2020-03-23 2    1.209854e-01\n",
       "13 13   A    2020-03-20 1    6.475880e-02\n",
       "14 14   B    2020-03-21 1    2.699548e-02\n",
       "15 15   C    2020-03-22 2    8.764150e-03\n",
       "16 16   D    2020-03-23 2    2.215924e-03\n",
       "17 17   A    2020-03-20 1    4.363413e-04\n",
       "18 18   B    2020-03-21 1    6.691511e-05\n",
       "19 19   C    2020-03-22 2    7.991871e-06\n",
       "20 20   D    2020-03-23 2    7.433598e-07"
      ]
     },
     "metadata": {},
     "output_type": "display_data"
    }
   ],
   "source": [
    "df1$col5 = dnorm(df1$col1, mean=10, sd=2)\n",
    "df1"
   ]
  },
  {
   "cell_type": "markdown",
   "metadata": {},
   "source": [
    "## Univariate Categorical value distribution visualization"
   ]
  },
  {
   "cell_type": "code",
   "execution_count": 87,
   "metadata": {},
   "outputs": [],
   "source": [
    "library(ggplot2)"
   ]
  },
  {
   "cell_type": "code",
   "execution_count": 88,
   "metadata": {},
   "outputs": [
    {
     "data": {
      "image/png": "[encoded data removed]",
      "text/plain": [
       "plot without title"
      ]
     },
     "metadata": {},
     "output_type": "display_data"
    }
   ],
   "source": [
    "ggplot(data=df1) +\n",
    "aes(x=col2, fill=col3) +\n",
    "geom_bar() +\n",
    "scale_x_discrete()"
   ]
  },
  {
   "cell_type": "markdown",
   "metadata": {},
   "source": [
    "## Multivariate plotting"
   ]
  },
  {
   "cell_type": "code",
   "execution_count": 91,
   "metadata": {},
   "outputs": [
    {
     "data": {
      "image/png": "[encoded data removed]",
      "text/plain": [
       "plot without title"
      ]
     },
     "metadata": {},
     "output_type": "display_data"
    }
   ],
   "source": [
    "ggplot(df1) + \n",
    "aes(x=col1,y=col5) +\n",
    "geom_line() +\n",
    "geom_vline(xintercept = 10, color='red')"
   ]
  },
  {
   "cell_type": "code",
   "execution_count": null,
   "metadata": {},
   "outputs": [],
   "source": []
  }
 ],
 "metadata": {
  "kernelspec": {
   "display_name": "R",
   "language": "R",
   "name": "ir"
  },
  "language_info": {
   "codemirror_mode": "r",
   "file_extension": ".r",
   "mimetype": "text/x-r-source",
   "name": "R",
   "pygments_lexer": "r",
   "version": "3.6.1"
  }
 },
 "nbformat": 4,
 "nbformat_minor": 4
}
