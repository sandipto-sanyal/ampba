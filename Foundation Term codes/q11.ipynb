{
 "cells": [
  {
   "cell_type": "markdown",
   "metadata": {},
   "source": [
    "# Question 11 <a id='q11'></a>\n",
    "For this problem, consider the dataset Prob_Assignment_Dataset.xlsx attached. As the vigilant\n",
    "monitors of the Zappos.Com website, we are obsessed with who is coming to our website and what they\n",
    "do during their visit. This challenge requires you to look at data similar to that which Analytics teams at\n",
    "Zappos would use to assess the overall performance of the business."
   ]
  },
  {
   "cell_type": "markdown",
   "metadata": {},
   "source": [
    "## Import necessary visualization packages"
   ]
  },
  {
   "cell_type": "code",
   "execution_count": 1,
   "metadata": {},
   "outputs": [
    {
     "name": "stderr",
     "output_type": "stream",
     "text": [
      "Warning message:\n",
      "\"package 'ggplot2' was built under R version 3.6.3\"Warning message:\n",
      "\"package 'ggpubr' was built under R version 3.6.3\"Loading required package: magrittr\n"
     ]
    }
   ],
   "source": [
    "library(ggplot2) # create different graphs\n",
    "library(ggpubr) # show mutiple ggplots\n",
    "library(repr) # set plot sizes"
   ]
  },
  {
   "cell_type": "markdown",
   "metadata": {},
   "source": [
    "## Read the dataset\n",
    "Read the dataset and get a snapshot of the columns and data."
   ]
  },
  {
   "cell_type": "code",
   "execution_count": 9,
   "metadata": {},
   "outputs": [
    {
     "name": "stderr",
     "output_type": "stream",
     "text": [
      "New names:\n",
      "* `` -> ...2\n"
     ]
    },
    {
     "name": "stdout",
     "output_type": "stream",
     "text": [
      "Classes 'tbl_df', 'tbl' and 'data.frame':\t21061 obs. of  12 variables:\n",
      " $ day               : POSIXct, format: \"2013-01-01\" \"2013-01-01\" ...\n",
      " $ site              : chr  \"Acme\" \"Acme\" \"Sortly\" \"Acme\" ...\n",
      " $ new_customer      : num  1 1 1 1 1 1 1 1 0 0 ...\n",
      " $ platform          : chr  \"Android\" \"BlackBerry\" \"iPad\" \"Windows\" ...\n",
      " $ visits            : num  24 0 0 922 11 384 14 1 41 448 ...\n",
      " $ distinct_sessions : num  16 0 0 520 10 214 10 0 27 368 ...\n",
      " $ orders            : num  14 0 0 527 11 213 4 0 6 36 ...\n",
      " $ gross_sales       : num  1287 13 98 60753 1090 ...\n",
      " $ bounces           : num  4 0 0 149 0 65 4 0 6 80 ...\n",
      " $ add_to_cart       : num  16 0 0 610 11 245 7 0 12 79 ...\n",
      " $ product_page_views: num  104 1 0 3914 4 ...\n",
      " $ search_page_views : num  192 0 0 7367 19 ...\n"
     ]
    }
   ],
   "source": [
    "library(\"readxl\")\n",
    "df = read_excel('datasets//Prob_Assignment_Dataset (2).xlsx', sheet='Example_Data')\n",
    "data_reference = read_excel('datasets//Prob_Assignment_Dataset (2).xlsx', sheet='Data_Reference', col_names = TRUE)\n",
    "str(df)"
   ]
  },
  {
   "cell_type": "markdown",
   "metadata": {},
   "source": [
    "## View first 6 rows of dataframe"
   ]
  },
  {
   "cell_type": "code",
   "execution_count": 10,
   "metadata": {},
   "outputs": [
    {
     "data": {
      "text/html": [
       "<table>\n",
       "<thead><tr><th scope=col>day</th><th scope=col>site</th><th scope=col>new_customer</th><th scope=col>platform</th><th scope=col>visits</th><th scope=col>distinct_sessions</th><th scope=col>orders</th><th scope=col>gross_sales</th><th scope=col>bounces</th><th scope=col>add_to_cart</th><th scope=col>product_page_views</th><th scope=col>search_page_views</th></tr></thead>\n",
       "<tbody>\n",
       "\t<tr><td>2013-01-01</td><td>Acme      </td><td>1         </td><td>Android   </td><td> 24       </td><td> 16       </td><td> 14       </td><td> 1287     </td><td>  4       </td><td> 16       </td><td> 104      </td><td> 192      </td></tr>\n",
       "\t<tr><td>2013-01-01</td><td>Acme      </td><td>1         </td><td>BlackBerry</td><td>  0       </td><td>  0       </td><td>  0       </td><td>   13     </td><td>  0       </td><td>  0       </td><td>   1      </td><td>   0      </td></tr>\n",
       "\t<tr><td>2013-01-01</td><td>Sortly    </td><td>1         </td><td>iPad      </td><td>  0       </td><td>  0       </td><td>  0       </td><td>   98     </td><td>  0       </td><td>  0       </td><td>   0      </td><td>   0      </td></tr>\n",
       "\t<tr><td>2013-01-01</td><td>Acme      </td><td>1         </td><td>Windows   </td><td>922       </td><td>520       </td><td>527       </td><td>60753     </td><td>149       </td><td>610       </td><td>3914      </td><td>7367      </td></tr>\n",
       "\t<tr><td>2013-01-01</td><td>Botly     </td><td>1         </td><td>Android   </td><td> 11       </td><td> 10       </td><td> 11       </td><td> 1090     </td><td>  0       </td><td> 11       </td><td>   4      </td><td>  19      </td></tr>\n",
       "\t<tr><td>2013-01-01</td><td>Acme      </td><td>1         </td><td>Macintosh </td><td>384       </td><td>214       </td><td>213       </td><td>28129     </td><td> 65       </td><td>245       </td><td>1783      </td><td>3255      </td></tr>\n",
       "</tbody>\n",
       "</table>\n"
      ],
      "text/latex": [
       "\\begin{tabular}{r|llllllllllll}\n",
       " day & site & new\\_customer & platform & visits & distinct\\_sessions & orders & gross\\_sales & bounces & add\\_to\\_cart & product\\_page\\_views & search\\_page\\_views\\\\\n",
       "\\hline\n",
       "\t 2013-01-01 & Acme       & 1          & Android    &  24        &  16        &  14        &  1287      &   4        &  16        &  104       &  192      \\\\\n",
       "\t 2013-01-01 & Acme       & 1          & BlackBerry &   0        &   0        &   0        &    13      &   0        &   0        &    1       &    0      \\\\\n",
       "\t 2013-01-01 & Sortly     & 1          & iPad       &   0        &   0        &   0        &    98      &   0        &   0        &    0       &    0      \\\\\n",
       "\t 2013-01-01 & Acme       & 1          & Windows    & 922        & 520        & 527        & 60753      & 149        & 610        & 3914       & 7367      \\\\\n",
       "\t 2013-01-01 & Botly      & 1          & Android    &  11        &  10        &  11        &  1090      &   0        &  11        &    4       &   19      \\\\\n",
       "\t 2013-01-01 & Acme       & 1          & Macintosh  & 384        & 214        & 213        & 28129      &  65        & 245        & 1783       & 3255      \\\\\n",
       "\\end{tabular}\n"
      ],
      "text/markdown": [
       "\n",
       "| day | site | new_customer | platform | visits | distinct_sessions | orders | gross_sales | bounces | add_to_cart | product_page_views | search_page_views |\n",
       "|---|---|---|---|---|---|---|---|---|---|---|---|\n",
       "| 2013-01-01 | Acme       | 1          | Android    |  24        |  16        |  14        |  1287      |   4        |  16        |  104       |  192       |\n",
       "| 2013-01-01 | Acme       | 1          | BlackBerry |   0        |   0        |   0        |    13      |   0        |   0        |    1       |    0       |\n",
       "| 2013-01-01 | Sortly     | 1          | iPad       |   0        |   0        |   0        |    98      |   0        |   0        |    0       |    0       |\n",
       "| 2013-01-01 | Acme       | 1          | Windows    | 922        | 520        | 527        | 60753      | 149        | 610        | 3914       | 7367       |\n",
       "| 2013-01-01 | Botly      | 1          | Android    |  11        |  10        |  11        |  1090      |   0        |  11        |    4       |   19       |\n",
       "| 2013-01-01 | Acme       | 1          | Macintosh  | 384        | 214        | 213        | 28129      |  65        | 245        | 1783       | 3255       |\n",
       "\n"
      ],
      "text/plain": [
       "  day        site   new_customer platform   visits distinct_sessions orders\n",
       "1 2013-01-01 Acme   1            Android     24     16                14   \n",
       "2 2013-01-01 Acme   1            BlackBerry   0      0                 0   \n",
       "3 2013-01-01 Sortly 1            iPad         0      0                 0   \n",
       "4 2013-01-01 Acme   1            Windows    922    520               527   \n",
       "5 2013-01-01 Botly  1            Android     11     10                11   \n",
       "6 2013-01-01 Acme   1            Macintosh  384    214               213   \n",
       "  gross_sales bounces add_to_cart product_page_views search_page_views\n",
       "1  1287         4      16          104                192             \n",
       "2    13         0       0            1                  0             \n",
       "3    98         0       0            0                  0             \n",
       "4 60753       149     610         3914               7367             \n",
       "5  1090         0      11            4                 19             \n",
       "6 28129        65     245         1783               3255             "
      ]
     },
     "metadata": {},
     "output_type": "display_data"
    }
   ],
   "source": [
    "head(df)"
   ]
  },
  {
   "cell_type": "code",
   "execution_count": 11,
   "metadata": {},
   "outputs": [
    {
     "name": "stdout",
     "output_type": "stream",
     "text": [
      "Classes 'tbl_df', 'tbl' and 'data.frame':\t21061 obs. of  12 variables:\n",
      " $ day               : POSIXct, format: \"2013-01-01\" \"2013-01-01\" ...\n",
      " $ site              : chr  \"Acme\" \"Acme\" \"Sortly\" \"Acme\" ...\n",
      " $ new_customer      : Factor w/ 2 levels \"0\",\"1\": 2 2 2 2 2 2 2 2 1 1 ...\n",
      " $ platform          : chr  \"Android\" \"BlackBerry\" \"iPad\" \"Windows\" ...\n",
      " $ visits            : num  24 0 0 922 11 384 14 1 41 448 ...\n",
      " $ distinct_sessions : num  16 0 0 520 10 214 10 0 27 368 ...\n",
      " $ orders            : num  14 0 0 527 11 213 4 0 6 36 ...\n",
      " $ gross_sales       : num  1287 13 98 60753 1090 ...\n",
      " $ bounces           : num  4 0 0 149 0 65 4 0 6 80 ...\n",
      " $ add_to_cart       : num  16 0 0 610 11 245 7 0 12 79 ...\n",
      " $ product_page_views: num  104 1 0 3914 4 ...\n",
      " $ search_page_views : num  192 0 0 7367 19 ...\n"
     ]
    }
   ],
   "source": [
    "df$new_customer = factor(df$new_customer)\n",
    "str(df)"
   ]
  },
  {
   "cell_type": "markdown",
   "metadata": {},
   "source": [
    "## Data reference"
   ]
  },
  {
   "cell_type": "code",
   "execution_count": 12,
   "metadata": {},
   "outputs": [
    {
     "data": {
      "text/html": [
       "<table>\n",
       "<thead><tr><th scope=col>Data column definitions</th><th scope=col>...2</th></tr></thead>\n",
       "<tbody>\n",
       "\t<tr><td>day                                                                        </td><td>The calendar day                                                           </td></tr>\n",
       "\t<tr><td>site                                                                       </td><td>Company site visited by users                                              </td></tr>\n",
       "\t<tr><td>new_customer                                                               </td><td>0 = returning customer; 1 = new customer; null = neither                   </td></tr>\n",
       "\t<tr><td>platform                                                                   </td><td>The type of device used by a website visitor                               </td></tr>\n",
       "\t<tr><td>visits                                                                     </td><td>The number of distinct website visits; 1 session may have multiple visits  </td></tr>\n",
       "\t<tr><td>distinct_sessions                                                          </td><td>The number of distinct website visitors; 1 session may have multiple visits</td></tr>\n",
       "\t<tr><td>orders                                                                     </td><td>The number of website orders                                               </td></tr>\n",
       "\t<tr><td>gross_sales                                                                </td><td>The total gross sales for website orders                                   </td></tr>\n",
       "\t<tr><td>bounces                                                                    </td><td>The number of visits that only viewed one page                             </td></tr>\n",
       "\t<tr><td>add_to_cart                                                                </td><td>The number of visits that added a product to cart                          </td></tr>\n",
       "\t<tr><td>product_page_views                                                         </td><td>The number of product pages viewed                                         </td></tr>\n",
       "\t<tr><td>search_page_views                                                          </td><td>The number of search pages viewed                                          </td></tr>\n",
       "\t<tr><td>NA                                                                         </td><td>NA                                                                         </td></tr>\n",
       "\t<tr><td>Requested metrics formulae                                                 </td><td>NA                                                                         </td></tr>\n",
       "\t<tr><td>conversion_rate                                                            </td><td>='orders'/'visits'                                                         </td></tr>\n",
       "\t<tr><td>bounce_rate                                                                </td><td>='bounces'/'visits'                                                        </td></tr>\n",
       "\t<tr><td>add_to_cart_rate                                                           </td><td>='add_to_cart'/visits'                                                     </td></tr>\n",
       "</tbody>\n",
       "</table>\n"
      ],
      "text/latex": [
       "\\begin{tabular}{r|ll}\n",
       " Data column definitions & ...2\\\\\n",
       "\\hline\n",
       "\t day                                                                         & The calendar day                                                           \\\\\n",
       "\t site                                                                        & Company site visited by users                                              \\\\\n",
       "\t new\\_customer                                                              & 0 = returning customer; 1 = new customer; null = neither                   \\\\\n",
       "\t platform                                                                    & The type of device used by a website visitor                               \\\\\n",
       "\t visits                                                                      & The number of distinct website visits; 1 session may have multiple visits  \\\\\n",
       "\t distinct\\_sessions                                                         & The number of distinct website visitors; 1 session may have multiple visits\\\\\n",
       "\t orders                                                                      & The number of website orders                                               \\\\\n",
       "\t gross\\_sales                                                               & The total gross sales for website orders                                   \\\\\n",
       "\t bounces                                                                     & The number of visits that only viewed one page                             \\\\\n",
       "\t add\\_to\\_cart                                                             & The number of visits that added a product to cart                          \\\\\n",
       "\t product\\_page\\_views                                                      & The number of product pages viewed                                         \\\\\n",
       "\t search\\_page\\_views                                                       & The number of search pages viewed                                          \\\\\n",
       "\t NA                                                                          & NA                                                                         \\\\\n",
       "\t Requested metrics formulae                                                  & NA                                                                         \\\\\n",
       "\t conversion\\_rate                                                           & ='orders'/'visits'                                                         \\\\\n",
       "\t bounce\\_rate                                                               & ='bounces'/'visits'                                                        \\\\\n",
       "\t add\\_to\\_cart\\_rate                                                          & ='add\\_to\\_cart'/visits'                                                     \\\\\n",
       "\\end{tabular}\n"
      ],
      "text/markdown": [
       "\n",
       "| Data column definitions | ...2 |\n",
       "|---|---|\n",
       "| day                                                                         | The calendar day                                                            |\n",
       "| site                                                                        | Company site visited by users                                               |\n",
       "| new_customer                                                                | 0 = returning customer; 1 = new customer; null = neither                    |\n",
       "| platform                                                                    | The type of device used by a website visitor                                |\n",
       "| visits                                                                      | The number of distinct website visits; 1 session may have multiple visits   |\n",
       "| distinct_sessions                                                           | The number of distinct website visitors; 1 session may have multiple visits |\n",
       "| orders                                                                      | The number of website orders                                                |\n",
       "| gross_sales                                                                 | The total gross sales for website orders                                    |\n",
       "| bounces                                                                     | The number of visits that only viewed one page                              |\n",
       "| add_to_cart                                                                 | The number of visits that added a product to cart                           |\n",
       "| product_page_views                                                          | The number of product pages viewed                                          |\n",
       "| search_page_views                                                           | The number of search pages viewed                                           |\n",
       "| NA                                                                          | NA                                                                          |\n",
       "| Requested metrics formulae                                                  | NA                                                                          |\n",
       "| conversion_rate                                                             | ='orders'/'visits'                                                          |\n",
       "| bounce_rate                                                                 | ='bounces'/'visits'                                                         |\n",
       "| add_to_cart_rate                                                            | ='add_to_cart'/visits'                                                      |\n",
       "\n"
      ],
      "text/plain": [
       "   Data column definitions   \n",
       "1  day                       \n",
       "2  site                      \n",
       "3  new_customer              \n",
       "4  platform                  \n",
       "5  visits                    \n",
       "6  distinct_sessions         \n",
       "7  orders                    \n",
       "8  gross_sales               \n",
       "9  bounces                   \n",
       "10 add_to_cart               \n",
       "11 product_page_views        \n",
       "12 search_page_views         \n",
       "13 NA                        \n",
       "14 Requested metrics formulae\n",
       "15 conversion_rate           \n",
       "16 bounce_rate               \n",
       "17 add_to_cart_rate          \n",
       "   ...2                                                                       \n",
       "1  The calendar day                                                           \n",
       "2  Company site visited by users                                              \n",
       "3  0 = returning customer; 1 = new customer; null = neither                   \n",
       "4  The type of device used by a website visitor                               \n",
       "5  The number of distinct website visits; 1 session may have multiple visits  \n",
       "6  The number of distinct website visitors; 1 session may have multiple visits\n",
       "7  The number of website orders                                               \n",
       "8  The total gross sales for website orders                                   \n",
       "9  The number of visits that only viewed one page                             \n",
       "10 The number of visits that added a product to cart                          \n",
       "11 The number of product pages viewed                                         \n",
       "12 The number of search pages viewed                                          \n",
       "13 NA                                                                         \n",
       "14 NA                                                                         \n",
       "15 ='orders'/'visits'                                                         \n",
       "16 ='bounces'/'visits'                                                        \n",
       "17 ='add_to_cart'/visits'                                                     "
      ]
     },
     "metadata": {},
     "output_type": "display_data"
    }
   ],
   "source": [
    "data_reference"
   ]
  },
  {
   "cell_type": "markdown",
   "metadata": {},
   "source": [
    "## Univariate data analysis\n",
    "Below we will perform univariate dataset analysis for our dataset."
   ]
  },
  {
   "cell_type": "markdown",
   "metadata": {},
   "source": [
    "###  Distributions of categorical variables site and new_customer"
   ]
  },
  {
   "cell_type": "code",
   "execution_count": 21,
   "metadata": {},
   "outputs": [
    {
     "data": {
      "image/png": "[encoded data removed]",
      "text/plain": [
       "plot without title"
      ]
     },
     "metadata": {},
     "output_type": "display_data"
    }
   ],
   "source": [
    "# options(repr.plot.width=7, repr.plot.height=7)\n",
    "g1 = ggplot(data=df) + \n",
    "    aes(site,fill=new_customer) + \n",
    "    geom_bar() + \n",
    "    scale_x_discrete() + \n",
    "    labs(title=\"Distribution of 'Company site visited by users' in terms of 'Customer type'\")\n",
    "\n",
    "# options(repr.plot.width=4, repr.plot.height=7)\n",
    "g2 = ggplot(data=df) + \n",
    "    aes(new_customer) + \n",
    "    geom_bar() + \n",
    "    scale_x_discrete() + \n",
    "    labs(title=\"Distribution of 'Customer type'\")\n",
    "\n",
    "figure <- ggarrange(g1, g2,\n",
    "                    labels = c(\"A\", \"B\"),\n",
    "                    ncol = 1, nrow = 2)\n",
    "figure"
   ]
  },
  {
   "cell_type": "markdown",
   "metadata": {},
   "source": [
    "<b>Inference: </b>From the above histograms it is seen that there is a huge numbers of customers visiting Acme website. Also from graph B it is seen that we have almost uniform distribution of customer types."
   ]
  },
  {
   "cell_type": "code",
   "execution_count": 33,
   "metadata": {},
   "outputs": [
    {
     "data": {
      "image/png": "[encoded data removed]",
      "text/plain": [
       "plot without title"
      ]
     },
     "metadata": {},
     "output_type": "display_data"
    }
   ],
   "source": [
    "g1 = ggplot(data=df) + \n",
    "    aes(site,fill=platform) + \n",
    "    geom_bar() + \n",
    "    scale_x_discrete() + \n",
    "    labs(title=\"Distribution of 'Company site visited by users' in terms of 'Platform'\")\n",
    "g2 = ggplot(data=df) + \n",
    "    aes(platform,fill=\"red\") + \n",
    "    geom_bar() + \n",
    "    scale_x_discrete() + \n",
    "    theme(axis.text.x = element_text(angle = 90, hjust = 1)) +\n",
    "    labs(title=\"Distribution of users from different 'Platform' who visit the website\")\n",
    "figure <- ggarrange(g1, g2,\n",
    "                    labels = c(\"A\", \"B\"),\n",
    "                    ncol = 1, nrow = 2)\n",
    "figure"
   ]
  },
  {
   "cell_type": "code",
   "execution_count": 34,
   "metadata": {},
   "outputs": [
    {
     "data": {
      "image/png": "[encoded data removed]",
      "text/plain": [
       "plot without title"
      ]
     },
     "metadata": {},
     "output_type": "display_data"
    }
   ],
   "source": [
    "df$MobileOrDesktop = ifelse(df$platform %in% c(\"Macintosh\",\"MacOSX\",\"Windows\"), \"Desktop\", \"Mobile\")\n",
    "g1 = ggplot(data=df) + \n",
    "    aes(MobileOrDesktop,fill=platform) + \n",
    "    geom_bar() + \n",
    "    scale_x_discrete() + \n",
    "    labs(title=\"Distribution of 'Devices' in terms of 'Platform'\")\n",
    "g1"
   ]
  },
  {
   "cell_type": "markdown",
   "metadata": {},
   "source": [
    "<b>Inference: </b>Most customers visited were through iOS platform followed by Android. This is very much expected as in real world most people belong to either Android or an iOS customers. Also it is seen that the number of people visiting this website through Windows or Linux or MaxOSX (Assuming them to be desktop computers) are significantly lower than mobile users. This gives us a notion that people are mostly logging into the website more through their cellphones than through desktop."
   ]
  },
  {
   "cell_type": "code",
   "execution_count": null,
   "metadata": {},
   "outputs": [],
   "source": []
  }
 ],
 "metadata": {
  "kernelspec": {
   "display_name": "R",
   "language": "R",
   "name": "ir"
  },
  "language_info": {
   "codemirror_mode": "r",
   "file_extension": ".r",
   "mimetype": "text/x-r-source",
   "name": "R",
   "pygments_lexer": "r",
   "version": "3.6.1"
  }
 },
 "nbformat": 4,
 "nbformat_minor": 4
}
