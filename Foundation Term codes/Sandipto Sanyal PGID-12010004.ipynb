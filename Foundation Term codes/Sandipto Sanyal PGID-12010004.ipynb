{
 "cells": [
  {
   "cell_type": "markdown",
   "metadata": {},
   "source": [
    "# Name: Sandipto Sanyal\n",
    "# PGID: 12010004"
   ]
  },
  {
   "cell_type": "markdown",
   "metadata": {},
   "source": [
    "## Import necessary libraries <a id='lib'></a>"
   ]
  },
  {
   "cell_type": "code",
   "execution_count": 25,
   "metadata": {
    "collapsed": true,
    "jupyter": {
     "outputs_hidden": true
    }
   },
   "outputs": [
    {
     "name": "stderr",
     "output_type": "stream",
     "text": [
      "also installing the dependency 'isoband'\n",
      "\n"
     ]
    },
    {
     "name": "stdout",
     "output_type": "stream",
     "text": [
      "\n",
      "  There is a binary version available but the source version is later:\n",
      "        binary source needs_compilation\n",
      "ggplot2  3.2.1  3.3.0             FALSE\n",
      "\n",
      "package 'isoband' successfully unpacked and MD5 sums checked\n",
      "\n",
      "The downloaded binary packages are in\n",
      "\tC:\\Users\\sandipto.sanyal\\AppData\\Local\\Temp\\RtmpAXSaZJ\\downloaded_packages\n"
     ]
    },
    {
     "name": "stderr",
     "output_type": "stream",
     "text": [
      "installing the source package 'ggplot2'\n",
      "\n"
     ]
    }
   ],
   "source": [
    "# install.packages('combinat')\n",
    "# install.packages('gridExtra')\n",
    "install.packages('ggplot2')"
   ]
  },
  {
   "cell_type": "code",
   "execution_count": 15,
   "metadata": {
    "collapsed": true,
    "jupyter": {
     "outputs_hidden": true
    }
   },
   "outputs": [
    {
     "ename": "ERROR",
     "evalue": "Error in library(combinat): there is no package called 'combinat'\n",
     "output_type": "error",
     "traceback": [
      "Error in library(combinat): there is no package called 'combinat'\nTraceback:\n",
      "1. library(combinat)"
     ]
    }
   ],
   "source": [
    "library(repr) # to set the graph sizes\n",
    "library(combinat) # to calculate combinations"
   ]
  },
  {
   "cell_type": "markdown",
   "metadata": {},
   "source": [
    "# Table of Contents\n",
    "1. [Question 1](#q1)\n",
    "1. [Question 2](#q2)\n",
    "1. [Question 3](#q3)\n",
    "1. [Question 4](#q4)\n",
    "1. [Question 5](#q5)\n",
    "1. [Question 6](#q6)\n",
    "1. [Question 7](#q7)\n",
    "1. [Question 8](#q8)\n",
    "1. [Question 9](#q9)"
   ]
  },
  {
   "cell_type": "markdown",
   "metadata": {},
   "source": [
    "# Question 1 <a id='q1'></a>"
   ]
  },
  {
   "cell_type": "markdown",
   "metadata": {},
   "source": [
    "## Given attributes"
   ]
  },
  {
   "cell_type": "code",
   "execution_count": 2,
   "metadata": {
    "collapsed": true,
    "jupyter": {
     "outputs_hidden": true
    }
   },
   "outputs": [],
   "source": [
    "u = 77.0\n",
    "sigma = 3.4\n",
    "## Visualize the distribution\n",
    "# Create a sequence of numbers between 50 and 100 incrementing by 0.01.\n",
    "x <- seq(50, 100, by = .01)\n",
    "# Choose the mean and standard deviation as sigma \n",
    "#to give probability distribution at each point of x\n",
    "y <- dnorm(x, mean = u, sd = sigma)"
   ]
  },
  {
   "cell_type": "markdown",
   "metadata": {},
   "source": [
    "## (a) Probability that random variable is less than 72.6"
   ]
  },
  {
   "cell_type": "code",
   "execution_count": 3,
   "metadata": {
    "collapsed": true,
    "jupyter": {
     "outputs_hidden": true
    }
   },
   "outputs": [
    {
     "data": {
      "text/html": [
       "<span style=white-space:pre-wrap>'Z Score is  -1.29411764705883'</span>"
      ],
      "text/latex": [
       "'Z Score is  -1.29411764705883'"
      ],
      "text/markdown": [
       "<span style=white-space:pre-wrap>'Z Score is  -1.29411764705883'</span>"
      ],
      "text/plain": [
       "[1] \"Z Score is  -1.29411764705883\""
      ]
     },
     "metadata": {},
     "output_type": "display_data"
    },
    {
     "data": {
      "text/html": [
       "<span style=white-space:pre-wrap>'Probability is  0.097812393434633'</span>"
      ],
      "text/latex": [
       "'Probability is  0.097812393434633'"
      ],
      "text/markdown": [
       "<span style=white-space:pre-wrap>'Probability is  0.097812393434633'</span>"
      ],
      "text/plain": [
       "[1] \"Probability is  0.097812393434633\""
      ]
     },
     "metadata": {},
     "output_type": "display_data"
    },
    {
     "data": {
      "image/png": "[encoded data removed]",
      "text/plain": [
       "Plot with title \"random variable is less than 72.6\""
      ]
     },
     "metadata": {},
     "output_type": "display_data"
    }
   ],
   "source": [
    "## Let the random variable is n\n",
    "n = 72.6\n",
    "# set the figure size\n",
    "options(repr.plot.width=4, repr.plot.height=3)\n",
    "plot(x,y, type='l', \n",
    "     main='random variable is less than 72.6',\n",
    "    ylab='frequency')\n",
    "polygon(c(x[x<=n], n), c(y[x<=n], 0), col=\"red\")\n",
    "## Find z score\n",
    "z_score = (n-u)/sigma\n",
    "## Find the p value\n",
    "p = pnorm(z_score)\n",
    "## probability that random variable is (a) less than 72.6\n",
    "probabilities = p\n",
    "paste(c('Z Score is ', z_score), collapse = \" \")\n",
    "paste(c('Probability is ', probabilities), collapse = \" \")"
   ]
  },
  {
   "cell_type": "markdown",
   "metadata": {},
   "source": [
    "## (b) Probability that random variable is greater than 88.5 "
   ]
  },
  {
   "cell_type": "code",
   "execution_count": 4,
   "metadata": {
    "collapsed": true,
    "jupyter": {
     "outputs_hidden": true
    }
   },
   "outputs": [
    {
     "data": {
      "text/html": [
       "<span style=white-space:pre-wrap>'Z Score is  3.38235294117647'</span>"
      ],
      "text/latex": [
       "'Z Score is  3.38235294117647'"
      ],
      "text/markdown": [
       "<span style=white-space:pre-wrap>'Z Score is  3.38235294117647'</span>"
      ],
      "text/plain": [
       "[1] \"Z Score is  3.38235294117647\""
      ]
     },
     "metadata": {},
     "output_type": "display_data"
    },
    {
     "data": {
      "text/html": [
       "<span style=white-space:pre-wrap>'Probability is  0.000359338725646752'</span>"
      ],
      "text/latex": [
       "'Probability is  0.000359338725646752'"
      ],
      "text/markdown": [
       "<span style=white-space:pre-wrap>'Probability is  0.000359338725646752'</span>"
      ],
      "text/plain": [
       "[1] \"Probability is  0.000359338725646752\""
      ]
     },
     "metadata": {},
     "output_type": "display_data"
    },
    {
     "data": {
      "image/png": "[encoded data removed]",
      "text/plain": [
       "Plot with title \"random variable is greater than 88.5\""
      ]
     },
     "metadata": {},
     "output_type": "display_data"
    }
   ],
   "source": [
    "## Let the random variable is n\n",
    "n = 88.5\n",
    "options(repr.plot.width=4, repr.plot.height=3)\n",
    "plot(x,y, type='l', \n",
    "     main='random variable is greater than 88.5',\n",
    "    ylab='frequency')\n",
    "polygon(x=c(n,x[x>=n]), y=c(0, y[x>=n]), col=\"red\")\n",
    "## Find z score\n",
    "z_score = (n-u)/sigma\n",
    "## Find the p value\n",
    "p = pnorm(z_score)\n",
    "## probability that random variable is (a) less than 72.6\n",
    "probabilities = p\n",
    "paste(c('Z Score is ', z_score), collapse = \" \")\n",
    "paste(c('Probability is ', 1-probabilities), collapse = \" \")"
   ]
  },
  {
   "cell_type": "markdown",
   "metadata": {},
   "source": [
    "<b>Interpretation of the graph: </b>We can see from step 4 above that the number 88.4 is more than 3 standard deviations away from our mean. This gives us a probability which is almost equal to 0 and hence no area is shaded by our plot."
   ]
  },
  {
   "cell_type": "markdown",
   "metadata": {},
   "source": [
    "## (c) Probability that random variable is between 81 and 84 "
   ]
  },
  {
   "cell_type": "code",
   "execution_count": 5,
   "metadata": {
    "collapsed": true,
    "jupyter": {
     "outputs_hidden": true
    }
   },
   "outputs": [
    {
     "data": {
      "text/html": [
       "<span style=white-space:pre-wrap>'Z Score 1 is  1.17647058823529 ; Z Score 2 is  2.05882352941176'</span>"
      ],
      "text/latex": [
       "'Z Score 1 is  1.17647058823529 ; Z Score 2 is  2.05882352941176'"
      ],
      "text/markdown": [
       "<span style=white-space:pre-wrap>'Z Score 1 is  1.17647058823529 ; Z Score 2 is  2.05882352941176'</span>"
      ],
      "text/plain": [
       "[1] \"Z Score 1 is  1.17647058823529 ; Z Score 2 is  2.05882352941176\""
      ]
     },
     "metadata": {},
     "output_type": "display_data"
    },
    {
     "data": {
      "text/html": [
       "<span style=white-space:pre-wrap>'Probability is  0.0999478660096137'</span>"
      ],
      "text/latex": [
       "'Probability is  0.0999478660096137'"
      ],
      "text/markdown": [
       "<span style=white-space:pre-wrap>'Probability is  0.0999478660096137'</span>"
      ],
      "text/plain": [
       "[1] \"Probability is  0.0999478660096137\""
      ]
     },
     "metadata": {},
     "output_type": "display_data"
    },
    {
     "data": {
      "image/png": "[encoded data removed]",
      "text/plain": [
       "Plot with title \"random variable is between 81 and 84 \""
      ]
     },
     "metadata": {},
     "output_type": "display_data"
    }
   ],
   "source": [
    "## Let the random variable is in range [n1,n2]\n",
    "n1 = 81; n2= 84\n",
    "options(repr.plot.width=4, repr.plot.height=3)\n",
    "plot(x,y, type='l', \n",
    "     main='random variable is between 81 and 84 ',\n",
    "    ylab='frequency')\n",
    "polygon(x=c(n1,x[n1<=x & x<=n2],n2), y=c(0,y[n1<=x & x<=n2],0), col='red')\n",
    "## Find z score\n",
    "z_score1 = (n1-u)/sigma; z_score2 = (n2-u)/sigma\n",
    "## Find the p value\n",
    "p1 = pnorm(z_score1); p2 = pnorm(z_score2)\n",
    "## probability that random variable is (a) less than 72.6\n",
    "probabilities = p2 - p1\n",
    "paste(c('Z Score 1 is ', z_score1, '; Z Score 2 is ', z_score2), collapse = \" \")\n",
    "paste(c('Probability is ', probabilities), collapse = \" \")"
   ]
  },
  {
   "cell_type": "markdown",
   "metadata": {},
   "source": [
    "# Question 2 <a id='q2'></a>"
   ]
  },
  {
   "cell_type": "markdown",
   "metadata": {},
   "source": [
    "## Given attributes"
   ]
  },
  {
   "cell_type": "code",
   "execution_count": 6,
   "metadata": {
    "collapsed": true,
    "jupyter": {
     "outputs_hidden": true
    }
   },
   "outputs": [],
   "source": [
    "u = 145.0\n",
    "sigma = 12\n",
    "## Visualize the distribution\n",
    "# Create a sequence of numbers between 50 and 100 incrementing by 0.01.\n",
    "x <- seq(100, 200, by = .01)\n",
    "# Choose the mean and standard deviation as sigma \n",
    "#to give probability distribution at each point of x\n",
    "y <- dnorm(x, mean = u, sd = sigma)"
   ]
  },
  {
   "cell_type": "markdown",
   "metadata": {},
   "source": [
    "## (a) Find percentage of car racers whose finish time is between 130 and 160 minutes"
   ]
  },
  {
   "cell_type": "code",
   "execution_count": 7,
   "metadata": {
    "collapsed": true,
    "jupyter": {
     "outputs_hidden": true
    }
   },
   "outputs": [
    {
     "data": {
      "text/html": [
       "<span style=white-space:pre-wrap>'Z Score 1 is  -1.25 ; Z Score 2 is  1.25'</span>"
      ],
      "text/latex": [
       "'Z Score 1 is  -1.25 ; Z Score 2 is  1.25'"
      ],
      "text/markdown": [
       "<span style=white-space:pre-wrap>'Z Score 1 is  -1.25 ; Z Score 2 is  1.25'</span>"
      ],
      "text/plain": [
       "[1] \"Z Score 1 is  -1.25 ; Z Score 2 is  1.25\""
      ]
     },
     "metadata": {},
     "output_type": "display_data"
    },
    {
     "data": {
      "text/html": [
       "<span style=white-space:pre-wrap>'percentage of car racers whose finish time is between 130 and 160 minutes  78.8700452666289 %'</span>"
      ],
      "text/latex": [
       "'percentage of car racers whose finish time is between 130 and 160 minutes  78.8700452666289 \\%'"
      ],
      "text/markdown": [
       "<span style=white-space:pre-wrap>'percentage of car racers whose finish time is between 130 and 160 minutes  78.8700452666289 %'</span>"
      ],
      "text/plain": [
       "[1] \"percentage of car racers whose finish time is between 130 and 160 minutes  78.8700452666289 %\""
      ]
     },
     "metadata": {},
     "output_type": "display_data"
    },
    {
     "data": {
      "image/png": "[encoded data removed]",
      "text/plain": [
       "Plot with title \"random variable is between 81 and 84 \""
      ]
     },
     "metadata": {},
     "output_type": "display_data"
    }
   ],
   "source": [
    "## Let the random variable is in range [n1,n2]\n",
    "n1 = 130; n2= 160\n",
    "options(repr.plot.width=4, repr.plot.height=3)\n",
    "plot(x,y, type='l', \n",
    "     main='random variable is between 81 and 84 ',\n",
    "    ylab='frequency')\n",
    "polygon(x=c(n1,x[n1<=x & x<=n2],n2), y=c(0,y[n1<=x & x<=n2],0), col='red')\n",
    "## Find z score\n",
    "z_score1 = (n1-u)/sigma; z_score2 = (n2-u)/sigma\n",
    "## Find the p value\n",
    "p1 = pnorm(z_score1); p2 = pnorm(z_score2)\n",
    "## probability that random variable is (a) less than 72.6\n",
    "probabilities = p2 - p1\n",
    "paste(c('Z Score 1 is ', z_score1, '; Z Score 2 is ', z_score2), collapse = \" \")\n",
    "paste(c('percentage of car racers whose finish time is between 130 and 160 minutes ', probabilities*100, '%'), collapse = \" \")"
   ]
  },
  {
   "cell_type": "markdown",
   "metadata": {},
   "source": [
    "## (b) Find percentage of car racers whose finish time is less than 130 minutes"
   ]
  },
  {
   "cell_type": "code",
   "execution_count": 8,
   "metadata": {
    "collapsed": true,
    "jupyter": {
     "outputs_hidden": true
    }
   },
   "outputs": [
    {
     "data": {
      "text/html": [
       "<span style=white-space:pre-wrap>'Z Score is  -1.25'</span>"
      ],
      "text/latex": [
       "'Z Score is  -1.25'"
      ],
      "text/markdown": [
       "<span style=white-space:pre-wrap>'Z Score is  -1.25'</span>"
      ],
      "text/plain": [
       "[1] \"Z Score is  -1.25\""
      ]
     },
     "metadata": {},
     "output_type": "display_data"
    },
    {
     "data": {
      "text/html": [
       "<span style=white-space:pre-wrap>'percentage of car racers whose finish time is less than 130 minutes  10.5649773666855 %'</span>"
      ],
      "text/latex": [
       "'percentage of car racers whose finish time is less than 130 minutes  10.5649773666855 \\%'"
      ],
      "text/markdown": [
       "<span style=white-space:pre-wrap>'percentage of car racers whose finish time is less than 130 minutes  10.5649773666855 %'</span>"
      ],
      "text/plain": [
       "[1] \"percentage of car racers whose finish time is less than 130 minutes  10.5649773666855 %\""
      ]
     },
     "metadata": {},
     "output_type": "display_data"
    },
    {
     "data": {
      "image/png": "[encoded data removed]",
      "text/plain": [
       "Plot with title \"random variable is less than 72.6\""
      ]
     },
     "metadata": {},
     "output_type": "display_data"
    }
   ],
   "source": [
    "## Let the random variable is n\n",
    "n = 130\n",
    "# set the figure size\n",
    "options(repr.plot.width=4, repr.plot.height=3)\n",
    "plot(x,y, type='l', \n",
    "     main='random variable is less than 72.6',\n",
    "    ylab='frequency')\n",
    "polygon(c(x[x<=n], n), c(y[x<=n], 0), col=\"red\")\n",
    "## Find z score\n",
    "z_score = (n-u)/sigma\n",
    "## Find the p value\n",
    "p = pnorm(z_score)\n",
    "## probability that random variable is (a) less than 72.6\n",
    "probabilities = p\n",
    "paste(c('Z Score is ', z_score), collapse = \" \")\n",
    "paste(c('percentage of car racers whose finish time is less than 130 minutes ', probabilities*100, '%'), collapse = \" \")"
   ]
  },
  {
   "cell_type": "markdown",
   "metadata": {},
   "source": [
    "# Question 3 <a id='q3'></a>"
   ]
  },
  {
   "cell_type": "markdown",
   "metadata": {},
   "source": [
    "Since the experiment is of binary outcome <b>True or False</b> and also has more than 1 trials = 15 it is a case of binomial distribution with n = no. of outcomes = 15, probability of success of each outcome = p = 0.5"
   ]
  },
  {
   "cell_type": "markdown",
   "metadata": {},
   "source": [
    "## (a) What is the probability that the student got first five questions correct.\n",
    "This means we have to find P(C,C,C,C,C,W,W,W,W,W,W,W,W,W,W). For each question probability of success is 0.5. So for five questions it is 0.5<sup>5</sup> and for rest of the 10 questions probabilit of failure will be (1-0.5)<sup>10</sup>. <br>\n",
    "Since we are wanting probability that the student got first 5 question correct at a row we will calculate the required probability as <b>0.5<sup>5</sup> x (1-0.5)<sup>10</sup></b>"
   ]
  },
  {
   "cell_type": "code",
   "execution_count": 9,
   "metadata": {
    "collapsed": true,
    "jupyter": {
     "outputs_hidden": true
    }
   },
   "outputs": [
    {
     "data": {
      "text/html": [
       "<span style=white-space:pre-wrap>'probability that the student got first five questions correct  3.0517578125e-05'</span>"
      ],
      "text/latex": [
       "'probability that the student got first five questions correct  3.0517578125e-05'"
      ],
      "text/markdown": [
       "<span style=white-space:pre-wrap>'probability that the student got first five questions correct  3.0517578125e-05'</span>"
      ],
      "text/plain": [
       "[1] \"probability that the student got first five questions correct  3.0517578125e-05\""
      ]
     },
     "metadata": {},
     "output_type": "display_data"
    }
   ],
   "source": [
    "probabilities = (0.5)**5*(0.5)**10\n",
    "paste(c('probability that the student got first five questions correct ', probabilities), collapse = \" \")"
   ]
  },
  {
   "cell_type": "markdown",
   "metadata": {},
   "source": [
    "## (b) What is the probability that the student got five questions correct\n",
    "For this we want to know the probability that the student got any of the 5 question correct. Obviously this probability is expected to be much higher than what we found in previous question.\n",
    "1. Firstly we are choosing any five questions out of 15 questions. So no. of choices will be <sup>15</sup>C<sub>5</sub>.\n",
    "1. Now for each question probability of success is 0.5. So for five questions it is 0.5<sup>5</sup> and for rest of the 10 questions probabilit of failure will be (1-0.5)<sup>10</sup>.\n",
    "1. Thus total probability of our student getting <b>any</b> 5 questions correct is <b><sup>15</sup>C<sub>5</sub> x 0.5<sup>5</sup> x (1-0.5)<sup>10</sup>"
   ]
  },
  {
   "cell_type": "code",
   "execution_count": 10,
   "metadata": {
    "collapsed": true,
    "jupyter": {
     "outputs_hidden": true
    }
   },
   "outputs": [
    {
     "data": {
      "text/html": [
       "<span style=white-space:pre-wrap>'probability that the student got five questions correct  0.091644287109375'</span>"
      ],
      "text/latex": [
       "'probability that the student got five questions correct  0.091644287109375'"
      ],
      "text/markdown": [
       "<span style=white-space:pre-wrap>'probability that the student got five questions correct  0.091644287109375'</span>"
      ],
      "text/plain": [
       "[1] \"probability that the student got five questions correct  0.091644287109375\""
      ]
     },
     "metadata": {},
     "output_type": "display_data"
    }
   ],
   "source": [
    "nCr = dim(combn(15,5))[2]\n",
    "probabilities = nCr*0.5^5*0.5^10\n",
    "paste(c('probability that the student got five questions correct ', probabilities), collapse = \" \")"
   ]
  },
  {
   "cell_type": "markdown",
   "metadata": {},
   "source": [
    "### Visualize the above using R plot\n",
    "Also we can calculate the same using R package as below"
   ]
  },
  {
   "cell_type": "code",
   "execution_count": 11,
   "metadata": {
    "collapsed": true,
    "jupyter": {
     "outputs_hidden": true
    }
   },
   "outputs": [
    {
     "data": {
      "text/html": [
       "<span style=white-space:pre-wrap>'probability that the student got five questions correct  0.0916442871093751'</span>"
      ],
      "text/latex": [
       "'probability that the student got five questions correct  0.0916442871093751'"
      ],
      "text/markdown": [
       "<span style=white-space:pre-wrap>'probability that the student got five questions correct  0.0916442871093751'</span>"
      ],
      "text/plain": [
       "[1] \"probability that the student got five questions correct  0.0916442871093751\""
      ]
     },
     "metadata": {},
     "output_type": "display_data"
    },
    {
     "data": {
      "image/png": "[encoded data removed]",
      "text/plain": [
       "Plot with title \"Binomial distribution\""
      ]
     },
     "metadata": {},
     "output_type": "display_data"
    }
   ],
   "source": [
    "no_of_trials = 15; no_of_success = 5\n",
    "# Create a sequence of 15 numbers which denotes our maximum number of trials and each denotes number of successes\n",
    "#which are incremented by 1.\n",
    "x <- seq(0,no_of_trials,by = 1)\n",
    "# Create the binomial distribution.size is the number of trials, prob= Probability of success \n",
    "y <- dbinom(x=x, size=no_of_trials, prob=0.5)\n",
    "# set the figure size\n",
    "options(repr.plot.width=4, repr.plot.height=4)\n",
    "plot(x,y, type='o', \n",
    "     main='Binomial distribution',\n",
    "     xlab='No. of successes',\n",
    "    ylab='Probability of getting x number of successes')\n",
    "abline(a=NULL, b=NULL, h=y[x==no_of_success], v=no_of_success, col='red')\n",
    "probabilities = y[x==no_of_success]\n",
    "paste(c('probability that the student got five questions correct ', probabilities), collapse = \" \")"
   ]
  },
  {
   "cell_type": "markdown",
   "metadata": {},
   "source": [
    "# Question 4 <a id='q4'></a>\n",
    "We are given probability of marks being in range 35 and 42 as 68%. Below are the thought proces: <br>\n",
    "1. We know in a normal distribution 68% of the data lies between +/-1 standard deviation.\n",
    "1. So mean - 1sd = 35 and mean + 1sd = 42.\n",
    "1. Solving them mean = (35+42)/2 = <b>38.5</b>\n",
    "1. Standard deviation = 42 - mean = <b>3.5</b>"
   ]
  },
  {
   "cell_type": "markdown",
   "metadata": {},
   "source": [
    "# Question 5 <a id='q5'></a>\n",
    "Let's consider the two event as A as clearing the first exam and B as clearing the second exam. Its given that:<br>\n",
    "1. P(A <span>&#8745;</span> B) = 30%\n",
    "1. P(A) = 55%\n",
    "1. So we are asked to find P(B|A) = P(A <span>&#8745;</span> B)/P(A) = 30/55 = 0.55 = <b>54.54%</b>"
   ]
  },
  {
   "cell_type": "markdown",
   "metadata": {},
   "source": [
    "# Question 6 <a id='q6'></a>\n",
    "Let's consider the two event as TV as having a TV and DVD as having a DVD. Its given that:<br>\n",
    "1. P(TV <span>&#8745;</span> DVD) = 62%\n",
    "1. P(TV) = 82%\n",
    "1. So we are asked to find P(DVD|TV) = P(TV <span>&#8745;</span> DVD)/P(TV) = 62/82 = 0.756 = <b>75.6%</b>"
   ]
  },
  {
   "cell_type": "markdown",
   "metadata": {},
   "source": [
    "# Question 7 <a id='q7'></a>\n",
    "Given we have coin toss means we have two ouputs and more than one trials we are dealing with a random variable which follows binomial distribution. The following data is given:\n",
    "1. no. of trials = n = 3\n",
    "1. Probability of success i.e. having Head = p = 0.5"
   ]
  },
  {
   "cell_type": "markdown",
   "metadata": {},
   "source": [
    "## (a) probability of getting all three heads\n",
    "We are asked to find <b>P(HHH) = 0.5^3 = 0.125"
   ]
  },
  {
   "cell_type": "markdown",
   "metadata": {},
   "source": [
    "## (b) probability of getting exactly 1 head\n",
    "For this\n",
    "1. We first have <sup>3</sup>C<sub>1</sub> choices for getting only 1 head in all 3 trials.\n",
    "1. Probability of getting 1 head is 0.5\n",
    "1. Probability of not getting other tosses as head is (1-0.5)<sup>2</sup><br>\n",
    "\n",
    "So the required probabality = <b><sup>3</sup>C<sub>1</sub> x 0.5<sup>1</sup> x (1-0.5)<sup>2</sup> = 0.375"
   ]
  },
  {
   "cell_type": "code",
   "execution_count": 9,
   "metadata": {
    "collapsed": true,
    "jupyter": {
     "outputs_hidden": true
    }
   },
   "outputs": [
    {
     "data": {
      "text/html": [
       "0.375"
      ],
      "text/latex": [
       "0.375"
      ],
      "text/markdown": [
       "0.375"
      ],
      "text/plain": [
       "[1] 0.375"
      ]
     },
     "metadata": {},
     "output_type": "display_data"
    }
   ],
   "source": [
    "3*0.5*0.5^2"
   ]
  },
  {
   "cell_type": "markdown",
   "metadata": {},
   "source": [
    "## (c) Given that you have seen exactly one head, what is the probability of getting at least two heads?\n",
    "- P(getting at least two heads) = P(getting exactly two heads) + P(getting all heads) = <b><sup>3</sup>C<sub>2</sub> x 0.5<sup>2</sup> x (1-0.5)<sup>1</sup> + <sup>3</sup>C<sub>3</sub> x 0.5<sup>3</sup> x (1-0.5)<sup>0</sup> = 0.5"
   ]
  },
  {
   "cell_type": "code",
   "execution_count": 9,
   "metadata": {
    "collapsed": true,
    "jupyter": {
     "outputs_hidden": true
    }
   },
   "outputs": [
    {
     "data": {
      "text/html": [
       "0.5"
      ],
      "text/latex": [
       "0.5"
      ],
      "text/markdown": [
       "0.5"
      ],
      "text/plain": [
       "[1] 0.5"
      ]
     },
     "metadata": {},
     "output_type": "display_data"
    }
   ],
   "source": [
    "dim(combn(3,2))[2]*0.5^2*0.5^1 + dim(combn(3,3))[2]*0.5^3*0.5^0"
   ]
  },
  {
   "cell_type": "markdown",
   "metadata": {},
   "source": [
    "# Question 8 <a id='q8'></a>\n",
    "Given attributes:\n",
    " - u1 = 1200\n",
    " - sig1 = 90000\n",
    " - u2 = 1800\n",
    " - sig2 = 160000"
   ]
  },
  {
   "cell_type": "markdown",
   "metadata": {},
   "source": [
    "## Visualize the normal distributions\n",
    "Here we will visualize the above normal distributions for a better understanding. Considering the following point that the lowest amount is 0. So our graph will start froms x = 0."
   ]
  },
  {
   "cell_type": "code",
   "execution_count": 1,
   "metadata": {},
   "outputs": [],
   "source": [
    "scaler = 1\n",
    "u1 = 1200/scaler\n",
    "sig1 = 90000/scaler\n",
    "u2 = 1800/scaler\n",
    "sig2 = 160000/scaler\n",
    "x = seq(0,500000/scaler, by=1)\n",
    "y1 = dnorm(x,mean=u1, sd=sig1)\n",
    "y2 = dnorm(x,mean=u2, sd=sig2)"
   ]
  },
  {
   "cell_type": "code",
   "execution_count": 2,
   "metadata": {},
   "outputs": [
    {
     "data": {
      "image/png": "[encoded data removed]",
      "text/plain": [
       "plot without title"
      ]
     },
     "metadata": {},
     "output_type": "display_data"
    }
   ],
   "source": [
    "options(repr.plot.width=5, repr.plot.height=5)\n",
    "plot(x,y1,type=\"l\",col=\"red\", xlab='Amount in INR of claims filed', ylab='Probability of each agent')\n",
    "lines(x,y2,col=\"blue\")\n",
    "legend(x=x[400000], y=y1[1], legend=c(\"Agent 1\", \"Agent 2\"),\n",
    "       col=c(\"red\", \"blue\"), lty=1:1, cex=0.8)"
   ]
  },
  {
   "cell_type": "markdown",
   "metadata": {},
   "source": [
    "## Inference\n",
    "So from the above plot it is seen that for the 2nd agent a part of the graph is below the first agent. Lets shade that area to visualize as per the question given."
   ]
  },
  {
   "cell_type": "code",
   "execution_count": 78,
   "metadata": {},
   "outputs": [
    {
     "data": {
      "image/png": "[encoded data removed]",
      "text/plain": [
       "plot without title"
      ]
     },
     "metadata": {},
     "output_type": "display_data"
    }
   ],
   "source": [
    "options(repr.plot.width=5, repr.plot.height=5)\n",
    "plot(x,y1,type=\"l\",col=\"red\", xlab='Amount in INR of claims filed', ylab='Probability of each agent')\n",
    "lines(x,y2,col=\"blue\")\n",
    "legend(x=x[400000], y=y1[1], legend=c(\"Agent 1\", \"Agent 2\"),\n",
    "       col=c(\"red\", \"blue\"), lty=1:1, cex=0.8)\n",
    "polygon(x=c(0,x[y2<=y1],x[y2>=y1][1]), y=c(0,y2[y2<=y1],0), col='blue')"
   ]
  },
  {
   "cell_type": "markdown",
   "metadata": {},
   "source": [
    "## Calculate the probability or the area of the above shaded region\n",
    "Now we will just have to find the probability of the above shaded region. <br>\n",
    "This will be given as:<br>\n",
    "P(Agent2 sales < Agennt1) = pnorm(x[y2>=y1][1], mean=u2, sd=sig2) - pnorm(0, mean=u2, sd=sig2)"
   ]
  },
  {
   "cell_type": "code",
   "execution_count": 73,
   "metadata": {},
   "outputs": [
    {
     "data": {
      "text/html": [
       "0.270056807904418"
      ],
      "text/latex": [
       "0.270056807904418"
      ],
      "text/markdown": [
       "0.270056807904418"
      ],
      "text/plain": [
       "[1] 0.2700568"
      ]
     },
     "metadata": {},
     "output_type": "display_data"
    }
   ],
   "source": [
    "pnorm(x[y2>=y1][1], mean=u2, sd=sig2) - pnorm(0, mean=u2, sd=sig2)"
   ]
  },
  {
   "cell_type": "markdown",
   "metadata": {},
   "source": [
    "# Question 9 <a id='q9'></a>\n",
    "Here we have two sets having color mix of M&Ms as follows:\n",
    " - 1994: (30% Brown, 20% Yellow, 20% Red, 10% Green, 10% Orange, 10% Tan)\n",
    " - 1995 and afterwards: (24% Blue, 20% Green, 16% Orange, 14% Yellow, 13% Red, 13% Brown)\n",
    "\n",
    "So we have to find the probability of P(Bag from 1994|M&M is yellow).<br>\n",
    "From total probability theorem P(M&M is yellow) = P(M&M is yellow|Bag from 1994) x P(Bag from 1994) + P(M&M is yellow|Bag <b>Not</b> from 1994) x P(Bag <b>Not</b> from 1994) = 0.2 * 0.5 + 0.14 * 0.5 = 0.17\n",
    "<br><br>\n",
    "By Bayes theorem we know that P(Bag from 1994|M&M is yellow) = P(M&M is yellow|Bag from 1994).P(Bag from 1994)/P(M&M is yellow) = (0.2 * 0.5)/0.17 = 0.588"
   ]
  },
  {
   "cell_type": "code",
   "execution_count": 80,
   "metadata": {},
   "outputs": [
    {
     "data": {
      "text/html": [
       "0.588235294117647"
      ],
      "text/latex": [
       "0.588235294117647"
      ],
      "text/markdown": [
       "0.588235294117647"
      ],
      "text/plain": [
       "[1] 0.5882353"
      ]
     },
     "metadata": {},
     "output_type": "display_data"
    }
   ],
   "source": [
    "(0.2 * 0.5)/0.17"
   ]
  },
  {
   "cell_type": "markdown",
   "metadata": {},
   "source": [
    "# Question 10 <a id='q10'></a>"
   ]
  },
  {
   "cell_type": "markdown",
   "metadata": {},
   "source": [
    "Import and view first 6 rows of the dataset. Since we have dates we will suppres R converting strings to Factors as it will cause issues with date conversion."
   ]
  },
  {
   "cell_type": "code",
   "execution_count": 12,
   "metadata": {},
   "outputs": [
    {
     "data": {
      "text/html": [
       "<table>\n",
       "<thead><tr><th scope=col>Date</th><th scope=col>Open</th><th scope=col>High</th><th scope=col>Low</th><th scope=col>Close</th><th scope=col>Adj.Close</th><th scope=col>Volume</th></tr></thead>\n",
       "<tbody>\n",
       "\t<tr><td>2020-01-14</td><td>115.47    </td><td>116.21    </td><td>115.13    </td><td>116.18    </td><td>116.18    </td><td> 6585800  </td></tr>\n",
       "\t<tr><td>2020-01-15</td><td>114.63    </td><td>115.87    </td><td>114.52    </td><td>115.28    </td><td>115.28    </td><td> 7454200  </td></tr>\n",
       "\t<tr><td>2020-01-16</td><td>115.50    </td><td>115.93    </td><td>115.28    </td><td>115.90    </td><td>115.90    </td><td> 5369400  </td></tr>\n",
       "\t<tr><td>2020-01-17</td><td>116.05    </td><td>116.30    </td><td>114.64    </td><td>114.96    </td><td>114.96    </td><td>10045000  </td></tr>\n",
       "\t<tr><td>2020-01-21</td><td>114.59    </td><td>115.69    </td><td>114.52    </td><td>115.59    </td><td>115.59    </td><td> 7353700  </td></tr>\n",
       "\t<tr><td>2020-01-22</td><td>115.22    </td><td>116.53    </td><td>115.18    </td><td>116.10    </td><td>116.10    </td><td> 4926100  </td></tr>\n",
       "</tbody>\n",
       "</table>\n"
      ],
      "text/latex": [
       "\\begin{tabular}{r|lllllll}\n",
       " Date & Open & High & Low & Close & Adj.Close & Volume\\\\\n",
       "\\hline\n",
       "\t 2020-01-14 & 115.47     & 116.21     & 115.13     & 116.18     & 116.18     &  6585800  \\\\\n",
       "\t 2020-01-15 & 114.63     & 115.87     & 114.52     & 115.28     & 115.28     &  7454200  \\\\\n",
       "\t 2020-01-16 & 115.50     & 115.93     & 115.28     & 115.90     & 115.90     &  5369400  \\\\\n",
       "\t 2020-01-17 & 116.05     & 116.30     & 114.64     & 114.96     & 114.96     & 10045000  \\\\\n",
       "\t 2020-01-21 & 114.59     & 115.69     & 114.52     & 115.59     & 115.59     &  7353700  \\\\\n",
       "\t 2020-01-22 & 115.22     & 116.53     & 115.18     & 116.10     & 116.10     &  4926100  \\\\\n",
       "\\end{tabular}\n"
      ],
      "text/markdown": [
       "\n",
       "| Date | Open | High | Low | Close | Adj.Close | Volume |\n",
       "|---|---|---|---|---|---|---|\n",
       "| 2020-01-14 | 115.47     | 116.21     | 115.13     | 116.18     | 116.18     |  6585800   |\n",
       "| 2020-01-15 | 114.63     | 115.87     | 114.52     | 115.28     | 115.28     |  7454200   |\n",
       "| 2020-01-16 | 115.50     | 115.93     | 115.28     | 115.90     | 115.90     |  5369400   |\n",
       "| 2020-01-17 | 116.05     | 116.30     | 114.64     | 114.96     | 114.96     | 10045000   |\n",
       "| 2020-01-21 | 114.59     | 115.69     | 114.52     | 115.59     | 115.59     |  7353700   |\n",
       "| 2020-01-22 | 115.22     | 116.53     | 115.18     | 116.10     | 116.10     |  4926100   |\n",
       "\n"
      ],
      "text/plain": [
       "  Date       Open   High   Low    Close  Adj.Close Volume  \n",
       "1 2020-01-14 115.47 116.21 115.13 116.18 116.18     6585800\n",
       "2 2020-01-15 114.63 115.87 114.52 115.28 115.28     7454200\n",
       "3 2020-01-16 115.50 115.93 115.28 115.90 115.90     5369400\n",
       "4 2020-01-17 116.05 116.30 114.64 114.96 114.96    10045000\n",
       "5 2020-01-21 114.59 115.69 114.52 115.59 115.59     7353700\n",
       "6 2020-01-22 115.22 116.53 115.18 116.10 116.10     4926100"
      ]
     },
     "metadata": {},
     "output_type": "display_data"
    }
   ],
   "source": [
    "walmart_df = read.csv('datasets/WMT.csv', stringsAsFactors = FALSE)\n",
    "head(walmart_df)"
   ]
  },
  {
   "cell_type": "markdown",
   "metadata": {},
   "source": [
    "## See the structure of the dataframe\n",
    "This we will do to check how R is parsing each column of our imported dataframe"
   ]
  },
  {
   "cell_type": "code",
   "execution_count": 13,
   "metadata": {},
   "outputs": [
    {
     "name": "stdout",
     "output_type": "stream",
     "text": [
      "'data.frame':\t42 obs. of  7 variables:\n",
      " $ Date     : chr  \"2020-01-14\" \"2020-01-15\" \"2020-01-16\" \"2020-01-17\" ...\n",
      " $ Open     : num  115 115 116 116 115 ...\n",
      " $ High     : num  116 116 116 116 116 ...\n",
      " $ Low      : num  115 115 115 115 115 ...\n",
      " $ Close    : num  116 115 116 115 116 ...\n",
      " $ Adj.Close: num  116 115 116 115 116 ...\n",
      " $ Volume   : int  6585800 7454200 5369400 10045000 7353700 4926100 4305100 4383400 7018400 5270200 ...\n"
     ]
    }
   ],
   "source": [
    "str(walmart_df)"
   ]
  },
  {
   "cell_type": "markdown",
   "metadata": {},
   "source": [
    "<b>Inference: </b> The column date was parsed as chr. Let's convert that into date format."
   ]
  },
  {
   "cell_type": "code",
   "execution_count": 14,
   "metadata": {},
   "outputs": [
    {
     "name": "stdout",
     "output_type": "stream",
     "text": [
      "'data.frame':\t42 obs. of  7 variables:\n",
      " $ Date     : Date, format: \"2020-01-14\" \"2020-01-15\" ...\n",
      " $ Open     : num  115 115 116 116 115 ...\n",
      " $ High     : num  116 116 116 116 116 ...\n",
      " $ Low      : num  115 115 115 115 115 ...\n",
      " $ Close    : num  116 115 116 115 116 ...\n",
      " $ Adj.Close: num  116 115 116 115 116 ...\n",
      " $ Volume   : int  6585800 7454200 5369400 10045000 7353700 4926100 4305100 4383400 7018400 5270200 ...\n"
     ]
    }
   ],
   "source": [
    "walmart_df$Date = as.Date(walmart_df$Date, format=\"%Y-%m-%d\")\n",
    "str(walmart_df)"
   ]
  },
  {
   "cell_type": "markdown",
   "metadata": {},
   "source": [
    "## (a) Calculate the mean and the standard deviation of the stock prices."
   ]
  },
  {
   "cell_type": "code",
   "execution_count": 15,
   "metadata": {},
   "outputs": [
    {
     "name": "stdout",
     "output_type": "stream",
     "text": [
      "[1] \"Mean of Open: \"   \"115.022618928571\" \"SD Open: \"        \"2.87195396912257\"\n",
      "[1] \"Mean of High: \"   \"116.715952380952\" \"SD High: \"        \"2.15019838837934\"\n",
      "[1] \"Mean of Low: \"    \"113.819524119048\" \"SD Low: \"         \"3.39037204962064\"\n",
      "[1] \"Mean of Close: \"  \"115.450952071429\" \"SD Close: \"       \"2.7758130897122\" \n"
     ]
    }
   ],
   "source": [
    "print(c(\"Mean of Open: \", mean(walmart_df$Open), \"SD Open: \", sd(walmart_df$Open)))\n",
    "print(c(\"Mean of High: \", mean(walmart_df$High), \"SD High: \", sd(walmart_df$High)))\n",
    "print(c(\"Mean of Low: \", mean(walmart_df$Low), \"SD Low: \", sd(walmart_df$Low)))\n",
    "print(c(\"Mean of Close: \", mean(walmart_df$Close), \"SD Close: \", sd(walmart_df$Close)))"
   ]
  },
  {
   "cell_type": "markdown",
   "metadata": {},
   "source": [
    "## (b) Get the corresponding data for Sears and calculate the mean and the standard deviation"
   ]
  },
  {
   "cell_type": "markdown",
   "metadata": {},
   "source": [
    "Import sears holding dataset and view first 6 rows"
   ]
  },
  {
   "cell_type": "code",
   "execution_count": 16,
   "metadata": {},
   "outputs": [
    {
     "data": {
      "text/html": [
       "<table>\n",
       "<thead><tr><th scope=col>Date</th><th scope=col>Close.Last</th><th scope=col>Volume</th><th scope=col>Open</th><th scope=col>High</th><th scope=col>Low</th></tr></thead>\n",
       "<tbody>\n",
       "\t<tr><td>03/13/2020</td><td> $0.1637  </td><td>402786    </td><td> $0.1625  </td><td> $0.1969  </td><td> $0.1525  </td></tr>\n",
       "\t<tr><td>03/12/2020</td><td> $0.1595  </td><td>501081    </td><td> $0.16    </td><td> $0.1788  </td><td> $0.155   </td></tr>\n",
       "\t<tr><td>03/11/2020</td><td> $0.1702  </td><td>252180    </td><td> $0.1785  </td><td> $0.1899  </td><td> $0.1611  </td></tr>\n",
       "\t<tr><td>03/10/2020</td><td> $0.1751  </td><td>296093    </td><td> $0.198   </td><td> $0.198   </td><td> $0.175   </td></tr>\n",
       "\t<tr><td>03/09/2020</td><td> $0.186   </td><td>425914    </td><td> $0.2     </td><td> $0.225   </td><td> $0.185   </td></tr>\n",
       "\t<tr><td>03/06/2020</td><td> $0.2049  </td><td>128349    </td><td> $0.1955  </td><td> $0.23    </td><td> $0.1955  </td></tr>\n",
       "</tbody>\n",
       "</table>\n"
      ],
      "text/latex": [
       "\\begin{tabular}{r|llllll}\n",
       " Date & Close.Last & Volume & Open & High & Low\\\\\n",
       "\\hline\n",
       "\t 03/13/2020 &  \\$0.1637 & 402786     &  \\$0.1625 &  \\$0.1969 &  \\$0.1525\\\\\n",
       "\t 03/12/2020 &  \\$0.1595 & 501081     &  \\$0.16   &  \\$0.1788 &  \\$0.155 \\\\\n",
       "\t 03/11/2020 &  \\$0.1702 & 252180     &  \\$0.1785 &  \\$0.1899 &  \\$0.1611\\\\\n",
       "\t 03/10/2020 &  \\$0.1751 & 296093     &  \\$0.198  &  \\$0.198  &  \\$0.175 \\\\\n",
       "\t 03/09/2020 &  \\$0.186  & 425914     &  \\$0.2    &  \\$0.225  &  \\$0.185 \\\\\n",
       "\t 03/06/2020 &  \\$0.2049 & 128349     &  \\$0.1955 &  \\$0.23   &  \\$0.1955\\\\\n",
       "\\end{tabular}\n"
      ],
      "text/markdown": [
       "\n",
       "| Date | Close.Last | Volume | Open | High | Low |\n",
       "|---|---|---|---|---|---|\n",
       "| 03/13/2020 |  $0.1637   | 402786     |  $0.1625   |  $0.1969   |  $0.1525   |\n",
       "| 03/12/2020 |  $0.1595   | 501081     |  $0.16     |  $0.1788   |  $0.155    |\n",
       "| 03/11/2020 |  $0.1702   | 252180     |  $0.1785   |  $0.1899   |  $0.1611   |\n",
       "| 03/10/2020 |  $0.1751   | 296093     |  $0.198    |  $0.198    |  $0.175    |\n",
       "| 03/09/2020 |  $0.186    | 425914     |  $0.2      |  $0.225    |  $0.185    |\n",
       "| 03/06/2020 |  $0.2049   | 128349     |  $0.1955   |  $0.23     |  $0.1955   |\n",
       "\n"
      ],
      "text/plain": [
       "  Date       Close.Last Volume Open     High     Low     \n",
       "1 03/13/2020  $0.1637   402786  $0.1625  $0.1969  $0.1525\n",
       "2 03/12/2020  $0.1595   501081  $0.16    $0.1788  $0.155 \n",
       "3 03/11/2020  $0.1702   252180  $0.1785  $0.1899  $0.1611\n",
       "4 03/10/2020  $0.1751   296093  $0.198   $0.198   $0.175 \n",
       "5 03/09/2020  $0.186    425914  $0.2     $0.225   $0.185 \n",
       "6 03/06/2020  $0.2049   128349  $0.1955  $0.23    $0.1955"
      ]
     },
     "metadata": {},
     "output_type": "display_data"
    }
   ],
   "source": [
    "shld_df = read.csv('datasets//SHLD.csv', stringsAsFactors = FALSE)\n",
    "head(shld_df)"
   ]
  },
  {
   "cell_type": "code",
   "execution_count": 18,
   "metadata": {},
   "outputs": [
    {
     "name": "stdout",
     "output_type": "stream",
     "text": [
      "'data.frame':\t125 obs. of  6 variables:\n",
      " $ Date      : chr  \"03/13/2020\" \"03/12/2020\" \"03/11/2020\" \"03/10/2020\" ...\n",
      " $ Close.Last: chr  \" $0.1637\" \" $0.1595\" \" $0.1702\" \" $0.1751\" ...\n",
      " $ Volume    : int  402786 501081 252180 296093 425914 128349 121624 131564 218604 325051 ...\n",
      " $ Open      : chr  \" $0.1625\" \" $0.16\" \" $0.1785\" \" $0.198\" ...\n",
      " $ High      : chr  \" $0.1969\" \" $0.1788\" \" $0.1899\" \" $0.198\" ...\n",
      " $ Low       : chr  \" $0.1525\" \" $0.155\" \" $0.1611\" \" $0.175\" ...\n"
     ]
    }
   ],
   "source": [
    "str(shld_df)"
   ]
  },
  {
   "cell_type": "markdown",
   "metadata": {},
   "source": [
    "<b>Inference: </b>Two problems with this dataset are:\n",
    " - Dates are characters\n",
    " - with every financial column value the \\$ sign is given. This will cause issues with analysis. Let's clean that up first."
   ]
  },
  {
   "cell_type": "code",
   "execution_count": 19,
   "metadata": {},
   "outputs": [
    {
     "name": "stdout",
     "output_type": "stream",
     "text": [
      "'data.frame':\t125 obs. of  6 variables:\n",
      " $ Date      : Date, format: \"2020-03-13\" \"2020-03-12\" ...\n",
      " $ Close.Last: num  0.164 0.16 0.17 0.175 0.186 ...\n",
      " $ Volume    : int  402786 501081 252180 296093 425914 128349 121624 131564 218604 325051 ...\n",
      " $ Open      : num  0.163 0.16 0.178 0.198 0.2 ...\n",
      " $ High      : num  0.197 0.179 0.19 0.198 0.225 ...\n",
      " $ Low       : num  0.152 0.155 0.161 0.175 0.185 ...\n"
     ]
    }
   ],
   "source": [
    "shld_df$Date = as.Date(shld_df$Date, format='%m/%d/%Y')\n",
    "shld_df$Close.Last = as.numeric(gsub(\"\\\\$\", \"\", shld_df$Close.Last))\n",
    "shld_df$Open = as.numeric(gsub(\"\\\\$\", \"\", shld_df$Open))\n",
    "shld_df$High = as.numeric(gsub(\"\\\\$\", \"\", shld_df$High))\n",
    "shld_df$Low = as.numeric(gsub(\"\\\\$\", \"\", shld_df$Low))\n",
    "str(shld_df)"
   ]
  },
  {
   "cell_type": "markdown",
   "metadata": {},
   "source": [
    "<b>Note: </b>Before proceeding further let's make sure we are working with the same timeframes of both the datasets."
   ]
  },
  {
   "cell_type": "markdown",
   "metadata": {},
   "source": [
    "<b>Check for Sears"
   ]
  },
  {
   "cell_type": "code",
   "execution_count": 31,
   "metadata": {},
   "outputs": [
    {
     "name": "stdout",
     "output_type": "stream",
     "text": [
      "Time difference of 179 days\n",
      "[1] \"Maximum date:\"  \"18334\"          \"Minimum date: \" \"18155\"         \n"
     ]
    }
   ],
   "source": [
    "print(max(shld_df$Date) - min(shld_df$Date))\n",
    "print(c(\"Maximum date:\", max(shld_df$Date), \"Minimum date: \", min(shld_df$Date)))"
   ]
  },
  {
   "cell_type": "markdown",
   "metadata": {},
   "source": [
    "<b>Check for Walmart"
   ]
  },
  {
   "cell_type": "code",
   "execution_count": 32,
   "metadata": {},
   "outputs": [
    {
     "name": "stdout",
     "output_type": "stream",
     "text": [
      "Time difference of 59 days\n",
      "[1] \"Maximum date:\"  \"18334\"          \"Minimum date: \" \"18275\"         \n"
     ]
    }
   ],
   "source": [
    "print(max(walmart_df$Date) - min(walmart_df$Date))\n",
    "print(c(\"Maximum date:\", max(walmart_df$Date), \"Minimum date: \", min(walmart_df$Date)))"
   ]
  },
  {
   "cell_type": "markdown",
   "metadata": {},
   "source": [
    "<b>Inference: </b>Clearly it is seen that we are having more data in sears holding dataframe than in Walmart dataframe. Let's filter the extra data out from Sears"
   ]
  },
  {
   "cell_type": "code",
   "execution_count": 48,
   "metadata": {},
   "outputs": [
    {
     "name": "stdout",
     "output_type": "stream",
     "text": [
      "[1] \"Maximum date:\"  \"18334\"          \"Minimum date: \" \"18275\"         \n",
      "[1] \"No. of records of shld_df_filtered: \"\n",
      "[2] \"42\"                                  \n"
     ]
    }
   ],
   "source": [
    "shld_df_filtered = subset.data.frame(shld_df, shld_df$Date %in% (walmart_df$Date))\n",
    "print(c(\"Maximum date:\", max(shld_df_filtered$Date), \"Minimum date: \", min(shld_df_filtered$Date)))\n",
    "print(c('No. of records of shld_df_filtered: ', nrow(shld_df_filtered)))"
   ]
  },
  {
   "cell_type": "markdown",
   "metadata": {},
   "source": [
    "<b>Calculate the mean and standard deviation for Sears"
   ]
  },
  {
   "cell_type": "code",
   "execution_count": 45,
   "metadata": {},
   "outputs": [
    {
     "name": "stdout",
     "output_type": "stream",
     "text": [
      "[1] \"Mean of Open: \"     \"0.24935\"            \"SD Open: \"         \n",
      "[4] \"0.0510901701680947\"\n",
      "[1] \"Mean of High: \"     \"0.265814285714286\"  \"SD High: \"         \n",
      "[4] \"0.0520428555647268\"\n",
      "[1] \"Mean of Low: \"      \"0.23792619047619\"   \"SD Low: \"          \n",
      "[4] \"0.0479588190192266\"\n",
      "[1] \"Mean of Close.Last: \" \"0.249514285714286\"    \"SD Close.Last: \"     \n",
      "[4] \"0.0515377037991797\"  \n"
     ]
    }
   ],
   "source": [
    "print(c(\"Mean of Open: \", mean(shld_df_filtered$Open), \"SD Open: \", sd(shld_df_filtered$Open)))\n",
    "print(c(\"Mean of High: \", mean(shld_df_filtered$High), \"SD High: \", sd(shld_df_filtered$High)))\n",
    "print(c(\"Mean of Low: \", mean(shld_df_filtered$Low), \"SD Low: \", sd(shld_df_filtered$Low)))\n",
    "print(c(\"Mean of Close.Last: \", mean(shld_df_filtered$Close.Last), \"SD Close.Last: \", sd(shld_df_filtered$Close.Last)))"
   ]
  },
  {
   "cell_type": "code",
   "execution_count": null,
   "metadata": {},
   "outputs": [],
   "source": []
  }
 ],
 "metadata": {
  "kernelspec": {
   "display_name": "R",
   "language": "R",
   "name": "ir"
  },
  "language_info": {
   "codemirror_mode": "r",
   "file_extension": ".r",
   "mimetype": "text/x-r-source",
   "name": "R",
   "pygments_lexer": "r",
   "version": "3.6.1"
  }
 },
 "nbformat": 4,
 "nbformat_minor": 4
}
