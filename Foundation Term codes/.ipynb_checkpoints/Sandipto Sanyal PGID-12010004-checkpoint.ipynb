{
 "cells": [
  {
   "cell_type": "markdown",
   "metadata": {},
   "source": [
    "# Name: Sandipto Sanyal\n",
    "# PGID: 12010004"
   ]
  },
  {
   "cell_type": "markdown",
   "metadata": {},
   "source": [
    "## Import necessary libraries <a id='lib'></a>"
   ]
  },
  {
   "cell_type": "code",
   "execution_count": null,
   "metadata": {},
   "outputs": [],
   "source": [
    "library(repr) # to set the graph sizes"
   ]
  },
  {
   "cell_type": "markdown",
   "metadata": {},
   "source": [
    "# Table of Contents\n",
    "1. [Question 1](#q1)\n",
    "1. [Question 2](#q2)\n",
    "1. [Question 3](#q3)\n",
    "1. [Question 4](#q4)\n",
    "1. [Question 5](#q5)\n",
    "1. [Question 6](#q6)\n",
    "1. [Question 7](#q7)\n",
    "1. [Question 8](#q8)\n",
    "1. [Question 9](#q9)\n",
    "1. [Question 10](#q10)\n",
    "1. [Question 11](#q11)"
   ]
  },
  {
   "cell_type": "markdown",
   "metadata": {},
   "source": [
    "# Question 1 <a id='q1'></a>"
   ]
  },
  {
   "cell_type": "markdown",
   "metadata": {},
   "source": [
    "## Given attributes"
   ]
  },
  {
   "cell_type": "code",
   "execution_count": null,
   "metadata": {},
   "outputs": [],
   "source": [
    "u = 77.0\n",
    "sigma = 3.4\n",
    "## Visualize the distribution\n",
    "# Create a sequence of numbers between 50 and 100 incrementing by 0.01.\n",
    "x <- seq(50, 100, by = .01)\n",
    "# Choose the mean and standard deviation as sigma \n",
    "#to give probability distribution at each point of x\n",
    "y <- dnorm(x, mean = u, sd = sigma)"
   ]
  },
  {
   "cell_type": "markdown",
   "metadata": {},
   "source": [
    "## (a) Probability that random variable is less than 72.6"
   ]
  },
  {
   "cell_type": "code",
   "execution_count": null,
   "metadata": {},
   "outputs": [],
   "source": [
    "## Let the random variable is n\n",
    "n = 72.6\n",
    "# set the figure size\n",
    "options(repr.plot.width=4, repr.plot.height=3)\n",
    "plot(x,y, type='l', \n",
    "     main='random variable is less than 72.6',\n",
    "    ylab='frequency')\n",
    "polygon(c(x[x<=n], n), c(y[x<=n], 0), col=\"red\")\n",
    "## Find z score\n",
    "z_score = (n-u)/sigma\n",
    "## Find the p value\n",
    "p = pnorm(z_score)\n",
    "## probability that random variable is (a) less than 72.6\n",
    "probabilities = p\n",
    "paste(c('Z Score is ', z_score), collapse = \" \")\n",
    "paste(c('Probability is ', probabilities), collapse = \" \")"
   ]
  },
  {
   "cell_type": "markdown",
   "metadata": {},
   "source": [
    "## (b) Probability that random variable is greater than 88.5 "
   ]
  },
  {
   "cell_type": "code",
   "execution_count": null,
   "metadata": {},
   "outputs": [],
   "source": [
    "## Let the random variable is n\n",
    "n = 88.5\n",
    "options(repr.plot.width=4, repr.plot.height=3)\n",
    "plot(x,y, type='l', \n",
    "     main='random variable is greater than 88.5',\n",
    "    ylab='frequency')\n",
    "polygon(x=c(n,x[x>=n]), y=c(0, y[x>=n]), col=\"red\")\n",
    "## Find z score\n",
    "z_score = (n-u)/sigma\n",
    "## Find the p value\n",
    "p = pnorm(z_score)\n",
    "## probability that random variable is (a) less than 72.6\n",
    "probabilities = p\n",
    "paste(c('Z Score is ', z_score), collapse = \" \")\n",
    "paste(c('Probability is ', 1-probabilities), collapse = \" \")"
   ]
  },
  {
   "cell_type": "markdown",
   "metadata": {},
   "source": [
    "<b>Interpretation of the graph: </b>We can see from step 4 above that the number 88.4 is more than 3 standard deviations away from our mean. This gives us a probability which is almost equal to 0 and hence no area is shaded by our plot."
   ]
  },
  {
   "cell_type": "markdown",
   "metadata": {},
   "source": [
    "## (c) Probability that random variable is between 81 and 84 "
   ]
  },
  {
   "cell_type": "code",
   "execution_count": null,
   "metadata": {},
   "outputs": [],
   "source": [
    "## Let the random variable is in range [n1,n2]\n",
    "n1 = 81; n2= 84\n",
    "options(repr.plot.width=4, repr.plot.height=3)\n",
    "plot(x,y, type='l', \n",
    "     main='random variable is between 81 and 84 ',\n",
    "    ylab='frequency')\n",
    "polygon(x=c(n1,x[n1<=x & x<=n2],n2), y=c(0,y[n1<=x & x<=n2],0), col='red')\n",
    "## Find z score\n",
    "z_score1 = (n1-u)/sigma; z_score2 = (n2-u)/sigma\n",
    "## Find the p value\n",
    "p1 = pnorm(z_score1); p2 = pnorm(z_score2)\n",
    "## probability that random variable is (a) less than 72.6\n",
    "probabilities = p2 - p1\n",
    "paste(c('Z Score 1 is ', z_score1, '; Z Score 2 is ', z_score2), collapse = \" \")\n",
    "paste(c('Probability is ', probabilities), collapse = \" \")"
   ]
  },
  {
   "cell_type": "markdown",
   "metadata": {},
   "source": [
    "## (d) Probability that random variable is between 56 and 92"
   ]
  },
  {
   "cell_type": "code",
   "execution_count": null,
   "metadata": {},
   "outputs": [],
   "source": [
    "## Let the random variable is in range [n1,n2]\n",
    "n1 = 56; n2= 92\n",
    "options(repr.plot.width=4, repr.plot.height=3)\n",
    "plot(x,y, type='l', \n",
    "     main='random variable is between 56 and 92 ',\n",
    "    ylab='frequency')\n",
    "polygon(x=c(n1,x[n1<=x & x<=n2],n2), y=c(0,y[n1<=x & x<=n2],0), col='red')\n",
    "## Find z score\n",
    "z_score1 = (n1-u)/sigma; z_score2 = (n2-u)/sigma\n",
    "## Find the p value\n",
    "p1 = pnorm(z_score1); p2 = pnorm(z_score2)\n",
    "probabilities = p2 - p1\n",
    "paste(c('Z Score 1 is ', z_score1, '; Z Score 2 is ', z_score2), collapse = \" \")\n",
    "paste(c('Probability is ', probabilities), collapse = \" \")"
   ]
  },
  {
   "cell_type": "markdown",
   "metadata": {},
   "source": [
    "# Question 2 <a id='q2'></a>"
   ]
  },
  {
   "cell_type": "markdown",
   "metadata": {},
   "source": [
    "## Given attributes"
   ]
  },
  {
   "cell_type": "code",
   "execution_count": null,
   "metadata": {},
   "outputs": [],
   "source": [
    "u = 145.0\n",
    "sigma = 12\n",
    "## Visualize the distribution\n",
    "# Create a sequence of numbers between 50 and 100 incrementing by 0.01.\n",
    "x <- seq(100, 200, by = .01)\n",
    "# Choose the mean and standard deviation as sigma \n",
    "#to give probability distribution at each point of x\n",
    "y <- dnorm(x, mean = u, sd = sigma)"
   ]
  },
  {
   "cell_type": "markdown",
   "metadata": {},
   "source": [
    "## (a) Find percentage of car racers whose finish time is between 130 and 160 minutes"
   ]
  },
  {
   "cell_type": "code",
   "execution_count": null,
   "metadata": {},
   "outputs": [],
   "source": [
    "## Let the random variable is in range [n1,n2]\n",
    "n1 = 130; n2= 160\n",
    "options(repr.plot.width=4, repr.plot.height=3)\n",
    "plot(x,y, type='l', \n",
    "     main='random variable is between 81 and 84 ',\n",
    "    ylab='frequency')\n",
    "polygon(x=c(n1,x[n1<=x & x<=n2],n2), y=c(0,y[n1<=x & x<=n2],0), col='red')\n",
    "## Find z score\n",
    "z_score1 = (n1-u)/sigma; z_score2 = (n2-u)/sigma\n",
    "## Find the p value\n",
    "p1 = pnorm(z_score1); p2 = pnorm(z_score2)\n",
    "## probability that random variable is (a) less than 72.6\n",
    "probabilities = p2 - p1\n",
    "paste(c('Z Score 1 is ', z_score1, '; Z Score 2 is ', z_score2), collapse = \" \")\n",
    "paste(c('percentage of car racers whose finish time is between 130 and 160 minutes ', probabilities*100, '%'), collapse = \" \")"
   ]
  },
  {
   "cell_type": "markdown",
   "metadata": {},
   "source": [
    "## (b) Find percentage of car racers whose finish time is less than 130 minutes"
   ]
  },
  {
   "cell_type": "code",
   "execution_count": null,
   "metadata": {},
   "outputs": [],
   "source": [
    "## Let the random variable is n\n",
    "n = 130\n",
    "# set the figure size\n",
    "options(repr.plot.width=4, repr.plot.height=3)\n",
    "plot(x,y, type='l', \n",
    "     main='random variable is less than 72.6',\n",
    "    ylab='frequency')\n",
    "polygon(c(x[x<=n], n), c(y[x<=n], 0), col=\"red\")\n",
    "## Find z score\n",
    "z_score = (n-u)/sigma\n",
    "## Find the p value\n",
    "p = pnorm(z_score)\n",
    "## probability that random variable is (a) less than 72.6\n",
    "probabilities = p\n",
    "paste(c('Z Score is ', z_score), collapse = \" \")\n",
    "paste(c('percentage of car racers whose finish time is less than 130 minutes ', probabilities*100, '%'), collapse = \" \")"
   ]
  },
  {
   "cell_type": "markdown",
   "metadata": {},
   "source": [
    "# Question 3 <a id='q3'></a>"
   ]
  },
  {
   "cell_type": "markdown",
   "metadata": {},
   "source": [
    "Since the experiment is of binary outcome <b>True or False</b> and also has more than 1 trials = 15 it is a case of binomial distribution with n = no. of outcomes = 15, probability of success of each outcome = p = 0.5"
   ]
  },
  {
   "cell_type": "markdown",
   "metadata": {},
   "source": [
    "## (a) What is the probability that the student got first five questions correct.\n",
    "This means we have to find P(C,C,C,C,C,W,W,W,W,W,W,W,W,W,W). For each question probability of success is 0.5. So for five questions it is 0.5<sup>5</sup> and for rest of the 10 questions probabilit of failure will be (1-0.5)<sup>10</sup>. <br>\n",
    "Since we are wanting probability that the student got first 5 question correct at a row we will calculate the required probability as <b>0.5<sup>5</sup> x (1-0.5)<sup>10</sup></b>"
   ]
  },
  {
   "cell_type": "code",
   "execution_count": null,
   "metadata": {},
   "outputs": [],
   "source": [
    "probabilities = (0.5)**5*(0.5)**10\n",
    "paste(c('probability that the student got first five questions correct ', probabilities), collapse = \" \")"
   ]
  },
  {
   "cell_type": "markdown",
   "metadata": {},
   "source": [
    "## (b) What is the probability that the student got five questions correct\n",
    "For this we want to know the probability that the student got any of the 5 question correct. Obviously this probability is expected to be much higher than what we found in previous question.\n",
    "1. Firstly we are choosing any five questions out of 15 questions. So no. of choices will be <sup>15</sup>C<sub>5</sub>.\n",
    "1. Now for each question probability of success is 0.5. So for five questions it is 0.5<sup>5</sup> and for rest of the 10 questions probabilit of failure will be (1-0.5)<sup>10</sup>.\n",
    "1. Thus total probability of our student getting <b>any</b> 5 questions correct is <b><sup>15</sup>C<sub>5</sub> x 0.5<sup>5</sup> x (1-0.5)<sup>10</sup>"
   ]
  },
  {
   "cell_type": "code",
   "execution_count": null,
   "metadata": {},
   "outputs": [],
   "source": [
    "nCr = dim(combn(15,5))[2]\n",
    "probabilities = nCr*0.5^5*0.5^10\n",
    "paste(c('probability that the student got five questions correct ', probabilities), collapse = \" \")"
   ]
  },
  {
   "cell_type": "markdown",
   "metadata": {},
   "source": [
    "### Visualize the above using R plot\n",
    "Also we can calculate the same using R package as below"
   ]
  },
  {
   "cell_type": "code",
   "execution_count": null,
   "metadata": {},
   "outputs": [],
   "source": [
    "no_of_trials = 15; no_of_success = 5\n",
    "# Create a sequence of 15 numbers which denotes our maximum number of trials and each denotes number of successes\n",
    "#which are incremented by 1.\n",
    "x <- seq(0,no_of_trials,by = 1)\n",
    "# Create the binomial distribution.size is the number of trials, prob= Probability of success \n",
    "y <- dbinom(x=x, size=no_of_trials, prob=0.5)\n",
    "# set the figure size\n",
    "options(repr.plot.width=4, repr.plot.height=4)\n",
    "plot(x,y, type='o', \n",
    "     main='Binomial distribution',\n",
    "     xlab='No. of successes',\n",
    "    ylab='Probability of getting x number of successes')\n",
    "abline(a=NULL, b=NULL, h=y[x==no_of_success], v=no_of_success, col='red')\n",
    "probabilities = y[x==no_of_success]\n",
    "paste(c('probability that the student got five questions correct ', probabilities), collapse = \" \")"
   ]
  },
  {
   "cell_type": "markdown",
   "metadata": {},
   "source": [
    "# Question 4 <a id='q4'></a>\n",
    "We are given probability of marks being in range 35 and 42 as 68%. Below are the thought proces: <br>\n",
    "1. We know in a normal distribution 68% of the data lies between +/-1 standard deviation.\n",
    "1. So mean - 1sd = 35 and mean + 1sd = 42.\n",
    "1. Solving them mean = (35+42)/2 = <b>38.5</b>\n",
    "1. Standard deviation = 42 - mean = <b>3.5</b>"
   ]
  },
  {
   "cell_type": "markdown",
   "metadata": {},
   "source": [
    "# Question 5 <a id='q5'></a>\n",
    "Let's consider the two event as A as clearing the first exam and B as clearing the second exam. Its given that:<br>\n",
    "1. P(A <span>&#8745;</span> B) = 30%\n",
    "1. P(A) = 55%\n",
    "1. So we are asked to find P(B|A) = P(A <span>&#8745;</span> B)/P(A) = 30/55 = 0.55 = <b>54.54%</b>"
   ]
  },
  {
   "cell_type": "markdown",
   "metadata": {},
   "source": [
    "# Question 6 <a id='q6'></a>\n",
    "Let's consider the two event as TV as having a TV and DVD as having a DVD. Its given that:<br>\n",
    "1. P(TV <span>&#8745;</span> DVD) = 62%\n",
    "1. P(TV) = 82%\n",
    "1. So we are asked to find P(DVD|TV) = P(TV <span>&#8745;</span> DVD)/P(TV) = 62/82 = 0.756 = <b>75.6%</b>"
   ]
  },
  {
   "cell_type": "markdown",
   "metadata": {},
   "source": [
    "# Question 7 <a id='q7'></a>\n",
    "Given we have coin toss means we have two ouputs and more than one trials we are dealing with a random variable which follows binomial distribution. The following data is given:\n",
    "1. no. of trials = n = 3\n",
    "1. Probability of success i.e. having Head = p = 0.5"
   ]
  },
  {
   "cell_type": "markdown",
   "metadata": {},
   "source": [
    "## (a) probability of getting all three heads\n",
    "We are asked to find <b>P(HHH) = 0.5^3 = 0.125"
   ]
  },
  {
   "cell_type": "markdown",
   "metadata": {},
   "source": [
    "## (b) probability of getting exactly 1 head\n",
    "For this\n",
    "1. We first have <sup>3</sup>C<sub>1</sub> choices for getting only 1 head in all 3 trials.\n",
    "1. Probability of getting 1 head is 0.5\n",
    "1. Probability of not getting other tosses as head is (1-0.5)<sup>2</sup><br>\n",
    "\n",
    "So the required probabality = <b><sup>3</sup>C<sub>1</sub> x 0.5<sup>1</sup> x (1-0.5)<sup>2</sup> = 0.375"
   ]
  },
  {
   "cell_type": "code",
   "execution_count": null,
   "metadata": {},
   "outputs": [],
   "source": [
    "3*0.5*0.5^2"
   ]
  },
  {
   "cell_type": "markdown",
   "metadata": {},
   "source": [
    "## (c) Given that you have seen exactly one head, what is the probability of getting at least two heads?\n",
    "- P(getting at least two heads) = P(getting exactly two heads) + P(getting all heads) = <b><sup>3</sup>C<sub>2</sub> x 0.5<sup>2</sup> x (1-0.5)<sup>1</sup> + <sup>3</sup>C<sub>3</sub> x 0.5<sup>3</sup> x (1-0.5)<sup>0</sup> = 0.5"
   ]
  },
  {
   "cell_type": "code",
   "execution_count": null,
   "metadata": {},
   "outputs": [],
   "source": [
    "dim(combn(3,2))[2]*0.5^2*0.5^1 + dim(combn(3,3))[2]*0.5^3*0.5^0"
   ]
  },
  {
   "cell_type": "markdown",
   "metadata": {},
   "source": [
    "# Question 8 <a id='q8'></a>\n",
    "Given attributes:\n",
    " - u1 = 1200\n",
    " - sig1 = 90000\n",
    " - u2 = 1800\n",
    " - sig2 = 160000"
   ]
  },
  {
   "cell_type": "markdown",
   "metadata": {},
   "source": [
    "## Visualize the normal distributions\n",
    "Here we will visualize the above normal distributions for a better understanding. Considering the following point that the lowest amount is 0. So our graph will start froms x = 0."
   ]
  },
  {
   "cell_type": "code",
   "execution_count": null,
   "metadata": {},
   "outputs": [],
   "source": [
    "scaler = 1\n",
    "u1 = 1200/scaler\n",
    "sig1 = 90000/scaler\n",
    "u2 = 1800/scaler\n",
    "sig2 = 160000/scaler\n",
    "x = seq(-500000/scaler,500000/scaler, by=1)\n",
    "y1 = dnorm(x,mean=u1, sd=sig1)\n",
    "y2 = dnorm(x,mean=u2, sd=sig2)"
   ]
  },
  {
   "cell_type": "code",
   "execution_count": null,
   "metadata": {},
   "outputs": [],
   "source": [
    "options(repr.plot.width=5, repr.plot.height=5)\n",
    "plot(x,y1,type=\"l\",col=\"red\", xlab='Amount in INR of claims filed', ylab='Probability of each agent')\n",
    "lines(x,y2,col=\"blue\")\n",
    "legend(x=x[400000/scaler], y=y1[1], legend=c(\"Agent 1\", \"Agent 2\"),\n",
    "       col=c(\"red\", \"blue\"), lty=1:1, cex=0.8)"
   ]
  },
  {
   "cell_type": "markdown",
   "metadata": {},
   "source": [
    "## Inference\n",
    "So from the above plots we want to find out what is the probability that a random variable D = Agent 1 - Agent 2 > 0?<br>\n",
    "Let's visualize the difference in a graph."
   ]
  },
  {
   "cell_type": "code",
   "execution_count": null,
   "metadata": {},
   "outputs": [],
   "source": []
  },
  {
   "cell_type": "markdown",
   "metadata": {},
   "source": [
    "## Inference\n",
    "So from the above plot it is seen that for the 2nd agent a part of the graph is below the first agent. Lets shade that area to visualize as per the question given."
   ]
  },
  {
   "cell_type": "code",
   "execution_count": null,
   "metadata": {},
   "outputs": [],
   "source": [
    "options(repr.plot.width=5, repr.plot.height=5)\n",
    "plot(x,y1,type=\"l\",col=\"red\", xlab='Amount in INR of claims filed', ylab='Probability of each agent')\n",
    "lines(x,y2,col=\"blue\")\n",
    "legend(x=x[400000], y=y1[1], legend=c(\"Agent 1\", \"Agent 2\"),\n",
    "       col=c(\"red\", \"blue\"), lty=1:1, cex=0.8)\n",
    "polygon(x=c(0,x[y2<=y1],x[y2>=y1][1]), y=c(0,y2[y2<=y1],0), col='blue')"
   ]
  },
  {
   "cell_type": "markdown",
   "metadata": {},
   "source": [
    "## Calculate the probability or the area of the above shaded region\n",
    "Now we will just have to find the probability of the above shaded region.<br>\n",
    "This will be given as:<br>\n",
    "P(Agent2 sales < Agennt1) = pnorm(x[y2>=y1][1], mean=u2, sd=sig2) - pnorm(0, mean=u2, sd=sig2)"
   ]
  },
  {
   "cell_type": "code",
   "execution_count": null,
   "metadata": {},
   "outputs": [],
   "source": [
    "pnorm(x[y2>=y1][1], mean=u2, sd=sig2) - pnorm(0, mean=u2, sd=sig2)"
   ]
  },
  {
   "cell_type": "markdown",
   "metadata": {},
   "source": [
    "# Question 9 <a id='q9'></a>\n",
    "Here we have two sets having color mix of M&Ms as follows:\n",
    " - 1994: (30% Brown, 20% Yellow, 20% Red, 10% Green, 10% Orange, 10% Tan)\n",
    " - 1995 and afterwards: (24% Blue, 20% Green, 16% Orange, 14% Yellow, 13% Red, 13% Brown)\n",
    "\n",
    "So we have to find the probability of P(Bag from 1994|M&M is yellow).<br>\n",
    "From total probability theorem P(M&M is yellow) = P(M&M is yellow|Bag from 1994) x P(Bag from 1994) + P(M&M is yellow|Bag <b>Not</b> from 1994) x P(Bag <b>Not</b> from 1994) = 0.2 * 0.5 + 0.14 * 0.5 = 0.17\n",
    "<br><br>\n",
    "By Bayes theorem we know that P(Bag from 1994|M&M is yellow) = P(M&M is yellow|Bag from 1994).P(Bag from 1994)/P(M&M is yellow) = (0.2 * 0.5)/0.17 = <b>0.588"
   ]
  },
  {
   "cell_type": "markdown",
   "metadata": {},
   "source": [
    "# Question 10 <a id='q10'></a>"
   ]
  },
  {
   "cell_type": "markdown",
   "metadata": {},
   "source": [
    "<b>Note:</b> All datasets were downloaded from https://in.finance.yahoo.com/ in the same timeframe.<br>\n",
    "Import and view first 6 rows of the dataset. Since we have dates we will suppres R converting strings to Factors as it will cause issues with date conversion."
   ]
  },
  {
   "cell_type": "code",
   "execution_count": null,
   "metadata": {},
   "outputs": [],
   "source": [
    "walmart_df = read.csv('datasets/WMT.csv', stringsAsFactors = FALSE)\n",
    "head(walmart_df)"
   ]
  },
  {
   "cell_type": "markdown",
   "metadata": {},
   "source": [
    "## See the structure of the dataframe\n",
    "This we will do to check how R is parsing each column of our imported dataframe"
   ]
  },
  {
   "cell_type": "code",
   "execution_count": null,
   "metadata": {},
   "outputs": [],
   "source": [
    "str(walmart_df)"
   ]
  },
  {
   "cell_type": "markdown",
   "metadata": {},
   "source": [
    "<b>Inference: </b> The column date was parsed as chr. Let's convert that into date format."
   ]
  },
  {
   "cell_type": "code",
   "execution_count": null,
   "metadata": {},
   "outputs": [],
   "source": [
    "walmart_df$Date = as.Date(walmart_df$Date, format=\"%Y-%m-%d\")\n",
    "str(walmart_df)"
   ]
  },
  {
   "cell_type": "markdown",
   "metadata": {},
   "source": [
    "## (a) Calculate the mean and the standard deviation of the stock prices."
   ]
  },
  {
   "cell_type": "code",
   "execution_count": null,
   "metadata": {},
   "outputs": [],
   "source": [
    "print(c(\"Mean of Open: \", mean(walmart_df$Open), \"SD Open: \", sd(walmart_df$Open)))\n",
    "print(c(\"Mean of High: \", mean(walmart_df$High), \"SD High: \", sd(walmart_df$High)))\n",
    "print(c(\"Mean of Low: \", mean(walmart_df$Low), \"SD Low: \", sd(walmart_df$Low)))\n",
    "print(c(\"Mean of Close: \", mean(walmart_df$Close), \"SD Close: \", sd(walmart_df$Close)))"
   ]
  },
  {
   "cell_type": "markdown",
   "metadata": {},
   "source": [
    "## (b) Get the corresponding data for Sears and calculate the mean and the standard deviation"
   ]
  },
  {
   "cell_type": "markdown",
   "metadata": {},
   "source": [
    "Import sears holding dataset and view first 6 rows."
   ]
  },
  {
   "cell_type": "code",
   "execution_count": null,
   "metadata": {},
   "outputs": [],
   "source": [
    "shld_df = read.csv('datasets/SHLDQ.csv', stringsAsFactors = FALSE)\n",
    "head(shld_df)"
   ]
  },
  {
   "cell_type": "code",
   "execution_count": null,
   "metadata": {},
   "outputs": [],
   "source": [
    "str(shld_df)"
   ]
  },
  {
   "cell_type": "markdown",
   "metadata": {},
   "source": [
    "Change the Date format"
   ]
  },
  {
   "cell_type": "code",
   "execution_count": null,
   "metadata": {},
   "outputs": [],
   "source": [
    "shld_df$Date = as.Date(shld_df$Date, format='%m/%d/%Y')"
   ]
  },
  {
   "cell_type": "markdown",
   "metadata": {},
   "source": [
    "<b>Calculate the mean and standard deviation for Sears"
   ]
  },
  {
   "cell_type": "code",
   "execution_count": null,
   "metadata": {},
   "outputs": [],
   "source": [
    "print(c(\"Mean of Open: \", mean(shld_df$Open), \"SD Open: \", sd(shld_df$Open)))\n",
    "print(c(\"Mean of High: \", mean(shld_df$High), \"SD High: \", sd(shld_df$High)))\n",
    "print(c(\"Mean of Low: \", mean(shld_df$Low), \"SD Low: \", sd(shld_df$Low)))\n",
    "print(c(\"Mean of Close: \", mean(shld_df$Close), \"SD Close.Last: \", sd(shld_df$Close)))"
   ]
  },
  {
   "cell_type": "markdown",
   "metadata": {},
   "source": [
    "## Part (c) \n",
    "The coefficient of variation (CV)is defined as the ratio of the standard deviation over the mean.Calculate the CV of Wal-•‐Mart and Kmart stock prices. "
   ]
  },
  {
   "cell_type": "code",
   "execution_count": null,
   "metadata": {},
   "outputs": [],
   "source": [
    "print(c(\"CV of Walmart: \", sd(walmart_df$Close)/mean(walmart_df$Close)))\n",
    "print(c(\"CV of Sears: \", sd(shld_df$Close)/mean(shld_df$Close)))"
   ]
  },
  {
   "cell_type": "markdown",
   "metadata": {},
   "source": [
    "## Part (d)\n",
    "If the CV of the daily stock prices is taken as an indicator of risk of the stock, how do Wal-•‐Mart and Kmart stocks compare in terms of risk? (There are better measures of risk, but we will use CV in this exercise.)"
   ]
  },
  {
   "cell_type": "markdown",
   "metadata": {},
   "source": [
    "From the page Coefficient of Variation | Definition | Formula | Example. (n.d.). Retrieved March 15, 2020, from https://xplaind.com/428087/coefficient-of-variation it is clear that Sears having higher CV is a riskier company to invest."
   ]
  },
  {
   "cell_type": "markdown",
   "metadata": {},
   "source": [
    "## Part (e)\n",
    "Get the corresponding data of the Dow Jones Industrial Average (DJIA) and compute its CV. How\n",
    "do Wal-•‐ Mart and Kmart stocks compare with the DJIA in terms of risk?"
   ]
  },
  {
   "cell_type": "markdown",
   "metadata": {},
   "source": [
    "Import sears holding dataset and view first 6 rows."
   ]
  },
  {
   "cell_type": "code",
   "execution_count": null,
   "metadata": {},
   "outputs": [],
   "source": [
    "dji_df = read.csv('datasets/DJI.csv', stringsAsFactors = FALSE)\n",
    "head(dji_df)"
   ]
  },
  {
   "cell_type": "code",
   "execution_count": null,
   "metadata": {},
   "outputs": [],
   "source": [
    "str(dji_df)"
   ]
  },
  {
   "cell_type": "markdown",
   "metadata": {},
   "source": [
    "Change the Date format"
   ]
  },
  {
   "cell_type": "code",
   "execution_count": null,
   "metadata": {},
   "outputs": [],
   "source": [
    "dji_df$Date = as.Date(dji_df$Date, format='%m/%d/%Y')"
   ]
  },
  {
   "cell_type": "code",
   "execution_count": null,
   "metadata": {},
   "outputs": [],
   "source": [
    "print(c(\"CV of Walmart: \", sd(walmart_df$Close)/mean(walmart_df$Close)))\n",
    "print(c(\"CV of Sears: \", sd(shld_df$Close)/mean(shld_df$Close)))\n",
    "print(c(\"CV of DJIA: \", sd(dji_df$Close)/mean(dji_df$Close)))"
   ]
  },
  {
   "cell_type": "markdown",
   "metadata": {},
   "source": [
    "<b>Inference: </b>In terms of risk of investment Sears > DJIA > Walmart."
   ]
  },
  {
   "cell_type": "markdown",
   "metadata": {},
   "source": [
    "## Part (f)\n",
    "Suppose you bought 100 shares of Wal-•‐Mart stock three months ago and held it. What are the mean\n",
    "and the standard deviation of the daily market price of your holding for the three months?"
   ]
  },
  {
   "cell_type": "code",
   "execution_count": null,
   "metadata": {},
   "outputs": [],
   "source": [
    "# multiply number of shares = 100 with each element in walmart_df$Close\n",
    "holdings = 100*walmart_df$Close\n",
    "print(c(\"Mean of our holdings = \", mean(holdings)))\n",
    "print(c(\"SD of our holdings = \", sd(holdings)))"
   ]
  },
  {
   "cell_type": "markdown",
   "metadata": {},
   "source": [
    "# Question 11 <a id='q11'></a>\n",
    "For this problem, consider the dataset Prob_Assignment_Dataset.xlsx attached. As the vigilant\n",
    "monitors of the Zappos.Com website, we are obsessed with who is coming to our website and what they\n",
    "do during their visit. This challenge requires you to look at data similar to that which Analytics teams at\n",
    "Zappos would use to assess the overall performance of the business."
   ]
  },
  {
   "cell_type": "markdown",
   "metadata": {},
   "source": [
    "## Import necessary visualization packages"
   ]
  },
  {
   "cell_type": "code",
   "execution_count": 1,
   "metadata": {},
   "outputs": [
    {
     "name": "stderr",
     "output_type": "stream",
     "text": [
      "Warning message:\n",
      "\"package 'ggplot2' was built under R version 3.6.3\"Warning message:\n",
      "\"package 'ggpubr' was built under R version 3.6.3\"Loading required package: magrittr\n"
     ]
    }
   ],
   "source": [
    "library(ggplot2) # create different graphs\n",
    "library(ggpubr) # show mutiple ggplots\n",
    "library(repr) # set plot sizes"
   ]
  },
  {
   "cell_type": "markdown",
   "metadata": {},
   "source": [
    "## Read the dataset\n",
    "Read the dataset and get a snapshot of the columns and data."
   ]
  },
  {
   "cell_type": "code",
   "execution_count": 2,
   "metadata": {},
   "outputs": [
    {
     "name": "stdout",
     "output_type": "stream",
     "text": [
      "Classes 'tbl_df', 'tbl' and 'data.frame':\t21061 obs. of  12 variables:\n",
      " $ day               : POSIXct, format: \"2013-01-01\" \"2013-01-01\" ...\n",
      " $ site              : chr  \"Acme\" \"Acme\" \"Sortly\" \"Acme\" ...\n",
      " $ new_customer      : num  1 1 1 1 1 1 1 1 0 0 ...\n",
      " $ platform          : chr  \"Android\" \"BlackBerry\" \"iPad\" \"Windows\" ...\n",
      " $ visits            : num  24 0 0 922 11 384 14 1 41 448 ...\n",
      " $ distinct_sessions : num  16 0 0 520 10 214 10 0 27 368 ...\n",
      " $ orders            : num  14 0 0 527 11 213 4 0 6 36 ...\n",
      " $ gross_sales       : num  1287 13 98 60753 1090 ...\n",
      " $ bounces           : num  4 0 0 149 0 65 4 0 6 80 ...\n",
      " $ add_to_cart       : num  16 0 0 610 11 245 7 0 12 79 ...\n",
      " $ product_page_views: num  104 1 0 3914 4 ...\n",
      " $ search_page_views : num  192 0 0 7367 19 ...\n"
     ]
    }
   ],
   "source": [
    "library(\"readxl\")\n",
    "df = read_excel('datasets//Prob_Assignment_Dataset (2).xlsx', sheet='Example_Data')\n",
    "str(df)"
   ]
  },
  {
   "cell_type": "markdown",
   "metadata": {},
   "source": [
    "## View first 6 rows of dataframe"
   ]
  },
  {
   "cell_type": "code",
   "execution_count": 3,
   "metadata": {},
   "outputs": [
    {
     "data": {
      "text/html": [
       "<table>\n",
       "<thead><tr><th scope=col>day</th><th scope=col>site</th><th scope=col>new_customer</th><th scope=col>platform</th><th scope=col>visits</th><th scope=col>distinct_sessions</th><th scope=col>orders</th><th scope=col>gross_sales</th><th scope=col>bounces</th><th scope=col>add_to_cart</th><th scope=col>product_page_views</th><th scope=col>search_page_views</th></tr></thead>\n",
       "<tbody>\n",
       "\t<tr><td>2013-01-01</td><td>Acme      </td><td>1         </td><td>Android   </td><td> 24       </td><td> 16       </td><td> 14       </td><td> 1287     </td><td>  4       </td><td> 16       </td><td> 104      </td><td> 192      </td></tr>\n",
       "\t<tr><td>2013-01-01</td><td>Acme      </td><td>1         </td><td>BlackBerry</td><td>  0       </td><td>  0       </td><td>  0       </td><td>   13     </td><td>  0       </td><td>  0       </td><td>   1      </td><td>   0      </td></tr>\n",
       "\t<tr><td>2013-01-01</td><td>Sortly    </td><td>1         </td><td>iPad      </td><td>  0       </td><td>  0       </td><td>  0       </td><td>   98     </td><td>  0       </td><td>  0       </td><td>   0      </td><td>   0      </td></tr>\n",
       "\t<tr><td>2013-01-01</td><td>Acme      </td><td>1         </td><td>Windows   </td><td>922       </td><td>520       </td><td>527       </td><td>60753     </td><td>149       </td><td>610       </td><td>3914      </td><td>7367      </td></tr>\n",
       "\t<tr><td>2013-01-01</td><td>Botly     </td><td>1         </td><td>Android   </td><td> 11       </td><td> 10       </td><td> 11       </td><td> 1090     </td><td>  0       </td><td> 11       </td><td>   4      </td><td>  19      </td></tr>\n",
       "\t<tr><td>2013-01-01</td><td>Acme      </td><td>1         </td><td>Macintosh </td><td>384       </td><td>214       </td><td>213       </td><td>28129     </td><td> 65       </td><td>245       </td><td>1783      </td><td>3255      </td></tr>\n",
       "</tbody>\n",
       "</table>\n"
      ],
      "text/latex": [
       "\\begin{tabular}{r|llllllllllll}\n",
       " day & site & new\\_customer & platform & visits & distinct\\_sessions & orders & gross\\_sales & bounces & add\\_to\\_cart & product\\_page\\_views & search\\_page\\_views\\\\\n",
       "\\hline\n",
       "\t 2013-01-01 & Acme       & 1          & Android    &  24        &  16        &  14        &  1287      &   4        &  16        &  104       &  192      \\\\\n",
       "\t 2013-01-01 & Acme       & 1          & BlackBerry &   0        &   0        &   0        &    13      &   0        &   0        &    1       &    0      \\\\\n",
       "\t 2013-01-01 & Sortly     & 1          & iPad       &   0        &   0        &   0        &    98      &   0        &   0        &    0       &    0      \\\\\n",
       "\t 2013-01-01 & Acme       & 1          & Windows    & 922        & 520        & 527        & 60753      & 149        & 610        & 3914       & 7367      \\\\\n",
       "\t 2013-01-01 & Botly      & 1          & Android    &  11        &  10        &  11        &  1090      &   0        &  11        &    4       &   19      \\\\\n",
       "\t 2013-01-01 & Acme       & 1          & Macintosh  & 384        & 214        & 213        & 28129      &  65        & 245        & 1783       & 3255      \\\\\n",
       "\\end{tabular}\n"
      ],
      "text/markdown": [
       "\n",
       "| day | site | new_customer | platform | visits | distinct_sessions | orders | gross_sales | bounces | add_to_cart | product_page_views | search_page_views |\n",
       "|---|---|---|---|---|---|---|---|---|---|---|---|\n",
       "| 2013-01-01 | Acme       | 1          | Android    |  24        |  16        |  14        |  1287      |   4        |  16        |  104       |  192       |\n",
       "| 2013-01-01 | Acme       | 1          | BlackBerry |   0        |   0        |   0        |    13      |   0        |   0        |    1       |    0       |\n",
       "| 2013-01-01 | Sortly     | 1          | iPad       |   0        |   0        |   0        |    98      |   0        |   0        |    0       |    0       |\n",
       "| 2013-01-01 | Acme       | 1          | Windows    | 922        | 520        | 527        | 60753      | 149        | 610        | 3914       | 7367       |\n",
       "| 2013-01-01 | Botly      | 1          | Android    |  11        |  10        |  11        |  1090      |   0        |  11        |    4       |   19       |\n",
       "| 2013-01-01 | Acme       | 1          | Macintosh  | 384        | 214        | 213        | 28129      |  65        | 245        | 1783       | 3255       |\n",
       "\n"
      ],
      "text/plain": [
       "  day        site   new_customer platform   visits distinct_sessions orders\n",
       "1 2013-01-01 Acme   1            Android     24     16                14   \n",
       "2 2013-01-01 Acme   1            BlackBerry   0      0                 0   \n",
       "3 2013-01-01 Sortly 1            iPad         0      0                 0   \n",
       "4 2013-01-01 Acme   1            Windows    922    520               527   \n",
       "5 2013-01-01 Botly  1            Android     11     10                11   \n",
       "6 2013-01-01 Acme   1            Macintosh  384    214               213   \n",
       "  gross_sales bounces add_to_cart product_page_views search_page_views\n",
       "1  1287         4      16          104                192             \n",
       "2    13         0       0            1                  0             \n",
       "3    98         0       0            0                  0             \n",
       "4 60753       149     610         3914               7367             \n",
       "5  1090         0      11            4                 19             \n",
       "6 28129        65     245         1783               3255             "
      ]
     },
     "metadata": {},
     "output_type": "display_data"
    }
   ],
   "source": [
    "head(df)"
   ]
  },
  {
   "cell_type": "code",
   "execution_count": 4,
   "metadata": {},
   "outputs": [
    {
     "name": "stdout",
     "output_type": "stream",
     "text": [
      "Classes 'tbl_df', 'tbl' and 'data.frame':\t21061 obs. of  12 variables:\n",
      " $ day               : POSIXct, format: \"2013-01-01\" \"2013-01-01\" ...\n",
      " $ site              : chr  \"Acme\" \"Acme\" \"Sortly\" \"Acme\" ...\n",
      " $ new_customer      : Factor w/ 2 levels \"0\",\"1\": 2 2 2 2 2 2 2 2 1 1 ...\n",
      " $ platform          : chr  \"Android\" \"BlackBerry\" \"iPad\" \"Windows\" ...\n",
      " $ visits            : num  24 0 0 922 11 384 14 1 41 448 ...\n",
      " $ distinct_sessions : num  16 0 0 520 10 214 10 0 27 368 ...\n",
      " $ orders            : num  14 0 0 527 11 213 4 0 6 36 ...\n",
      " $ gross_sales       : num  1287 13 98 60753 1090 ...\n",
      " $ bounces           : num  4 0 0 149 0 65 4 0 6 80 ...\n",
      " $ add_to_cart       : num  16 0 0 610 11 245 7 0 12 79 ...\n",
      " $ product_page_views: num  104 1 0 3914 4 ...\n",
      " $ search_page_views : num  192 0 0 7367 19 ...\n"
     ]
    }
   ],
   "source": [
    "df$new_customer = factor(df$new_customer)\n",
    "str(df)"
   ]
  },
  {
   "cell_type": "markdown",
   "metadata": {},
   "source": [
    "## Univariate data analysis\n",
    "Below we will perform univariate dataset analysis for our dataset.\n",
    "1. First we will see the distributions of categorical variables site and new_customer"
   ]
  },
  {
   "cell_type": "code",
   "execution_count": 5,
   "metadata": {},
   "outputs": [
    {
     "data": {
      "image/png": "[encoded data removed]",
      "text/plain": [
       "plot without title"
      ]
     },
     "metadata": {},
     "output_type": "display_data"
    }
   ],
   "source": [
    "options(repr.plot.width=7, repr.plot.height=10)\n",
    "g1 = ggplot(data=df) + \n",
    "    aes(site,fill=new_customer) + \n",
    "    geom_bar() + \n",
    "    scale_x_discrete()\n",
    "\n",
    "g2 = ggplot(data=df) + \n",
    "    aes(new_customer) + \n",
    "    geom_bar() + \n",
    "    scale_x_discrete()\n",
    "figure <- ggarrange(g1, g2,\n",
    "                    labels = c(\"A\", \"B\"),\n",
    "                    ncol = 1, nrow = 2)\n",
    "figure."
   ]
  },
  {
   "cell_type": "code",
   "execution_count": null,
   "metadata": {},
   "outputs": [],
   "source": []
  }
 ],
 "metadata": {
  "kernelspec": {
   "display_name": "R",
   "language": "R",
   "name": "ir"
  },
  "language_info": {
   "codemirror_mode": "r",
   "file_extension": ".r",
   "mimetype": "text/x-r-source",
   "name": "R",
   "pygments_lexer": "r",
   "version": "3.6.1"
  }
 },
 "nbformat": 4,
 "nbformat_minor": 4
}
