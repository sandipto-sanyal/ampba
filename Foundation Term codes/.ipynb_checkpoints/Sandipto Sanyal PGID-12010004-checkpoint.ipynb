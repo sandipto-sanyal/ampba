{
 "cells": [
  {
   "cell_type": "markdown",
   "metadata": {},
   "source": [
    "# Name: Sandipto Sanyal\n",
    "# PGID: 12010004"
   ]
  },
  {
   "cell_type": "markdown",
   "metadata": {},
   "source": [
    "## Import necessary libraries <a id='lib'></a>"
   ]
  },
  {
   "cell_type": "code",
   "execution_count": 49,
   "metadata": {},
   "outputs": [
    {
     "name": "stderr",
     "output_type": "stream",
     "text": [
      "Warning message:\n",
      "\"package 'dplyr' was built under R version 3.6.2\"\n",
      "Attaching package: 'dplyr'\n",
      "\n",
      "The following objects are masked from 'package:stats':\n",
      "\n",
      "    filter, lag\n",
      "\n",
      "The following objects are masked from 'package:base':\n",
      "\n",
      "    intersect, setdiff, setequal, union\n",
      "\n"
     ]
    }
   ],
   "source": [
    "library(repr) # to set the graph sizes\n",
    "library(e1071) # statistical libraries\n",
    "library(ggplot2) # create different graphs\n",
    "library(ggpubr) # show mutiple ggplots\n",
    "library(\"readxl\") # to read excel data\n",
    "library(dplyr)"
   ]
  },
  {
   "cell_type": "markdown",
   "metadata": {},
   "source": [
    "# Table of Contents\n",
    "1. [Question 1](#q1)\n",
    "1. [Question 2](#q2)\n",
    "1. [Question 3](#q3)\n",
    "1. [Question 4](#q4)\n",
    "1. [Question 5](#q5)\n",
    "1. [Question 6](#q6)\n",
    "1. [Question 7](#q7)\n",
    "1. [Question 8](#q8)\n",
    "1. [Question 9](#q9)\n",
    "1. [Question 10](#q10)\n",
    "1. [Question 11](#question11)\n",
    "1. [Question 12](#q12)"
   ]
  },
  {
   "cell_type": "markdown",
   "metadata": {},
   "source": [
    "# Question 1 <a id='q1'></a>"
   ]
  },
  {
   "cell_type": "markdown",
   "metadata": {},
   "source": [
    "## Given attributes"
   ]
  },
  {
   "cell_type": "code",
   "execution_count": 2,
   "metadata": {},
   "outputs": [],
   "source": [
    "u = 77.0\n",
    "sigma = 3.4\n",
    "## Visualize the distribution\n",
    "# Create a sequence of numbers between 50 and 100 incrementing by 0.01.\n",
    "x <- seq(50, 100, by = .01)\n",
    "# Choose the mean and standard deviation as sigma \n",
    "#to give probability distribution at each point of x\n",
    "y <- dnorm(x, mean = u, sd = sigma)"
   ]
  },
  {
   "cell_type": "markdown",
   "metadata": {},
   "source": [
    "## (a) Probability that random variable is less than 72.6"
   ]
  },
  {
   "cell_type": "code",
   "execution_count": 3,
   "metadata": {},
   "outputs": [
    {
     "data": {
      "text/html": [
       "<span style=white-space:pre-wrap>'Z Score is  -1.29411764705883'</span>"
      ],
      "text/latex": [
       "'Z Score is  -1.29411764705883'"
      ],
      "text/markdown": [
       "<span style=white-space:pre-wrap>'Z Score is  -1.29411764705883'</span>"
      ],
      "text/plain": [
       "[1] \"Z Score is  -1.29411764705883\""
      ]
     },
     "metadata": {},
     "output_type": "display_data"
    },
    {
     "data": {
      "text/html": [
       "<span style=white-space:pre-wrap>'Probability is  0.097812393434633'</span>"
      ],
      "text/latex": [
       "'Probability is  0.097812393434633'"
      ],
      "text/markdown": [
       "<span style=white-space:pre-wrap>'Probability is  0.097812393434633'</span>"
      ],
      "text/plain": [
       "[1] \"Probability is  0.097812393434633\""
      ]
     },
     "metadata": {},
     "output_type": "display_data"
    },
    {
     "data": {
      "image/png": "[encoded data removed]",
      "text/plain": [
       "Plot with title \"random variable is less than 72.6\""
      ]
     },
     "metadata": {},
     "output_type": "display_data"
    }
   ],
   "source": [
    "## Let the random variable is n\n",
    "n = 72.6\n",
    "# set the figure size\n",
    "options(repr.plot.width=4, repr.plot.height=3)\n",
    "plot(x,y, type='l', \n",
    "     main='random variable is less than 72.6',\n",
    "    ylab='frequency')\n",
    "polygon(c(x[x<=n], n), c(y[x<=n], 0), col=\"red\")\n",
    "## Find z score\n",
    "z_score = (n-u)/sigma\n",
    "## Find the p value\n",
    "p = pnorm(z_score)\n",
    "## probability that random variable is (a) less than 72.6\n",
    "probabilities = p\n",
    "paste(c('Z Score is ', z_score), collapse = \" \")\n",
    "paste(c('Probability is ', probabilities), collapse = \" \")"
   ]
  },
  {
   "cell_type": "markdown",
   "metadata": {},
   "source": [
    "## (b) Probability that random variable is greater than 88.5 "
   ]
  },
  {
   "cell_type": "code",
   "execution_count": 4,
   "metadata": {},
   "outputs": [
    {
     "data": {
      "text/html": [
       "<span style=white-space:pre-wrap>'Z Score is  3.38235294117647'</span>"
      ],
      "text/latex": [
       "'Z Score is  3.38235294117647'"
      ],
      "text/markdown": [
       "<span style=white-space:pre-wrap>'Z Score is  3.38235294117647'</span>"
      ],
      "text/plain": [
       "[1] \"Z Score is  3.38235294117647\""
      ]
     },
     "metadata": {},
     "output_type": "display_data"
    },
    {
     "data": {
      "text/html": [
       "<span style=white-space:pre-wrap>'Probability is  0.000359338725646752'</span>"
      ],
      "text/latex": [
       "'Probability is  0.000359338725646752'"
      ],
      "text/markdown": [
       "<span style=white-space:pre-wrap>'Probability is  0.000359338725646752'</span>"
      ],
      "text/plain": [
       "[1] \"Probability is  0.000359338725646752\""
      ]
     },
     "metadata": {},
     "output_type": "display_data"
    },
    {
     "data": {
      "image/png": "[encoded data removed]",
      "text/plain": [
       "Plot with title \"random variable is greater than 88.5\""
      ]
     },
     "metadata": {},
     "output_type": "display_data"
    }
   ],
   "source": [
    "## Let the random variable is n\n",
    "n = 88.5\n",
    "options(repr.plot.width=4, repr.plot.height=3)\n",
    "plot(x,y, type='l', \n",
    "     main='random variable is greater than 88.5',\n",
    "    ylab='frequency')\n",
    "polygon(x=c(n,x[x>=n]), y=c(0, y[x>=n]), col=\"red\")\n",
    "## Find z score\n",
    "z_score = (n-u)/sigma\n",
    "## Find the p value\n",
    "p = pnorm(z_score)\n",
    "## probability that random variable is (a) less than 72.6\n",
    "probabilities = p\n",
    "paste(c('Z Score is ', z_score), collapse = \" \")\n",
    "paste(c('Probability is ', 1-probabilities), collapse = \" \")"
   ]
  },
  {
   "cell_type": "markdown",
   "metadata": {},
   "source": [
    "<b>Interpretation of the graph: </b>We can see from step 4 above that the number 88.4 is more than 3 standard deviations away from our mean. This gives us a probability which is almost equal to 0 and hence no area is shaded by our plot."
   ]
  },
  {
   "cell_type": "markdown",
   "metadata": {},
   "source": [
    "## (c) Probability that random variable is between 81 and 84 "
   ]
  },
  {
   "cell_type": "code",
   "execution_count": 5,
   "metadata": {},
   "outputs": [
    {
     "data": {
      "text/html": [
       "<span style=white-space:pre-wrap>'Z Score 1 is  1.17647058823529 ; Z Score 2 is  2.05882352941176'</span>"
      ],
      "text/latex": [
       "'Z Score 1 is  1.17647058823529 ; Z Score 2 is  2.05882352941176'"
      ],
      "text/markdown": [
       "<span style=white-space:pre-wrap>'Z Score 1 is  1.17647058823529 ; Z Score 2 is  2.05882352941176'</span>"
      ],
      "text/plain": [
       "[1] \"Z Score 1 is  1.17647058823529 ; Z Score 2 is  2.05882352941176\""
      ]
     },
     "metadata": {},
     "output_type": "display_data"
    },
    {
     "data": {
      "text/html": [
       "<span style=white-space:pre-wrap>'Probability is  0.0999478660096137'</span>"
      ],
      "text/latex": [
       "'Probability is  0.0999478660096137'"
      ],
      "text/markdown": [
       "<span style=white-space:pre-wrap>'Probability is  0.0999478660096137'</span>"
      ],
      "text/plain": [
       "[1] \"Probability is  0.0999478660096137\""
      ]
     },
     "metadata": {},
     "output_type": "display_data"
    },
    {
     "data": {
      "image/png": "[encoded data removed]",
      "text/plain": [
       "Plot with title \"random variable is between 81 and 84 \""
      ]
     },
     "metadata": {},
     "output_type": "display_data"
    }
   ],
   "source": [
    "## Let the random variable is in range [n1,n2]\n",
    "n1 = 81; n2= 84\n",
    "options(repr.plot.width=4, repr.plot.height=3)\n",
    "plot(x,y, type='l', \n",
    "     main='random variable is between 81 and 84 ',\n",
    "    ylab='frequency')\n",
    "polygon(x=c(n1,x[n1<=x & x<=n2],n2), y=c(0,y[n1<=x & x<=n2],0), col='red')\n",
    "## Find z score\n",
    "z_score1 = (n1-u)/sigma; z_score2 = (n2-u)/sigma\n",
    "## Find the p value\n",
    "p1 = pnorm(z_score1); p2 = pnorm(z_score2)\n",
    "## probability that random variable is (a) less than 72.6\n",
    "probabilities = p2 - p1\n",
    "paste(c('Z Score 1 is ', z_score1, '; Z Score 2 is ', z_score2), collapse = \" \")\n",
    "paste(c('Probability is ', probabilities), collapse = \" \")"
   ]
  },
  {
   "cell_type": "markdown",
   "metadata": {},
   "source": [
    "## (d) Probability that random variable is between 56 and 92"
   ]
  },
  {
   "cell_type": "code",
   "execution_count": 6,
   "metadata": {},
   "outputs": [
    {
     "data": {
      "text/html": [
       "<span style=white-space:pre-wrap>'Z Score 1 is  -6.17647058823529 ; Z Score 2 is  4.41176470588235'</span>"
      ],
      "text/latex": [
       "'Z Score 1 is  -6.17647058823529 ; Z Score 2 is  4.41176470588235'"
      ],
      "text/markdown": [
       "<span style=white-space:pre-wrap>'Z Score 1 is  -6.17647058823529 ; Z Score 2 is  4.41176470588235'</span>"
      ],
      "text/plain": [
       "[1] \"Z Score 1 is  -6.17647058823529 ; Z Score 2 is  4.41176470588235\""
      ]
     },
     "metadata": {},
     "output_type": "display_data"
    },
    {
     "data": {
      "text/html": [
       "<span style=white-space:pre-wrap>'Probability is  0.999994873097099'</span>"
      ],
      "text/latex": [
       "'Probability is  0.999994873097099'"
      ],
      "text/markdown": [
       "<span style=white-space:pre-wrap>'Probability is  0.999994873097099'</span>"
      ],
      "text/plain": [
       "[1] \"Probability is  0.999994873097099\""
      ]
     },
     "metadata": {},
     "output_type": "display_data"
    },
    {
     "data": {
      "image/png": "[encoded data removed]",
      "text/plain": [
       "Plot with title \"random variable is between 56 and 92 \""
      ]
     },
     "metadata": {},
     "output_type": "display_data"
    }
   ],
   "source": [
    "## Let the random variable is in range [n1,n2]\n",
    "n1 = 56; n2= 92\n",
    "options(repr.plot.width=4, repr.plot.height=3)\n",
    "plot(x,y, type='l', \n",
    "     main='random variable is between 56 and 92 ',\n",
    "    ylab='frequency')\n",
    "polygon(x=c(n1,x[n1<=x & x<=n2],n2), y=c(0,y[n1<=x & x<=n2],0), col='red')\n",
    "## Find z score\n",
    "z_score1 = (n1-u)/sigma; z_score2 = (n2-u)/sigma\n",
    "## Find the p value\n",
    "p1 = pnorm(z_score1); p2 = pnorm(z_score2)\n",
    "probabilities = p2 - p1\n",
    "paste(c('Z Score 1 is ', z_score1, '; Z Score 2 is ', z_score2), collapse = \" \")\n",
    "paste(c('Probability is ', probabilities), collapse = \" \")"
   ]
  },
  {
   "cell_type": "markdown",
   "metadata": {},
   "source": [
    "# Question 2 <a id='q2'></a>"
   ]
  },
  {
   "cell_type": "markdown",
   "metadata": {},
   "source": [
    "## Given attributes"
   ]
  },
  {
   "cell_type": "code",
   "execution_count": 7,
   "metadata": {},
   "outputs": [],
   "source": [
    "u = 145.0\n",
    "sigma = 12\n",
    "## Visualize the distribution\n",
    "# Create a sequence of numbers between 50 and 100 incrementing by 0.01.\n",
    "x <- seq(100, 200, by = .01)\n",
    "# Choose the mean and standard deviation as sigma \n",
    "#to give probability distribution at each point of x\n",
    "y <- dnorm(x, mean = u, sd = sigma)"
   ]
  },
  {
   "cell_type": "markdown",
   "metadata": {},
   "source": [
    "## (a) Find percentage of car racers whose finish time is between 130 and 160 minutes"
   ]
  },
  {
   "cell_type": "code",
   "execution_count": 8,
   "metadata": {},
   "outputs": [
    {
     "data": {
      "text/html": [
       "<span style=white-space:pre-wrap>'Z Score 1 is  -1.25 ; Z Score 2 is  1.25'</span>"
      ],
      "text/latex": [
       "'Z Score 1 is  -1.25 ; Z Score 2 is  1.25'"
      ],
      "text/markdown": [
       "<span style=white-space:pre-wrap>'Z Score 1 is  -1.25 ; Z Score 2 is  1.25'</span>"
      ],
      "text/plain": [
       "[1] \"Z Score 1 is  -1.25 ; Z Score 2 is  1.25\""
      ]
     },
     "metadata": {},
     "output_type": "display_data"
    },
    {
     "data": {
      "text/html": [
       "<span style=white-space:pre-wrap>'percentage of car racers whose finish time is between 130 and 160 minutes  78.8700452666289 %'</span>"
      ],
      "text/latex": [
       "'percentage of car racers whose finish time is between 130 and 160 minutes  78.8700452666289 \\%'"
      ],
      "text/markdown": [
       "<span style=white-space:pre-wrap>'percentage of car racers whose finish time is between 130 and 160 minutes  78.8700452666289 %'</span>"
      ],
      "text/plain": [
       "[1] \"percentage of car racers whose finish time is between 130 and 160 minutes  78.8700452666289 %\""
      ]
     },
     "metadata": {},
     "output_type": "display_data"
    },
    {
     "data": {
      "image/png": "[encoded data removed]",
      "text/plain": [
       "Plot with title \"random variable is between 81 and 84 \""
      ]
     },
     "metadata": {},
     "output_type": "display_data"
    }
   ],
   "source": [
    "## Let the random variable is in range [n1,n2]\n",
    "n1 = 130; n2= 160\n",
    "options(repr.plot.width=4, repr.plot.height=3)\n",
    "plot(x,y, type='l', \n",
    "     main='random variable is between 81 and 84 ',\n",
    "    ylab='frequency')\n",
    "polygon(x=c(n1,x[n1<=x & x<=n2],n2), y=c(0,y[n1<=x & x<=n2],0), col='red')\n",
    "## Find z score\n",
    "z_score1 = (n1-u)/sigma; z_score2 = (n2-u)/sigma\n",
    "## Find the p value\n",
    "p1 = pnorm(z_score1); p2 = pnorm(z_score2)\n",
    "## probability that random variable is (a) less than 72.6\n",
    "probabilities = p2 - p1\n",
    "paste(c('Z Score 1 is ', z_score1, '; Z Score 2 is ', z_score2), collapse = \" \")\n",
    "paste(c('percentage of car racers whose finish time is between 130 and 160 minutes ', probabilities*100, '%'), collapse = \" \")"
   ]
  },
  {
   "cell_type": "markdown",
   "metadata": {},
   "source": [
    "## (b) Find percentage of car racers whose finish time is less than 130 minutes"
   ]
  },
  {
   "cell_type": "code",
   "execution_count": 9,
   "metadata": {},
   "outputs": [
    {
     "data": {
      "text/html": [
       "<span style=white-space:pre-wrap>'Z Score is  -1.25'</span>"
      ],
      "text/latex": [
       "'Z Score is  -1.25'"
      ],
      "text/markdown": [
       "<span style=white-space:pre-wrap>'Z Score is  -1.25'</span>"
      ],
      "text/plain": [
       "[1] \"Z Score is  -1.25\""
      ]
     },
     "metadata": {},
     "output_type": "display_data"
    },
    {
     "data": {
      "text/html": [
       "<span style=white-space:pre-wrap>'percentage of car racers whose finish time is less than 130 minutes  10.5649773666855 %'</span>"
      ],
      "text/latex": [
       "'percentage of car racers whose finish time is less than 130 minutes  10.5649773666855 \\%'"
      ],
      "text/markdown": [
       "<span style=white-space:pre-wrap>'percentage of car racers whose finish time is less than 130 minutes  10.5649773666855 %'</span>"
      ],
      "text/plain": [
       "[1] \"percentage of car racers whose finish time is less than 130 minutes  10.5649773666855 %\""
      ]
     },
     "metadata": {},
     "output_type": "display_data"
    },
    {
     "data": {
      "image/png": "[encoded data removed]",
      "text/plain": [
       "Plot with title \"random variable is less than 72.6\""
      ]
     },
     "metadata": {},
     "output_type": "display_data"
    }
   ],
   "source": [
    "## Let the random variable is n\n",
    "n = 130\n",
    "# set the figure size\n",
    "options(repr.plot.width=4, repr.plot.height=3)\n",
    "plot(x,y, type='l', \n",
    "     main='random variable is less than 72.6',\n",
    "    ylab='frequency')\n",
    "polygon(c(x[x<=n], n), c(y[x<=n], 0), col=\"red\")\n",
    "## Find z score\n",
    "z_score = (n-u)/sigma\n",
    "## Find the p value\n",
    "p = pnorm(z_score)\n",
    "## probability that random variable is (a) less than 72.6\n",
    "probabilities = p\n",
    "paste(c('Z Score is ', z_score), collapse = \" \")\n",
    "paste(c('percentage of car racers whose finish time is less than 130 minutes ', probabilities*100, '%'), collapse = \" \")"
   ]
  },
  {
   "cell_type": "markdown",
   "metadata": {},
   "source": [
    "# Question 3 <a id='q3'></a>"
   ]
  },
  {
   "cell_type": "markdown",
   "metadata": {},
   "source": [
    "Since the experiment is of binary outcome <b>True or False</b> and also has more than 1 trials = 15 it is a case of binomial distribution with n = no. of outcomes = 15, probability of success of each outcome = p = 0.5"
   ]
  },
  {
   "cell_type": "markdown",
   "metadata": {},
   "source": [
    "## (a) What is the probability that the student got first five questions correct.\n",
    "This means we have to find P(C,C,C,C,C,W,W,W,W,W,W,W,W,W,W). For each question probability of success is 0.5. So for five questions it is 0.5<sup>5</sup> and for rest of the 10 questions probabilit of failure will be (1-0.5)<sup>10</sup>. <br>\n",
    "Since we are wanting probability that the student got first 5 question correct at a row we will calculate the required probability as <b>0.5<sup>5</sup> x (1-0.5)<sup>10</sup></b>"
   ]
  },
  {
   "cell_type": "code",
   "execution_count": 10,
   "metadata": {},
   "outputs": [
    {
     "data": {
      "text/html": [
       "<span style=white-space:pre-wrap>'probability that the student got first five questions correct  3.0517578125e-05'</span>"
      ],
      "text/latex": [
       "'probability that the student got first five questions correct  3.0517578125e-05'"
      ],
      "text/markdown": [
       "<span style=white-space:pre-wrap>'probability that the student got first five questions correct  3.0517578125e-05'</span>"
      ],
      "text/plain": [
       "[1] \"probability that the student got first five questions correct  3.0517578125e-05\""
      ]
     },
     "metadata": {},
     "output_type": "display_data"
    }
   ],
   "source": [
    "probabilities = (0.5)**5*(0.5)**10\n",
    "paste(c('probability that the student got first five questions correct ', probabilities), collapse = \" \")"
   ]
  },
  {
   "cell_type": "markdown",
   "metadata": {},
   "source": [
    "## (b) What is the probability that the student got five questions correct\n",
    "For this we want to know the probability that the student got any of the 5 question correct. Obviously this probability is expected to be much higher than what we found in previous question.\n",
    "1. Firstly we are choosing any five questions out of 15 questions. So no. of choices will be <sup>15</sup>C<sub>5</sub>.\n",
    "1. Now for each question probability of success is 0.5. So for five questions it is 0.5<sup>5</sup> and for rest of the 10 questions probabilit of failure will be (1-0.5)<sup>10</sup>.\n",
    "1. Thus total probability of our student getting <b>any</b> 5 questions correct is <b><sup>15</sup>C<sub>5</sub> x 0.5<sup>5</sup> x (1-0.5)<sup>10</sup>"
   ]
  },
  {
   "cell_type": "code",
   "execution_count": 11,
   "metadata": {},
   "outputs": [
    {
     "data": {
      "text/html": [
       "<span style=white-space:pre-wrap>'probability that the student got five questions correct  0.091644287109375'</span>"
      ],
      "text/latex": [
       "'probability that the student got five questions correct  0.091644287109375'"
      ],
      "text/markdown": [
       "<span style=white-space:pre-wrap>'probability that the student got five questions correct  0.091644287109375'</span>"
      ],
      "text/plain": [
       "[1] \"probability that the student got five questions correct  0.091644287109375\""
      ]
     },
     "metadata": {},
     "output_type": "display_data"
    }
   ],
   "source": [
    "nCr = dim(combn(15,5))[2]\n",
    "probabilities = nCr*0.5^5*0.5^10\n",
    "paste(c('probability that the student got five questions correct ', probabilities), collapse = \" \")"
   ]
  },
  {
   "cell_type": "markdown",
   "metadata": {},
   "source": [
    "### Visualize the above using R plot\n",
    "Also we can calculate the same using R package as below"
   ]
  },
  {
   "cell_type": "code",
   "execution_count": 12,
   "metadata": {},
   "outputs": [
    {
     "data": {
      "text/html": [
       "<span style=white-space:pre-wrap>'probability that the student got five questions correct  0.0916442871093751'</span>"
      ],
      "text/latex": [
       "'probability that the student got five questions correct  0.0916442871093751'"
      ],
      "text/markdown": [
       "<span style=white-space:pre-wrap>'probability that the student got five questions correct  0.0916442871093751'</span>"
      ],
      "text/plain": [
       "[1] \"probability that the student got five questions correct  0.0916442871093751\""
      ]
     },
     "metadata": {},
     "output_type": "display_data"
    },
    {
     "data": {
      "image/png": "[encoded data removed]",
      "text/plain": [
       "Plot with title \"Binomial distribution\""
      ]
     },
     "metadata": {},
     "output_type": "display_data"
    }
   ],
   "source": [
    "no_of_trials = 15; no_of_success = 5\n",
    "# Create a sequence of 15 numbers which denotes our maximum number of trials and each denotes number of successes\n",
    "#which are incremented by 1.\n",
    "x <- seq(0,no_of_trials,by = 1)\n",
    "# Create the binomial distribution.size is the number of trials, prob= Probability of success \n",
    "y <- dbinom(x=x, size=no_of_trials, prob=0.5)\n",
    "# set the figure size\n",
    "options(repr.plot.width=4, repr.plot.height=4)\n",
    "plot(x,y, type='o', \n",
    "     main='Binomial distribution',\n",
    "     xlab='No. of successes',\n",
    "    ylab='Probability of getting x number of successes')\n",
    "abline(a=NULL, b=NULL, h=y[x==no_of_success], v=no_of_success, col='red')\n",
    "probabilities = y[x==no_of_success]\n",
    "paste(c('probability that the student got five questions correct ', probabilities), collapse = \" \")"
   ]
  },
  {
   "cell_type": "markdown",
   "metadata": {},
   "source": [
    "# Question 4 <a id='q4'></a>\n",
    "We are given probability of marks being in range 35 and 42 as 68%. Below are the thought proces: <br>\n",
    "1. We know in a normal distribution 68% of the data lies between +/-1 standard deviation.\n",
    "1. So mean - 1sd = 35 and mean + 1sd = 42.\n",
    "1. Solving them mean = (35+42)/2 = <b>38.5</b>\n",
    "1. Standard deviation = 42 - mean = <b>3.5</b>"
   ]
  },
  {
   "cell_type": "markdown",
   "metadata": {},
   "source": [
    "# Question 5 <a id='q5'></a>\n",
    "Let's consider the two event as A as clearing the first exam and B as clearing the second exam. Its given that:<br>\n",
    "1. P(A <span>&#8745;</span> B) = 30%\n",
    "1. P(A) = 55%\n",
    "1. So we are asked to find P(B|A) = P(A <span>&#8745;</span> B)/P(A) = 30/55 = 0.55 = <b>54.54%</b>"
   ]
  },
  {
   "cell_type": "markdown",
   "metadata": {},
   "source": [
    "# Question 6 <a id='q6'></a>\n",
    "Let's consider the two event as TV as having a TV and DVD as having a DVD. Its given that:<br>\n",
    "1. P(TV <span>&#8745;</span> DVD) = 62%\n",
    "1. P(TV) = 82%\n",
    "1. So we are asked to find P(DVD|TV) = P(TV <span>&#8745;</span> DVD)/P(TV) = 62/82 = 0.756 = <b>75.6%</b>"
   ]
  },
  {
   "cell_type": "markdown",
   "metadata": {},
   "source": [
    "# Question 7 <a id='q7'></a>\n",
    "Given we have coin toss means we have two ouputs and more than one trials we are dealing with a random variable which follows binomial distribution. The following data is given:\n",
    "1. no. of trials = n = 3\n",
    "1. Probability of success i.e. having Head = p = 0.5"
   ]
  },
  {
   "cell_type": "markdown",
   "metadata": {},
   "source": [
    "## (a) probability of getting all three heads\n",
    "We are asked to find <b>P(HHH) = 0.5^3 = 0.125"
   ]
  },
  {
   "cell_type": "markdown",
   "metadata": {},
   "source": [
    "## (b) probability of getting exactly 1 head\n",
    "For this\n",
    "1. We first have <sup>3</sup>C<sub>1</sub> choices for getting only 1 head in all 3 trials.\n",
    "1. Probability of getting 1 head is 0.5\n",
    "1. Probability of not getting other tosses as head is (1-0.5)<sup>2</sup><br>\n",
    "\n",
    "So the required probabality = <b><sup>3</sup>C<sub>1</sub> x 0.5<sup>1</sup> x (1-0.5)<sup>2</sup> = 0.375"
   ]
  },
  {
   "cell_type": "code",
   "execution_count": 13,
   "metadata": {},
   "outputs": [
    {
     "data": {
      "text/html": [
       "0.375"
      ],
      "text/latex": [
       "0.375"
      ],
      "text/markdown": [
       "0.375"
      ],
      "text/plain": [
       "[1] 0.375"
      ]
     },
     "metadata": {},
     "output_type": "display_data"
    }
   ],
   "source": [
    "3*0.5*0.5^2"
   ]
  },
  {
   "cell_type": "markdown",
   "metadata": {},
   "source": [
    "## (c) Given that you have seen exactly one head, what is the probability of getting at least two heads?\n",
    "- P(getting at least two heads) = P(getting exactly two heads) + P(getting all heads) = <b><sup>3</sup>C<sub>2</sub> x 0.5<sup>2</sup> x (1-0.5)<sup>1</sup> + <sup>3</sup>C<sub>3</sub> x 0.5<sup>3</sup> x (1-0.5)<sup>0</sup> = 0.5"
   ]
  },
  {
   "cell_type": "code",
   "execution_count": 14,
   "metadata": {},
   "outputs": [
    {
     "data": {
      "text/html": [
       "0.5"
      ],
      "text/latex": [
       "0.5"
      ],
      "text/markdown": [
       "0.5"
      ],
      "text/plain": [
       "[1] 0.5"
      ]
     },
     "metadata": {},
     "output_type": "display_data"
    }
   ],
   "source": [
    "dim(combn(3,2))[2]*0.5^2*0.5^1 + dim(combn(3,3))[2]*0.5^3*0.5^0"
   ]
  },
  {
   "cell_type": "markdown",
   "metadata": {},
   "source": [
    "# Question 8 <a id='q8'></a>\n",
    "Let x be the random variable that represents the speed of cars. x has μ = 90 and σ = 10. We have to find the probability that x is higher than 100 or P(x > 100)"
   ]
  },
  {
   "cell_type": "markdown",
   "metadata": {},
   "source": [
    "## Visualize the normal distribution\n",
    "Here we will visualize the above normal distributions for a better understanding."
   ]
  },
  {
   "cell_type": "code",
   "execution_count": 15,
   "metadata": {},
   "outputs": [],
   "source": [
    "# let the random variable be n\n",
    "n = 100\n",
    "u = 90\n",
    "sigma = 10\n",
    "x = seq(50,150, by=0.1)\n",
    "y = dnorm(x, mean=u, sd=sigma)"
   ]
  },
  {
   "cell_type": "code",
   "execution_count": 16,
   "metadata": {},
   "outputs": [
    {
     "data": {
      "image/png": "[encoded data removed]",
      "text/plain": [
       "plot without title"
      ]
     },
     "metadata": {},
     "output_type": "display_data"
    }
   ],
   "source": [
    "options(repr.plot.width=4, repr.plot.height=4)\n",
    "plot(x,y,type=\"l\",col=\"red\", xlab='Speed of cars', ylab='Probability of speed')\n",
    "polygon(x=c(n,x[x>=n],150), y=c(0,y[x>=n],0), col=\"red\")"
   ]
  },
  {
   "cell_type": "code",
   "execution_count": 17,
   "metadata": {},
   "outputs": [
    {
     "name": "stdout",
     "output_type": "stream",
     "text": [
      "[1] \"Probability of speed of a car >= 100 \"\n",
      "[2] \"0.158655253931457\"                    \n"
     ]
    }
   ],
   "source": [
    "probability = 1 - pnorm(q=n, mean=u, sd=sigma)\n",
    "print(c(\"Probability of speed of a car >= 100 \",probability))"
   ]
  },
  {
   "cell_type": "markdown",
   "metadata": {},
   "source": [
    "# Question 9 <a id='q9'></a>\n",
    "Here we have two sets having color mix of M&Ms as follows:\n",
    " - 1994: (30% Brown, 20% Yellow, 20% Red, 10% Green, 10% Orange, 10% Tan)\n",
    " - 1995 and afterwards: (24% Blue, 20% Green, 16% Orange, 14% Yellow, 13% Red, 13% Brown)\n",
    "\n",
    "So we have to find the probability of P(Bag from 1994|M&M is yellow).<br>\n",
    "From total probability theorem P(M&M is yellow) = P(M&M is yellow|Bag from 1994) x P(Bag from 1994) + P(M&M is yellow|Bag <b>Not</b> from 1994) x P(Bag <b>Not</b> from 1994) = 0.2 * 0.5 + 0.14 * 0.5 = 0.17\n",
    "<br><br>\n",
    "By Bayes theorem we know that P(Bag from 1994|M&M is yellow) = P(M&M is yellow|Bag from 1994).P(Bag from 1994)/P(M&M is yellow) = (0.2 * 0.5)/0.17 = <b>0.588"
   ]
  },
  {
   "cell_type": "markdown",
   "metadata": {},
   "source": [
    "# Question 10 <a id='q10'></a>"
   ]
  },
  {
   "cell_type": "markdown",
   "metadata": {},
   "source": [
    "<b>Note:</b> All datasets were downloaded from https://in.finance.yahoo.com/ in the same timeframe.<br>\n",
    "Import and view first 6 rows of the dataset. Since we have dates we will suppres R converting strings to Factors as it will cause issues with date conversion."
   ]
  },
  {
   "cell_type": "code",
   "execution_count": 18,
   "metadata": {},
   "outputs": [
    {
     "data": {
      "text/html": [
       "<table>\n",
       "<thead><tr><th scope=col>Date</th><th scope=col>Open</th><th scope=col>High</th><th scope=col>Low</th><th scope=col>Close</th><th scope=col>Adj.Close</th><th scope=col>Volume</th></tr></thead>\n",
       "<tbody>\n",
       "\t<tr><td>2020-01-15</td><td>114.63    </td><td>115.87    </td><td>114.52    </td><td>115.28    </td><td>115.28    </td><td> 7454200  </td></tr>\n",
       "\t<tr><td>2020-01-16</td><td>115.50    </td><td>115.93    </td><td>115.28    </td><td>115.90    </td><td>115.90    </td><td> 5369400  </td></tr>\n",
       "\t<tr><td>2020-01-17</td><td>116.05    </td><td>116.30    </td><td>114.64    </td><td>114.96    </td><td>114.96    </td><td>10045000  </td></tr>\n",
       "\t<tr><td>2020-01-21</td><td>114.59    </td><td>115.69    </td><td>114.52    </td><td>115.59    </td><td>115.59    </td><td> 7353700  </td></tr>\n",
       "\t<tr><td>2020-01-22</td><td>115.22    </td><td>116.53    </td><td>115.18    </td><td>116.10    </td><td>116.10    </td><td> 4926100  </td></tr>\n",
       "\t<tr><td>2020-01-23</td><td>116.21    </td><td>116.31    </td><td>115.04    </td><td>115.81    </td><td>115.81    </td><td> 4305100  </td></tr>\n",
       "</tbody>\n",
       "</table>\n"
      ],
      "text/latex": [
       "\\begin{tabular}{r|lllllll}\n",
       " Date & Open & High & Low & Close & Adj.Close & Volume\\\\\n",
       "\\hline\n",
       "\t 2020-01-15 & 114.63     & 115.87     & 114.52     & 115.28     & 115.28     &  7454200  \\\\\n",
       "\t 2020-01-16 & 115.50     & 115.93     & 115.28     & 115.90     & 115.90     &  5369400  \\\\\n",
       "\t 2020-01-17 & 116.05     & 116.30     & 114.64     & 114.96     & 114.96     & 10045000  \\\\\n",
       "\t 2020-01-21 & 114.59     & 115.69     & 114.52     & 115.59     & 115.59     &  7353700  \\\\\n",
       "\t 2020-01-22 & 115.22     & 116.53     & 115.18     & 116.10     & 116.10     &  4926100  \\\\\n",
       "\t 2020-01-23 & 116.21     & 116.31     & 115.04     & 115.81     & 115.81     &  4305100  \\\\\n",
       "\\end{tabular}\n"
      ],
      "text/markdown": [
       "\n",
       "| Date | Open | High | Low | Close | Adj.Close | Volume |\n",
       "|---|---|---|---|---|---|---|\n",
       "| 2020-01-15 | 114.63     | 115.87     | 114.52     | 115.28     | 115.28     |  7454200   |\n",
       "| 2020-01-16 | 115.50     | 115.93     | 115.28     | 115.90     | 115.90     |  5369400   |\n",
       "| 2020-01-17 | 116.05     | 116.30     | 114.64     | 114.96     | 114.96     | 10045000   |\n",
       "| 2020-01-21 | 114.59     | 115.69     | 114.52     | 115.59     | 115.59     |  7353700   |\n",
       "| 2020-01-22 | 115.22     | 116.53     | 115.18     | 116.10     | 116.10     |  4926100   |\n",
       "| 2020-01-23 | 116.21     | 116.31     | 115.04     | 115.81     | 115.81     |  4305100   |\n",
       "\n"
      ],
      "text/plain": [
       "  Date       Open   High   Low    Close  Adj.Close Volume  \n",
       "1 2020-01-15 114.63 115.87 114.52 115.28 115.28     7454200\n",
       "2 2020-01-16 115.50 115.93 115.28 115.90 115.90     5369400\n",
       "3 2020-01-17 116.05 116.30 114.64 114.96 114.96    10045000\n",
       "4 2020-01-21 114.59 115.69 114.52 115.59 115.59     7353700\n",
       "5 2020-01-22 115.22 116.53 115.18 116.10 116.10     4926100\n",
       "6 2020-01-23 116.21 116.31 115.04 115.81 115.81     4305100"
      ]
     },
     "metadata": {},
     "output_type": "display_data"
    }
   ],
   "source": [
    "walmart_df = read.csv('datasets/WMT.csv', stringsAsFactors = FALSE)\n",
    "head(walmart_df)"
   ]
  },
  {
   "cell_type": "markdown",
   "metadata": {},
   "source": [
    "## See the structure of the dataframe\n",
    "This we will do to check how R is parsing each column of our imported dataframe"
   ]
  },
  {
   "cell_type": "code",
   "execution_count": 19,
   "metadata": {},
   "outputs": [
    {
     "name": "stdout",
     "output_type": "stream",
     "text": [
      "'data.frame':\t41 obs. of  7 variables:\n",
      " $ Date     : chr  \"2020-01-15\" \"2020-01-16\" \"2020-01-17\" \"2020-01-21\" ...\n",
      " $ Open     : num  115 116 116 115 115 ...\n",
      " $ High     : num  116 116 116 116 117 ...\n",
      " $ Low      : num  115 115 115 115 115 ...\n",
      " $ Close    : num  115 116 115 116 116 ...\n",
      " $ Adj.Close: num  115 116 115 116 116 ...\n",
      " $ Volume   : int  7454200 5369400 10045000 7353700 4926100 4305100 4383400 7018400 5270200 3775500 ...\n"
     ]
    }
   ],
   "source": [
    "str(walmart_df)"
   ]
  },
  {
   "cell_type": "markdown",
   "metadata": {},
   "source": [
    "<b>Inference: </b> The column date was parsed as chr. Let's convert that into date format."
   ]
  },
  {
   "cell_type": "code",
   "execution_count": 20,
   "metadata": {},
   "outputs": [
    {
     "name": "stdout",
     "output_type": "stream",
     "text": [
      "'data.frame':\t41 obs. of  7 variables:\n",
      " $ Date     : Date, format: \"2020-01-15\" \"2020-01-16\" ...\n",
      " $ Open     : num  115 116 116 115 115 ...\n",
      " $ High     : num  116 116 116 116 117 ...\n",
      " $ Low      : num  115 115 115 115 115 ...\n",
      " $ Close    : num  115 116 115 116 116 ...\n",
      " $ Adj.Close: num  115 116 115 116 116 ...\n",
      " $ Volume   : int  7454200 5369400 10045000 7353700 4926100 4305100 4383400 7018400 5270200 3775500 ...\n"
     ]
    }
   ],
   "source": [
    "walmart_df$Date = as.Date(walmart_df$Date, format=\"%Y-%m-%d\")\n",
    "str(walmart_df)"
   ]
  },
  {
   "cell_type": "markdown",
   "metadata": {},
   "source": [
    "## (a) Calculate the mean and the standard deviation of the stock prices."
   ]
  },
  {
   "cell_type": "code",
   "execution_count": 21,
   "metadata": {},
   "outputs": [
    {
     "name": "stdout",
     "output_type": "stream",
     "text": [
      "[1] \"Mean of Adj.Close: \" \"115.433170414634\"    \"SD Adj.Close: \"     \n",
      "[4] \"2.80787373339469\"   \n"
     ]
    }
   ],
   "source": [
    "print(c(\"Mean of Adj.Close: \", mean(walmart_df$Adj.Close), \"SD Adj.Close: \", sd(walmart_df$Adj.Close)))"
   ]
  },
  {
   "cell_type": "markdown",
   "metadata": {},
   "source": [
    "## (b) Get the corresponding data for Sears and calculate the mean and the standard deviation"
   ]
  },
  {
   "cell_type": "markdown",
   "metadata": {},
   "source": [
    "Import sears holding dataset and view first 6 rows."
   ]
  },
  {
   "cell_type": "code",
   "execution_count": 22,
   "metadata": {},
   "outputs": [
    {
     "data": {
      "text/html": [
       "<table>\n",
       "<thead><tr><th scope=col>Date</th><th scope=col>Open</th><th scope=col>High</th><th scope=col>Low</th><th scope=col>Close</th><th scope=col>Adj.Close</th><th scope=col>Volume</th></tr></thead>\n",
       "<tbody>\n",
       "\t<tr><td>2020-01-15</td><td>0.19      </td><td>0.20      </td><td>0.19      </td><td>0.19      </td><td>0.19      </td><td> 315800   </td></tr>\n",
       "\t<tr><td>2020-01-16</td><td>0.19      </td><td>0.21      </td><td>0.19      </td><td>0.20      </td><td>0.20      </td><td> 207700   </td></tr>\n",
       "\t<tr><td>2020-01-17</td><td>0.21      </td><td>0.24      </td><td>0.20      </td><td>0.23      </td><td>0.23      </td><td> 739000   </td></tr>\n",
       "\t<tr><td>2020-01-21</td><td>0.23      </td><td>0.25      </td><td>0.20      </td><td>0.25      </td><td>0.25      </td><td>2035200   </td></tr>\n",
       "\t<tr><td>2020-01-22</td><td>0.24      </td><td>0.27      </td><td>0.24      </td><td>0.25      </td><td>0.25      </td><td> 512500   </td></tr>\n",
       "\t<tr><td>2020-01-23</td><td>0.27      </td><td>0.27      </td><td>0.25      </td><td>0.26      </td><td>0.26      </td><td> 157100   </td></tr>\n",
       "</tbody>\n",
       "</table>\n"
      ],
      "text/latex": [
       "\\begin{tabular}{r|lllllll}\n",
       " Date & Open & High & Low & Close & Adj.Close & Volume\\\\\n",
       "\\hline\n",
       "\t 2020-01-15 & 0.19       & 0.20       & 0.19       & 0.19       & 0.19       &  315800   \\\\\n",
       "\t 2020-01-16 & 0.19       & 0.21       & 0.19       & 0.20       & 0.20       &  207700   \\\\\n",
       "\t 2020-01-17 & 0.21       & 0.24       & 0.20       & 0.23       & 0.23       &  739000   \\\\\n",
       "\t 2020-01-21 & 0.23       & 0.25       & 0.20       & 0.25       & 0.25       & 2035200   \\\\\n",
       "\t 2020-01-22 & 0.24       & 0.27       & 0.24       & 0.25       & 0.25       &  512500   \\\\\n",
       "\t 2020-01-23 & 0.27       & 0.27       & 0.25       & 0.26       & 0.26       &  157100   \\\\\n",
       "\\end{tabular}\n"
      ],
      "text/markdown": [
       "\n",
       "| Date | Open | High | Low | Close | Adj.Close | Volume |\n",
       "|---|---|---|---|---|---|---|\n",
       "| 2020-01-15 | 0.19       | 0.20       | 0.19       | 0.19       | 0.19       |  315800    |\n",
       "| 2020-01-16 | 0.19       | 0.21       | 0.19       | 0.20       | 0.20       |  207700    |\n",
       "| 2020-01-17 | 0.21       | 0.24       | 0.20       | 0.23       | 0.23       |  739000    |\n",
       "| 2020-01-21 | 0.23       | 0.25       | 0.20       | 0.25       | 0.25       | 2035200    |\n",
       "| 2020-01-22 | 0.24       | 0.27       | 0.24       | 0.25       | 0.25       |  512500    |\n",
       "| 2020-01-23 | 0.27       | 0.27       | 0.25       | 0.26       | 0.26       |  157100    |\n",
       "\n"
      ],
      "text/plain": [
       "  Date       Open High Low  Close Adj.Close Volume \n",
       "1 2020-01-15 0.19 0.20 0.19 0.19  0.19       315800\n",
       "2 2020-01-16 0.19 0.21 0.19 0.20  0.20       207700\n",
       "3 2020-01-17 0.21 0.24 0.20 0.23  0.23       739000\n",
       "4 2020-01-21 0.23 0.25 0.20 0.25  0.25      2035200\n",
       "5 2020-01-22 0.24 0.27 0.24 0.25  0.25       512500\n",
       "6 2020-01-23 0.27 0.27 0.25 0.26  0.26       157100"
      ]
     },
     "metadata": {},
     "output_type": "display_data"
    }
   ],
   "source": [
    "shld_df = read.csv('datasets/SHLDQ.csv', stringsAsFactors = FALSE)\n",
    "head(shld_df)"
   ]
  },
  {
   "cell_type": "code",
   "execution_count": 23,
   "metadata": {},
   "outputs": [
    {
     "name": "stdout",
     "output_type": "stream",
     "text": [
      "'data.frame':\t41 obs. of  7 variables:\n",
      " $ Date     : chr  \"2020-01-15\" \"2020-01-16\" \"2020-01-17\" \"2020-01-21\" ...\n",
      " $ Open     : num  0.19 0.19 0.21 0.23 0.24 0.27 0.26 0.25 0.36 0.38 ...\n",
      " $ High     : num  0.2 0.21 0.24 0.25 0.27 0.27 0.27 0.37 0.41 0.39 ...\n",
      " $ Low      : num  0.19 0.19 0.2 0.2 0.24 0.25 0.25 0.25 0.36 0.3 ...\n",
      " $ Close    : num  0.19 0.2 0.23 0.25 0.25 0.26 0.25 0.36 0.37 0.33 ...\n",
      " $ Adj.Close: num  0.19 0.2 0.23 0.25 0.25 0.26 0.25 0.36 0.37 0.33 ...\n",
      " $ Volume   : int  315800 207700 739000 2035200 512500 157100 186500 2109000 1487300 1399100 ...\n"
     ]
    }
   ],
   "source": [
    "str(shld_df)"
   ]
  },
  {
   "cell_type": "markdown",
   "metadata": {},
   "source": [
    "Change the Date format"
   ]
  },
  {
   "cell_type": "code",
   "execution_count": 24,
   "metadata": {},
   "outputs": [],
   "source": [
    "shld_df$Date = as.Date(shld_df$Date, format='%m/%d/%Y')"
   ]
  },
  {
   "cell_type": "markdown",
   "metadata": {},
   "source": [
    "<b>Calculate the mean and standard deviation for Sears"
   ]
  },
  {
   "cell_type": "code",
   "execution_count": 25,
   "metadata": {},
   "outputs": [
    {
     "name": "stdout",
     "output_type": "stream",
     "text": [
      "[1] \"Mean of Adj.Close: \" \"0.251219512195122\"   \"SD Close.Last: \"    \n",
      "[4] \"0.0514390475199152\" \n"
     ]
    }
   ],
   "source": [
    "print(c(\"Mean of Adj.Close: \", mean(shld_df$Adj.Close), \"SD Close.Last: \", sd(shld_df$Adj.Close)))"
   ]
  },
  {
   "cell_type": "markdown",
   "metadata": {},
   "source": [
    "## Part (c) \n",
    "The coefficient of variation (CV)is defined as the ratio of the standard deviation over the mean.Calculate the CV of Wal-•‐Mart and Kmart stock prices. "
   ]
  },
  {
   "cell_type": "code",
   "execution_count": 26,
   "metadata": {},
   "outputs": [
    {
     "name": "stdout",
     "output_type": "stream",
     "text": [
      "[1] \"CV of Walmart: \"  \"0.02432466961887\"\n",
      "[1] \"CV of Sears: \"     \"0.204757373622964\"\n"
     ]
    }
   ],
   "source": [
    "print(c(\"CV of Walmart: \", sd(walmart_df$Adj.Close)/mean(walmart_df$Adj.Close)))\n",
    "print(c(\"CV of Sears: \", sd(shld_df$Adj.Close)/mean(shld_df$Adj.Close)))"
   ]
  },
  {
   "cell_type": "markdown",
   "metadata": {},
   "source": [
    "## Part (d)\n",
    "If the CV of the daily stock prices is taken as an indicator of risk of the stock, how do Wal-•‐Mart and Kmart stocks compare in terms of risk? (There are better measures of risk, but we will use CV in this exercise.)"
   ]
  },
  {
   "cell_type": "markdown",
   "metadata": {},
   "source": [
    "From the page Coefficient of Variation | Definition | Formula | Example. (n.d.). Retrieved March 15, 2020, from https://xplaind.com/428087/coefficient-of-variation it is clear that Sears having higher CV is a riskier company to invest."
   ]
  },
  {
   "cell_type": "markdown",
   "metadata": {},
   "source": [
    "## Part (e)\n",
    "Get the corresponding data of the Dow Jones Industrial Average (DJIA) and compute its CV. How\n",
    "do Wal-•‐ Mart and Kmart stocks compare with the DJIA in terms of risk?"
   ]
  },
  {
   "cell_type": "markdown",
   "metadata": {},
   "source": [
    "Import sears holding dataset and view first 6 rows."
   ]
  },
  {
   "cell_type": "code",
   "execution_count": 27,
   "metadata": {},
   "outputs": [
    {
     "data": {
      "text/html": [
       "<table>\n",
       "<thead><tr><th scope=col>Date</th><th scope=col>Open</th><th scope=col>High</th><th scope=col>Low</th><th scope=col>Close</th><th scope=col>Adj.Close</th><th scope=col>Volume</th></tr></thead>\n",
       "<tbody>\n",
       "\t<tr><td>2020-01-15</td><td>28901.80  </td><td>29127.59  </td><td>28897.35  </td><td>29030.22  </td><td>29030.22  </td><td>260270000 </td></tr>\n",
       "\t<tr><td>2020-01-16</td><td>29131.95  </td><td>29300.32  </td><td>29131.95  </td><td>29297.64  </td><td>29297.64  </td><td>252110000 </td></tr>\n",
       "\t<tr><td>2020-01-17</td><td>29313.31  </td><td>29373.62  </td><td>29289.91  </td><td>29348.10  </td><td>29348.10  </td><td>321820000 </td></tr>\n",
       "\t<tr><td>2020-01-21</td><td>29269.05  </td><td>29341.21  </td><td>29146.47  </td><td>29196.04  </td><td>29196.04  </td><td>320640000 </td></tr>\n",
       "\t<tr><td>2020-01-22</td><td>29263.63  </td><td>29320.20  </td><td>29172.26  </td><td>29186.27  </td><td>29186.27  </td><td>283440000 </td></tr>\n",
       "\t<tr><td>2020-01-23</td><td>29111.02  </td><td>29190.47  </td><td>28966.98  </td><td>29160.09  </td><td>29160.09  </td><td>307060000 </td></tr>\n",
       "</tbody>\n",
       "</table>\n"
      ],
      "text/latex": [
       "\\begin{tabular}{r|lllllll}\n",
       " Date & Open & High & Low & Close & Adj.Close & Volume\\\\\n",
       "\\hline\n",
       "\t 2020-01-15 & 28901.80   & 29127.59   & 28897.35   & 29030.22   & 29030.22   & 260270000 \\\\\n",
       "\t 2020-01-16 & 29131.95   & 29300.32   & 29131.95   & 29297.64   & 29297.64   & 252110000 \\\\\n",
       "\t 2020-01-17 & 29313.31   & 29373.62   & 29289.91   & 29348.10   & 29348.10   & 321820000 \\\\\n",
       "\t 2020-01-21 & 29269.05   & 29341.21   & 29146.47   & 29196.04   & 29196.04   & 320640000 \\\\\n",
       "\t 2020-01-22 & 29263.63   & 29320.20   & 29172.26   & 29186.27   & 29186.27   & 283440000 \\\\\n",
       "\t 2020-01-23 & 29111.02   & 29190.47   & 28966.98   & 29160.09   & 29160.09   & 307060000 \\\\\n",
       "\\end{tabular}\n"
      ],
      "text/markdown": [
       "\n",
       "| Date | Open | High | Low | Close | Adj.Close | Volume |\n",
       "|---|---|---|---|---|---|---|\n",
       "| 2020-01-15 | 28901.80   | 29127.59   | 28897.35   | 29030.22   | 29030.22   | 260270000  |\n",
       "| 2020-01-16 | 29131.95   | 29300.32   | 29131.95   | 29297.64   | 29297.64   | 252110000  |\n",
       "| 2020-01-17 | 29313.31   | 29373.62   | 29289.91   | 29348.10   | 29348.10   | 321820000  |\n",
       "| 2020-01-21 | 29269.05   | 29341.21   | 29146.47   | 29196.04   | 29196.04   | 320640000  |\n",
       "| 2020-01-22 | 29263.63   | 29320.20   | 29172.26   | 29186.27   | 29186.27   | 283440000  |\n",
       "| 2020-01-23 | 29111.02   | 29190.47   | 28966.98   | 29160.09   | 29160.09   | 307060000  |\n",
       "\n"
      ],
      "text/plain": [
       "  Date       Open     High     Low      Close    Adj.Close Volume   \n",
       "1 2020-01-15 28901.80 29127.59 28897.35 29030.22 29030.22  260270000\n",
       "2 2020-01-16 29131.95 29300.32 29131.95 29297.64 29297.64  252110000\n",
       "3 2020-01-17 29313.31 29373.62 29289.91 29348.10 29348.10  321820000\n",
       "4 2020-01-21 29269.05 29341.21 29146.47 29196.04 29196.04  320640000\n",
       "5 2020-01-22 29263.63 29320.20 29172.26 29186.27 29186.27  283440000\n",
       "6 2020-01-23 29111.02 29190.47 28966.98 29160.09 29160.09  307060000"
      ]
     },
     "metadata": {},
     "output_type": "display_data"
    }
   ],
   "source": [
    "dji_df = read.csv('datasets/DJI.csv', stringsAsFactors = FALSE)\n",
    "head(dji_df)"
   ]
  },
  {
   "cell_type": "code",
   "execution_count": 28,
   "metadata": {},
   "outputs": [
    {
     "name": "stdout",
     "output_type": "stream",
     "text": [
      "'data.frame':\t41 obs. of  7 variables:\n",
      " $ Date     : chr  \"2020-01-15\" \"2020-01-16\" \"2020-01-17\" \"2020-01-21\" ...\n",
      " $ Open     : num  28902 29132 29313 29269 29264 ...\n",
      " $ High     : num  29128 29300 29374 29341 29320 ...\n",
      " $ Low      : num  28897 29132 29290 29146 29172 ...\n",
      " $ Close    : num  29030 29298 29348 29196 29186 ...\n",
      " $ Adj.Close: num  29030 29298 29348 29196 29186 ...\n",
      " $ Volume   : int  260270000 252110000 321820000 320640000 283440000 307060000 380010000 337270000 330140000 302290000 ...\n"
     ]
    }
   ],
   "source": [
    "str(dji_df)"
   ]
  },
  {
   "cell_type": "markdown",
   "metadata": {},
   "source": [
    "Change the Date format"
   ]
  },
  {
   "cell_type": "code",
   "execution_count": 29,
   "metadata": {},
   "outputs": [],
   "source": [
    "dji_df$Date = as.Date(dji_df$Date, format='%m/%d/%Y')"
   ]
  },
  {
   "cell_type": "code",
   "execution_count": 30,
   "metadata": {},
   "outputs": [
    {
     "name": "stdout",
     "output_type": "stream",
     "text": [
      "[1] \"CV of Walmart: \"  \"0.02432466961887\"\n",
      "[1] \"CV of Sears: \"     \"0.204757373622964\"\n",
      "[1] \"CV of DJIA: \"       \"0.0752052357496378\"\n"
     ]
    }
   ],
   "source": [
    "print(c(\"CV of Walmart: \", sd(walmart_df$Adj.Close)/mean(walmart_df$Adj.Close)))\n",
    "print(c(\"CV of Sears: \", sd(shld_df$Adj.Close)/mean(shld_df$Adj.Close)))\n",
    "print(c(\"CV of DJIA: \", sd(dji_df$Adj.Close)/mean(dji_df$Adj.Close)))"
   ]
  },
  {
   "cell_type": "markdown",
   "metadata": {},
   "source": [
    "<b>Inference: </b>In terms of risk of investment Sears > DJIA > Walmart."
   ]
  },
  {
   "cell_type": "markdown",
   "metadata": {},
   "source": [
    "## Part (f)\n",
    "Suppose you bought 100 shares of Wal-•‐Mart stock three months ago and held it. What are the mean\n",
    "and the standard deviation of the daily market price of your holding for the three months?"
   ]
  },
  {
   "cell_type": "code",
   "execution_count": 31,
   "metadata": {},
   "outputs": [
    {
     "name": "stdout",
     "output_type": "stream",
     "text": [
      "[1] \"Mean of our holdings = \" \"11543.3170414634\"       \n",
      "[1] \"SD of our holdings = \" \"280.787373339469\"     \n"
     ]
    }
   ],
   "source": [
    "# multiply number of shares = 100 with each element in walmart_df$Close\n",
    "holdings = 100*walmart_df$Adj.Close\n",
    "print(c(\"Mean of our holdings = \", mean(holdings)))\n",
    "print(c(\"SD of our holdings = \", sd(holdings)))"
   ]
  },
  {
   "cell_type": "markdown",
   "metadata": {},
   "source": [
    "# Question 11 <a id='question11'></a>\n",
    "For this problem, consider the dataset Prob_Assignment_Dataset.xlsx attached. As the vigilant\n",
    "monitors of the Zappos.Com website, we are obsessed with who is coming to our website and what they\n",
    "do during their visit. This challenge requires you to look at data similar to that which Analytics teams at\n",
    "Zappos would use to assess the overall performance of the business."
   ]
  },
  {
   "cell_type": "markdown",
   "metadata": {},
   "source": [
    "## Read the dataset\n",
    "Read the dataset and get a snapshot of the columns and data."
   ]
  },
  {
   "cell_type": "markdown",
   "metadata": {},
   "source": [
    "## View structure of the dataset"
   ]
  },
  {
   "cell_type": "code",
   "execution_count": 32,
   "metadata": {},
   "outputs": [
    {
     "name": "stderr",
     "output_type": "stream",
     "text": [
      "New names:\n",
      "* `` -> ...2\n"
     ]
    },
    {
     "name": "stdout",
     "output_type": "stream",
     "text": [
      "Classes 'tbl_df', 'tbl' and 'data.frame':\t21061 obs. of  12 variables:\n",
      " $ day               : POSIXct, format: \"2013-01-01\" \"2013-01-01\" ...\n",
      " $ site              : chr  \"Acme\" \"Acme\" \"Sortly\" \"Acme\" ...\n",
      " $ new_customer      : num  1 1 1 1 1 1 1 1 0 0 ...\n",
      " $ platform          : chr  \"Android\" \"BlackBerry\" \"iPad\" \"Windows\" ...\n",
      " $ visits            : num  24 0 0 922 11 384 14 1 41 448 ...\n",
      " $ distinct_sessions : num  16 0 0 520 10 214 10 0 27 368 ...\n",
      " $ orders            : num  14 0 0 527 11 213 4 0 6 36 ...\n",
      " $ gross_sales       : num  1287 13 98 60753 1090 ...\n",
      " $ bounces           : num  4 0 0 149 0 65 4 0 6 80 ...\n",
      " $ add_to_cart       : num  16 0 0 610 11 245 7 0 12 79 ...\n",
      " $ product_page_views: num  104 1 0 3914 4 ...\n",
      " $ search_page_views : num  192 0 0 7367 19 ...\n"
     ]
    }
   ],
   "source": [
    "df = read_excel('datasets//Prob_Assignment_Dataset (2).xlsx', sheet='Example_Data')\n",
    "data_reference = read_excel('datasets//Prob_Assignment_Dataset (2).xlsx', sheet='Data_Reference', col_names = TRUE)\n",
    "str(df)"
   ]
  },
  {
   "cell_type": "markdown",
   "metadata": {},
   "source": [
    "## View first 6 rows of dataframe"
   ]
  },
  {
   "cell_type": "code",
   "execution_count": 33,
   "metadata": {},
   "outputs": [
    {
     "data": {
      "text/html": [
       "<table>\n",
       "<thead><tr><th scope=col>day</th><th scope=col>site</th><th scope=col>new_customer</th><th scope=col>platform</th><th scope=col>visits</th><th scope=col>distinct_sessions</th><th scope=col>orders</th><th scope=col>gross_sales</th><th scope=col>bounces</th><th scope=col>add_to_cart</th><th scope=col>product_page_views</th><th scope=col>search_page_views</th></tr></thead>\n",
       "<tbody>\n",
       "\t<tr><td>2013-01-01</td><td>Acme      </td><td>1         </td><td>Android   </td><td> 24       </td><td> 16       </td><td> 14       </td><td> 1287     </td><td>  4       </td><td> 16       </td><td> 104      </td><td> 192      </td></tr>\n",
       "\t<tr><td>2013-01-01</td><td>Acme      </td><td>1         </td><td>BlackBerry</td><td>  0       </td><td>  0       </td><td>  0       </td><td>   13     </td><td>  0       </td><td>  0       </td><td>   1      </td><td>   0      </td></tr>\n",
       "\t<tr><td>2013-01-01</td><td>Sortly    </td><td>1         </td><td>iPad      </td><td>  0       </td><td>  0       </td><td>  0       </td><td>   98     </td><td>  0       </td><td>  0       </td><td>   0      </td><td>   0      </td></tr>\n",
       "\t<tr><td>2013-01-01</td><td>Acme      </td><td>1         </td><td>Windows   </td><td>922       </td><td>520       </td><td>527       </td><td>60753     </td><td>149       </td><td>610       </td><td>3914      </td><td>7367      </td></tr>\n",
       "\t<tr><td>2013-01-01</td><td>Botly     </td><td>1         </td><td>Android   </td><td> 11       </td><td> 10       </td><td> 11       </td><td> 1090     </td><td>  0       </td><td> 11       </td><td>   4      </td><td>  19      </td></tr>\n",
       "\t<tr><td>2013-01-01</td><td>Acme      </td><td>1         </td><td>Macintosh </td><td>384       </td><td>214       </td><td>213       </td><td>28129     </td><td> 65       </td><td>245       </td><td>1783      </td><td>3255      </td></tr>\n",
       "</tbody>\n",
       "</table>\n"
      ],
      "text/latex": [
       "\\begin{tabular}{r|llllllllllll}\n",
       " day & site & new\\_customer & platform & visits & distinct\\_sessions & orders & gross\\_sales & bounces & add\\_to\\_cart & product\\_page\\_views & search\\_page\\_views\\\\\n",
       "\\hline\n",
       "\t 2013-01-01 & Acme       & 1          & Android    &  24        &  16        &  14        &  1287      &   4        &  16        &  104       &  192      \\\\\n",
       "\t 2013-01-01 & Acme       & 1          & BlackBerry &   0        &   0        &   0        &    13      &   0        &   0        &    1       &    0      \\\\\n",
       "\t 2013-01-01 & Sortly     & 1          & iPad       &   0        &   0        &   0        &    98      &   0        &   0        &    0       &    0      \\\\\n",
       "\t 2013-01-01 & Acme       & 1          & Windows    & 922        & 520        & 527        & 60753      & 149        & 610        & 3914       & 7367      \\\\\n",
       "\t 2013-01-01 & Botly      & 1          & Android    &  11        &  10        &  11        &  1090      &   0        &  11        &    4       &   19      \\\\\n",
       "\t 2013-01-01 & Acme       & 1          & Macintosh  & 384        & 214        & 213        & 28129      &  65        & 245        & 1783       & 3255      \\\\\n",
       "\\end{tabular}\n"
      ],
      "text/markdown": [
       "\n",
       "| day | site | new_customer | platform | visits | distinct_sessions | orders | gross_sales | bounces | add_to_cart | product_page_views | search_page_views |\n",
       "|---|---|---|---|---|---|---|---|---|---|---|---|\n",
       "| 2013-01-01 | Acme       | 1          | Android    |  24        |  16        |  14        |  1287      |   4        |  16        |  104       |  192       |\n",
       "| 2013-01-01 | Acme       | 1          | BlackBerry |   0        |   0        |   0        |    13      |   0        |   0        |    1       |    0       |\n",
       "| 2013-01-01 | Sortly     | 1          | iPad       |   0        |   0        |   0        |    98      |   0        |   0        |    0       |    0       |\n",
       "| 2013-01-01 | Acme       | 1          | Windows    | 922        | 520        | 527        | 60753      | 149        | 610        | 3914       | 7367       |\n",
       "| 2013-01-01 | Botly      | 1          | Android    |  11        |  10        |  11        |  1090      |   0        |  11        |    4       |   19       |\n",
       "| 2013-01-01 | Acme       | 1          | Macintosh  | 384        | 214        | 213        | 28129      |  65        | 245        | 1783       | 3255       |\n",
       "\n"
      ],
      "text/plain": [
       "  day        site   new_customer platform   visits distinct_sessions orders\n",
       "1 2013-01-01 Acme   1            Android     24     16                14   \n",
       "2 2013-01-01 Acme   1            BlackBerry   0      0                 0   \n",
       "3 2013-01-01 Sortly 1            iPad         0      0                 0   \n",
       "4 2013-01-01 Acme   1            Windows    922    520               527   \n",
       "5 2013-01-01 Botly  1            Android     11     10                11   \n",
       "6 2013-01-01 Acme   1            Macintosh  384    214               213   \n",
       "  gross_sales bounces add_to_cart product_page_views search_page_views\n",
       "1  1287         4      16          104                192             \n",
       "2    13         0       0            1                  0             \n",
       "3    98         0       0            0                  0             \n",
       "4 60753       149     610         3914               7367             \n",
       "5  1090         0      11            4                 19             \n",
       "6 28129        65     245         1783               3255             "
      ]
     },
     "metadata": {},
     "output_type": "display_data"
    }
   ],
   "source": [
    "head(df)"
   ]
  },
  {
   "cell_type": "markdown",
   "metadata": {},
   "source": [
    "## Data reference\n",
    "View the data reference of the above dataset"
   ]
  },
  {
   "cell_type": "code",
   "execution_count": 34,
   "metadata": {
    "scrolled": true
   },
   "outputs": [
    {
     "data": {
      "text/html": [
       "<table>\n",
       "<thead><tr><th scope=col>Data column definitions</th><th scope=col>...2</th></tr></thead>\n",
       "<tbody>\n",
       "\t<tr><td>day                                                                        </td><td>The calendar day                                                           </td></tr>\n",
       "\t<tr><td>site                                                                       </td><td>Company site visited by users                                              </td></tr>\n",
       "\t<tr><td>new_customer                                                               </td><td>0 = returning customer; 1 = new customer; null = neither                   </td></tr>\n",
       "\t<tr><td>platform                                                                   </td><td>The type of device used by a website visitor                               </td></tr>\n",
       "\t<tr><td>visits                                                                     </td><td>The number of distinct website visits; 1 session may have multiple visits  </td></tr>\n",
       "\t<tr><td>distinct_sessions                                                          </td><td>The number of distinct website visitors; 1 session may have multiple visits</td></tr>\n",
       "\t<tr><td>orders                                                                     </td><td>The number of website orders                                               </td></tr>\n",
       "\t<tr><td>gross_sales                                                                </td><td>The total gross sales for website orders                                   </td></tr>\n",
       "\t<tr><td>bounces                                                                    </td><td>The number of visits that only viewed one page                             </td></tr>\n",
       "\t<tr><td>add_to_cart                                                                </td><td>The number of visits that added a product to cart                          </td></tr>\n",
       "\t<tr><td>product_page_views                                                         </td><td>The number of product pages viewed                                         </td></tr>\n",
       "\t<tr><td>search_page_views                                                          </td><td>The number of search pages viewed                                          </td></tr>\n",
       "\t<tr><td>NA                                                                         </td><td>NA                                                                         </td></tr>\n",
       "\t<tr><td>Requested metrics formulae                                                 </td><td>NA                                                                         </td></tr>\n",
       "\t<tr><td>conversion_rate                                                            </td><td>='orders'/'visits'                                                         </td></tr>\n",
       "\t<tr><td>bounce_rate                                                                </td><td>='bounces'/'visits'                                                        </td></tr>\n",
       "\t<tr><td>add_to_cart_rate                                                           </td><td>='add_to_cart'/visits'                                                     </td></tr>\n",
       "</tbody>\n",
       "</table>\n"
      ],
      "text/latex": [
       "\\begin{tabular}{r|ll}\n",
       " Data column definitions & ...2\\\\\n",
       "\\hline\n",
       "\t day                                                                         & The calendar day                                                           \\\\\n",
       "\t site                                                                        & Company site visited by users                                              \\\\\n",
       "\t new\\_customer                                                              & 0 = returning customer; 1 = new customer; null = neither                   \\\\\n",
       "\t platform                                                                    & The type of device used by a website visitor                               \\\\\n",
       "\t visits                                                                      & The number of distinct website visits; 1 session may have multiple visits  \\\\\n",
       "\t distinct\\_sessions                                                         & The number of distinct website visitors; 1 session may have multiple visits\\\\\n",
       "\t orders                                                                      & The number of website orders                                               \\\\\n",
       "\t gross\\_sales                                                               & The total gross sales for website orders                                   \\\\\n",
       "\t bounces                                                                     & The number of visits that only viewed one page                             \\\\\n",
       "\t add\\_to\\_cart                                                             & The number of visits that added a product to cart                          \\\\\n",
       "\t product\\_page\\_views                                                      & The number of product pages viewed                                         \\\\\n",
       "\t search\\_page\\_views                                                       & The number of search pages viewed                                          \\\\\n",
       "\t NA                                                                          & NA                                                                         \\\\\n",
       "\t Requested metrics formulae                                                  & NA                                                                         \\\\\n",
       "\t conversion\\_rate                                                           & ='orders'/'visits'                                                         \\\\\n",
       "\t bounce\\_rate                                                               & ='bounces'/'visits'                                                        \\\\\n",
       "\t add\\_to\\_cart\\_rate                                                          & ='add\\_to\\_cart'/visits'                                                     \\\\\n",
       "\\end{tabular}\n"
      ],
      "text/markdown": [
       "\n",
       "| Data column definitions | ...2 |\n",
       "|---|---|\n",
       "| day                                                                         | The calendar day                                                            |\n",
       "| site                                                                        | Company site visited by users                                               |\n",
       "| new_customer                                                                | 0 = returning customer; 1 = new customer; null = neither                    |\n",
       "| platform                                                                    | The type of device used by a website visitor                                |\n",
       "| visits                                                                      | The number of distinct website visits; 1 session may have multiple visits   |\n",
       "| distinct_sessions                                                           | The number of distinct website visitors; 1 session may have multiple visits |\n",
       "| orders                                                                      | The number of website orders                                                |\n",
       "| gross_sales                                                                 | The total gross sales for website orders                                    |\n",
       "| bounces                                                                     | The number of visits that only viewed one page                              |\n",
       "| add_to_cart                                                                 | The number of visits that added a product to cart                           |\n",
       "| product_page_views                                                          | The number of product pages viewed                                          |\n",
       "| search_page_views                                                           | The number of search pages viewed                                           |\n",
       "| NA                                                                          | NA                                                                          |\n",
       "| Requested metrics formulae                                                  | NA                                                                          |\n",
       "| conversion_rate                                                             | ='orders'/'visits'                                                          |\n",
       "| bounce_rate                                                                 | ='bounces'/'visits'                                                         |\n",
       "| add_to_cart_rate                                                            | ='add_to_cart'/visits'                                                      |\n",
       "\n"
      ],
      "text/plain": [
       "   Data column definitions   \n",
       "1  day                       \n",
       "2  site                      \n",
       "3  new_customer              \n",
       "4  platform                  \n",
       "5  visits                    \n",
       "6  distinct_sessions         \n",
       "7  orders                    \n",
       "8  gross_sales               \n",
       "9  bounces                   \n",
       "10 add_to_cart               \n",
       "11 product_page_views        \n",
       "12 search_page_views         \n",
       "13 NA                        \n",
       "14 Requested metrics formulae\n",
       "15 conversion_rate           \n",
       "16 bounce_rate               \n",
       "17 add_to_cart_rate          \n",
       "   ...2                                                                       \n",
       "1  The calendar day                                                           \n",
       "2  Company site visited by users                                              \n",
       "3  0 = returning customer; 1 = new customer; null = neither                   \n",
       "4  The type of device used by a website visitor                               \n",
       "5  The number of distinct website visits; 1 session may have multiple visits  \n",
       "6  The number of distinct website visitors; 1 session may have multiple visits\n",
       "7  The number of website orders                                               \n",
       "8  The total gross sales for website orders                                   \n",
       "9  The number of visits that only viewed one page                             \n",
       "10 The number of visits that added a product to cart                          \n",
       "11 The number of product pages viewed                                         \n",
       "12 The number of search pages viewed                                          \n",
       "13 NA                                                                         \n",
       "14 NA                                                                         \n",
       "15 ='orders'/'visits'                                                         \n",
       "16 ='bounces'/'visits'                                                        \n",
       "17 ='add_to_cart'/visits'                                                     "
      ]
     },
     "metadata": {},
     "output_type": "display_data"
    }
   ],
   "source": [
    "data_reference"
   ]
  },
  {
   "cell_type": "markdown",
   "metadata": {},
   "source": [
    "## Convert categorical columns column to factors\n",
    "Here we convert the categorical columns site, new_customer and platform to factors."
   ]
  },
  {
   "cell_type": "code",
   "execution_count": 35,
   "metadata": {},
   "outputs": [],
   "source": [
    "df$new_customer = factor(df$new_customer)\n",
    "df$site = factor(df$site)\n",
    "df$platform = factor(df$platform)"
   ]
  },
  {
   "cell_type": "markdown",
   "metadata": {},
   "source": [
    "## View the some general summary of the dataframe <a id='stats1'>"
   ]
  },
  {
   "cell_type": "code",
   "execution_count": 36,
   "metadata": {},
   "outputs": [
    {
     "data": {
      "text/plain": [
       "      day                            site      new_customer    platform   \n",
       " Min.   :2013-01-01 00:00:00   Acme    :7392   0   :7066    iOS    :3435  \n",
       " 1st Qu.:2013-06-10 00:00:00   Botly   : 804   1   :5736    Android:3172  \n",
       " Median :2013-08-21 00:00:00   Pinnacle:5725   NA's:8259    Windows:2399  \n",
       " Mean   :2013-07-30 13:23:22   Sortly  :5532                MacOSX :2054  \n",
       " 3rd Qu.:2013-10-27 00:00:00   Tabular : 804                Linux  :2036  \n",
       " Max.   :2013-12-31 00:00:00   Widgetry: 804                (Other):7555  \n",
       "                                                            NA's   : 410  \n",
       "     visits       distinct_sessions     orders         gross_sales    \n",
       " Min.   :     0   Min.   :     0    Min.   :   0.00   Min.   :     1  \n",
       " 1st Qu.:     3   1st Qu.:     2    1st Qu.:   0.00   1st Qu.:    79  \n",
       " Median :    24   Median :    19    Median :   0.00   Median :   851  \n",
       " Mean   :  1935   Mean   :  1515    Mean   :  62.38   Mean   : 16473  \n",
       " 3rd Qu.:   360   3rd Qu.:   274    3rd Qu.:   7.00   3rd Qu.:  3145  \n",
       " Max.   :136057   Max.   :107104    Max.   :4916.00   Max.   :707642  \n",
       "                                                      NA's   :9576    \n",
       "    bounces         add_to_cart     product_page_views search_page_views\n",
       " Min.   :    0.0   Min.   :   0.0   Min.   :     0     Min.   :     0   \n",
       " 1st Qu.:    0.0   1st Qu.:   0.0   1st Qu.:     3     1st Qu.:     4   \n",
       " Median :    5.0   Median :   4.0   Median :    53     Median :    82   \n",
       " Mean   :  743.3   Mean   : 166.3   Mean   :  4358     Mean   :  8584   \n",
       " 3rd Qu.:   97.0   3rd Qu.:  43.0   3rd Qu.:   708     3rd Qu.:  1229   \n",
       " Max.   :54512.0   Max.   :7924.0   Max.   :187601     Max.   :506629   \n",
       "                                                                        "
      ]
     },
     "metadata": {},
     "output_type": "display_data"
    }
   ],
   "source": [
    "summary(df)"
   ]
  },
  {
   "cell_type": "markdown",
   "metadata": {},
   "source": [
    "## Univariate data analysis\n",
    "Below we will perform univariate dataset analysis for our dataset."
   ]
  },
  {
   "cell_type": "markdown",
   "metadata": {},
   "source": [
    "###  Visualization of categorical variables <a class='anchor' id='#topsites'></a>"
   ]
  },
  {
   "cell_type": "code",
   "execution_count": 37,
   "metadata": {},
   "outputs": [
    {
     "data": {
      "image/png": "[encoded data removed]",
      "text/plain": [
       "plot without title"
      ]
     },
     "metadata": {},
     "output_type": "display_data"
    }
   ],
   "source": [
    "options(repr.plot.width=7, repr.plot.height=7)\n",
    "g1 = ggplot(data=df) + \n",
    "    aes(site,fill=new_customer) + \n",
    "    geom_bar() + \n",
    "    scale_x_discrete() + \n",
    "    labs(title=\"Distribution of 'Company site visited by users' in terms of 'Customer type'\")\n",
    "\n",
    "g2 = ggplot(data=df) + \n",
    "    aes(new_customer) + \n",
    "    geom_bar() + \n",
    "    scale_x_discrete() + \n",
    "    labs(title=\"Distribution of 'Customer type'\")\n",
    "\n",
    "figure <- ggarrange(g1, g2,\n",
    "                    labels = c(\"A\", \"B\"),\n",
    "                    ncol = 1, nrow = 2)\n",
    "figure"
   ]
  },
  {
   "cell_type": "markdown",
   "metadata": {},
   "source": [
    "<b>Inference: </b>From the above histograms it is seen that there is a huge numbers of customers visiting Acme website. Also from graph B it is seen that we have almost uniform distribution of customer types."
   ]
  },
  {
   "cell_type": "code",
   "execution_count": 38,
   "metadata": {},
   "outputs": [
    {
     "data": {
      "image/png": "[encoded data removed]",
      "text/plain": [
       "plot without title"
      ]
     },
     "metadata": {},
     "output_type": "display_data"
    }
   ],
   "source": [
    "options(repr.plot.width=7, repr.plot.height=7)\n",
    "g1 = ggplot(data=df) + \n",
    "    aes(site,fill=platform) + \n",
    "    geom_bar() + \n",
    "    scale_x_discrete() + \n",
    "    labs(title=\"Distribution of 'Company site visited by users' in terms of 'Platform'\")\n",
    "g2 = ggplot(data=df) + \n",
    "    aes(platform,fill=\"red\") + \n",
    "    geom_bar() + \n",
    "    scale_x_discrete() + \n",
    "    theme(axis.text.x = element_text(angle = 90, hjust = 1)) +\n",
    "    labs(title=\"Distribution of users from different 'Platform' who visit the website\")\n",
    "figure <- ggarrange(g1, g2,\n",
    "                    labels = c(\"A\", \"B\"),\n",
    "                    ncol = 1, nrow = 2)\n",
    "figure"
   ]
  },
  {
   "cell_type": "markdown",
   "metadata": {},
   "source": [
    "<b>Inference: </b>Most users login from Android or iOS platforms"
   ]
  },
  {
   "cell_type": "code",
   "execution_count": 40,
   "metadata": {},
   "outputs": [
    {
     "data": {
      "image/png": "[encoded data removed]",
      "text/plain": [
       "plot without title"
      ]
     },
     "metadata": {},
     "output_type": "display_data"
    }
   ],
   "source": [
    "options(repr.plot.width=6, repr.plot.height=6)\n",
    "df$MobileOrDesktop = ifelse(df$platform %in% c(\"Macintosh\",\"MacOSX\",\"Windows\"), \"Desktop\", \"Mobile\")\n",
    "g1 = ggplot(data=df) + \n",
    "    aes(MobileOrDesktop,fill=platform) + \n",
    "    geom_bar() + \n",
    "    scale_x_discrete() + \n",
    "    labs(title=\"Distribution of 'Devices' in terms of 'Platform'\")\n",
    "g1"
   ]
  },
  {
   "cell_type": "markdown",
   "metadata": {},
   "source": [
    "<b>Inference: </b>Most customers visited were through iOS platform followed by Android. This is very much expected as in real world most people belong to either Android or an iOS customers. Also it is seen that the number of people visiting this website through Windows or Linux or MaxOSX (Assuming them to be desktop computers) are significantly lower than mobile users. This gives us a notion that people are mostly logging into the website more through their cellphones than through desktop."
   ]
  },
  {
   "cell_type": "markdown",
   "metadata": {},
   "source": [
    "### Visualization of numerical variables"
   ]
  },
  {
   "cell_type": "markdown",
   "metadata": {},
   "source": [
    "#### View distribution of gross_sales"
   ]
  },
  {
   "cell_type": "code",
   "execution_count": 41,
   "metadata": {},
   "outputs": [
    {
     "name": "stderr",
     "output_type": "stream",
     "text": [
      "Warning message:\n",
      "\"Removed 9576 rows containing non-finite values (stat_bin).\""
     ]
    },
    {
     "data": {
      "image/png": "[encoded data removed]",
      "text/plain": [
       "plot without title"
      ]
     },
     "metadata": {},
     "output_type": "display_data"
    }
   ],
   "source": [
    "options(repr.plot.width=10, repr.plot.height=10)\n",
    "g1 = ggplot(data=df) + \n",
    "    aes(gross_sales, fill=\"red\") +\n",
    "    geom_histogram(bins=50) + \n",
    "    scale_x_continuous() +\n",
    "    labs(title=\"Distribution of gross sales\")\n",
    "g2 = ggplot(data=df) + \n",
    "    aes(gross_sales) +\n",
    "    geom_boxplot(outlier.colour=\"red\", outlier.shape=8, outlier.size=4, na.rm = TRUE) + \n",
    "    labs(title=\"Distribution of gross sales box plot\")\n",
    "g3 = ggplot(data=df, aes(x=day, y=gross_sales, group=1)) +\n",
    "    geom_line() +\n",
    "    labs(title=\"Variation of gross sales time to time\")\n",
    "\n",
    "\n",
    "ggarrange(g1, g3, g2,\n",
    "        labels = c(\"A\", \"B\"))"
   ]
  },
  {
   "cell_type": "code",
   "execution_count": 42,
   "metadata": {},
   "outputs": [
    {
     "name": "stdout",
     "output_type": "stream",
     "text": [
      "[1] \"Skewness = \"      \"4.69585808752638\"\n",
      "[1] \"Standard deviation = \" \"51111.3546047801\"     \n",
      "[1] \"Other statistics\"\n"
     ]
    },
    {
     "data": {
      "text/plain": [
       "   Min. 1st Qu.  Median    Mean 3rd Qu.    Max.    NA's \n",
       "      1      79     851   16473    3145  707642    9576 "
      ]
     },
     "metadata": {},
     "output_type": "display_data"
    }
   ],
   "source": [
    "print(c(\"Skewness = \",skewness(x=df$gross_sales, na.rm=TRUE)))\n",
    "print(c(\"Standard deviation = \",sd(x=df$gross_sales, na.rm=TRUE)))\n",
    "print('Other statistics')\n",
    "summary(df$gross_sales)"
   ]
  },
  {
   "cell_type": "markdown",
   "metadata": {},
   "source": [
    "<b>Inference: </b>Below are some of the observations for the feature gross_sales:\n",
    "1. It is highly right skewed in nature\n",
    "1. It doesn't contain data between March to May. Was the website down at that time?\n",
    "1. Too many points were outliers as shown in the box plot"
   ]
  },
  {
   "cell_type": "markdown",
   "metadata": {},
   "source": [
    "#### Visualize the Requested metrics\n",
    "Visualize the below metrics:\n",
    "1. conversion_rate\n",
    "1. bounce_rate\n",
    "1. add_to_cart_rate"
   ]
  },
  {
   "cell_type": "code",
   "execution_count": 43,
   "metadata": {},
   "outputs": [],
   "source": [
    "df$conversion_rate = df$orders/df$visits\n",
    "df$bounce_rate = df$bounces/df$visits\n",
    "df$add_to_cart_rate = df$add_to_cart/df$visits"
   ]
  },
  {
   "cell_type": "code",
   "execution_count": 45,
   "metadata": {},
   "outputs": [
    {
     "name": "stderr",
     "output_type": "stream",
     "text": [
      "Warning message:\n",
      "\"Removed 2469 rows containing non-finite values (stat_bin).\"Warning message:\n",
      "\"Removed 2469 rows containing non-finite values (stat_bin).\"Warning message:\n",
      "\"Removed 2469 rows containing non-finite values (stat_bin).\""
     ]
    },
    {
     "data": {
      "image/png": "[encoded data removed]",
      "text/plain": [
       "plot without title"
      ]
     },
     "metadata": {},
     "output_type": "display_data"
    }
   ],
   "source": [
    "options(repr.plot.width=10, repr.plot.height=7)\n",
    "g1 = ggplot(data=df) +\n",
    "    aes(x=conversion_rate) + \n",
    "    geom_histogram(bins=30) + \n",
    "    scale_x_continuous()\n",
    "g2 = ggplot(data=df) +\n",
    "    aes(x=bounce_rate) + \n",
    "    geom_histogram(bins=30) + \n",
    "    scale_x_continuous()\n",
    "g3 = ggplot(data=df) +\n",
    "    aes(x=add_to_cart_rate) + \n",
    "    geom_histogram(bins=30) + \n",
    "    scale_x_continuous()\n",
    "g4 = ggplot(data=df) +\n",
    "    aes(x=conversion_rate) + \n",
    "    geom_boxplot(outlier.colour=\"red\", outlier.shape=8, outlier.size=4, na.rm = TRUE)\n",
    "g5 = ggplot(data=df) +\n",
    "    aes(x=bounce_rate) + \n",
    "    geom_boxplot(outlier.colour=\"red\", outlier.shape=8, outlier.size=4, na.rm = TRUE)\n",
    "g6 = ggplot(data=df) +\n",
    "    aes(x=add_to_cart_rate) + \n",
    "    geom_boxplot(outlier.colour=\"red\", outlier.shape=8, outlier.size=4, na.rm = TRUE)\n",
    "fig <- ggarrange(g1,g2,g3, g4, g5, g6,\n",
    "         nrow=2, ncol=3, widths=c(3,3,3))\n",
    "plot(fig)"
   ]
  },
  {
   "cell_type": "code",
   "execution_count": 46,
   "metadata": {},
   "outputs": [
    {
     "name": "stdout",
     "output_type": "stream",
     "text": [
      "[1] \"Skewness of conversion_rate = \" \"1.40847749447916\"              \n",
      "[1] \"Skewness of bounce_rate = \" \"0.551734521506788\"         \n",
      "[1] \"Skewness of add_to_cart_rate = \" \"1.02474189614549\"               \n"
     ]
    }
   ],
   "source": [
    "print(c(\"Skewness of conversion_rate = \",skewness(x=df$conversion_rate, na.rm=TRUE)))\n",
    "print(c(\"Skewness of bounce_rate = \",skewness(x=df$bounce_rate, na.rm=TRUE)))\n",
    "print(c(\"Skewness of add_to_cart_rate = \",skewness(x=df$add_to_cart_rate, na.rm=TRUE)))"
   ]
  },
  {
   "cell_type": "markdown",
   "metadata": {},
   "source": [
    "<b>Inference:</b> The above analysis shows high right skewness in conversion rate and add_to_cart_rate than that of bounce_rate."
   ]
  },
  {
   "cell_type": "markdown",
   "metadata": {},
   "source": [
    "# Question 12 <a id='q12'></a>\n",
    "Consider the same dataset as earlier. Now perform bi-•‐variate data analysis as discussed in last\n",
    "class to find out relationships between different variables. Write a short description on what you find in\n",
    "the analyses along with any tables, graphs. You do not have to analyze all variables, any 3-•‐4 that\n",
    "interest you most should be the focus here."
   ]
  },
  {
   "cell_type": "markdown",
   "metadata": {},
   "source": [
    "## Bivariate data analysis\n",
    "Here we will view the variation among add_to_cart_rate and gross_sales for three top sites as we found in [Question 11](#question11)"
   ]
  },
  {
   "cell_type": "code",
   "execution_count": 89,
   "metadata": {},
   "outputs": [
    {
     "data": {
      "image/png": "[encoded data removed]",
      "text/plain": [
       "plot without title"
      ]
     },
     "metadata": {},
     "output_type": "display_data"
    }
   ],
   "source": [
    "options(repr.plot.width=10, repr.plot.height=7)\n",
    "g1 = ggplot(df) +\n",
    "    aes(x=product_page_views, y=orders, color=site) +\n",
    "    geom_point() +\n",
    "    facet_wrap(~site, scales=\"free\")\n",
    "g1"
   ]
  },
  {
   "cell_type": "markdown",
   "metadata": {},
   "source": [
    "<b>Inference: </b>The above plots show three types of customers:\n",
    "1. Low product_page_views but ordering the product: These are the type very sure which product to buy so directly searching and buying the product keeping the product_page_views low. This is highly seen for Botly demarcated by vertical line.\n",
    "1. Orders after quite a bit of searching: Mostly seen for Acme and Pinnacle. Also from [Question 11](#question11) we have seen that Acme has highest number of visits. Here also Acme has highest number of orders.\n",
    "1. Low orders high product_page_views: Customers are viewing the product pages but are not ordering. This part becomes interesting for sites Pinnacle and Sortly. From [Question 11](#question11) we have seen that these two sites are doing quite good in terms of site visits. Above plots also say the same story. But it is evident that the number of website orders are very low for these sites (Strikingly low for Pinnacle). <br>\n",
    "It leads to an inference: <b>Customers are interested in Pinnacle and Sortly websites but are not ordering them from the website.</b>"
   ]
  },
  {
   "cell_type": "code",
   "execution_count": null,
   "metadata": {},
   "outputs": [],
   "source": []
  }
 ],
 "metadata": {
  "kernelspec": {
   "display_name": "R",
   "language": "R",
   "name": "ir"
  },
  "language_info": {
   "codemirror_mode": "r",
   "file_extension": ".r",
   "mimetype": "text/x-r-source",
   "name": "R",
   "pygments_lexer": "r",
   "version": "3.6.1"
  }
 },
 "nbformat": 4,
 "nbformat_minor": 4
}
