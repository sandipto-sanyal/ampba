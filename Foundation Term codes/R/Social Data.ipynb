{
 "cells": [
  {
   "cell_type": "markdown",
   "metadata": {},
   "source": [
    "# Let us work with some Social media data\n",
    "## Goal is to understand user behavior one variable at a time"
   ]
  },
  {
   "cell_type": "code",
   "execution_count": 2,
   "metadata": {},
   "outputs": [],
   "source": [
    "path = 'datasets//social_data.csv'\n",
    "data <- read.csv(path)"
   ]
  },
  {
   "cell_type": "markdown",
   "metadata": {},
   "source": [
    "## View first 6 rows"
   ]
  },
  {
   "cell_type": "code",
   "execution_count": 4,
   "metadata": {},
   "outputs": [
    {
     "data": {
      "text/html": [
       "<table>\n",
       "<thead><tr><th scope=col>userid</th><th scope=col>age</th><th scope=col>dob_day</th><th scope=col>dob_year</th><th scope=col>dob_month</th><th scope=col>gender</th><th scope=col>tenure</th><th scope=col>friend_count</th><th scope=col>friendships_initiated</th><th scope=col>likes</th><th scope=col>likes_received</th><th scope=col>mobile_likes</th><th scope=col>mobile_likes_received</th><th scope=col>www_likes</th><th scope=col>www_likes_received</th></tr></thead>\n",
       "<tbody>\n",
       "\t<tr><td>2094382</td><td>14     </td><td>19     </td><td>1999   </td><td>11     </td><td>male   </td><td>266    </td><td>0      </td><td>0      </td><td>0      </td><td>0      </td><td>0      </td><td>0      </td><td>0      </td><td>0      </td></tr>\n",
       "\t<tr><td>1192601</td><td>14     </td><td> 2     </td><td>1999   </td><td>11     </td><td>female </td><td>  6    </td><td>0      </td><td>0      </td><td>0      </td><td>0      </td><td>0      </td><td>0      </td><td>0      </td><td>0      </td></tr>\n",
       "\t<tr><td>2083884</td><td>14     </td><td>16     </td><td>1999   </td><td>11     </td><td>male   </td><td> 13    </td><td>0      </td><td>0      </td><td>0      </td><td>0      </td><td>0      </td><td>0      </td><td>0      </td><td>0      </td></tr>\n",
       "\t<tr><td>1203168</td><td>14     </td><td>25     </td><td>1999   </td><td>12     </td><td>female </td><td> 93    </td><td>0      </td><td>0      </td><td>0      </td><td>0      </td><td>0      </td><td>0      </td><td>0      </td><td>0      </td></tr>\n",
       "\t<tr><td>1733186</td><td>14     </td><td> 4     </td><td>1999   </td><td>12     </td><td>male   </td><td> 82    </td><td>0      </td><td>0      </td><td>0      </td><td>0      </td><td>0      </td><td>0      </td><td>0      </td><td>0      </td></tr>\n",
       "\t<tr><td>1524765</td><td>14     </td><td> 1     </td><td>1999   </td><td>12     </td><td>male   </td><td> 15    </td><td>0      </td><td>0      </td><td>0      </td><td>0      </td><td>0      </td><td>0      </td><td>0      </td><td>0      </td></tr>\n",
       "</tbody>\n",
       "</table>\n"
      ],
      "text/latex": [
       "\\begin{tabular}{r|lllllllllllllll}\n",
       " userid & age & dob\\_day & dob\\_year & dob\\_month & gender & tenure & friend\\_count & friendships\\_initiated & likes & likes\\_received & mobile\\_likes & mobile\\_likes\\_received & www\\_likes & www\\_likes\\_received\\\\\n",
       "\\hline\n",
       "\t 2094382 & 14      & 19      & 1999    & 11      & male    & 266     & 0       & 0       & 0       & 0       & 0       & 0       & 0       & 0      \\\\\n",
       "\t 1192601 & 14      &  2      & 1999    & 11      & female  &   6     & 0       & 0       & 0       & 0       & 0       & 0       & 0       & 0      \\\\\n",
       "\t 2083884 & 14      & 16      & 1999    & 11      & male    &  13     & 0       & 0       & 0       & 0       & 0       & 0       & 0       & 0      \\\\\n",
       "\t 1203168 & 14      & 25      & 1999    & 12      & female  &  93     & 0       & 0       & 0       & 0       & 0       & 0       & 0       & 0      \\\\\n",
       "\t 1733186 & 14      &  4      & 1999    & 12      & male    &  82     & 0       & 0       & 0       & 0       & 0       & 0       & 0       & 0      \\\\\n",
       "\t 1524765 & 14      &  1      & 1999    & 12      & male    &  15     & 0       & 0       & 0       & 0       & 0       & 0       & 0       & 0      \\\\\n",
       "\\end{tabular}\n"
      ],
      "text/markdown": [
       "\n",
       "| userid | age | dob_day | dob_year | dob_month | gender | tenure | friend_count | friendships_initiated | likes | likes_received | mobile_likes | mobile_likes_received | www_likes | www_likes_received |\n",
       "|---|---|---|---|---|---|---|---|---|---|---|---|---|---|---|\n",
       "| 2094382 | 14      | 19      | 1999    | 11      | male    | 266     | 0       | 0       | 0       | 0       | 0       | 0       | 0       | 0       |\n",
       "| 1192601 | 14      |  2      | 1999    | 11      | female  |   6     | 0       | 0       | 0       | 0       | 0       | 0       | 0       | 0       |\n",
       "| 2083884 | 14      | 16      | 1999    | 11      | male    |  13     | 0       | 0       | 0       | 0       | 0       | 0       | 0       | 0       |\n",
       "| 1203168 | 14      | 25      | 1999    | 12      | female  |  93     | 0       | 0       | 0       | 0       | 0       | 0       | 0       | 0       |\n",
       "| 1733186 | 14      |  4      | 1999    | 12      | male    |  82     | 0       | 0       | 0       | 0       | 0       | 0       | 0       | 0       |\n",
       "| 1524765 | 14      |  1      | 1999    | 12      | male    |  15     | 0       | 0       | 0       | 0       | 0       | 0       | 0       | 0       |\n",
       "\n"
      ],
      "text/plain": [
       "  userid  age dob_day dob_year dob_month gender tenure friend_count\n",
       "1 2094382 14  19      1999     11        male   266    0           \n",
       "2 1192601 14   2      1999     11        female   6    0           \n",
       "3 2083884 14  16      1999     11        male    13    0           \n",
       "4 1203168 14  25      1999     12        female  93    0           \n",
       "5 1733186 14   4      1999     12        male    82    0           \n",
       "6 1524765 14   1      1999     12        male    15    0           \n",
       "  friendships_initiated likes likes_received mobile_likes mobile_likes_received\n",
       "1 0                     0     0              0            0                    \n",
       "2 0                     0     0              0            0                    \n",
       "3 0                     0     0              0            0                    \n",
       "4 0                     0     0              0            0                    \n",
       "5 0                     0     0              0            0                    \n",
       "6 0                     0     0              0            0                    \n",
       "  www_likes www_likes_received\n",
       "1 0         0                 \n",
       "2 0         0                 \n",
       "3 0         0                 \n",
       "4 0         0                 \n",
       "5 0         0                 \n",
       "6 0         0                 "
      ]
     },
     "metadata": {},
     "output_type": "display_data"
    }
   ],
   "source": [
    "head(data)"
   ]
  },
  {
   "cell_type": "code",
   "execution_count": 3,
   "metadata": {},
   "outputs": [
    {
     "data": {
      "text/html": [
       "<ol class=list-inline>\n",
       "\t<li>'userid'</li>\n",
       "\t<li>'age'</li>\n",
       "\t<li>'dob_day'</li>\n",
       "\t<li>'dob_year'</li>\n",
       "\t<li>'dob_month'</li>\n",
       "\t<li>'gender'</li>\n",
       "\t<li>'tenure'</li>\n",
       "\t<li>'friend_count'</li>\n",
       "\t<li>'friendships_initiated'</li>\n",
       "\t<li>'likes'</li>\n",
       "\t<li>'likes_received'</li>\n",
       "\t<li>'mobile_likes'</li>\n",
       "\t<li>'mobile_likes_received'</li>\n",
       "\t<li>'www_likes'</li>\n",
       "\t<li>'www_likes_received'</li>\n",
       "</ol>\n"
      ],
      "text/latex": [
       "\\begin{enumerate*}\n",
       "\\item 'userid'\n",
       "\\item 'age'\n",
       "\\item 'dob\\_day'\n",
       "\\item 'dob\\_year'\n",
       "\\item 'dob\\_month'\n",
       "\\item 'gender'\n",
       "\\item 'tenure'\n",
       "\\item 'friend\\_count'\n",
       "\\item 'friendships\\_initiated'\n",
       "\\item 'likes'\n",
       "\\item 'likes\\_received'\n",
       "\\item 'mobile\\_likes'\n",
       "\\item 'mobile\\_likes\\_received'\n",
       "\\item 'www\\_likes'\n",
       "\\item 'www\\_likes\\_received'\n",
       "\\end{enumerate*}\n"
      ],
      "text/markdown": [
       "1. 'userid'\n",
       "2. 'age'\n",
       "3. 'dob_day'\n",
       "4. 'dob_year'\n",
       "5. 'dob_month'\n",
       "6. 'gender'\n",
       "7. 'tenure'\n",
       "8. 'friend_count'\n",
       "9. 'friendships_initiated'\n",
       "10. 'likes'\n",
       "11. 'likes_received'\n",
       "12. 'mobile_likes'\n",
       "13. 'mobile_likes_received'\n",
       "14. 'www_likes'\n",
       "15. 'www_likes_received'\n",
       "\n",
       "\n"
      ],
      "text/plain": [
       " [1] \"userid\"                \"age\"                   \"dob_day\"              \n",
       " [4] \"dob_year\"              \"dob_month\"             \"gender\"               \n",
       " [7] \"tenure\"                \"friend_count\"          \"friendships_initiated\"\n",
       "[10] \"likes\"                 \"likes_received\"        \"mobile_likes\"         \n",
       "[13] \"mobile_likes_received\" \"www_likes\"             \"www_likes_received\"   "
      ]
     },
     "metadata": {},
     "output_type": "display_data"
    }
   ],
   "source": [
    "#What does names do?\n",
    "names(data)"
   ]
  },
  {
   "cell_type": "markdown",
   "metadata": {},
   "source": [
    "## Datatypes of each data"
   ]
  },
  {
   "cell_type": "code",
   "execution_count": 5,
   "metadata": {},
   "outputs": [
    {
     "name": "stdout",
     "output_type": "stream",
     "text": [
      "'data.frame':\t99003 obs. of  15 variables:\n",
      " $ userid               : int  2094382 1192601 2083884 1203168 1733186 1524765 1136133 1680361 1365174 1712567 ...\n",
      " $ age                  : int  14 14 14 14 14 14 13 13 13 13 ...\n",
      " $ dob_day              : int  19 2 16 25 4 1 14 4 1 2 ...\n",
      " $ dob_year             : int  1999 1999 1999 1999 1999 1999 2000 2000 2000 2000 ...\n",
      " $ dob_month            : int  11 11 11 12 12 12 1 1 1 2 ...\n",
      " $ gender               : Factor w/ 2 levels \"female\",\"male\": 2 1 2 1 2 2 2 1 2 2 ...\n",
      " $ tenure               : int  266 6 13 93 82 15 12 0 81 171 ...\n",
      " $ friend_count         : int  0 0 0 0 0 0 0 0 0 0 ...\n",
      " $ friendships_initiated: int  0 0 0 0 0 0 0 0 0 0 ...\n",
      " $ likes                : int  0 0 0 0 0 0 0 0 0 0 ...\n",
      " $ likes_received       : int  0 0 0 0 0 0 0 0 0 0 ...\n",
      " $ mobile_likes         : int  0 0 0 0 0 0 0 0 0 0 ...\n",
      " $ mobile_likes_received: int  0 0 0 0 0 0 0 0 0 0 ...\n",
      " $ www_likes            : int  0 0 0 0 0 0 0 0 0 0 ...\n",
      " $ www_likes_received   : int  0 0 0 0 0 0 0 0 0 0 ...\n"
     ]
    }
   ],
   "source": [
    "str(data)"
   ]
  },
  {
   "cell_type": "code",
   "execution_count": 6,
   "metadata": {},
   "outputs": [],
   "source": [
    "#We will make use of ggplot 2 package. Used for visualizations.\n",
    "#install.packages(\"ggplot2\")\n",
    "library(\"ggplot2\")"
   ]
  },
  {
   "cell_type": "code",
   "execution_count": 7,
   "metadata": {},
   "outputs": [
    {
     "name": "stderr",
     "output_type": "stream",
     "text": [
      "`stat_bin()` using `bins = 30`. Pick better value with `binwidth`.\n"
     ]
    },
    {
     "data": {
      "image/png": "[encoded data removed]",
      "text/plain": [
       "plot without title"
      ]
     },
     "metadata": {},
     "output_type": "display_data"
    }
   ],
   "source": [
    "#Use qplot function to plot a histogram. For example, let us plot \n",
    "# date of birth by day.\n",
    "#What do you expect to find?\n",
    "qplot(x=dob_day,data=data)"
   ]
  },
  {
   "cell_type": "code",
   "execution_count": 10,
   "metadata": {},
   "outputs": [
    {
     "name": "stderr",
     "output_type": "stream",
     "text": [
      "`stat_bin()` using `bins = 30`. Pick better value with `binwidth`.\n"
     ]
    },
    {
     "data": {
      "image/png": "[encoded data removed]",
      "text/plain": [
       "plot without title"
      ]
     },
     "metadata": {},
     "output_type": "display_data"
    }
   ],
   "source": [
    "#What does this code do? \n",
    "#What insights can you derive?\n",
    "qplot(x=dob_day,data=data) + facet_wrap(~dob_month,ncol=3)"
   ]
  },
  {
   "cell_type": "code",
   "execution_count": 11,
   "metadata": {},
   "outputs": [
    {
     "name": "stderr",
     "output_type": "stream",
     "text": [
      "`stat_bin()` using `bins = 30`. Pick better value with `binwidth`.\n"
     ]
    },
    {
     "data": {
      "image/png": "[encoded data removed]",
      "text/plain": [
       "plot without title"
      ]
     },
     "metadata": {},
     "output_type": "display_data"
    }
   ],
   "source": [
    "#Create a histogram of friend count\n",
    "qplot(x=friend_count, data=data)\n",
    "#What do you find?"
   ]
  },
  {
   "cell_type": "code",
   "execution_count": 12,
   "metadata": {},
   "outputs": [
    {
     "name": "stderr",
     "output_type": "stream",
     "text": [
      "`stat_bin()` using `bins = 30`. Pick better value with `binwidth`.\n",
      "Warning message:\n",
      "\"Removed 2951 rows containing non-finite values (stat_bin).\"Warning message:\n",
      "\"Removed 2 rows containing missing values (geom_bar).\""
     ]
    },
    {
     "data": {
      "image/png": "[encoded data removed]",
      "text/plain": [
       "plot without title"
      ]
     },
     "metadata": {},
     "output_type": "display_data"
    }
   ],
   "source": [
    "#Let us limit count and then see\n",
    "qplot(x=friend_count, data=data, xlim=c(0,1000))"
   ]
  },
  {
   "cell_type": "code",
   "execution_count": 15,
   "metadata": {},
   "outputs": [
    {
     "name": "stderr",
     "output_type": "stream",
     "text": [
      "Warning message:\n",
      "\"Removed 2951 rows containing non-finite values (stat_bin).\"Warning message:\n",
      "\"Removed 6 rows containing missing values (geom_bar).\""
     ]
    },
    {
     "data": {
      "image/png": "[encoded data removed]",
      "text/plain": [
       "plot without title"
      ]
     },
     "metadata": {},
     "output_type": "display_data"
    }
   ],
   "source": [
    "#Let us look at friend count by gender\n",
    "qplot(x=friend_count, data=data, binwidth=25) + \n",
    "  scale_x_continuous(limits=c(0,1000),breaks=seq(0,1000,50))+\n",
    "  facet_wrap(~gender, scales=\"fixed\")"
   ]
  },
  {
   "cell_type": "code",
   "execution_count": 16,
   "metadata": {},
   "outputs": [
    {
     "name": "stderr",
     "output_type": "stream",
     "text": [
      "Warning message:\n",
      "\"Removed 2949 rows containing non-finite values (stat_bin).\"Warning message:\n",
      "\"Removed 4 rows containing missing values (geom_bar).\""
     ]
    },
    {
     "data": {
      "image/png": "[encoded data removed]",
      "text/plain": [
       "plot without title"
      ]
     },
     "metadata": {},
     "output_type": "display_data"
    }
   ],
   "source": [
    "#Let us omit NA values\n",
    "qplot(x=friend_count, data=subset(data,!is.na(gender)), binwidth=25) + \n",
    "  scale_x_continuous(limits=c(0,1000),breaks=seq(0,1000,50))+\n",
    "  facet_wrap(~gender)\n",
    "#By looking at above plots can you tell which gender has more friends \n",
    "#on average?"
   ]
  },
  {
   "cell_type": "code",
   "execution_count": 17,
   "metadata": {},
   "outputs": [
    {
     "data": {
      "text/plain": [
       "\n",
       "female   male \n",
       " 40254  58574 "
      ]
     },
     "metadata": {},
     "output_type": "display_data"
    },
    {
     "data": {
      "text/plain": [
       "data$gender: female\n",
       "   Min. 1st Qu.  Median    Mean 3rd Qu.    Max. \n",
       "      0      37      96     242     244    4923 \n",
       "------------------------------------------------------------ \n",
       "data$gender: male\n",
       "   Min. 1st Qu.  Median    Mean 3rd Qu.    Max. \n",
       "      0      27      74     165     182    4917 "
      ]
     },
     "metadata": {},
     "output_type": "display_data"
    }
   ],
   "source": [
    "#Which gender has more friends by average? Is median better than mean?\n",
    "#Long tailed data. Median is better measure than mean.\n",
    "table(data$gender)\n",
    "by(data$friend_count, data$gender, summary)"
   ]
  },
  {
   "cell_type": "code",
   "execution_count": 18,
   "metadata": {},
   "outputs": [
    {
     "name": "stderr",
     "output_type": "stream",
     "text": [
      "Warning message:\n",
      "\"Removed 2 rows containing non-finite values (stat_bin).\"Warning message:\n",
      "\"Removed 2 rows containing non-finite values (stat_bin).\""
     ]
    },
    {
     "data": {
      "image/png": "[encoded data removed]",
      "text/plain": [
       "plot without title"
      ]
     },
     "metadata": {},
     "output_type": "display_data"
    },
    {
     "data": {
      "image/png": "[encoded data removed]",
      "text/plain": [
       "plot without title"
      ]
     },
     "metadata": {},
     "output_type": "display_data"
    }
   ],
   "source": [
    "#Since how long people are using FB?\n",
    "qplot(x=tenure, data=data, binwidth=30)\n",
    "#Create in years\n",
    "qplot(x=tenure/365, data=data, binwidth=1)"
   ]
  },
  {
   "cell_type": "code",
   "execution_count": null,
   "metadata": {},
   "outputs": [],
   "source": [
    "#What can we say about ages? What is min age?\n",
    "qplot(x=age, data=data, binwidth=1)\n",
    "summary(data$age)\n",
    "\n",
    "#Let us transform some data. What about friend count variable? It is long tail variable.\n",
    "#These are over dispersed data. We transform them so that their tail is \n",
    "# shortened\n",
    "qplot(x=friend_count,data=data)\n",
    "summary(data$friend_count)\n",
    "\n",
    "summary(log(data$friend_count))\n",
    "#What is going on?\n",
    "\n",
    "\n",
    "summary(log(data$friend_count+1))\n",
    "\n",
    "#another kind of transformation\n",
    "summary(sqrt(data$friend_count))\n",
    "\n",
    "qplot(x=friend_count,data=data)\n",
    "\n",
    "qplot(x=log(friend_count+1),data=data)\n",
    "\n",
    "#Let us create multiple histograms on one plot\n",
    "install.packages('gridExtra')\n",
    "library(gridExtra)\n",
    "\n",
    "a<-qplot(x=friend_count,data=data)\n",
    "b<-qplot(x=log(friend_count+1),data=data)\n",
    "c<-qplot(x=sqrt(friend_count),data=data)\n",
    "\n",
    "grid.arrange(a,b,c,ncol=1)\n",
    "#What can we say about these?\n",
    "\n",
    "\n",
    "#Let us now look at likes. How would this help your business?\n",
    "by(data$www_likes,data$gender,sum)\n",
    "\n",
    "\n",
    "#Box plot. How does it look? How many outliers are there?\n",
    "qplot(x=gender, y=friend_count, data=subset(data,!is.na(gender)),geom='boxplot')\n",
    "\n",
    "\n",
    "qplot(x=gender, y=friend_count, data=subset(data,!is.na(gender)),geom='boxplot',ylim=c(0,1000))\n",
    "\n",
    "qplot(x=gender, y=friend_count, data=subset(data,!is.na(gender)),geom='boxplot')+\n",
    "  coord_cartesian(ylim=c(0,1000))\n",
    "#Differences between the above two commands?\n",
    "\n",
    "#Let us now look at who initiates more friend requests\n",
    "qplot(x=gender, y=friendships_initiated, data=subset(data,!is.na(gender)),geom='boxplot')+\n",
    "  coord_cartesian(ylim=c(0,1000))\n",
    "\n",
    "by(data$friendships_initiated, data$gender, summary)\n",
    "\n",
    "\n",
    "#What about mobile devices?\n",
    "summary(data$mobile_likes)\n",
    "#What percentage of people use mobile devices?\n",
    "summary(data$mobile_likes>0)\n",
    "\n",
    "#Exercise: Repeat the same set of commands for sets of first 100, 1000, \n",
    "#10,000, and 50,000 observations and report your general observations."
   ]
  }
 ],
 "metadata": {
  "kernelspec": {
   "display_name": "R",
   "language": "R",
   "name": "ir"
  },
  "language_info": {
   "codemirror_mode": "r",
   "file_extension": ".r",
   "mimetype": "text/x-r-source",
   "name": "R",
   "pygments_lexer": "r",
   "version": "3.6.1"
  }
 },
 "nbformat": 4,
 "nbformat_minor": 4
}
