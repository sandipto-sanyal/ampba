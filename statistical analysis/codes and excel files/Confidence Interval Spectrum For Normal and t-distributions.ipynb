{
 "cells": [
  {
   "cell_type": "code",
   "execution_count": 1,
   "metadata": {},
   "outputs": [],
   "source": [
    "from scipy.stats import norm, t\n",
    "import matplotlib.pyplot as plt\n",
    "import numpy as np"
   ]
  },
  {
   "cell_type": "markdown",
   "metadata": {},
   "source": [
    "# Normal Distribution Confidence Interval"
   ]
  },
  {
   "cell_type": "code",
   "execution_count": 12,
   "metadata": {},
   "outputs": [],
   "source": [
    "def norm_ci(confidence_interval: float = 0.90,\n",
    "            population_std_dev: float = 1,\n",
    "            number_of_samples:int = 1,\n",
    "            mean: float = 0,\n",
    "            two_sided: bool = True\n",
    "            ):\n",
    "    '''\n",
    "    \n",
    "\n",
    "    Parameters\n",
    "    ----------\n",
    "    confidence_interval : float, optional\n",
    "        DESCRIPTION. The default is 0.90.\n",
    "    population_std_dev : float, optional\n",
    "        DESCRIPTION. The default is 1.\n",
    "    number_of_samples : int, optional\n",
    "        DESCRIPTION. The default is 100.\n",
    "    mean : float, optional\n",
    "        DESCRIPTION. The default is 0.\n",
    "    two_sided : bool, optional\n",
    "        DESCRIPTION. The default is True.\n",
    "\n",
    "    Returns\n",
    "    -------\n",
    "    TYPE\n",
    "        DESCRIPTION.\n",
    "\n",
    "    '''\n",
    "    # declaring problem constants\n",
    "    x_bar = mean\n",
    "    n = number_of_samples # number of samples taken\n",
    "    sigma = population_std_dev # population standard deviation\n",
    "    sigma_x_bar = sigma/n**0.5 # std dev of sample means\n",
    "    \n",
    "    # generate x within 3.5 standard deviations and y axes\n",
    "    x_axis_lower_bound = x_bar-3.5*sigma_x_bar\n",
    "    x_axis_upper_bound = x_bar+3.5*sigma_x_bar\n",
    "    steps = (x_axis_upper_bound-x_axis_lower_bound)/1000\n",
    "    x = np.arange(x_axis_lower_bound,x_axis_upper_bound,steps)\n",
    "    y = norm.pdf(x,loc=x_bar,scale=sigma_x_bar)\n",
    "    \n",
    "    # get the probabilities of the tail areas\n",
    "    if two_sided:\n",
    "        alpha_high = (1+confidence_interval)/2\n",
    "        alpha_low = (1-confidence_interval)/2\n",
    "    else:\n",
    "        alpha_high = confidence_interval\n",
    "        alpha_low = 0\n",
    "    # compute the value of x_lower and x_higher\n",
    "    x_lower = norm.ppf(alpha_low,loc=x_bar,scale=sigma_x_bar)\n",
    "    x_higher = norm.ppf(alpha_high,loc=x_bar,scale=sigma_x_bar)\n",
    "    \n",
    "    # plot and shade the graphs\n",
    "    plt.plot(x,y,'-')\n",
    "    plt.fill_between(x[x>=x_lower],y[x>=x_lower],color='red')\n",
    "    plt.fill_between(x[x>=x_higher],y[x>=x_higher],color='white')\n",
    "    plt.draw()\n",
    "    return round(x_lower,3), round(x_higher,3)"
   ]
  },
  {
   "cell_type": "code",
   "execution_count": 22,
   "metadata": {},
   "outputs": [
    {
     "data": {
      "text/plain": [
       "(-0.3, 0.3)"
      ]
     },
     "execution_count": 22,
     "metadata": {},
     "output_type": "execute_result"
    },
    {
     "data": {
      "image/png": "[encoded data removed]",
      "text/plain": [
       "<Figure size 432x288 with 1 Axes>"
      ]
     },
     "metadata": {
      "needs_background": "light"
     },
     "output_type": "display_data"
    }
   ],
   "source": [
    "norm_ci(two_sided=True, number_of_samples=30)"
   ]
  },
  {
   "cell_type": "markdown",
   "metadata": {},
   "source": [
    "# t - distribution Confidence Interval"
   ]
  },
  {
   "cell_type": "code",
   "execution_count": 18,
   "metadata": {},
   "outputs": [],
   "source": [
    "def t_ci(confidence_interval: float = 0.90,\n",
    "            sample_std_dev: float = 1,\n",
    "            number_of_samples:int = 2,\n",
    "            mean: float = 0,\n",
    "            two_sided: bool = True\n",
    "            ):\n",
    "    '''\n",
    "    \n",
    "\n",
    "    Parameters\n",
    "    ----------\n",
    "    confidence_interval : float, optional\n",
    "        DESCRIPTION. The default is 0.90.\n",
    "    sample_std_dev : float, optional\n",
    "        DESCRIPTION. The default is 1.\n",
    "    number_of_samples : int, optional\n",
    "        DESCRIPTION. The default is 100.\n",
    "    mean : float, optional\n",
    "        DESCRIPTION. The default is 0.\n",
    "    two_sided : bool, optional\n",
    "        DESCRIPTION. The default is True.\n",
    "\n",
    "    Returns\n",
    "    -------\n",
    "    TYPE\n",
    "        DESCRIPTION.\n",
    "\n",
    "    '''\n",
    "    # declaring problem constants\n",
    "    x_bar = mean\n",
    "    n = number_of_samples # number of samples taken\n",
    "    sigma = sample_std_dev # population standard deviation\n",
    "    sigma_x_bar = sigma/n**0.5 # std dev of sample means\n",
    "    df = n-1 # degrees of freedom\n",
    "    \n",
    "    # generate x within 3.5 standard deviations and y axes\n",
    "    x_axis_lower_bound = x_bar-3.5*sigma_x_bar\n",
    "    x_axis_upper_bound = x_bar+3.5*sigma_x_bar\n",
    "    steps = (x_axis_upper_bound-x_axis_lower_bound)/1000\n",
    "    x = np.arange(x_axis_lower_bound,x_axis_upper_bound,steps)\n",
    "    y = t.pdf(x,df, loc=x_bar,scale=sigma_x_bar)\n",
    "    \n",
    "    # get the probabilities of the tail areas\n",
    "    if two_sided:\n",
    "        alpha_high = (1+confidence_interval)/2\n",
    "        alpha_low = (1-confidence_interval)/2\n",
    "    else:\n",
    "        alpha_high = confidence_interval\n",
    "        alpha_low = 0\n",
    "    # compute the value of x_lower and x_higher\n",
    "    x_lower = t.ppf(alpha_low,df,loc=x_bar,scale=sigma_x_bar)\n",
    "    x_higher = t.ppf(alpha_high,df,loc=x_bar,scale=sigma_x_bar)\n",
    "    \n",
    "    # plot and shade the graphs\n",
    "    plt.plot(x,y,'-')\n",
    "    plt.fill_between(x[x>=x_lower],y[x>=x_lower],color='green')\n",
    "    plt.fill_between(x[x>=x_higher],y[x>=x_higher],color='white')\n",
    "    plt.draw()\n",
    "    return round(x_lower,3), round(x_higher,3)"
   ]
  },
  {
   "cell_type": "code",
   "execution_count": 21,
   "metadata": {},
   "outputs": [
    {
     "data": {
      "text/plain": [
       "(-0.31, 0.31)"
      ]
     },
     "execution_count": 21,
     "metadata": {},
     "output_type": "execute_result"
    },
    {
     "data": {
      "image/png": "[encoded data removed]",
      "text/plain": [
       "<Figure size 432x288 with 1 Axes>"
      ]
     },
     "metadata": {
      "needs_background": "light"
     },
     "output_type": "display_data"
    }
   ],
   "source": [
    "t_ci(two_sided=True, number_of_samples=30)"
   ]
  },
  {
   "cell_type": "code",
   "execution_count": null,
   "metadata": {},
   "outputs": [],
   "source": []
  }
 ],
 "metadata": {
  "kernelspec": {
   "display_name": "Python 3",
   "language": "python",
   "name": "python3"
  },
  "language_info": {
   "codemirror_mode": {
    "name": "ipython",
    "version": 3
   },
   "file_extension": ".py",
   "mimetype": "text/x-python",
   "name": "python",
   "nbconvert_exporter": "python",
   "pygments_lexer": "ipython3",
   "version": "3.7.6"
  }
 },
 "nbformat": 4,
 "nbformat_minor": 4
}
