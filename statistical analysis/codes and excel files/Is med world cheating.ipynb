{
 "cells": [
  {
   "cell_type": "markdown",
   "metadata": {},
   "source": [
    "# Problem constants\n",
    "- Medworld claim: 100mg medicine and 400mg of fillers in 500mg tablet with a variance 12.25 sq.mg or 3.5 mg standard deviation\n",
    "- 50 randomly sampled data was taken"
   ]
  },
  {
   "cell_type": "code",
   "execution_count": 1,
   "metadata": {},
   "outputs": [],
   "source": [
    "import pandas as pd\n",
    "from scipy.stats import norm, t\n",
    "import matplotlib.pyplot as plt\n",
    "import numpy as np\n",
    "from statistics import mean, pstdev, stdev\n",
    "from typing import Tuple"
   ]
  },
  {
   "cell_type": "markdown",
   "metadata": {},
   "source": [
    "# Read the data"
   ]
  },
  {
   "cell_type": "code",
   "execution_count": 2,
   "metadata": {},
   "outputs": [
    {
     "name": "stdout",
     "output_type": "stream",
     "text": [
      "Below are the data of 50 random samples\n"
     ]
    },
    {
     "data": {
      "text/html": [
       "<div>\n",
       "<style scoped>\n",
       "    .dataframe tbody tr th:only-of-type {\n",
       "        vertical-align: middle;\n",
       "    }\n",
       "\n",
       "    .dataframe tbody tr th {\n",
       "        vertical-align: top;\n",
       "    }\n",
       "\n",
       "    .dataframe thead th {\n",
       "        text-align: right;\n",
       "    }\n",
       "</style>\n",
       "<table border=\"1\" class=\"dataframe\">\n",
       "  <thead>\n",
       "    <tr style=\"text-align: right;\">\n",
       "      <th></th>\n",
       "      <th>0</th>\n",
       "      <th>1</th>\n",
       "      <th>2</th>\n",
       "      <th>3</th>\n",
       "      <th>4</th>\n",
       "      <th>5</th>\n",
       "      <th>6</th>\n",
       "      <th>7</th>\n",
       "      <th>8</th>\n",
       "      <th>9</th>\n",
       "    </tr>\n",
       "  </thead>\n",
       "  <tbody>\n",
       "    <tr>\n",
       "      <th>0</th>\n",
       "      <td>99.85</td>\n",
       "      <td>96.33</td>\n",
       "      <td>107.20</td>\n",
       "      <td>96.81</td>\n",
       "      <td>100.32</td>\n",
       "      <td>99.45</td>\n",
       "      <td>95.81</td>\n",
       "      <td>97.20</td>\n",
       "      <td>96.82</td>\n",
       "      <td>101.57</td>\n",
       "    </tr>\n",
       "    <tr>\n",
       "      <th>1</th>\n",
       "      <td>98.53</td>\n",
       "      <td>97.19</td>\n",
       "      <td>96.53</td>\n",
       "      <td>103.20</td>\n",
       "      <td>95.68</td>\n",
       "      <td>97.78</td>\n",
       "      <td>106.87</td>\n",
       "      <td>104.58</td>\n",
       "      <td>101.95</td>\n",
       "      <td>103.81</td>\n",
       "    </tr>\n",
       "    <tr>\n",
       "      <th>2</th>\n",
       "      <td>98.43</td>\n",
       "      <td>93.06</td>\n",
       "      <td>103.69</td>\n",
       "      <td>94.98</td>\n",
       "      <td>103.26</td>\n",
       "      <td>97.63</td>\n",
       "      <td>97.09</td>\n",
       "      <td>96.85</td>\n",
       "      <td>93.36</td>\n",
       "      <td>100.08</td>\n",
       "    </tr>\n",
       "    <tr>\n",
       "      <th>3</th>\n",
       "      <td>98.73</td>\n",
       "      <td>102.26</td>\n",
       "      <td>103.28</td>\n",
       "      <td>97.47</td>\n",
       "      <td>99.25</td>\n",
       "      <td>99.63</td>\n",
       "      <td>98.26</td>\n",
       "      <td>102.25</td>\n",
       "      <td>100.86</td>\n",
       "      <td>98.92</td>\n",
       "    </tr>\n",
       "    <tr>\n",
       "      <th>4</th>\n",
       "      <td>95.50</td>\n",
       "      <td>100.15</td>\n",
       "      <td>99.77</td>\n",
       "      <td>101.13</td>\n",
       "      <td>97.83</td>\n",
       "      <td>98.24</td>\n",
       "      <td>98.23</td>\n",
       "      <td>98.27</td>\n",
       "      <td>100.76</td>\n",
       "      <td>100.01</td>\n",
       "    </tr>\n",
       "  </tbody>\n",
       "</table>\n",
       "</div>"
      ],
      "text/plain": [
       "       0       1       2       3       4      5       6       7       8  \\\n",
       "0  99.85   96.33  107.20   96.81  100.32  99.45   95.81   97.20   96.82   \n",
       "1  98.53   97.19   96.53  103.20   95.68  97.78  106.87  104.58  101.95   \n",
       "2  98.43   93.06  103.69   94.98  103.26  97.63   97.09   96.85   93.36   \n",
       "3  98.73  102.26  103.28   97.47   99.25  99.63   98.26  102.25  100.86   \n",
       "4  95.50  100.15   99.77  101.13   97.83  98.24   98.23   98.27  100.76   \n",
       "\n",
       "        9  \n",
       "0  101.57  \n",
       "1  103.81  \n",
       "2  100.08  \n",
       "3   98.92  \n",
       "4  100.01  "
      ]
     },
     "execution_count": 2,
     "metadata": {},
     "output_type": "execute_result"
    }
   ],
   "source": [
    "df = pd.read_excel(\"is medworld cheating sample data.xlsx\",header=None)\n",
    "sample_values = df.values\n",
    "sample_values = sample_values.flatten()\n",
    "print('Below are the data of 50 random samples')\n",
    "df"
   ]
  },
  {
   "cell_type": "markdown",
   "metadata": {},
   "source": [
    "# Calculate sample mean and standard deviation\n",
    "Below we calculate the mean and standard deviation of the samples taken"
   ]
  },
  {
   "cell_type": "code",
   "execution_count": 3,
   "metadata": {},
   "outputs": [
    {
     "name": "stdout",
     "output_type": "stream",
     "text": [
      "sample_mean = 99.3342 mg and sample standard deviation = 3.106956046929377 mg\n"
     ]
    }
   ],
   "source": [
    "sample_mean = mean(sample_values)\n",
    "sample_std_dev = stdev(sample_values)\n",
    "print(f'sample_mean = {sample_mean} mg and sample standard deviation = {sample_std_dev} mg')"
   ]
  },
  {
   "cell_type": "markdown",
   "metadata": {},
   "source": [
    "# Estimating population mean of weights of medicine from the sample collected"
   ]
  },
  {
   "cell_type": "markdown",
   "metadata": {},
   "source": [
    "## Prepare a confidence interval visualization for σ unknown"
   ]
  },
  {
   "cell_type": "code",
   "execution_count": 4,
   "metadata": {},
   "outputs": [],
   "source": [
    "def view_confidence_interval_t_dist(confidence_interval: float,\n",
    "                                    number_of_samples:int,\n",
    "                                    sample_mean: float,\n",
    "                                    sample_std_dev: float\n",
    "                                    ):\n",
    "    # declaring problem constants\n",
    "    x_bar = sample_mean # sample mean\n",
    "    n = number_of_samples # number of samples taken\n",
    "    degree_of_freedom = n-1\n",
    "    s = sample_std_dev\n",
    "    s_x_bar = s/n**0.5\n",
    "    # generate x and y axes\n",
    "    x_lower = x_bar-3.5*s_x_bar\n",
    "    x_upper = x_bar+3.5*s_x_bar\n",
    "    x = np.arange(x_lower,x_upper,(x_upper-x_lower)/1000)\n",
    "    y = t.pdf(x,degree_of_freedom,loc=sample_mean,scale=s_x_bar)\n",
    "    # get the probabilities of the tail areas\n",
    "    tail_areas = (1-confidence_interval)/2\n",
    "    upper_limit_prob = 1-tail_areas\n",
    "    lower_limit_prob = tail_areas\n",
    "    # compute the value of x_lower and x_higher\n",
    "    x_lower = t.ppf(lower_limit_prob,degree_of_freedom,loc=sample_mean,scale=s_x_bar)\n",
    "    x_higher = t.ppf(upper_limit_prob,degree_of_freedom,loc=sample_mean,scale=s_x_bar)\n",
    "    # plot and shade the graphs\n",
    "    plt.plot(x,y,'-')\n",
    "    plt.fill_between(x[x>=x_lower],y[x>=x_lower],color='green',alpha=0.7)\n",
    "    plt.fill_between(x[x>=x_higher],y[x>=x_higher],color='white')\n",
    "    plt.draw()\n",
    "    return round(x_lower,2), round(x_higher,2)"
   ]
  },
  {
   "cell_type": "markdown",
   "metadata": {},
   "source": [
    "## Prepare confidence interval visualization for σ known"
   ]
  },
  {
   "cell_type": "code",
   "execution_count": 5,
   "metadata": {},
   "outputs": [],
   "source": [
    "def view_confidence_interval(confidence_interval: float,\n",
    "                             population_std_dev: float,\n",
    "                             number_of_samples:int,\n",
    "                             mean: float\n",
    "                            ):\n",
    "    # declaring problem constants\n",
    "    x_bar = mean # sample mean\n",
    "    n = number_of_samples # number of samples taken\n",
    "    sigma = population_std_dev # population standard deviation\n",
    "    sigma_x_bar = sigma/n**0.5 # std dev of sample means\n",
    "    # generate x and y axes\n",
    "    x_axis_lower_bound = x_bar-3.5*sigma_x_bar\n",
    "    x_axis_upper_bound = x_bar+3.5*sigma_x_bar\n",
    "    steps = (x_axis_upper_bound-x_axis_lower_bound)/1000\n",
    "    x = np.arange(x_axis_lower_bound,x_axis_upper_bound,steps)\n",
    "    y = norm.pdf(x,loc=x_bar,scale=sigma_x_bar)\n",
    "    # get the probabilities of the tail areas\n",
    "    tail_areas = (1-confidence_interval)/2\n",
    "    upper_limit_prob = 1-tail_areas\n",
    "    lower_limit_prob = tail_areas\n",
    "    # compute the value of x_lower and x_higher\n",
    "    x_lower = norm.ppf(lower_limit_prob,loc=x_bar,scale=sigma_x_bar)\n",
    "    x_higher = norm.ppf(upper_limit_prob,loc=x_bar,scale=sigma_x_bar)\n",
    "    # plot and shade the graphs\n",
    "    plt.plot(x,y,'-')\n",
    "    plt.fill_between(x[x>=x_lower],y[x>=x_lower],color='red')\n",
    "    plt.fill_between(x[x>=x_higher],y[x>=x_higher],color='white')\n",
    "    plt.draw()\n",
    "    return round(x_lower,2), round(x_higher,2)"
   ]
  },
  {
   "cell_type": "markdown",
   "metadata": {},
   "source": [
    "## Get a 95% confidence interval band for σ unknown\n",
    "We are disregarding the slated mean and standard deviation by Medworld"
   ]
  },
  {
   "cell_type": "code",
   "execution_count": 6,
   "metadata": {},
   "outputs": [
    {
     "name": "stdout",
     "output_type": "stream",
     "text": [
      "The mean medicine contents of the population is expected to lie between 98.45mg and 100.22mg with 95.0% confidence\n",
      "while the slated mean is 100mg\n",
      "Margin of error = ±0.884999999999998mg\n"
     ]
    },
    {
     "data": {
      "image/png": "[encoded data removed]",
      "text/plain": [
       "<Figure size 432x288 with 1 Axes>"
      ]
     },
     "metadata": {
      "needs_background": "light"
     },
     "output_type": "display_data"
    }
   ],
   "source": [
    "confidence_interval = 0.95\n",
    "number_of_samples = len(sample_values)\n",
    "sample_mean = sample_mean\n",
    "sample_std_dev = sample_std_dev\n",
    "x_lower, x_higher = view_confidence_interval_t_dist(confidence_interval,\n",
    "                                                    number_of_samples,\n",
    "                                                    sample_mean,\n",
    "                                                    sample_std_dev\n",
    "                                                    )\n",
    "print(f'The mean medicine contents of the population is expected to lie between {x_lower}mg '\\\n",
    "      f'and {x_higher}mg with {confidence_interval*100}% confidence\\n'\\\n",
    "      f'while the slated mean is 100mg'\n",
    "     )\n",
    "print(u'Margin of error = \\u00B1{}mg'.format((x_higher-x_lower)/2))"
   ]
  },
  {
   "cell_type": "markdown",
   "metadata": {},
   "source": [
    "## Inference\n",
    "Thus from the above sample collected, the mean medicine content was found to be 99.3342 mg and with 95% confidence we can say that the actual mean of all the medicines produced by medworld is going to lie between 98.45mg and 100.22mg. So we don't have enough evidence to punish Medworld."
   ]
  },
  {
   "cell_type": "markdown",
   "metadata": {},
   "source": [
    "## Get a 95% confidence interval band for σ known\n",
    "Considering σ = 3.5 mg as stated by MedWorld and μ = 100 mg"
   ]
  },
  {
   "cell_type": "code",
   "execution_count": 7,
   "metadata": {},
   "outputs": [
    {
     "name": "stdout",
     "output_type": "stream",
     "text": [
      "The mean medicine contents of the population is expected to lie between 98.36mg and 100.3mg with 95.0% confidence\n",
      "Margin of error = ±0.9699999999999989mg\n"
     ]
    },
    {
     "data": {
      "image/png": "[encoded data removed]",
      "text/plain": [
       "<Figure size 432x288 with 1 Axes>"
      ]
     },
     "metadata": {
      "needs_background": "light"
     },
     "output_type": "display_data"
    }
   ],
   "source": [
    "confidence_interval = 0.95\n",
    "number_of_samples = len(sample_values)\n",
    "population_std_dev = 3.5\n",
    "sample_mean = sample_mean\n",
    "sample_std_dev = sample_std_dev\n",
    "x_lower, x_higher = view_confidence_interval(confidence_interval,\n",
    "                             population_std_dev,\n",
    "                             number_of_samples,\n",
    "                             sample_mean\n",
    "                            )\n",
    "print(f'The mean medicine contents of the population is expected to lie between {x_lower}mg '\\\n",
    "      f'and {x_higher}mg with {confidence_interval*100}% confidence')\n",
    "print(u'Margin of error = \\u00B1{}mg'.format((x_higher-x_lower)/2))"
   ]
  },
  {
   "cell_type": "markdown",
   "metadata": {},
   "source": [
    "# Hypothesis Test\n",
    "Suppose Medworld is doing all right and are producing the medicines with μ = 100 mg and σ= 3.mg as stated.<br>\n",
    "We took a sample of 50 tablets and found the mean to be sample_mean = 99.3342 mg and sample standard deviation = 3.11 mg<br>\n",
    "We ask the question:<br>\n",
    "<b>If we tolerate an error of 5% i.e. confidence interval of 95%, and assume that MedWorld is producing at the same stated mean and standard deviation, what will be the range of values of sample mean we might get?</b><br>\n",
    "In other words we will visualize the following upper and lower limits of the set confidence interval with σ = 3.5 mg μ = 100 mg."
   ]
  },
  {
   "cell_type": "code",
   "execution_count": 8,
   "metadata": {},
   "outputs": [
    {
     "name": "stdout",
     "output_type": "stream",
     "text": [
      "The sample means are expected to lie between: 99.03mg and 100.97mg \n",
      "while our actual sample mean was: 99.3342mg\n"
     ]
    },
    {
     "data": {
      "image/png": "[encoded data removed]",
      "text/plain": [
       "<Figure size 432x288 with 1 Axes>"
      ]
     },
     "metadata": {
      "needs_background": "light"
     },
     "output_type": "display_data"
    }
   ],
   "source": [
    "confidence_interval = 0.95\n",
    "population_mean = 100\n",
    "population_std_dev = 3.5\n",
    "number_of_samples = len(sample_values)\n",
    "sample_mean_lower, sample_mean_higher = view_confidence_interval(confidence_interval,population_std_dev,number_of_samples,population_mean)\n",
    "print('The sample means are expected to lie between: {}mg and {}mg ' \\\n",
    "      '\\nwhile our actual sample mean was: {}mg'.format(sample_mean_lower, sample_mean_higher, sample_mean))"
   ]
  },
  {
   "cell_type": "markdown",
   "metadata": {},
   "source": [
    "## Inference:\n",
    "If we assume MedWorld's claim of mean medicine content to be 100mg with standard deviation 3.5mg we are 95% sure that a random sample will have its mean in between 99.03mg and 100.97mg. The sample we collected had a mean in between the above range. Hence not enough evidence to punish MedWorld."
   ]
  },
  {
   "cell_type": "markdown",
   "metadata": {},
   "source": [
    "# Optimum number of samples to reduce desired margin of error\n",
    "Below we will try to estimate what will be the optimum number of samples required considering confidence interval = 0.95 the same sample standard deviation estimate. We will take the approach of t-distribution iterative approach as population standard deviation we are assuming to be unknown. <br>\n",
    "The desired margin of error should be ±0.5mg instead of the previous ±0.885mg"
   ]
  },
  {
   "cell_type": "code",
   "execution_count": 9,
   "metadata": {},
   "outputs": [],
   "source": [
    "def iterate_over_sample_sizes(n: int,\n",
    "                              confidence_interval: float,\n",
    "                              sample_std_dev: float,\n",
    "                              dmoe: float\n",
    "                             ):\n",
    "    degree_of_freedom = n-1\n",
    "    # calculate the t value for the given confidence interval and degree of freedom\n",
    "    alpha = (1+confidence_interval)/2\n",
    "    t_value = t.ppf(alpha, degree_of_freedom,loc=0,scale=1)\n",
    "    # calculate the dmoe for the given t value.\n",
    "    dmoe_calc = (sample_std_dev/n**0.5)*t_value\n",
    "    # check whether the dmoe calculated is around desired dmoe.\n",
    "    if dmoe - 0.01*dmoe <= dmoe_calc <= dmoe + 0.01*dmoe:\n",
    "        print(u'For the given condition, {} minimum number of samples required to get a CI: {} and DMOE: \\u00B1{}'.format(n,confidence_interval,dmoe))\n",
    "        return n\n",
    "    else:\n",
    "        # if we are getting a positive deviation from desired DMOE, increase number of samples\n",
    "        if dmoe_calc > dmoe:\n",
    "            sample_size_change = 1\n",
    "        else:\n",
    "            # if we are getting a negative deviation from desired DMOE, decrease number of samples\n",
    "            sample_size_change = -1\n",
    "        # iteration with change in sample size\n",
    "        iterate_over_sample_sizes(n+sample_size_change,\n",
    "                                  confidence_interval,\n",
    "                                  sample_std_dev,\n",
    "                                  dmoe\n",
    "                                 )"
   ]
  },
  {
   "cell_type": "code",
   "execution_count": 10,
   "metadata": {},
   "outputs": [
    {
     "name": "stdout",
     "output_type": "stream",
     "text": [
      "For the given condition, 148 minimum number of samples required to get a CI: 0.95 and DMOE: ±0.5\n"
     ]
    }
   ],
   "source": [
    "confidence_interval = 0.95\n",
    "number_of_samples = 10 # pilot sample\n",
    "sample_std_dev = sample_std_dev\n",
    "dmoe = 0.5\n",
    "min_number_of_samples = iterate_over_sample_sizes(n=number_of_samples,\n",
    "                                                  confidence_interval=confidence_interval,\n",
    "                                                  sample_std_dev=sample_std_dev,\n",
    "                                                  dmoe=dmoe\n",
    "                                                 )"
   ]
  },
  {
   "cell_type": "markdown",
   "metadata": {},
   "source": [
    "## Inference\n",
    "If the guideline says that ±0.5mg deviation can cause trouble to patients then we have not got enough samples to prove MedWorld cheating. We require more sample to bring our DMOE down. Let's see for getting the same DMOE as per mean and standard deviation prescribed by MedWorld how many samples are required."
   ]
  },
  {
   "cell_type": "code",
   "execution_count": 11,
   "metadata": {},
   "outputs": [],
   "source": [
    "def minimum_samples(confidence_interval:float,\n",
    "                    population_std_dev: float,\n",
    "                    dmoe: float\n",
    "                   ):\n",
    "    prob_upper = (1+confidence_interval)/2\n",
    "    prob_lower = (1-confidence_interval)/2\n",
    "    z_upper = norm.ppf(prob_upper, loc=0, scale=1)\n",
    "    z_lower = norm.ppf(prob_lower, loc=0, scale=1)\n",
    "    min_samples = (population_std_dev*(z_upper - z_lower)/(2*dmoe))**2\n",
    "    return int(round(min_samples,0))"
   ]
  },
  {
   "cell_type": "code",
   "execution_count": 12,
   "metadata": {},
   "outputs": [
    {
     "name": "stdout",
     "output_type": "stream",
     "text": [
      "For 95.0% confidence, with a population std. dev: 3.5 and dmoe: ±0.5 mg, 188 minimum samples are required\n"
     ]
    }
   ],
   "source": [
    "confidence_interval:float = 0.95\n",
    "population_std_dev: float = 3.5\n",
    "dmoe: float = 0.5\n",
    "min_samples = minimum_samples(confidence_interval, population_std_dev, dmoe)\n",
    "print('For {}% confidence, with a population std. dev: {} and dmoe: \\u00B1{} mg, {} minimum samples are required'.format(confidence_interval*100,population_std_dev,dmoe,min_samples))"
   ]
  },
  {
   "cell_type": "markdown",
   "metadata": {},
   "source": [
    "## Inference\n",
    "Thus we can say that if we want our 95% confidence interval to be within ±0.5 mg even for MedWorld's claim of standard deviation of 3.5 mg we need 188+ samples to make the estimation."
   ]
  },
  {
   "cell_type": "code",
   "execution_count": null,
   "metadata": {},
   "outputs": [],
   "source": []
  }
 ],
 "metadata": {
  "kernelspec": {
   "display_name": "Python 3",
   "language": "python",
   "name": "python3"
  },
  "language_info": {
   "codemirror_mode": {
    "name": "ipython",
    "version": 3
   },
   "file_extension": ".py",
   "mimetype": "text/x-python",
   "name": "python",
   "nbconvert_exporter": "python",
   "pygments_lexer": "ipython3",
   "version": "3.7.6"
  }
 },
 "nbformat": 4,
 "nbformat_minor": 4
}
