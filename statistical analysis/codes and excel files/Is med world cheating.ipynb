{
 "cells": [
  {
   "cell_type": "code",
   "execution_count": 1,
   "metadata": {},
   "outputs": [],
   "source": [
    "import pandas as pd\n",
    "from scipy.stats import norm\n",
    "import matplotlib.pyplot as plt\n",
    "import numpy as np\n",
    "from statistics import mean, pstdev, stdev\n",
    "from typing import Tuple"
   ]
  },
  {
   "cell_type": "markdown",
   "metadata": {},
   "source": [
    "# Read the data"
   ]
  },
  {
   "cell_type": "code",
   "execution_count": 2,
   "metadata": {},
   "outputs": [
    {
     "data": {
      "text/plain": [
       "(50,)"
      ]
     },
     "execution_count": 2,
     "metadata": {},
     "output_type": "execute_result"
    }
   ],
   "source": [
    "df = pd.read_excel('is medworld cheating sample data.xlsx',header=None)\n",
    "sample_values = df.values\n",
    "sample_values = sample_values.flatten()\n",
    "sample_values.shape"
   ]
  },
  {
   "cell_type": "markdown",
   "metadata": {},
   "source": [
    "# Problem constants"
   ]
  },
  {
   "cell_type": "code",
   "execution_count": 3,
   "metadata": {},
   "outputs": [],
   "source": [
    "variance = 12.25\n",
    "population_std_dev = variance**0.5"
   ]
  },
  {
   "cell_type": "markdown",
   "metadata": {},
   "source": [
    "# Calculate sample mean and standard deviation"
   ]
  },
  {
   "cell_type": "code",
   "execution_count": 4,
   "metadata": {},
   "outputs": [
    {
     "name": "stdout",
     "output_type": "stream",
     "text": [
      "sample_mean = 99.3342mg\n"
     ]
    }
   ],
   "source": [
    "sample_mean = mean(sample_values)\n",
    "print(f'sample_mean = {sample_mean}mg')"
   ]
  },
  {
   "cell_type": "markdown",
   "metadata": {},
   "source": [
    "# Compute normal distribution with sample mean and standard deviation\n",
    "By central limit theorem:\n",
    "1. population mean = sample mean\n",
    "1. sample standard deviation = population standard deviation/sqrt(number of samples)"
   ]
  },
  {
   "cell_type": "code",
   "execution_count": 5,
   "metadata": {},
   "outputs": [
    {
     "data": {
      "text/plain": [
       "Text(0, 0.5, 'probability')"
      ]
     },
     "execution_count": 5,
     "metadata": {},
     "output_type": "execute_result"
    },
    {
     "data": {
      "image/png": "[encoded data removed]",
      "text/plain": [
       "<Figure size 432x288 with 1 Axes>"
      ]
     },
     "metadata": {
      "needs_background": "light"
     },
     "output_type": "display_data"
    }
   ],
   "source": [
    "sample_std_dev = population_std_dev/len(sample_values)**0.5\n",
    "x = np.arange(min(sample_values),max(sample_values),0.25)\n",
    "y = norm.pdf(x,loc=sample_mean,scale=sample_std_dev)\n",
    "plt.plot(x,y,'-')\n",
    "plt.xlabel('amounts (mg) of medicine contents')\n",
    "plt.ylabel('probability')"
   ]
  },
  {
   "cell_type": "markdown",
   "metadata": {},
   "source": [
    "# Prepare a confidence interval visualization"
   ]
  },
  {
   "cell_type": "code",
   "execution_count": 6,
   "metadata": {},
   "outputs": [],
   "source": [
    "def view_confidence_interval(confidence_interval: float,\n",
    "                             population_std_dev: float,\n",
    "                             samples: list\n",
    "                            ) -> Tuple[float,float]:\n",
    "    '''\n",
    "    Build and visualize a confidence interval\n",
    "\n",
    "    Parameters\n",
    "    ----------\n",
    "    confidence_interval : float\n",
    "        The confidence interval to visualize 0.9,0.95 etc.\n",
    "    population_std_dev : float\n",
    "        The population standard deviation.\n",
    "    samples : list or array like\n",
    "        List of samples to calculate the sample mean and standard deviation.\n",
    "\n",
    "    Returns\n",
    "    -------\n",
    "    x_lower : TYPE\n",
    "        DESCRIPTION.\n",
    "    x_higher : TYPE\n",
    "        DESCRIPTION.\n",
    "\n",
    "    '''\n",
    "    # declaring problem constants\n",
    "    x_bar = mean(samples) # sample mean\n",
    "    n = len(samples) # number of samples taken\n",
    "    sigma = population_std_dev # population standard deviation\n",
    "    sigma_x_bar = sigma/n**0.5 # std dev of sample means\n",
    "    # generate x and y axes\n",
    "    x = np.arange(mean(samples)-3*pstdev(samples),mean(samples)+3*pstdev(samples),0.025)\n",
    "    y = norm.pdf(x,loc=x_bar,scale=sigma_x_bar)\n",
    "    # get the probabilities of the tail areas\n",
    "    tail_areas = (1-confidence_interval)/2\n",
    "    upper_limit_prob = 1-tail_areas\n",
    "    lower_limit_prob = tail_areas\n",
    "    \n",
    "    # compute the value of x_lower and x_higher\n",
    "    x_lower = norm.ppf(lower_limit_prob,loc=x_bar,scale=sigma_x_bar)\n",
    "    x_higher = norm.ppf(upper_limit_prob,loc=x_bar,scale=sigma_x_bar)\n",
    "    \n",
    "    # plot and shade the graphs\n",
    "    plt.plot(x,y,'-')\n",
    "    plt.fill_between(x[x>=x_lower],y[x>=x_lower],color='red')\n",
    "    plt.fill_between(x[x>=x_higher],y[x>=x_higher],color='white')\n",
    "    plt.draw()\n",
    "    return round(x_lower,2), round(x_higher,2)"
   ]
  },
  {
   "cell_type": "code",
   "execution_count": 7,
   "metadata": {},
   "outputs": [
    {
     "name": "stdout",
     "output_type": "stream",
     "text": [
      "The mean medicine contents of a sample is expected to lie between 98.52mg and 100.15mg with 90.0% confidence\n"
     ]
    },
    {
     "data": {
      "image/png": "[encoded data removed]",
      "text/plain": [
       "<Figure size 432x288 with 1 Axes>"
      ]
     },
     "metadata": {
      "needs_background": "light"
     },
     "output_type": "display_data"
    }
   ],
   "source": [
    "confidence_interval = 0.90\n",
    "population_std_dev = population_std_dev\n",
    "x_lower, x_higher = view_confidence_interval(confidence_interval,\n",
    "                                             population_std_dev,\n",
    "                                             sample_values\n",
    "                                            )\n",
    "print(f'The mean medicine contents of a sample is expected to lie between {x_lower}mg '\\\n",
    "      f'and {x_higher}mg with {confidence_interval*100}% confidence')"
   ]
  },
  {
   "cell_type": "code",
   "execution_count": null,
   "metadata": {},
   "outputs": [],
   "source": []
  }
 ],
 "metadata": {
  "kernelspec": {
   "display_name": "Python 3",
   "language": "python",
   "name": "python3"
  },
  "language_info": {
   "codemirror_mode": {
    "name": "ipython",
    "version": 3
   },
   "file_extension": ".py",
   "mimetype": "text/x-python",
   "name": "python",
   "nbconvert_exporter": "python",
   "pygments_lexer": "ipython3",
   "version": "3.7.6"
  }
 },
 "nbformat": 4,
 "nbformat_minor": 4
}
