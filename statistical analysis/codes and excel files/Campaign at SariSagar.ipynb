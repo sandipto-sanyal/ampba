{
 "cells": [
  {
   "cell_type": "markdown",
   "metadata": {},
   "source": [
    "# The problem statement\n",
    " - SariSagar, an online retailer for designer saris. They are planning to introduce a new line of “tussar” silk saris, ranging between Rs. 2,180 and Rs. 8,420.\n",
    " - The success of the new line depends on the order size (in Rs.)\n",
    " - A sample of 2,000 potential customers were randomly selected from the database and a campaign is launched.\n",
    " - SariSagar received orders from 144 customers with an average of ₹ 6,540 and standar deviation of ₹ 4,803.\n",
    " - Based on the previous campaigns, it was assumed that the population standard deviation (σ) is ₹ 4,608 from previous such launches.\n",
    " - What can we say about the average order size that will be held after a full-fledged market launch?"
   ]
  },
  {
   "cell_type": "markdown",
   "metadata": {},
   "source": [
    "# Inferences\n",
    "From the above data the below inferences can be drawn\n",
    " - Sample statistics:\n",
    "     - number of samples taken = n = 144\n",
    "     - X_bar = ₹ 6540\n",
    " - Population parameters:\n",
    "     - σ = ₹ 4608\n",
    "\n",
    "We are assuming that sample size is large enough so that CLT can be applied"
   ]
  },
  {
   "cell_type": "markdown",
   "metadata": {},
   "source": [
    "# Solution"
   ]
  },
  {
   "cell_type": "markdown",
   "metadata": {},
   "source": [
    "## Import packages"
   ]
  },
  {
   "cell_type": "code",
   "execution_count": 1,
   "metadata": {},
   "outputs": [],
   "source": [
    "from scipy.stats import norm\n",
    "import matplotlib.pyplot as plt\n",
    "import numpy as np"
   ]
  },
  {
   "cell_type": "markdown",
   "metadata": {},
   "source": [
    "## Get the x_lower and x_higher such to view the set confidence interval\n",
    "The below shaded area denotes the set confidence interval that was set [here](#controlling_variable)"
   ]
  },
  {
   "cell_type": "code",
   "execution_count": 2,
   "metadata": {},
   "outputs": [],
   "source": [
    "def view_confidence_interval(confidence_interval: float,\n",
    "                             population_std_dev: float,\n",
    "                             number_of_samples:int,\n",
    "                             sample_mean: float\n",
    "                            ):\n",
    "    # declaring problem constants\n",
    "    x_bar = sample_mean # sample mean\n",
    "    n = number_of_samples # number of samples taken\n",
    "    sigma = population_std_dev # population standard deviation\n",
    "    sigma_x_bar = sigma/n**0.5 # std dev of sample means\n",
    "    # generate x and y axes\n",
    "    x_axis_lower_bound = x_bar-3.5*sigma_x_bar\n",
    "    x_axis_upper_bound = x_bar+3.5*sigma_x_bar\n",
    "    steps = (x_axis_upper_bound-x_axis_lower_bound)/1000\n",
    "    x = np.arange(x_axis_lower_bound,x_axis_upper_bound,steps)\n",
    "    y = norm.pdf(x,loc=x_bar,scale=sigma_x_bar)\n",
    "    # get the probabilities of the tail areas\n",
    "    tail_areas = (1-confidence_interval)/2\n",
    "    upper_limit_prob = 1-tail_areas\n",
    "    lower_limit_prob = tail_areas\n",
    "    # compute the value of x_lower and x_higher\n",
    "    x_lower = norm.ppf(lower_limit_prob,loc=x_bar,scale=sigma_x_bar)\n",
    "    x_higher = norm.ppf(upper_limit_prob,loc=x_bar,scale=sigma_x_bar)\n",
    "    # plot and shade the graphs\n",
    "    plt.plot(x,y,'-')\n",
    "    plt.fill_between(x[x>=x_lower],y[x>=x_lower],color='red')\n",
    "    plt.fill_between(x[x>=x_higher],y[x>=x_higher],color='white')\n",
    "    plt.draw()\n",
    "    return x_lower, x_higher"
   ]
  },
  {
   "cell_type": "markdown",
   "metadata": {},
   "source": [
    "## Effect of changing confidence interval on lower and upper limits keeping population standard deviation and number of samples constant\n",
    "From our Exercise on Sampling we know that it is least likely that a sample's mean is equal to the actual population mean. Thus taking a sample and calculating its mean is a good estimate but not the actual population mean.<br><br>\n",
    "This is where the role of confidence interval comes into picture. By building a confidence interval (α like 0.90,0.95,0.99) we intend to find the lower and the upper bounds within which population mean is likely to occur with a probability of α."
   ]
  },
  {
   "cell_type": "markdown",
   "metadata": {},
   "source": [
    "### Confidence_interval = 0.90 <a id='ci_90'></a>"
   ]
  },
  {
   "cell_type": "code",
   "execution_count": 3,
   "metadata": {},
   "outputs": [
    {
     "name": "stdout",
     "output_type": "stream",
     "text": [
      "Confidence interval = 0.9\n",
      "Population standard devation = 4608\n",
      "Number of samples = 144\n",
      "The lower limit of order is ₹5908.38 and higher limit of order is ₹7171.62\n"
     ]
    },
    {
     "data": {
      "image/png": "[encoded data removed]",
      "text/plain": [
       "<Figure size 432x288 with 1 Axes>"
      ]
     },
     "metadata": {
      "needs_background": "light"
     },
     "output_type": "display_data"
    }
   ],
   "source": [
    "population_std_dev = 4608\n",
    "confidence_interval = 0.90\n",
    "number_of_samples = 144\n",
    "sample_mean = 6540\n",
    "x_lower, x_higher = view_confidence_interval(confidence_interval = confidence_interval, \n",
    "                                             population_std_dev=population_std_dev,\n",
    "                                             number_of_samples=number_of_samples,\n",
    "                                             sample_mean=sample_mean\n",
    "                                            )\n",
    "print(u'Confidence interval = {}\\nPopulation standard devation = {}\\nNumber of samples = {}\\n' \\\n",
    "'The lower limit of order is \\u20B9{} and higher limit of order is \\u20B9{}'.format(confidence_interval,\n",
    "                                                                                    population_std_dev,\n",
    "                                                                                    number_of_samples,\n",
    "                                                                                    round(x_lower,2),round(x_higher,2)))"
   ]
  },
  {
   "cell_type": "markdown",
   "metadata": {},
   "source": [
    "# Interpretation\n",
    "1. Take another sample calculate X_bar<sub>1</sub> form a window X_bar<sub>1</sub> ± 2*1.645σ<sub>x_bar</sub>\n",
    "1. Take another sample calculate X_bar<sub>2</sub> form a window X_bar<sub>2</sub> ± 2*1.645σ<sub>x_bar</sub>\n",
    "1. Take another sample calculate X_bar<sub>3</sub> form a window X_bar<sub>3</sub> ± 2*1.645σ<sub>x_bar</sub> ...And so on.\n",
    "\n",
    "Thus by 90% confidence interval we are trying to say that if we take 1000 such samples for, 900 samples our population mean will lie between the above specified windows.\n",
    "\n",
    "Also: By this manner we will be worrying about the lower limit of i.e. ₹5908.38. So we can say that after the national launch I am 95% (90% Confidence Interval + 5% lower tail) sure that the mean of order will be above ₹5908.38. "
   ]
  },
  {
   "cell_type": "markdown",
   "metadata": {},
   "source": [
    "### Confidence_interval = 0.95"
   ]
  },
  {
   "cell_type": "code",
   "execution_count": 4,
   "metadata": {},
   "outputs": [
    {
     "name": "stdout",
     "output_type": "stream",
     "text": [
      "Confidence interval = 0.95\n",
      "Population standard devation = 4608\n",
      "Number of samples = 144\n",
      "The lower limit of order is ₹5787.37 and higher limit of order is ₹7292.63\n"
     ]
    },
    {
     "data": {
      "image/png": "[encoded data removed]",
      "text/plain": [
       "<Figure size 432x288 with 1 Axes>"
      ]
     },
     "metadata": {
      "needs_background": "light"
     },
     "output_type": "display_data"
    }
   ],
   "source": [
    "population_std_dev = 4608\n",
    "confidence_interval = 0.95\n",
    "number_of_samples = 144\n",
    "sample_mean = 6540\n",
    "x_lower, x_higher = view_confidence_interval(confidence_interval = confidence_interval, \n",
    "                                             population_std_dev=population_std_dev,\n",
    "                                             number_of_samples=number_of_samples,\n",
    "                                             sample_mean=sample_mean\n",
    "                                            )\n",
    "print(u'Confidence interval = {}\\nPopulation standard devation = {}\\nNumber of samples = {}\\n' \\\n",
    "'The lower limit of order is \\u20B9{} and higher limit of order is \\u20B9{}'.format(confidence_interval,\n",
    "                                                                                    population_std_dev,\n",
    "                                                                                    number_of_samples,\n",
    "                                                                                    round(x_lower,2),round(x_higher,2)))"
   ]
  },
  {
   "cell_type": "markdown",
   "metadata": {},
   "source": [
    "### Confidence_interval = 0.99"
   ]
  },
  {
   "cell_type": "code",
   "execution_count": 5,
   "metadata": {},
   "outputs": [
    {
     "name": "stdout",
     "output_type": "stream",
     "text": [
      "Confidence interval = 0.99\n",
      "Population standard devation = 4608\n",
      "Number of samples = 144\n",
      "The lower limit of order is ₹5550.88 and higher limit of order is ₹7529.12\n"
     ]
    },
    {
     "data": {
      "image/png": "[encoded data removed]",
      "text/plain": [
       "<Figure size 432x288 with 1 Axes>"
      ]
     },
     "metadata": {
      "needs_background": "light"
     },
     "output_type": "display_data"
    }
   ],
   "source": [
    "population_std_dev = 4608\n",
    "confidence_interval = 0.99\n",
    "number_of_samples = 144\n",
    "sample_mean = 6540\n",
    "x_lower, x_higher = view_confidence_interval(confidence_interval = confidence_interval, \n",
    "                                             population_std_dev=population_std_dev,\n",
    "                                             number_of_samples=number_of_samples,\n",
    "                                             sample_mean=sample_mean\n",
    "                                            )\n",
    "print(u'Confidence interval = {}\\nPopulation standard devation = {}\\nNumber of samples = {}\\n' \\\n",
    "'The lower limit of order is \\u20B9{} and higher limit of order is \\u20B9{}'.format(confidence_interval,\n",
    "                                                                                    population_std_dev,\n",
    "                                                                                    number_of_samples,\n",
    "                                                                                    round(x_lower,2),round(x_higher,2)))"
   ]
  },
  {
   "cell_type": "markdown",
   "metadata": {},
   "source": [
    "# Interpretation\n",
    "Thus we can see that with increasing confidence interval the precision of knowing where the mean will lie decreasing.<br>\n",
    "Now can we achieve higher confidence and higher precision? Yes? By the following ways:\n",
    " - Increasing number of samples taken\n",
    " - Decreasing population standard deviation\n",
    " \n",
    "Let's check below"
   ]
  },
  {
   "cell_type": "markdown",
   "metadata": {},
   "source": [
    "## Increasing number of samples taken\n",
    "Below we will keep our confidence level at 99% but increase the number of samples taken from 144 to 700"
   ]
  },
  {
   "cell_type": "code",
   "execution_count": 6,
   "metadata": {},
   "outputs": [
    {
     "name": "stdout",
     "output_type": "stream",
     "text": [
      "Confidence interval = 0.99\n",
      "Population standard devation = 4608\n",
      "Number of samples = 700\n",
      "The lower limit of order is ₹6091.38 and higher limit of order is ₹6988.62\n"
     ]
    },
    {
     "data": {
      "image/png": "[encoded data removed]",
      "text/plain": [
       "<Figure size 432x288 with 1 Axes>"
      ]
     },
     "metadata": {
      "needs_background": "light"
     },
     "output_type": "display_data"
    }
   ],
   "source": [
    "population_std_dev = 4608\n",
    "confidence_interval = 0.99\n",
    "number_of_samples = 700\n",
    "sample_mean = 6540\n",
    "x_lower, x_higher = view_confidence_interval(confidence_interval = confidence_interval, \n",
    "                                             population_std_dev=population_std_dev,\n",
    "                                             number_of_samples=number_of_samples,\n",
    "                                             sample_mean=sample_mean\n",
    "                                            )\n",
    "print(u'Confidence interval = {}\\nPopulation standard devation = {}\\nNumber of samples = {}\\n' \\\n",
    "'The lower limit of order is \\u20B9{} and higher limit of order is \\u20B9{}'.format(confidence_interval,\n",
    "                                                                                    population_std_dev,\n",
    "                                                                                    number_of_samples,\n",
    "                                                                                    round(x_lower,2),round(x_higher,2)))"
   ]
  },
  {
   "cell_type": "markdown",
   "metadata": {},
   "source": [
    "## Inference\n",
    "Thus increasing number of samples taken results in higher confidence and higher precsion. This can be achieved by investing on more advertisement i.e. send the campaign to > 2000 people to get a higher response rate. Obviously this will incur more cost in marketing."
   ]
  },
  {
   "cell_type": "markdown",
   "metadata": {},
   "source": [
    "## Decreasing population standard devation\n",
    "We will decrease the population standard deviation to see the effect from INR 4608 to INR 2000"
   ]
  },
  {
   "cell_type": "code",
   "execution_count": 7,
   "metadata": {},
   "outputs": [
    {
     "name": "stdout",
     "output_type": "stream",
     "text": [
      "Confidence interval = 0.9\n",
      "Population standard devation = 2000\n",
      "Number of samples = 144\n",
      "The lower limit of order is ₹6265.86 and higher limit of order is ₹6814.14\n"
     ]
    },
    {
     "data": {
      "image/png": "[encoded data removed]",
      "text/plain": [
       "<Figure size 432x288 with 1 Axes>"
      ]
     },
     "metadata": {
      "needs_background": "light"
     },
     "output_type": "display_data"
    }
   ],
   "source": [
    "population_std_dev = 2000\n",
    "confidence_interval = 0.90\n",
    "number_of_samples = 144\n",
    "sample_mean = 6540\n",
    "x_lower, x_higher = view_confidence_interval(confidence_interval = confidence_interval, \n",
    "                                             population_std_dev=population_std_dev,\n",
    "                                             number_of_samples=number_of_samples,\n",
    "                                             sample_mean=sample_mean\n",
    "                                            )\n",
    "print(u'Confidence interval = {}\\nPopulation standard devation = {}\\nNumber of samples = {}\\n' \\\n",
    "'The lower limit of order is \\u20B9{} and higher limit of order is \\u20B9{}'.format(confidence_interval,\n",
    "                                                                                    population_std_dev,\n",
    "                                                                                    number_of_samples,\n",
    "                                                                                    round(x_lower,2),round(x_higher,2)))"
   ]
  },
  {
   "cell_type": "markdown",
   "metadata": {},
   "source": [
    "## Inference\n",
    "Thus decreasing population standard deviation results in increasing confidence level with increasing precision. Decreasing population std. dev. is a costly initiative for [ISO:9000](https://en.wikipedia.org/wiki/ISO_9000). It is a long term goal of an organization to make people and processes do the exact same thing over and over again to bring the population standard deviation done."
   ]
  },
  {
   "cell_type": "markdown",
   "metadata": {},
   "source": [
    "# Interpreting the Confidence interval\n",
    "Considering that 90% Confidence interval for the mean order size lies between ₹ 5908, ₹ 7172. What does it mean?\n",
    "1. The mean order size of the population lies in this range?\n",
    "2. The mean order size is in this range 90% of the time?\n",
    "3. 90% of the potential customers place this order size?\n",
    "\n",
    "Answer: Option 2. \n",
    "1. By taking a sample we are estimating the population mean. So it has certain uncertainty. Option 1 is latently carrying the meaning of a confidence interval to be 100% which is basically -inf to +inf.\n",
    "1. The 2nd option is correct.\n",
    "1. The third option is saying about hit rate of customers. In all the above statement we are not talking about hit rates."
   ]
  },
  {
   "cell_type": "markdown",
   "metadata": {},
   "source": [
    "# What is we don't know σ?\n",
    "This is the ideal scenario. In the above problem statement we had considered σ to be INR 4608 based on previous campaigns. The question comes how can we include previous campaign's mean during this campaign? Or what will happen in a case when we don't know σ? For that we will use <b>Student's t-distribution.</b>\n",
    "\n",
    "## Steps for computing lower and upper bounds in case of t distribution\n",
    "1. We don't know µ and σ for the population\n",
    "1. We take a sample of size n out of that population and calculate the sample mean = X_bar\n",
    "1. From the same sample we calculate the sample standard deviation = S. We make and estimation that the population standard deviation σ will be a number very close to S.\n",
    "1. We calculate the standard deviation of sample means as S<sub>X_bar</sub> = S/sqrt(n).\n",
    "1. The degree of freedom = n-1\n",
    "1. So we calculate the probabilities between our set confidence interval through t-distribution function for the given degree of freedom, sample mean and standard deviation of sample"
   ]
  },
  {
   "cell_type": "code",
   "execution_count": 8,
   "metadata": {},
   "outputs": [],
   "source": [
    "from scipy.stats import t"
   ]
  },
  {
   "cell_type": "code",
   "execution_count": 9,
   "metadata": {},
   "outputs": [],
   "source": [
    "def view_confidence_interval_t_dist(confidence_interval: float,\n",
    "                                    number_of_samples:int,\n",
    "                                    sample_mean: float,\n",
    "                                    sample_std_dev: float\n",
    "                                    ):\n",
    "    # declaring problem constants\n",
    "    x_bar = sample_mean # sample mean\n",
    "    n = number_of_samples # number of samples taken\n",
    "    degree_of_freedom = n-1\n",
    "    s = sample_std_dev\n",
    "    s_x_bar = s/n**0.5\n",
    "    # generate x and y axes\n",
    "    x = np.arange(x_bar-3.5*s_x_bar,x_bar+3.5*s_x_bar,0.5)\n",
    "    y = t.pdf(x,degree_of_freedom,loc=sample_mean,scale=s_x_bar)\n",
    "    # get the probabilities of the tail areas\n",
    "    tail_areas = (1-confidence_interval)/2\n",
    "    upper_limit_prob = 1-tail_areas\n",
    "    lower_limit_prob = tail_areas\n",
    "    # compute the value of x_lower and x_higher\n",
    "    x_lower = t.ppf(lower_limit_prob,degree_of_freedom,loc=sample_mean,scale=s_x_bar)\n",
    "    x_higher = t.ppf(upper_limit_prob,degree_of_freedom,loc=sample_mean,scale=s_x_bar)\n",
    "    # plot and shade the graphs\n",
    "    plt.plot(x,y,'-')\n",
    "    plt.fill_between(x[x>=x_lower],y[x>=x_lower],color='green',alpha=0.7)\n",
    "    plt.fill_between(x[x>=x_higher],y[x>=x_higher],color='white')\n",
    "    plt.draw()\n",
    "    return x_lower, x_higher"
   ]
  },
  {
   "cell_type": "markdown",
   "metadata": {},
   "source": [
    "# Interpret Confidence_interval = 0.90 on t and normal distributions <a id='t_dist'></a>"
   ]
  },
  {
   "cell_type": "code",
   "execution_count": 10,
   "metadata": {},
   "outputs": [],
   "source": [
    "population_std_dev = 4608\n",
    "confidence_interval = 0.90\n",
    "number_of_samples = 144\n",
    "sample_mean = 6540\n",
    "sample_std_dev = 4803 # note that the information about sample std. dev. is now used during t distribution"
   ]
  },
  {
   "cell_type": "code",
   "execution_count": 11,
   "metadata": {},
   "outputs": [
    {
     "name": "stdout",
     "output_type": "stream",
     "text": [
      "Confidence interval = 0.9; Population standard devation = 4608; Number of samples = 144\n",
      "\n",
      "In Normal distribution the lower limit of order is ₹5908.38 and higher limit of order is ₹7171.62\n",
      "Confidence interval = 0.9; Population standard devation = 4608; Number of samples = 144\n",
      "\n",
      "In t distribution the lower limit of order is ₹5877.35 and higher limit of order is ₹7202.65\n"
     ]
    },
    {
     "data": {
      "image/png": "[encoded data removed]",
      "text/plain": [
       "<Figure size 432x288 with 1 Axes>"
      ]
     },
     "metadata": {
      "needs_background": "light"
     },
     "output_type": "display_data"
    }
   ],
   "source": [
    "# for normal distribution\n",
    "x_lower_norm, x_higher_norm = view_confidence_interval(confidence_interval = confidence_interval, \n",
    "                                             population_std_dev=population_std_dev,\n",
    "                                             number_of_samples=number_of_samples,\n",
    "                                             sample_mean=sample_mean\n",
    "                                            )\n",
    "print(u'Confidence interval = {}; Population standard devation = {}; Number of samples = {}\\n'.format(confidence_interval,population_std_dev,number_of_samples))\n",
    "print('In Normal distribution the lower limit of order is \\u20B9{} and higher limit of order is \\u20B9{}'.format(round(x_lower_norm,2),round(x_higher_norm,2)))\n",
    "\n",
    "# for t distribution\n",
    "x_lower_t, x_higher_t = view_confidence_interval_t_dist(confidence_interval = confidence_interval, \n",
    "                                                        number_of_samples=number_of_samples,\n",
    "                                                        sample_mean=sample_mean,\n",
    "                                                        sample_std_dev=sample_std_dev\n",
    "                                                       )\n",
    "print(u'Confidence interval = {}; Population standard devation = {}; Number of samples = {}\\n'.format(confidence_interval,population_std_dev,number_of_samples))\n",
    "print('In t distribution the lower limit of order is \\u20B9{} and higher limit of order is \\u20B9{}'.format(round(x_lower_t,2),round(x_higher_t,2)))"
   ]
  },
  {
   "cell_type": "markdown",
   "metadata": {},
   "source": [
    "# Inference\n",
    "The following are the observations:\n",
    "1. In case of normal distribution since we know the population standard deviation σ there was no uncertainty in case of σ estimation. The only uncertainty we are mathematically modelling is µ.\n",
    "1. But in real life scenario it is very difficult to compute σ, hence we take help of t-distribution.\n",
    "1. If we look into the above chart it is clear that the normal distribution is sharper than the corresponding t-distibution. The t-distribution is flatter.\n",
    "1. By the above point it also explains why in t-distribution the margin of µ is higher between ₹5877.35 to ₹7202.65 than in normal distribution ₹5908.38 to ₹7171.62.\n",
    "1. Thus this proves only 1 thing: Since we don't have an idea about σ we are playing it safer by increasing the margin for the same confidence interval."
   ]
  },
  {
   "cell_type": "markdown",
   "metadata": {},
   "source": [
    "# Visualize changing of degrees of freedom on t distribution"
   ]
  },
  {
   "cell_type": "code",
   "execution_count": 12,
   "metadata": {},
   "outputs": [
    {
     "data": {
      "image/png": "[encoded data removed]",
      "text/plain": [
       "<Figure size 432x288 with 1 Axes>"
      ]
     },
     "metadata": {
      "needs_background": "light"
     },
     "output_type": "display_data"
    }
   ],
   "source": [
    "mean = 0\n",
    "sd = 1\n",
    "x = np.arange(-3.5,3.5,0.125)\n",
    "y = norm.pdf(x, loc=mean, scale=sd)\n",
    "plt.plot(x,y,'-',color='red')\n",
    "\n",
    "df = [1,2,3,4]\n",
    "colors = ['blue','green','yellow','magenta']\n",
    "for d,c in zip(df,colors):\n",
    "    y_t = t.pdf(x,d,loc=mean,scale=sd)\n",
    "    plt.plot(x,y_t,'*',color=c, alpha=d*0.1)"
   ]
  },
  {
   "cell_type": "markdown",
   "metadata": {},
   "source": [
    "# Inference\n",
    "Here we can see that as the degree of freedom decreases the curve becomes flatter."
   ]
  },
  {
   "cell_type": "markdown",
   "metadata": {},
   "source": [
    "# Estimating Proportion of orders\n",
    "Till now we have estimated µ for two cases:\n",
    "1. When the population standard deviation is known.\n",
    "1. When the population standard deviation is unknown.\n",
    "\n",
    "Now consider the situation: Out of 2000 customers reached only 144 reverted. So the hit rate was 7.2%. That gives rise to following 2 questions:\n",
    "1. What will happen if we take another sample of 2000 customer. Will we get the same hit rate?\n",
    "1. What will be the estimated hit rate throughout the tenure of business?\n",
    "\n",
    "This gives rise to the need of estimation of hit rate a.k.a <b>Population Proportion (denoted as π)</b>"
   ]
  },
  {
   "cell_type": "markdown",
   "metadata": {},
   "source": [
    "## Steps to interpet 90% confidence interval for population proportion estimation\n",
    "Below are the points we have learnt.\n",
    "1. Sample proportion is an estimate of population proportion. Thus π = p.\n",
    "1. Sample proportions follow a normal distribution of mean = p and standard deviation of sqrt(p(1-p)/n)\n",
    "1. Create a 90% CI band and estimate population proportion."
   ]
  },
  {
   "cell_type": "markdown",
   "metadata": {},
   "source": [
    "### Define problem constants"
   ]
  },
  {
   "cell_type": "code",
   "execution_count": 13,
   "metadata": {},
   "outputs": [],
   "source": [
    "confidence_interval: float = 0.90\n",
    "p = 0.072\n",
    "population_std_dev: float = (p*(1-p))**0.5\n",
    "number_of_samples:int = 2000\n",
    "sample_mean: float = p"
   ]
  },
  {
   "cell_type": "code",
   "execution_count": 14,
   "metadata": {},
   "outputs": [
    {
     "data": {
      "image/png": "[encoded data removed]",
      "text/plain": [
       "<Figure size 432x288 with 1 Axes>"
      ]
     },
     "metadata": {
      "needs_background": "light"
     },
     "output_type": "display_data"
    }
   ],
   "source": [
    "p_lower, p_higher = view_confidence_interval(confidence_interval,\n",
    "                                             population_std_dev,\n",
    "                                             number_of_samples,\n",
    "                                             sample_mean\n",
    "                                            )"
   ]
  },
  {
   "cell_type": "code",
   "execution_count": 15,
   "metadata": {},
   "outputs": [
    {
     "name": "stdout",
     "output_type": "stream",
     "text": [
      "With 90.0% confidence population proportion is going to lie between:0.062 and 0.082\n"
     ]
    }
   ],
   "source": [
    "print('With {}% confidence population proportion is going to lie between:{} and {}'.format(confidence_interval*100,round(p_lower,3),round(p_higher,3)))"
   ]
  },
  {
   "cell_type": "markdown",
   "metadata": {},
   "source": [
    "# What will be the sample size?\n",
    "What will be the ideal sample size depends on the precision we want to have in our estimation.\n",
    "Let us consider that for a confidence interval = 90% we need to make an estimation of mean orders within ± INR 500 instead of ± INR 1264.24 as calculated [here](#ci_90).\n",
    "There can be two cases:\n",
    "1. When population standard deviation is known we take help of normal distribution.\n",
    "1. When the population standard deviation is not known we take help of t-distribution."
   ]
  },
  {
   "cell_type": "markdown",
   "metadata": {},
   "source": [
    "## When the σ is known\n",
    "For a given confidence interval, population standard deviation and Desired Margin of Error (DMOE) we will calculate the minimum number of samples required to get the given DMOE with the given confidence interval"
   ]
  },
  {
   "cell_type": "code",
   "execution_count": 16,
   "metadata": {},
   "outputs": [],
   "source": [
    "def minimum_samples(confidence_interval:float,\n",
    "                    population_std_dev: float,\n",
    "                    dmoe: float\n",
    "                   ):\n",
    "    prob_upper = (1+confidence_interval)/2\n",
    "    prob_lower = (1-confidence_interval)/2\n",
    "    z_upper = norm.ppf(prob_upper, loc=0, scale=1)\n",
    "    z_lower = norm.ppf(prob_lower, loc=0, scale=1)\n",
    "    min_samples = (population_std_dev*(z_upper - z_lower)/(2*dmoe))**2\n",
    "    return int(round(min_samples,0))"
   ]
  },
  {
   "cell_type": "code",
   "execution_count": 17,
   "metadata": {},
   "outputs": [
    {
     "name": "stdout",
     "output_type": "stream",
     "text": [
      "For 90.0% confidence, with a population std. dev: 4608 and dmoe: 500, 230 minimum samples are required\n"
     ]
    }
   ],
   "source": [
    "confidence_interval:float = 0.90\n",
    "population_std_dev: float = 4608\n",
    "dmoe: float = 500\n",
    "min_samples = minimum_samples(confidence_interval, population_std_dev, dmoe)\n",
    "print('For {}% confidence, with a population std. dev: {} and dmoe: {}, {} minimum samples are required'.format(confidence_interval*100,population_std_dev,dmoe,min_samples))"
   ]
  },
  {
   "cell_type": "markdown",
   "metadata": {},
   "source": [
    "## Check with previously known values\n",
    "Below let us see whether the method is correctly written or not by cross checking already known sample sizes"
   ]
  },
  {
   "cell_type": "markdown",
   "metadata": {},
   "source": [
    "### Case 1\n",
    "- Confidence interval = 0.9\n",
    "- Population standard devation = 4608\n",
    "- The lower limit of order is ₹5908.38 and higher limit of order is ₹7171.62\n",
    "\n",
    "Minimum Number of samples should come = 144"
   ]
  },
  {
   "cell_type": "code",
   "execution_count": 18,
   "metadata": {},
   "outputs": [
    {
     "name": "stdout",
     "output_type": "stream",
     "text": [
      "For 90.0% confidence, with a population std. dev: 4608 and DMOE: 631.5, 144 minimum samples are required\n"
     ]
    }
   ],
   "source": [
    "confidence_interval:float = 0.90\n",
    "population_std_dev: float = 4608\n",
    "dmoe: float = (7171 - 5908)/2\n",
    "min_samples = minimum_samples(confidence_interval, population_std_dev, dmoe)\n",
    "print('For {}% confidence, with a population std. dev: {} and DMOE: {}, {} minimum samples are required'.format(confidence_interval*100,population_std_dev,dmoe,min_samples))"
   ]
  },
  {
   "cell_type": "markdown",
   "metadata": {},
   "source": [
    "### Case 2\n",
    "- Confidence interval = 0.95\n",
    "- Population standard devation = 4608\n",
    "- The lower limit of order is ₹5787.37 and higher limit of order is ₹7292.63\n",
    "\n",
    "Minimum Number of samples should come = 144"
   ]
  },
  {
   "cell_type": "code",
   "execution_count": 19,
   "metadata": {},
   "outputs": [
    {
     "name": "stdout",
     "output_type": "stream",
     "text": [
      "For 95.0% confidence, with a population std. dev: 4608 and DMOE: 753.0, 144 minimum samples are required\n"
     ]
    }
   ],
   "source": [
    "confidence_interval:float = 0.95\n",
    "population_std_dev: float = 4608\n",
    "dmoe: float = (7293 - 5787)/2\n",
    "min_samples = minimum_samples(confidence_interval, population_std_dev, dmoe)\n",
    "print('For {}% confidence, with a population std. dev: {} and DMOE: {}, {} minimum samples are required'.format(confidence_interval*100,population_std_dev,dmoe,min_samples))"
   ]
  },
  {
   "cell_type": "markdown",
   "metadata": {},
   "source": [
    "### Case 3\n",
    "- Confidence interval = 0.99\n",
    "- Population standard devation = 4608\n",
    "- The lower limit of order is ₹5550.88 and higher limit of order is ₹7529.12\n",
    "\n",
    "Minimum Number of samples should come = 144"
   ]
  },
  {
   "cell_type": "code",
   "execution_count": 20,
   "metadata": {},
   "outputs": [
    {
     "name": "stdout",
     "output_type": "stream",
     "text": [
      "For 99.0% confidence, with a population std. dev: 4608 and DMOE: 989.0, 144 minimum samples are required\n"
     ]
    }
   ],
   "source": [
    "confidence_interval:float = 0.99\n",
    "population_std_dev: float = 4608\n",
    "dmoe: float = (7529 - 5551)/2\n",
    "min_samples = minimum_samples(confidence_interval, population_std_dev, dmoe)\n",
    "print('For {}% confidence, with a population std. dev: {} and DMOE: {}, {} minimum samples are required'.format(confidence_interval*100,population_std_dev,dmoe,min_samples))"
   ]
  },
  {
   "cell_type": "markdown",
   "metadata": {},
   "source": [
    "## When σ is not known\n",
    "When σ is not known we use t value instead of z value. But t value depends on number of samples which we are trying to find. So we start with an arbitrary sample size. Then iterate until we arrive at the said DMOE.<br>\n",
    "Logic:\n",
    "1. Start with an arbitrary sample n\n",
    "1. Calculate DMOE for that sample size using t.\n",
    "1. Check whether the calculated DMOE is greater or lesser than desired DMOE.\n",
    "1. If greater increase sample size by 1 and repeat else decrease sample size by 1 and repeat.\n",
    "1. Stop the repeatition when dmoe_calculated ~ dmoe desired by ±1%"
   ]
  },
  {
   "cell_type": "code",
   "execution_count": 21,
   "metadata": {},
   "outputs": [],
   "source": [
    "def iterate_over_sample_sizes(n: int,\n",
    "                              confidence_interval: float,\n",
    "                              sample_std_dev: float,\n",
    "                              dmoe: float\n",
    "                             ):\n",
    "    degree_of_freedom = n-1\n",
    "    # calculate the t value for the given confidence interval and degree of freedom\n",
    "    alpha = (1+confidence_interval)/2\n",
    "    t_value = t.ppf(alpha, degree_of_freedom,loc=0,scale=1)\n",
    "    # calculate the dmoe for the given t value.\n",
    "    dmoe_calc = (sample_std_dev/n**0.5)*t_value\n",
    "    # append to list\n",
    "    d.append(dmoe_calc)\n",
    "    n_samples.append(n)\n",
    "#     print('dmoe_calc: {}'.format(dmoe_calc))\n",
    "#     print('number of samples:{}'.format(n))\n",
    "#     print('-------------------------------')\n",
    "    # check whether the dmoe calculated is around desired dmoe.\n",
    "    if dmoe - 0.01*dmoe <= dmoe_calc <= dmoe + 0.01*dmoe:\n",
    "        print('For the given condition, {} minimum number of samples required to get a CI: {} and DMOE: {}'.format(n,confidence_interval,dmoe))\n",
    "        return n\n",
    "    else:\n",
    "        # if we are getting a positive deviation from desired DMOE, increase number of samples\n",
    "        if dmoe_calc > dmoe:\n",
    "            sample_size_change = 1\n",
    "        else:\n",
    "            # if we are getting a negative deviation from desired DMOE, decrease number of samples\n",
    "            sample_size_change = -1\n",
    "        # iteration with change in sample size\n",
    "        iterate_over_sample_sizes(n+sample_size_change,\n",
    "                                  confidence_interval,\n",
    "                                  sample_std_dev,\n",
    "                                  dmoe\n",
    "                                 )"
   ]
  },
  {
   "cell_type": "markdown",
   "metadata": {},
   "source": [
    "### Define the problem constants\n",
    "Defining the same problem constants as done [here](#t_dist)\n",
    "1. confidence_interval = 0.90\n",
    "1. number_of_samples = 100 i.e. starting point\n",
    "1. sample_std_dev = 4803\n",
    "1. Desired margin of error = ₹5877.35 and higher limit of order is ₹7202.65\n",
    "\n",
    "Expected output: The iteration process should stop at n = 144"
   ]
  },
  {
   "cell_type": "code",
   "execution_count": 22,
   "metadata": {},
   "outputs": [
    {
     "name": "stdout",
     "output_type": "stream",
     "text": [
      "For the given condition, 142 minimum number of samples required to get a CI: 0.9 and DMOE: 662.6499999999996\n"
     ]
    }
   ],
   "source": [
    "confidence_interval = 0.90\n",
    "number_of_samples = 10 # pilot sample\n",
    "sample_std_dev = 4803\n",
    "dmoe = (7202.65-5877.35)/2\n",
    "d = []\n",
    "n_samples = []\n",
    "min_number_of_samples = iterate_over_sample_sizes(n=number_of_samples,\n",
    "                                                  confidence_interval=confidence_interval,\n",
    "                                                  sample_std_dev=sample_std_dev,\n",
    "                                                  dmoe=dmoe\n",
    "                                                 )"
   ]
  },
  {
   "cell_type": "markdown",
   "metadata": {},
   "source": [
    "### Visualize how with change in number of samples is changing the margin of error"
   ]
  },
  {
   "cell_type": "code",
   "execution_count": 23,
   "metadata": {},
   "outputs": [
    {
     "data": {
      "image/png": "[encoded data removed]",
      "text/plain": [
       "<Figure size 432x288 with 1 Axes>"
      ]
     },
     "metadata": {
      "needs_background": "light"
     },
     "output_type": "display_data"
    }
   ],
   "source": [
    "plt.plot(n_samples,d,'-')\n",
    "plt.hlines(y=dmoe,xmin=0,xmax=max(n_samples)+10,colors='green')\n",
    "plt.xlabel('Number of samples')\n",
    "plt.ylabel('Desired margin of error')\n",
    "plt.draw()"
   ]
  },
  {
   "cell_type": "code",
   "execution_count": 24,
   "metadata": {},
   "outputs": [
    {
     "name": "stdout",
     "output_type": "stream",
     "text": [
      "For the given condition, 146 minimum number of samples required to get a CI: 0.9 and DMOE: 662.6499999999996\n"
     ]
    }
   ],
   "source": [
    "confidence_interval = 0.90\n",
    "number_of_samples = 350 # pilot sample\n",
    "sample_std_dev = 4803\n",
    "dmoe = (7202.65-5877.35)/2\n",
    "d = []\n",
    "n_samples = []\n",
    "min_number_of_samples = iterate_over_sample_sizes(n=number_of_samples,\n",
    "                                                  confidence_interval=confidence_interval,\n",
    "                                                  sample_std_dev=sample_std_dev,\n",
    "                                                  dmoe=dmoe\n",
    "                                                 )"
   ]
  },
  {
   "cell_type": "markdown",
   "metadata": {},
   "source": [
    "### Visualize how with change in number of samples is changing the margin of error"
   ]
  },
  {
   "cell_type": "code",
   "execution_count": 25,
   "metadata": {},
   "outputs": [
    {
     "data": {
      "image/png": "[encoded data removed]",
      "text/plain": [
       "<Figure size 432x288 with 1 Axes>"
      ]
     },
     "metadata": {
      "needs_background": "light"
     },
     "output_type": "display_data"
    }
   ],
   "source": [
    "plt.plot(n_samples,d,'-')\n",
    "plt.hlines(y=dmoe,xmin=0,xmax=max(n_samples)+10,colors='green')\n",
    "plt.xlabel('Number of samples')\n",
    "plt.ylabel('Desired margin of error')\n",
    "plt.draw()"
   ]
  },
  {
   "cell_type": "code",
   "execution_count": null,
   "metadata": {},
   "outputs": [],
   "source": []
  }
 ],
 "metadata": {
  "kernelspec": {
   "display_name": "Python 3",
   "language": "python",
   "name": "python3"
  },
  "language_info": {
   "codemirror_mode": {
    "name": "ipython",
    "version": 3
   },
   "file_extension": ".py",
   "mimetype": "text/x-python",
   "name": "python",
   "nbconvert_exporter": "python",
   "pygments_lexer": "ipython3",
   "version": "3.7.6"
  }
 },
 "nbformat": 4,
 "nbformat_minor": 4
}
