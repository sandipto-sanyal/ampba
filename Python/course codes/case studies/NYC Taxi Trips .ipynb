{
 "cells": [
  {
   "cell_type": "code",
   "execution_count": null,
   "metadata": {},
   "outputs": [],
   "source": [
    "# load some default Python modules\n",
    "import numpy as np\n",
    "import pandas as pd\n",
    "import matplotlib.pyplot as plt\n",
    "import seaborn as sns\n",
    "% matplotlib inline\n",
    "plt.style.use('seaborn-whitegrid')"
   ]
  },
  {
   "cell_type": "code",
   "execution_count": null,
   "metadata": {},
   "outputs": [],
   "source": [
    "# read data in pandas dataframe\n",
    "df_train =  pd.read_csv('/Users/peeyushtaori/Downloads/NYC_train.csv', nrows = 20000, parse_dates=[\"pickup_datetime\"])\n",
    "\n",
    "# list first few rows (datapoints)\n",
    "df_train.head()"
   ]
  },
  {
   "cell_type": "code",
   "execution_count": null,
   "metadata": {},
   "outputs": [],
   "source": [
    "# check datatypes\n",
    "df_train.dtypes"
   ]
  },
  {
   "cell_type": "code",
   "execution_count": null,
   "metadata": {},
   "outputs": [],
   "source": [
    "# check statistics of the features\n",
    "df_train.describe()"
   ]
  },
  {
   "cell_type": "code",
   "execution_count": null,
   "metadata": {},
   "outputs": [],
   "source": [
    "print('Old size: %d' % len(df_train))\n",
    "df_train = df_train[df_train.fare_amount>=0]\n",
    "print('New size: %d' % len(df_train))"
   ]
  },
  {
   "cell_type": "code",
   "execution_count": null,
   "metadata": {},
   "outputs": [],
   "source": [
    "# plot histogram of fare\n",
    "df_train[df_train.fare_amount<100].fare_amount.hist(bins=100, figsize=(14,3))\n",
    "plt.xlabel('fare $USD')\n",
    "plt.title('Histogram');"
   ]
  },
  {
   "cell_type": "code",
   "execution_count": null,
   "metadata": {},
   "outputs": [],
   "source": [
    "print(df_train.isnull().sum())"
   ]
  },
  {
   "cell_type": "code",
   "execution_count": null,
   "metadata": {},
   "outputs": [],
   "source": [
    "# read data in pandas dataframe\n",
    "df_test =  pd.read_csv('/Users/peeyushtaori/Downloads/nyc_test.csv')\n",
    "df_test.head(5)"
   ]
  },
  {
   "cell_type": "code",
   "execution_count": null,
   "metadata": {},
   "outputs": [],
   "source": [
    "# minimum and maximum longitude test set\n",
    "min(df_test.pickup_longitude.min(), df_test.dropoff_longitude.min()), \\\n",
    "max(df_test.pickup_longitude.max(), df_test.dropoff_longitude.max())"
   ]
  },
  {
   "cell_type": "code",
   "execution_count": null,
   "metadata": {},
   "outputs": [],
   "source": [
    "# minimum and maximum latitude test\n",
    "min(df_test.pickup_latitude.min(), df_test.dropoff_latitude.min()), \\\n",
    "max(df_test.pickup_latitude.max(), df_test.dropoff_latitude.max())"
   ]
  },
  {
   "cell_type": "code",
   "execution_count": null,
   "metadata": {},
   "outputs": [],
   "source": [
    "# this function will also be used with the test set below\n",
    "def select_within_boundingbox(df, BB):\n",
    "    return (df.pickup_longitude >= BB[0]) & (df.pickup_longitude <= BB[1]) & \\\n",
    "           (df.pickup_latitude >= BB[2]) & (df.pickup_latitude <= BB[3]) & \\\n",
    "           (df.dropoff_longitude >= BB[0]) & (df.dropoff_longitude <= BB[1]) & \\\n",
    "           (df.dropoff_latitude >= BB[2]) & (df.dropoff_latitude <= BB[3])\n",
    "            \n",
    "# load image of NYC map\n",
    "BB = (-74.5, -72.8, 40.5, 41.8)\n",
    "nyc_map = plt.imread('https://aiblog.nl/download/nyc_-74.5_-72.8_40.5_41.8.png')\n",
    "\n",
    "# load extra image to zoom in on NYC\n",
    "BB_zoom = (-74.3, -73.7, 40.5, 40.9)\n",
    "nyc_map_zoom = plt.imread('https://aiblog.nl/download/nyc_-74.3_-73.7_40.5_40.9.png')"
   ]
  },
  {
   "cell_type": "code",
   "execution_count": null,
   "metadata": {},
   "outputs": [],
   "source": [
    "print('Old size: %d' % len(df_train))\n",
    "df_train = df_train[select_within_boundingbox(df_train, BB)]\n",
    "print('New size: %d' % len(df_train))"
   ]
  },
  {
   "cell_type": "code",
   "execution_count": null,
   "metadata": {},
   "outputs": [],
   "source": [
    "# this function will be used more often to plot data on the NYC map\n",
    "def plot_on_map(df, BB, nyc_map, s=10, alpha=0.2):\n",
    "    fig, axs = plt.subplots(1, 2, figsize=(16,10))\n",
    "    axs[0].scatter(df.pickup_longitude, df.pickup_latitude, zorder=1, alpha=alpha, c='r', s=s)\n",
    "    axs[0].set_xlim((BB[0], BB[1]))\n",
    "    axs[0].set_ylim((BB[2], BB[3]))\n",
    "    axs[0].set_title('Pickup locations')\n",
    "    axs[0].imshow(nyc_map, zorder=0, extent=BB)\n",
    "\n",
    "    axs[1].scatter(df.dropoff_longitude, df.dropoff_latitude, zorder=1, alpha=alpha, c='r', s=s)\n",
    "    axs[1].set_xlim((BB[0], BB[1]))\n",
    "    axs[1].set_ylim((BB[2], BB[3]))\n",
    "    axs[1].set_title('Dropoff locations')\n",
    "    axs[1].imshow(nyc_map, zorder=0, extent=BB)"
   ]
  },
  {
   "cell_type": "code",
   "execution_count": null,
   "metadata": {},
   "outputs": [],
   "source": [
    "# plot training data on map\n",
    "plot_on_map(df_train, BB, nyc_map, s=1, alpha=0.3)"
   ]
  },
  {
   "cell_type": "code",
   "execution_count": null,
   "metadata": {},
   "outputs": [],
   "source": [
    "# plot training data on map zoomed in\n",
    "plot_on_map(df_train, BB_zoom, nyc_map_zoom, s=1, alpha=0.3)"
   ]
  },
  {
   "cell_type": "code",
   "execution_count": null,
   "metadata": {},
   "outputs": [],
   "source": [
    "# plot test data on map\n",
    "plot_on_map(df_test, BB, nyc_map, alpha=1.0, s=20)"
   ]
  },
  {
   "cell_type": "code",
   "execution_count": null,
   "metadata": {},
   "outputs": [],
   "source": [
    "def plot_hires(df, BB, figsize=(12, 12), ax=None, c=('r', 'b')):\n",
    "    if ax == None:\n",
    "        fig, ax = plt.subplots(1, 1, figsize=figsize)\n",
    "\n",
    "    idx = select_within_boundingbox(df, BB)\n",
    "    ax.scatter(df[idx].pickup_longitude, df[idx].pickup_latitude, c=c[0], s=0.5, alpha=1)\n",
    "    ax.scatter(df[idx].dropoff_longitude, df[idx].dropoff_latitude, c=c[1], s=0.5, alpha=1)"
   ]
  },
  {
   "cell_type": "code",
   "execution_count": null,
   "metadata": {},
   "outputs": [],
   "source": [
    "plot_hires(df_train, (-74.1, -73.7, 40.6, 40.9))\n",
    "plot_hires(df_train, (-74, -73.95, 40.7, 40.8))"
   ]
  },
  {
   "cell_type": "code",
   "execution_count": null,
   "metadata": {},
   "outputs": [],
   "source": [
    "# read nyc mask and turn into boolean map with\n",
    "# land = True, water = False\n",
    "nyc_mask = plt.imread('https://aiblog.nl/download/nyc_mask-74.5_-72.8_40.5_41.8.png')[:,:,0] > 0.9\n",
    "\n",
    "plt.figure(figsize=(8,8))\n",
    "plt.imshow(nyc_map, zorder=0)\n",
    "plt.imshow(nyc_mask, zorder=1, alpha=0.7); # note: True is show in black, False in white."
   ]
  },
  {
   "cell_type": "code",
   "execution_count": null,
   "metadata": {},
   "outputs": [],
   "source": [
    "# translate longitude/latitude coordinate into image xy coordinate\n",
    "def lonlat_to_xy(longitude, latitude, dx, dy, BB):\n",
    "    return (dx*(longitude - BB[0])/(BB[1]-BB[0])).astype('int'), \\\n",
    "           (dy - dy*(latitude - BB[2])/(BB[3]-BB[2])).astype('int')"
   ]
  },
  {
   "cell_type": "code",
   "execution_count": null,
   "metadata": {},
   "outputs": [],
   "source": [
    "pickup_x, pickup_y = lonlat_to_xy(df_train.pickup_longitude, df_train.pickup_latitude, \n",
    "                                  nyc_mask.shape[1], nyc_mask.shape[0], BB)\n",
    "dropoff_x, dropoff_y = lonlat_to_xy(df_train.dropoff_longitude, df_train.dropoff_latitude, \n",
    "                                  nyc_mask.shape[1], nyc_mask.shape[0], BB)"
   ]
  },
  {
   "cell_type": "code",
   "execution_count": null,
   "metadata": {},
   "outputs": [],
   "source": [
    "idx = (nyc_mask[pickup_y, pickup_x] & nyc_mask[dropoff_y, dropoff_x])\n",
    "print(\"Number of trips in water: {}\".format(np.sum(~idx)))"
   ]
  },
  {
   "cell_type": "code",
   "execution_count": null,
   "metadata": {},
   "outputs": [],
   "source": [
    "def remove_datapoints_from_water(df):\n",
    "    def lonlat_to_xy(longitude, latitude, dx, dy, BB):\n",
    "        return (dx*(longitude - BB[0])/(BB[1]-BB[0])).astype('int'), \\\n",
    "               (dy - dy*(latitude - BB[2])/(BB[3]-BB[2])).astype('int')\n",
    "\n",
    "    # define bounding box\n",
    "    BB = (-74.5, -72.8, 40.5, 41.8)\n",
    "    \n",
    "    # read nyc mask and turn into boolean map with\n",
    "    # land = True, water = False\n",
    "    nyc_mask = plt.imread('https://aiblog.nl/download/nyc_mask-74.5_-72.8_40.5_41.8.png')[:,:,0] > 0.9\n",
    "    \n",
    "    # calculate for each lon,lat coordinate the xy coordinate in the mask map\n",
    "    pickup_x, pickup_y = lonlat_to_xy(df.pickup_longitude, df.pickup_latitude, \n",
    "                                      nyc_mask.shape[1], nyc_mask.shape[0], BB)\n",
    "    dropoff_x, dropoff_y = lonlat_to_xy(df.dropoff_longitude, df.dropoff_latitude, \n",
    "                                      nyc_mask.shape[1], nyc_mask.shape[0], BB)    \n",
    "    # calculate boolean index\n",
    "    idx = nyc_mask[pickup_y, pickup_x] & nyc_mask[dropoff_y, dropoff_x]\n",
    "    \n",
    "    # return only datapoints on land\n",
    "    return df[idx]"
   ]
  },
  {
   "cell_type": "code",
   "execution_count": null,
   "metadata": {},
   "outputs": [],
   "source": [
    "print('Old size: %d' % len(df_train))\n",
    "df_train = remove_datapoints_from_water(df_train)\n",
    "print('New size: %d' % len(df_train))"
   ]
  },
  {
   "cell_type": "code",
   "execution_count": null,
   "metadata": {},
   "outputs": [],
   "source": [
    "# plot training data\n",
    "plot_on_map(df_train, BB, nyc_map)"
   ]
  },
  {
   "cell_type": "code",
   "execution_count": null,
   "metadata": {},
   "outputs": [],
   "source": [
    "# For this plot and further analysis, we need a function to calculate the distance in miles between locations in lon,lat coordinates.\n",
    "# This function is based on https://stackoverflow.com/questions/27928/\n",
    "# calculate-distance-between-two-latitude-longitude-points-haversine-formula \n",
    "# return distance in miles\n",
    "def distance(lat1, lon1, lat2, lon2):\n",
    "    p = 0.017453292519943295 # Pi/180\n",
    "    a = 0.5 - np.cos((lat2 - lat1) * p)/2 + np.cos(lat1 * p) * np.cos(lat2 * p) * (1 - np.cos((lon2 - lon1) * p)) / 2\n",
    "    return 0.6213712 * 12742 * np.arcsin(np.sqrt(a)) # 2*R*asin...\n",
    "\n",
    "# First calculate two arrays with datapoint density per sq mile\n",
    "n_lon, n_lat = 200, 200 # number of grid bins per longitude, latitude dimension\n",
    "density_pickup, density_dropoff = np.zeros((n_lat, n_lon)), np.zeros((n_lat, n_lon)) # prepare arrays\n",
    "\n",
    "# To calculate the number of datapoints in a grid area, the numpy.digitize() function is used. \n",
    "# This function needs an array with the (location) bins for counting the number of datapoints\n",
    "# per bin.\n",
    "bins_lon = np.zeros(n_lon+1) # bin\n",
    "bins_lat = np.zeros(n_lat+1) # bin\n",
    "delta_lon = (BB[1]-BB[0]) / n_lon # bin longutide width\n",
    "delta_lat = (BB[3]-BB[2]) / n_lat # bin latitude height\n",
    "bin_width_miles = distance(BB[2], BB[1], BB[2], BB[0]) / n_lon # bin width in miles\n",
    "bin_height_miles = distance(BB[3], BB[0], BB[2], BB[0]) / n_lat # bin height in miles\n",
    "for i in range(n_lon+1):\n",
    "    bins_lon[i] = BB[0] + i * delta_lon\n",
    "for j in range(n_lat+1):\n",
    "    bins_lat[j] = BB[2] + j * delta_lat\n",
    "    \n",
    "# Digitize per longitude, latitude dimension\n",
    "inds_pickup_lon = np.digitize(df_train.pickup_longitude, bins_lon)\n",
    "inds_pickup_lat = np.digitize(df_train.pickup_latitude, bins_lat)\n",
    "inds_dropoff_lon = np.digitize(df_train.dropoff_longitude, bins_lon)\n",
    "inds_dropoff_lat = np.digitize(df_train.dropoff_latitude, bins_lat)\n",
    "\n",
    "# Count per grid bin\n",
    "# note: as the density_pickup will be displayed as image, the first index is the y-direction, \n",
    "#       the second index is the x-direction. Also, the y-direction needs to be reversed for\n",
    "#       properly displaying (therefore the (n_lat-j) term)\n",
    "dxdy = bin_width_miles * bin_height_miles\n",
    "for i in range(n_lon):\n",
    "    for j in range(n_lat):\n",
    "        density_pickup[j, i] = np.sum((inds_pickup_lon==i+1) & (inds_pickup_lat==(n_lat-j))) / dxdy\n",
    "        density_dropoff[j, i] = np.sum((inds_dropoff_lon==i+1) & (inds_dropoff_lat==(n_lat-j))) / dxdy"
   ]
  },
  {
   "cell_type": "code",
   "execution_count": null,
   "metadata": {},
   "outputs": [],
   "source": [
    "# Plot the density arrays\n",
    "fig, axs = plt.subplots(2, 1, figsize=(18, 24))\n",
    "axs[0].imshow(nyc_map, zorder=0, extent=BB);\n",
    "im = axs[0].imshow(np.log1p(density_pickup), zorder=1, extent=BB, alpha=0.6, cmap='plasma')\n",
    "axs[0].set_title('Pickup density [datapoints per sq mile]')\n",
    "cbar = fig.colorbar(im, ax=axs[0])\n",
    "cbar.set_label('log(1 + #datapoints per sq mile)', rotation=270)\n",
    "\n",
    "axs[1].imshow(nyc_map, zorder=0, extent=BB);\n",
    "im = axs[1].imshow(np.log1p(density_dropoff), zorder=1, extent=BB, alpha=0.6, cmap='plasma')\n",
    "axs[1].set_title('Dropoff density [datapoints per sq mile]')\n",
    "cbar = fig.colorbar(im, ax=axs[1])\n",
    "cbar.set_label('log(1 + #datapoints per sq mile)', rotation=270)"
   ]
  },
  {
   "cell_type": "code",
   "execution_count": null,
   "metadata": {},
   "outputs": [],
   "source": [
    "# add time information\n",
    "df_train['year'] = df_train.pickup_datetime.apply(lambda t: t.year)\n",
    "df_train['weekday'] = df_train.pickup_datetime.apply(lambda t: t.weekday())\n",
    "df_train['hour'] = df_train.pickup_datetime.apply(lambda t: t.hour)"
   ]
  },
  {
   "cell_type": "code",
   "execution_count": null,
   "metadata": {},
   "outputs": [],
   "source": [
    "# some constants needed to calculate pickup traffic density\n",
    "n_hours = 24\n",
    "n_weekdays = 7\n",
    "n_years = 7\n",
    "n_bins_lon = 30\n",
    "n_bins_lat = 30\n",
    "\n",
    "# focus on traffic in Manhattan\n",
    "BB_traffic = (-74.025, -73.925, 40.7, 40.8)\n",
    "\n",
    "# define function to calculate pickup traffic density\n",
    "def calculate_trafic_density(df):\n",
    "    traffic = np.zeros((n_years, n_weekdays, n_hours, n_bins_lat, n_bins_lon))\n",
    "    \n",
    "    # To calculate the number of datapoints in a grid area, the numpy.digitize() function is used. \n",
    "    # This function needs an array with the (location) bins for counting the number of datapoints\n",
    "    # per bin.\n",
    "    bins_lon = np.zeros(n_bins_lon+1) # bin\n",
    "    bins_lat = np.zeros(n_bins_lat+1) # bin\n",
    "    \n",
    "    delta_lon = (BB_traffic[1]-BB_traffic[0]) / n_bins_lon # bin longutide width\n",
    "    delta_lat = (BB_traffic[3]-BB_traffic[2]) / n_bins_lat # bin latitude height\n",
    "    \n",
    "    for i in range(n_bins_lon+1):\n",
    "        bins_lon[i] = BB_traffic[0] + i * delta_lon\n",
    "    for j in range(n_bins_lat+1):\n",
    "        bins_lat[j] = BB_traffic[2] + j * delta_lat\n",
    "    # Count per grid bin\n",
    "    # note: as the density_pickup will be displayed as image, the first index is the y-direction, \n",
    "    #       the second index is the x-direction. Also, the y-direction needs to be reversed for\n",
    "    #       properly displaying (therefore the (n_lat-j) term)\n",
    "    for y in range(n_years):\n",
    "        for d in range(n_weekdays):\n",
    "            for h in range(n_hours):\n",
    "                idx = (df.year==(2009+y)) & (df.weekday==d) & (df.hour==h)\n",
    "\n",
    "                # Digitize per longitude, latitude dimension\n",
    "                inds_pickup_lon = np.digitize(df[idx].pickup_longitude, bins_lon)\n",
    "                inds_pickup_lat = np.digitize(df[idx].pickup_latitude, bins_lat)\n",
    "\n",
    "                for i in range(n_bins_lon):\n",
    "                    for j in range(n_bins_lat):\n",
    "                        traffic[y, d, h, j, i] = traffic[y, d, h, j, i] + \\\n",
    "                                                 np.sum((inds_pickup_lon==i+1) & (inds_pickup_lat==j+1))\n",
    "    \n",
    "    return traffic \n",
    "\n",
    "# define function to plot pickup traffic density\n",
    "def plot_traffic(traffic, y, d):\n",
    "    days = {'monday' : 0, 'tuesday' : 1, 'wednesday' : 2, 'thursday' : 3, 'friday' : 4, 'saturday' : 5, 'sunday' : 6}\n",
    "    fig, axs = plt.subplots(3,8,figsize=(18,7))\n",
    "    axs = axs.ravel()\n",
    "    for h in range(24):\n",
    "        axs[h].imshow(traffic[y-2009,days[d],h,::-1,:], zorder=1, cmap='coolwarm', clim=(0, traffic.max()))\n",
    "        axs[h].get_xaxis().set_visible(False)\n",
    "        axs[h].get_yaxis().set_visible(False)\n",
    "        axs[h].set_title('h={}'.format(h))\n",
    "    fig.suptitle(\"Pickup traffic density, year={}, day={} (max_pickups={})\".format(y, d, traffic.max()))"
   ]
  },
  {
   "cell_type": "code",
   "execution_count": null,
   "metadata": {},
   "outputs": [],
   "source": [
    "traffic = calculate_trafic_density(df_train)\n",
    "plot_traffic(traffic, 2009, 'monday')\n",
    "plot_traffic(traffic, 2009, 'friday')\n",
    "plot_traffic(traffic, 2009, 'sunday')"
   ]
  },
  {
   "cell_type": "code",
   "execution_count": null,
   "metadata": {},
   "outputs": [],
   "source": [
    "# add new column to dataframe with distance in miles\n",
    "df_train['distance_miles'] = distance(df_train.pickup_latitude, df_train.pickup_longitude, \\\n",
    "                                      df_train.dropoff_latitude, df_train.dropoff_longitude)\n",
    "\n",
    "df_train.distance_miles.hist(bins=50, figsize=(12,4))\n",
    "plt.xlabel('distance miles')\n",
    "plt.title('Histogram ride distances in miles')\n",
    "df_train.distance_miles.describe()"
   ]
  },
  {
   "cell_type": "code",
   "execution_count": null,
   "metadata": {},
   "outputs": [],
   "source": [
    "df_train.groupby('passenger_count')['distance_miles', 'fare_amount'].mean()"
   ]
  },
  {
   "cell_type": "code",
   "execution_count": null,
   "metadata": {},
   "outputs": [],
   "source": [
    "print(\"Average $USD/Mile : {:0.2f}\".format(df_train.fare_amount.sum()/df_train.distance_miles.sum()))"
   ]
  },
  {
   "cell_type": "code",
   "execution_count": null,
   "metadata": {},
   "outputs": [],
   "source": [
    "# scatter plot distance - fare\n",
    "fig, axs = plt.subplots(1, 2, figsize=(16,6))\n",
    "axs[0].scatter(df_train.distance_miles, df_train.fare_amount, alpha=0.2)\n",
    "axs[0].set_xlabel('distance mile')\n",
    "axs[0].set_ylabel('fare $USD')\n",
    "axs[0].set_title('All data')\n",
    "\n",
    "# zoom in on part of data\n",
    "idx = (df_train.distance_miles < 15) & (df_train.fare_amount < 100)\n",
    "axs[1].scatter(df_train[idx].distance_miles, df_train[idx].fare_amount, alpha=0.2)\n",
    "axs[1].set_xlabel('distance mile')\n",
    "axs[1].set_ylabel('fare $USD')\n",
    "axs[1].set_title('Zoom in on distance < 15 mile, fare < $100');"
   ]
  },
  {
   "cell_type": "code",
   "execution_count": null,
   "metadata": {},
   "outputs": [],
   "source": [
    "# JFK airport coordinates, see https://www.travelmath.com/airport/JFK\n",
    "jfk = (-73.7822222222, 40.6441666667)\n",
    "nyc = (-74.0063889, 40.7141667)\n",
    "\n",
    "def plot_location_fare(loc, name, range=1.5):\n",
    "    # select all datapoints with dropoff location within range of airport\n",
    "    fig, axs = plt.subplots(1, 2, figsize=(14, 5))\n",
    "    idx = (distance(df_train.pickup_latitude, df_train.pickup_longitude, loc[1], loc[0]) < range)\n",
    "    df_train[idx].fare_amount.hist(bins=100, ax=axs[0])\n",
    "    axs[0].set_xlabel('fare $USD')\n",
    "    axs[0].set_title('Histogram pickup location within {} miles of {}'.format(range, name))\n",
    "\n",
    "    idx = (distance(df_train.dropoff_latitude, df_train.dropoff_longitude, loc[1], loc[0]) < range)\n",
    "    df_train[idx].fare_amount.hist(bins=100, ax=axs[1])\n",
    "    axs[1].set_xlabel('fare $USD')\n",
    "    axs[1].set_title('Histogram dropoff location within {} miles of {}'.format(range, name));\n",
    "    \n",
    "plot_location_fare(jfk, 'JFK Airport')"
   ]
  },
  {
   "cell_type": "code",
   "execution_count": null,
   "metadata": {},
   "outputs": [],
   "source": [
    "df_train['fare_per_mile'] = df_train.fare_amount / df_train.distance_miles\n",
    "df_train.fare_per_mile.describe()"
   ]
  },
  {
   "cell_type": "code",
   "execution_count": null,
   "metadata": {},
   "outputs": [],
   "source": [
    "idx = (df_train.distance_miles < 3) & (df_train.fare_amount < 100)\n",
    "plt.scatter(df_train[idx].distance_miles, df_train[idx].fare_per_mile)\n",
    "plt.xlabel('distance mile')\n",
    "plt.ylabel('fare per distance mile')\n",
    "\n",
    "# theta here is estimated by hand\n",
    "theta = (16, 4.0)\n",
    "x = np.linspace(0.1, 3, 50)\n",
    "plt.plot(x, theta[0]/x + theta[1], '--', c='r', lw=2);"
   ]
  },
  {
   "cell_type": "code",
   "execution_count": null,
   "metadata": {},
   "outputs": [],
   "source": [
    "# display pivot table\n",
    "df_train.pivot_table('fare_per_mile', index='hour', columns='year').plot(figsize=(14,6))\n",
    "plt.ylabel('Fare $USD / mile');"
   ]
  },
  {
   "cell_type": "code",
   "execution_count": null,
   "metadata": {},
   "outputs": [],
   "source": [
    "hours = [0, 1, 2, 3, 4, 5, 6, 7, 8, 9, 10, 11, 12, \\\n",
    "         13, 14, 15, 16, 17, 18, 19, 20, 21, 22, 23]\n",
    "\n",
    "# minimum & maximum duration in minutes\n",
    "trip1_min = [10, 10, 10, 10, 10, 10, 10, 12, 14, 14, 14, 14, \\\n",
    "             14, 14, 14, 14, 14, 12, 12, 12, 12, 12, 10, 10]\n",
    "trip1_max = [20, 18, 16, 16, 16, 18, 22, 26, 40, 35, 35, 35, \\\n",
    "             35, 35, 35, 40, 35, 30, 28, 28, 26, 26, 24, 24]\n",
    "\n",
    "trip2_min = [18, 18, 18, 18, 18, 18, 20, 24, 28, 30, 30, 30, \\\n",
    "             28, 28, 26, 28, 30, 28, 26, 22, 22, 22, 20, 20]\n",
    "trip2_max = [35, 35, 30, 28, 28, 30, 40, 55, 75, 75, 70, 70, \\\n",
    "             60, 60, 60, 60, 60, 65, 55, 45, 45, 50, 45, 40]\n",
    "\n",
    "plt.figure(figsize=(12, 5))\n",
    "plt.plot(hours, trip1_min, '--', c='b', label=\"trip1 (2.7 mile) - minimum duration\")\n",
    "plt.plot(hours, trip1_max, '-', c='b', label=\"trip1 (2.7 mile) - maximum duration\")\n",
    "plt.plot(hours, trip2_min, '--', c='r', label=\"trip2 (7.2 mile) - minimum duration\")\n",
    "plt.plot(hours, trip2_max, '-', c='r', label=\"trip2 (7.2 mile) - maximum duration\")\n",
    "plt.xlabel('hour of the day')\n",
    "plt.ylabel('driving time (min)')\n",
    "plt.title('Estimated driving time for two trips')\n",
    "plt.legend();\n"
   ]
  },
  {
   "cell_type": "code",
   "execution_count": null,
   "metadata": {},
   "outputs": [],
   "source": [
    "from sklearn.linear_model import LinearRegression\n",
    "\n",
    "# plot all years\n",
    "for year in df_train.year.unique():\n",
    "    # create figure\n",
    "    fig, axs = plt.subplots(4, 6, figsize=(18, 10))\n",
    "    axs = axs.ravel()\n",
    "    \n",
    "    # plot for all hours\n",
    "    for h in range(24):\n",
    "        idx = (df_train.distance_miles < 15) & (df_train.fare_amount < 100) & (df_train.hour == h) & \\\n",
    "              (df_train.year == year)\n",
    "        axs[h].scatter(df_train[idx].distance_miles, df_train[idx].fare_amount, alpha=0.2, s=1)\n",
    "        axs[h].set_xlabel('distance miles')\n",
    "        axs[h].set_ylabel('fare $USD')\n",
    "        axs[h].set_xlim((0, 15))\n",
    "        axs[h].set_ylim((0, 70))\n",
    "\n",
    "        model = LinearRegression(fit_intercept=False)\n",
    "        x, y = df_train[idx].distance_miles.values.reshape(-1,1), df_train[idx].fare_amount.values.reshape(-1,1)\n",
    "        X = np.concatenate((np.ones(x.shape), x), axis=1)\n",
    "        model.fit(X, y)\n",
    "        xx = np.linspace(0.1, 25, 100)\n",
    "        axs[h].plot(xx, model.coef_[0][0] + xx * model.coef_[0][1], '--', c='r', lw=2)\n",
    "        axs[h].set_title('hour = {}, theta=({:0.2f},{:0.2f})'.format(h, model.coef_[0][0], model.coef_[0][1]))\n",
    "\n",
    "    plt.suptitle(\"Year = {}\".format(year))\n",
    "    plt.tight_layout(rect=[0, 0, 1, 0.95]);"
   ]
  },
  {
   "cell_type": "code",
   "execution_count": null,
   "metadata": {},
   "outputs": [],
   "source": [
    "df_train['delta_lon'] = df_train.pickup_longitude - df_train.dropoff_longitude\n",
    "df_train['delta_lat'] = df_train.pickup_latitude - df_train.dropoff_latitude\n",
    "# Select trips in Manhattan\n",
    "BB_manhattan = (-74.025, -73.925, 40.7, 40.8)\n",
    "idx_manhattan = select_within_boundingbox(df_train, BB_manhattan)\n",
    "\n",
    "plt.figure(figsize=(14,8))\n",
    "plt.scatter(df_train[idx_manhattan].delta_lon, df_train[idx_manhattan].delta_lat, s=0.5, alpha=1.0, \n",
    "            c=np.log1p(df_train[idx_manhattan].fare_amount), cmap='magma')\n",
    "plt.colorbar()\n",
    "plt.xlabel('pickup_longitude - dropoff_longitude')\n",
    "plt.ylabel('pickup_latitude - dropoff_latidue')\n",
    "plt.title('log1p(fare_amount)');"
   ]
  },
  {
   "cell_type": "code",
   "execution_count": null,
   "metadata": {},
   "outputs": [],
   "source": []
  }
 ],
 "metadata": {
  "kernelspec": {
   "display_name": "Python 3",
   "language": "python",
   "name": "python3"
  },
  "language_info": {
   "codemirror_mode": {
    "name": "ipython",
    "version": 3
   },
   "file_extension": ".py",
   "mimetype": "text/x-python",
   "name": "python",
   "nbconvert_exporter": "python",
   "pygments_lexer": "ipython3",
   "version": "3.6.7"
  }
 },
 "nbformat": 4,
 "nbformat_minor": 2
}
