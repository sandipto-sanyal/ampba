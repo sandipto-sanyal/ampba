{
 "cells": [
  {
   "cell_type": "code",
   "execution_count": null,
   "metadata": {},
   "outputs": [],
   "source": [
    "import requests"
   ]
  },
  {
   "cell_type": "code",
   "execution_count": null,
   "metadata": {},
   "outputs": [],
   "source": [
    "my_times_api_key = ''"
   ]
  },
  {
   "cell_type": "code",
   "execution_count": null,
   "metadata": {},
   "outputs": [],
   "source": [
    "payload = {'q'         : 'inequality', \n",
    "           'begin_date': '20130101' ,\n",
    "           'end_date'  : '20131231',\n",
    "           'api-key'   :  my_times_api_key,\n",
    "           'sort'      : 'oldest' ,\n",
    "           'offset'    :  20}\n",
    "\n",
    "base_url = 'http://api.nytimes.com/svc/search/v2/articlesearch.json?'"
   ]
  },
  {
   "cell_type": "code",
   "execution_count": null,
   "metadata": {},
   "outputs": [],
   "source": [
    "r = requests.get(base_url, params = payload)\n",
    "\n",
    "r.url"
   ]
  },
  {
   "cell_type": "code",
   "execution_count": null,
   "metadata": {},
   "outputs": [],
   "source": [
    "r.text"
   ]
  },
  {
   "cell_type": "code",
   "execution_count": null,
   "metadata": {},
   "outputs": [],
   "source": [
    "r.json()"
   ]
  },
  {
   "cell_type": "code",
   "execution_count": null,
   "metadata": {},
   "outputs": [],
   "source": [
    "json = r.json()\n",
    "json.keys()\n",
    "json['status']"
   ]
  },
  {
   "cell_type": "code",
   "execution_count": null,
   "metadata": {},
   "outputs": [],
   "source": [
    "json['response']['docs']"
   ]
  },
  {
   "cell_type": "code",
   "execution_count": null,
   "metadata": {},
   "outputs": [],
   "source": [
    "json['response']['meta']['hits']"
   ]
  },
  {
   "cell_type": "code",
   "execution_count": null,
   "metadata": {},
   "outputs": [],
   "source": [
    "from time import sleep\n",
    "\n",
    "base_url = 'http://api.nytimes.com/svc/search/v2/articlesearch.json?'\n",
    "\n",
    "years = [2013, 2014, 2015, 2016, 2017, 2018, 2019]\n",
    "\n",
    "for year in years:\n",
    "    year_string = str(year)\n",
    "    payload = { 'q'         : 'President Trump', \n",
    "                'begin_date':  year_string + '0101',\n",
    "                'end_date'  :  year_string + '1231',\n",
    "                'api-key'   :  my_times_api_key,\n",
    "                'sort'      : 'newest' ,\n",
    "                'page'      :  0}\n",
    "    \n",
    "    r = requests.get(base_url, params = payload)\n",
    "    json = r.json()\n",
    "    count  = json['response']['meta']['hits']\n",
    "    print(year, count)\n",
    "    sleep(.1)"
   ]
  },
  {
   "cell_type": "code",
   "execution_count": null,
   "metadata": {},
   "outputs": [],
   "source": [
    "import csv\n",
    "\n",
    "outfile = open('inequality_annual.csv', 'w')\n",
    "csv_writer = csv.writer(outfile)\n",
    "\n",
    "header = ['year','article_count']\n",
    "csv_writer.writerow(header)\n",
    "\n",
    "base_url = 'http://api.nytimes.com/svc/search/v2/articlesearch.json?'\n",
    "\n",
    "years = [2013, 2014, 2015, 2016, 2017, 2018, 2019]\n",
    "\n",
    "for year in years:\n",
    "    year_string = str(year)\n",
    "    payload = { 'q'         : 'President Trump', \n",
    "                'begin_date':  year_string + '0101',\n",
    "                'end_date'  :  year_string + '1231',\n",
    "                'api-key'   :  my_times_api_key,\n",
    "                'sort'      : 'newest' ,\n",
    "                'page'      :  0}\n",
    "    \n",
    "    sleep(.1)\n",
    "    \n",
    "outfile.close()"
   ]
  },
  {
   "cell_type": "code",
   "execution_count": null,
   "metadata": {},
   "outputs": [],
   "source": [
    "from time import sleep\n",
    "\n",
    "base_url = 'http://api.nytimes.com/svc/search/v2/articlesearch.json?'\n",
    "\n",
    "payload = { 'q'         : 'President Trump', \n",
    "            'api-key'   :  my_times_api_key,\n",
    "            'sort'      : 'newest' ,\n",
    "            'page'      :  0}\n",
    "    \n",
    "years = [2013, 2014, 2015, 2016, 2017, 2018, 2019]\n",
    "counts = []\n",
    "for year in years:\n",
    " \n",
    "    \n",
    "    year_string = str(year)\n",
    "    payload['begin_date'] = year_string + '0101'\n",
    "    payload['end_date']   = year_string + '1231'\n",
    "    r = requests.get(base_url, params = payload)\n",
    "    json = r.json()\n",
    "    count  = json['response']['meta']['hits']\n",
    "    counts.append(count)\n",
    "    sleep(.1) "
   ]
  },
  {
   "cell_type": "code",
   "execution_count": null,
   "metadata": {},
   "outputs": [],
   "source": [
    "%pylab inline\n",
    "import matplotlib.pyplot as plt\n",
    "\n",
    "plt.scatter(years,counts)\n",
    "plt.ticklabel_format(useOffset=False)"
   ]
  },
  {
   "cell_type": "code",
   "execution_count": null,
   "metadata": {},
   "outputs": [],
   "source": []
  }
 ],
 "metadata": {
  "kernelspec": {
   "display_name": "Python 3",
   "language": "python",
   "name": "python3"
  },
  "language_info": {
   "codemirror_mode": {
    "name": "ipython",
    "version": 3
   },
   "file_extension": ".py",
   "mimetype": "text/x-python",
   "name": "python",
   "nbconvert_exporter": "python",
   "pygments_lexer": "ipython3",
   "version": "3.6.7"
  }
 },
 "nbformat": 4,
 "nbformat_minor": 2
}
