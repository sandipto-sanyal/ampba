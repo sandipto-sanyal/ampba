{
 "cells": [
  {
   "cell_type": "markdown",
   "metadata": {},
   "source": [
    "# Install necessary libraries"
   ]
  },
  {
   "cell_type": "code",
   "execution_count": 82,
   "metadata": {},
   "outputs": [
    {
     "name": "stdout",
     "output_type": "stream",
     "text": [
      "Processing c:\\users\\sandipto.sanyal\\appdata\\local\\pip\\cache\\wheels\\53\\6c\\18\\b87a2e5fa8a82e9c026311de56210b8d1c01846e18a9607fc9\\pandasql-0.7.3-cp37-none-any.whl\n",
      "Processing c:\\users\\sandipto.sanyal\\appdata\\local\\pip\\cache\\wheels\\27\\96\\77\\0695ac3b6ad6c91d607f9a19cfb45cdf416e5b564b77a64a9b\\sqlalchemy-1.3.15-cp37-cp37m-win_amd64.whl\n",
      "Requirement already satisfied: pandas in c:\\users\\sandipto.sanyal\\.conda\\envs\\r_rython_environment\\lib\\site-packages (from pandasql) (1.0.1)\n",
      "Requirement already satisfied: numpy in c:\\users\\sandipto.sanyal\\.conda\\envs\\r_rython_environment\\lib\\site-packages (from pandasql) (1.18.1)\n",
      "Requirement already satisfied: python-dateutil>=2.6.1 in c:\\users\\sandipto.sanyal\\.conda\\envs\\r_rython_environment\\lib\\site-packages (from pandas->pandasql) (2.8.1)\n",
      "Requirement already satisfied: pytz>=2017.2 in c:\\users\\sandipto.sanyal\\.conda\\envs\\r_rython_environment\\lib\\site-packages (from pandas->pandasql) (2019.3)\n",
      "Requirement already satisfied: six>=1.5 in c:\\users\\sandipto.sanyal\\.conda\\envs\\r_rython_environment\\lib\\site-packages (from python-dateutil>=2.6.1->pandas->pandasql) (1.14.0)\n",
      "Installing collected packages: sqlalchemy, pandasql\n",
      "Successfully installed pandasql-0.7.3 sqlalchemy-1.3.15\n"
     ]
    }
   ],
   "source": [
    "#!pip install pandasql"
   ]
  },
  {
   "cell_type": "markdown",
   "metadata": {},
   "source": [
    "# Import Libraries"
   ]
  },
  {
   "cell_type": "code",
   "execution_count": 83,
   "metadata": {},
   "outputs": [],
   "source": [
    "import pandas as pd\n",
    "import os\n",
    "from plotnine import *\n",
    "from datetime import datetime\n",
    "import matplotlib.pyplot as plt\n",
    "import matplotlib\n",
    "matplotlib.style.use('ggplot')\n",
    "from pandasql import sqldf"
   ]
  },
  {
   "cell_type": "markdown",
   "metadata": {},
   "source": [
    "# Set path for datasets"
   ]
  },
  {
   "cell_type": "code",
   "execution_count": 3,
   "metadata": {},
   "outputs": [],
   "source": [
    "path = 'datasets'\n",
    "df = pd.read_csv(os.path.join(path, 'earthquake.csv'))"
   ]
  },
  {
   "cell_type": "markdown",
   "metadata": {},
   "source": [
    "# Display sample of data"
   ]
  },
  {
   "cell_type": "code",
   "execution_count": 4,
   "metadata": {},
   "outputs": [
    {
     "data": {
      "text/html": [
       "<div>\n",
       "<style scoped>\n",
       "    .dataframe tbody tr th:only-of-type {\n",
       "        vertical-align: middle;\n",
       "    }\n",
       "\n",
       "    .dataframe tbody tr th {\n",
       "        vertical-align: top;\n",
       "    }\n",
       "\n",
       "    .dataframe thead th {\n",
       "        text-align: right;\n",
       "    }\n",
       "</style>\n",
       "<table border=\"1\" class=\"dataframe\">\n",
       "  <thead>\n",
       "    <tr style=\"text-align: right;\">\n",
       "      <th></th>\n",
       "      <th>Date</th>\n",
       "      <th>Time</th>\n",
       "      <th>Latitude</th>\n",
       "      <th>Longitude</th>\n",
       "      <th>Type</th>\n",
       "      <th>Depth</th>\n",
       "      <th>Depth Error</th>\n",
       "      <th>Depth Seismic Stations</th>\n",
       "      <th>Magnitude</th>\n",
       "      <th>Magnitude Type</th>\n",
       "      <th>...</th>\n",
       "      <th>Magnitude Seismic Stations</th>\n",
       "      <th>Azimuthal Gap</th>\n",
       "      <th>Horizontal Distance</th>\n",
       "      <th>Horizontal Error</th>\n",
       "      <th>Root Mean Square</th>\n",
       "      <th>ID</th>\n",
       "      <th>Source</th>\n",
       "      <th>Location Source</th>\n",
       "      <th>Magnitude Source</th>\n",
       "      <th>Status</th>\n",
       "    </tr>\n",
       "  </thead>\n",
       "  <tbody>\n",
       "    <tr>\n",
       "      <th>0</th>\n",
       "      <td>01/02/1965</td>\n",
       "      <td>13:44:18</td>\n",
       "      <td>19.246</td>\n",
       "      <td>145.616</td>\n",
       "      <td>Earthquake</td>\n",
       "      <td>131.6</td>\n",
       "      <td>NaN</td>\n",
       "      <td>NaN</td>\n",
       "      <td>6.0</td>\n",
       "      <td>MW</td>\n",
       "      <td>...</td>\n",
       "      <td>NaN</td>\n",
       "      <td>NaN</td>\n",
       "      <td>NaN</td>\n",
       "      <td>NaN</td>\n",
       "      <td>NaN</td>\n",
       "      <td>ISCGEM860706</td>\n",
       "      <td>ISCGEM</td>\n",
       "      <td>ISCGEM</td>\n",
       "      <td>ISCGEM</td>\n",
       "      <td>Automatic</td>\n",
       "    </tr>\n",
       "    <tr>\n",
       "      <th>1</th>\n",
       "      <td>01/04/1965</td>\n",
       "      <td>11:29:49</td>\n",
       "      <td>1.863</td>\n",
       "      <td>127.352</td>\n",
       "      <td>Earthquake</td>\n",
       "      <td>80.0</td>\n",
       "      <td>NaN</td>\n",
       "      <td>NaN</td>\n",
       "      <td>5.8</td>\n",
       "      <td>MW</td>\n",
       "      <td>...</td>\n",
       "      <td>NaN</td>\n",
       "      <td>NaN</td>\n",
       "      <td>NaN</td>\n",
       "      <td>NaN</td>\n",
       "      <td>NaN</td>\n",
       "      <td>ISCGEM860737</td>\n",
       "      <td>ISCGEM</td>\n",
       "      <td>ISCGEM</td>\n",
       "      <td>ISCGEM</td>\n",
       "      <td>Automatic</td>\n",
       "    </tr>\n",
       "    <tr>\n",
       "      <th>2</th>\n",
       "      <td>01/05/1965</td>\n",
       "      <td>18:05:58</td>\n",
       "      <td>-20.579</td>\n",
       "      <td>-173.972</td>\n",
       "      <td>Earthquake</td>\n",
       "      <td>20.0</td>\n",
       "      <td>NaN</td>\n",
       "      <td>NaN</td>\n",
       "      <td>6.2</td>\n",
       "      <td>MW</td>\n",
       "      <td>...</td>\n",
       "      <td>NaN</td>\n",
       "      <td>NaN</td>\n",
       "      <td>NaN</td>\n",
       "      <td>NaN</td>\n",
       "      <td>NaN</td>\n",
       "      <td>ISCGEM860762</td>\n",
       "      <td>ISCGEM</td>\n",
       "      <td>ISCGEM</td>\n",
       "      <td>ISCGEM</td>\n",
       "      <td>Automatic</td>\n",
       "    </tr>\n",
       "    <tr>\n",
       "      <th>3</th>\n",
       "      <td>01/08/1965</td>\n",
       "      <td>18:49:43</td>\n",
       "      <td>-59.076</td>\n",
       "      <td>-23.557</td>\n",
       "      <td>Earthquake</td>\n",
       "      <td>15.0</td>\n",
       "      <td>NaN</td>\n",
       "      <td>NaN</td>\n",
       "      <td>5.8</td>\n",
       "      <td>MW</td>\n",
       "      <td>...</td>\n",
       "      <td>NaN</td>\n",
       "      <td>NaN</td>\n",
       "      <td>NaN</td>\n",
       "      <td>NaN</td>\n",
       "      <td>NaN</td>\n",
       "      <td>ISCGEM860856</td>\n",
       "      <td>ISCGEM</td>\n",
       "      <td>ISCGEM</td>\n",
       "      <td>ISCGEM</td>\n",
       "      <td>Automatic</td>\n",
       "    </tr>\n",
       "    <tr>\n",
       "      <th>4</th>\n",
       "      <td>01/09/1965</td>\n",
       "      <td>13:32:50</td>\n",
       "      <td>11.938</td>\n",
       "      <td>126.427</td>\n",
       "      <td>Earthquake</td>\n",
       "      <td>15.0</td>\n",
       "      <td>NaN</td>\n",
       "      <td>NaN</td>\n",
       "      <td>5.8</td>\n",
       "      <td>MW</td>\n",
       "      <td>...</td>\n",
       "      <td>NaN</td>\n",
       "      <td>NaN</td>\n",
       "      <td>NaN</td>\n",
       "      <td>NaN</td>\n",
       "      <td>NaN</td>\n",
       "      <td>ISCGEM860890</td>\n",
       "      <td>ISCGEM</td>\n",
       "      <td>ISCGEM</td>\n",
       "      <td>ISCGEM</td>\n",
       "      <td>Automatic</td>\n",
       "    </tr>\n",
       "  </tbody>\n",
       "</table>\n",
       "<p>5 rows × 21 columns</p>\n",
       "</div>"
      ],
      "text/plain": [
       "         Date      Time  Latitude  Longitude        Type  Depth  Depth Error  \\\n",
       "0  01/02/1965  13:44:18    19.246    145.616  Earthquake  131.6          NaN   \n",
       "1  01/04/1965  11:29:49     1.863    127.352  Earthquake   80.0          NaN   \n",
       "2  01/05/1965  18:05:58   -20.579   -173.972  Earthquake   20.0          NaN   \n",
       "3  01/08/1965  18:49:43   -59.076    -23.557  Earthquake   15.0          NaN   \n",
       "4  01/09/1965  13:32:50    11.938    126.427  Earthquake   15.0          NaN   \n",
       "\n",
       "   Depth Seismic Stations  Magnitude Magnitude Type  ...  \\\n",
       "0                     NaN        6.0             MW  ...   \n",
       "1                     NaN        5.8             MW  ...   \n",
       "2                     NaN        6.2             MW  ...   \n",
       "3                     NaN        5.8             MW  ...   \n",
       "4                     NaN        5.8             MW  ...   \n",
       "\n",
       "   Magnitude Seismic Stations  Azimuthal Gap  Horizontal Distance  \\\n",
       "0                         NaN            NaN                  NaN   \n",
       "1                         NaN            NaN                  NaN   \n",
       "2                         NaN            NaN                  NaN   \n",
       "3                         NaN            NaN                  NaN   \n",
       "4                         NaN            NaN                  NaN   \n",
       "\n",
       "   Horizontal Error  Root Mean Square            ID  Source Location Source  \\\n",
       "0               NaN               NaN  ISCGEM860706  ISCGEM          ISCGEM   \n",
       "1               NaN               NaN  ISCGEM860737  ISCGEM          ISCGEM   \n",
       "2               NaN               NaN  ISCGEM860762  ISCGEM          ISCGEM   \n",
       "3               NaN               NaN  ISCGEM860856  ISCGEM          ISCGEM   \n",
       "4               NaN               NaN  ISCGEM860890  ISCGEM          ISCGEM   \n",
       "\n",
       "  Magnitude Source     Status  \n",
       "0           ISCGEM  Automatic  \n",
       "1           ISCGEM  Automatic  \n",
       "2           ISCGEM  Automatic  \n",
       "3           ISCGEM  Automatic  \n",
       "4           ISCGEM  Automatic  \n",
       "\n",
       "[5 rows x 21 columns]"
      ]
     },
     "metadata": {},
     "output_type": "display_data"
    }
   ],
   "source": [
    "display(df.head())"
   ]
  },
  {
   "cell_type": "markdown",
   "metadata": {},
   "source": [
    "# Get basic descriptive statistics"
   ]
  },
  {
   "cell_type": "code",
   "execution_count": 5,
   "metadata": {},
   "outputs": [
    {
     "data": {
      "text/html": [
       "<div>\n",
       "<style scoped>\n",
       "    .dataframe tbody tr th:only-of-type {\n",
       "        vertical-align: middle;\n",
       "    }\n",
       "\n",
       "    .dataframe tbody tr th {\n",
       "        vertical-align: top;\n",
       "    }\n",
       "\n",
       "    .dataframe thead th {\n",
       "        text-align: right;\n",
       "    }\n",
       "</style>\n",
       "<table border=\"1\" class=\"dataframe\">\n",
       "  <thead>\n",
       "    <tr style=\"text-align: right;\">\n",
       "      <th></th>\n",
       "      <th>Latitude</th>\n",
       "      <th>Longitude</th>\n",
       "      <th>Depth</th>\n",
       "      <th>Depth Error</th>\n",
       "      <th>Depth Seismic Stations</th>\n",
       "      <th>Magnitude</th>\n",
       "      <th>Magnitude Error</th>\n",
       "      <th>Magnitude Seismic Stations</th>\n",
       "      <th>Azimuthal Gap</th>\n",
       "      <th>Horizontal Distance</th>\n",
       "      <th>Horizontal Error</th>\n",
       "      <th>Root Mean Square</th>\n",
       "    </tr>\n",
       "  </thead>\n",
       "  <tbody>\n",
       "    <tr>\n",
       "      <th>count</th>\n",
       "      <td>23412.000000</td>\n",
       "      <td>23412.000000</td>\n",
       "      <td>23412.000000</td>\n",
       "      <td>4461.000000</td>\n",
       "      <td>7097.000000</td>\n",
       "      <td>23412.000000</td>\n",
       "      <td>327.000000</td>\n",
       "      <td>2564.000000</td>\n",
       "      <td>7299.000000</td>\n",
       "      <td>1604.000000</td>\n",
       "      <td>1156.000000</td>\n",
       "      <td>17352.000000</td>\n",
       "    </tr>\n",
       "    <tr>\n",
       "      <th>mean</th>\n",
       "      <td>1.679033</td>\n",
       "      <td>39.639961</td>\n",
       "      <td>70.767911</td>\n",
       "      <td>4.993115</td>\n",
       "      <td>275.364098</td>\n",
       "      <td>5.882531</td>\n",
       "      <td>0.071820</td>\n",
       "      <td>48.944618</td>\n",
       "      <td>44.163532</td>\n",
       "      <td>3.992660</td>\n",
       "      <td>7.662759</td>\n",
       "      <td>1.022784</td>\n",
       "    </tr>\n",
       "    <tr>\n",
       "      <th>std</th>\n",
       "      <td>30.113183</td>\n",
       "      <td>125.511959</td>\n",
       "      <td>122.651898</td>\n",
       "      <td>4.875184</td>\n",
       "      <td>162.141631</td>\n",
       "      <td>0.423066</td>\n",
       "      <td>0.051466</td>\n",
       "      <td>62.943106</td>\n",
       "      <td>32.141486</td>\n",
       "      <td>5.377262</td>\n",
       "      <td>10.430396</td>\n",
       "      <td>0.188545</td>\n",
       "    </tr>\n",
       "    <tr>\n",
       "      <th>min</th>\n",
       "      <td>-77.080000</td>\n",
       "      <td>-179.997000</td>\n",
       "      <td>-1.100000</td>\n",
       "      <td>0.000000</td>\n",
       "      <td>0.000000</td>\n",
       "      <td>5.500000</td>\n",
       "      <td>0.000000</td>\n",
       "      <td>0.000000</td>\n",
       "      <td>0.000000</td>\n",
       "      <td>0.004505</td>\n",
       "      <td>0.085000</td>\n",
       "      <td>0.000000</td>\n",
       "    </tr>\n",
       "    <tr>\n",
       "      <th>25%</th>\n",
       "      <td>-18.653000</td>\n",
       "      <td>-76.349750</td>\n",
       "      <td>14.522500</td>\n",
       "      <td>1.800000</td>\n",
       "      <td>146.000000</td>\n",
       "      <td>5.600000</td>\n",
       "      <td>0.046000</td>\n",
       "      <td>10.000000</td>\n",
       "      <td>24.100000</td>\n",
       "      <td>0.968750</td>\n",
       "      <td>5.300000</td>\n",
       "      <td>0.900000</td>\n",
       "    </tr>\n",
       "    <tr>\n",
       "      <th>50%</th>\n",
       "      <td>-3.568500</td>\n",
       "      <td>103.982000</td>\n",
       "      <td>33.000000</td>\n",
       "      <td>3.500000</td>\n",
       "      <td>255.000000</td>\n",
       "      <td>5.700000</td>\n",
       "      <td>0.059000</td>\n",
       "      <td>28.000000</td>\n",
       "      <td>36.000000</td>\n",
       "      <td>2.319500</td>\n",
       "      <td>6.700000</td>\n",
       "      <td>1.000000</td>\n",
       "    </tr>\n",
       "    <tr>\n",
       "      <th>75%</th>\n",
       "      <td>26.190750</td>\n",
       "      <td>145.026250</td>\n",
       "      <td>54.000000</td>\n",
       "      <td>6.300000</td>\n",
       "      <td>384.000000</td>\n",
       "      <td>6.000000</td>\n",
       "      <td>0.075500</td>\n",
       "      <td>66.000000</td>\n",
       "      <td>54.000000</td>\n",
       "      <td>4.724500</td>\n",
       "      <td>8.100000</td>\n",
       "      <td>1.130000</td>\n",
       "    </tr>\n",
       "    <tr>\n",
       "      <th>max</th>\n",
       "      <td>86.005000</td>\n",
       "      <td>179.998000</td>\n",
       "      <td>700.000000</td>\n",
       "      <td>91.295000</td>\n",
       "      <td>934.000000</td>\n",
       "      <td>9.100000</td>\n",
       "      <td>0.410000</td>\n",
       "      <td>821.000000</td>\n",
       "      <td>360.000000</td>\n",
       "      <td>37.874000</td>\n",
       "      <td>99.000000</td>\n",
       "      <td>3.440000</td>\n",
       "    </tr>\n",
       "  </tbody>\n",
       "</table>\n",
       "</div>"
      ],
      "text/plain": [
       "           Latitude     Longitude         Depth  Depth Error  \\\n",
       "count  23412.000000  23412.000000  23412.000000  4461.000000   \n",
       "mean       1.679033     39.639961     70.767911     4.993115   \n",
       "std       30.113183    125.511959    122.651898     4.875184   \n",
       "min      -77.080000   -179.997000     -1.100000     0.000000   \n",
       "25%      -18.653000    -76.349750     14.522500     1.800000   \n",
       "50%       -3.568500    103.982000     33.000000     3.500000   \n",
       "75%       26.190750    145.026250     54.000000     6.300000   \n",
       "max       86.005000    179.998000    700.000000    91.295000   \n",
       "\n",
       "       Depth Seismic Stations     Magnitude  Magnitude Error  \\\n",
       "count             7097.000000  23412.000000       327.000000   \n",
       "mean               275.364098      5.882531         0.071820   \n",
       "std                162.141631      0.423066         0.051466   \n",
       "min                  0.000000      5.500000         0.000000   \n",
       "25%                146.000000      5.600000         0.046000   \n",
       "50%                255.000000      5.700000         0.059000   \n",
       "75%                384.000000      6.000000         0.075500   \n",
       "max                934.000000      9.100000         0.410000   \n",
       "\n",
       "       Magnitude Seismic Stations  Azimuthal Gap  Horizontal Distance  \\\n",
       "count                 2564.000000    7299.000000          1604.000000   \n",
       "mean                    48.944618      44.163532             3.992660   \n",
       "std                     62.943106      32.141486             5.377262   \n",
       "min                      0.000000       0.000000             0.004505   \n",
       "25%                     10.000000      24.100000             0.968750   \n",
       "50%                     28.000000      36.000000             2.319500   \n",
       "75%                     66.000000      54.000000             4.724500   \n",
       "max                    821.000000     360.000000            37.874000   \n",
       "\n",
       "       Horizontal Error  Root Mean Square  \n",
       "count       1156.000000      17352.000000  \n",
       "mean           7.662759          1.022784  \n",
       "std           10.430396          0.188545  \n",
       "min            0.085000          0.000000  \n",
       "25%            5.300000          0.900000  \n",
       "50%            6.700000          1.000000  \n",
       "75%            8.100000          1.130000  \n",
       "max           99.000000          3.440000  "
      ]
     },
     "execution_count": 5,
     "metadata": {},
     "output_type": "execute_result"
    }
   ],
   "source": [
    "df.describe()"
   ]
  },
  {
   "cell_type": "markdown",
   "metadata": {},
   "source": [
    "# Get column datatypes"
   ]
  },
  {
   "cell_type": "code",
   "execution_count": 6,
   "metadata": {},
   "outputs": [
    {
     "data": {
      "text/plain": [
       "Date                           object\n",
       "Time                           object\n",
       "Latitude                      float64\n",
       "Longitude                     float64\n",
       "Type                           object\n",
       "Depth                         float64\n",
       "Depth Error                   float64\n",
       "Depth Seismic Stations        float64\n",
       "Magnitude                     float64\n",
       "Magnitude Type                 object\n",
       "Magnitude Error               float64\n",
       "Magnitude Seismic Stations    float64\n",
       "Azimuthal Gap                 float64\n",
       "Horizontal Distance           float64\n",
       "Horizontal Error              float64\n",
       "Root Mean Square              float64\n",
       "ID                             object\n",
       "Source                         object\n",
       "Location Source                object\n",
       "Magnitude Source               object\n",
       "Status                         object\n",
       "dtype: object"
      ]
     },
     "execution_count": 6,
     "metadata": {},
     "output_type": "execute_result"
    }
   ],
   "source": [
    "df.dtypes"
   ]
  },
  {
   "cell_type": "markdown",
   "metadata": {},
   "source": [
    "# Convert date time to datetime object"
   ]
  },
  {
   "cell_type": "code",
   "execution_count": 41,
   "metadata": {},
   "outputs": [
    {
     "data": {
      "text/html": [
       "<div>\n",
       "<style scoped>\n",
       "    .dataframe tbody tr th:only-of-type {\n",
       "        vertical-align: middle;\n",
       "    }\n",
       "\n",
       "    .dataframe tbody tr th {\n",
       "        vertical-align: top;\n",
       "    }\n",
       "\n",
       "    .dataframe thead th {\n",
       "        text-align: right;\n",
       "    }\n",
       "</style>\n",
       "<table border=\"1\" class=\"dataframe\">\n",
       "  <thead>\n",
       "    <tr style=\"text-align: right;\">\n",
       "      <th></th>\n",
       "      <th>Date</th>\n",
       "      <th>Time</th>\n",
       "      <th>Latitude</th>\n",
       "      <th>Longitude</th>\n",
       "      <th>Type</th>\n",
       "      <th>Depth</th>\n",
       "      <th>Depth Error</th>\n",
       "      <th>Depth Seismic Stations</th>\n",
       "      <th>Magnitude</th>\n",
       "      <th>Magnitude Type</th>\n",
       "      <th>...</th>\n",
       "      <th>Azimuthal Gap</th>\n",
       "      <th>Horizontal Distance</th>\n",
       "      <th>Horizontal Error</th>\n",
       "      <th>Root Mean Square</th>\n",
       "      <th>ID</th>\n",
       "      <th>Source</th>\n",
       "      <th>Location Source</th>\n",
       "      <th>Magnitude Source</th>\n",
       "      <th>Status</th>\n",
       "      <th>datetime</th>\n",
       "    </tr>\n",
       "  </thead>\n",
       "  <tbody>\n",
       "    <tr>\n",
       "      <th>0</th>\n",
       "      <td>01/02/1965</td>\n",
       "      <td>13:44:18</td>\n",
       "      <td>19.246</td>\n",
       "      <td>145.616</td>\n",
       "      <td>Earthquake</td>\n",
       "      <td>131.6</td>\n",
       "      <td>NaN</td>\n",
       "      <td>NaN</td>\n",
       "      <td>6.0</td>\n",
       "      <td>MW</td>\n",
       "      <td>...</td>\n",
       "      <td>NaN</td>\n",
       "      <td>NaN</td>\n",
       "      <td>NaN</td>\n",
       "      <td>NaN</td>\n",
       "      <td>ISCGEM860706</td>\n",
       "      <td>ISCGEM</td>\n",
       "      <td>ISCGEM</td>\n",
       "      <td>ISCGEM</td>\n",
       "      <td>Automatic</td>\n",
       "      <td>1965-01-02 13:44:18</td>\n",
       "    </tr>\n",
       "    <tr>\n",
       "      <th>1</th>\n",
       "      <td>01/04/1965</td>\n",
       "      <td>11:29:49</td>\n",
       "      <td>1.863</td>\n",
       "      <td>127.352</td>\n",
       "      <td>Earthquake</td>\n",
       "      <td>80.0</td>\n",
       "      <td>NaN</td>\n",
       "      <td>NaN</td>\n",
       "      <td>5.8</td>\n",
       "      <td>MW</td>\n",
       "      <td>...</td>\n",
       "      <td>NaN</td>\n",
       "      <td>NaN</td>\n",
       "      <td>NaN</td>\n",
       "      <td>NaN</td>\n",
       "      <td>ISCGEM860737</td>\n",
       "      <td>ISCGEM</td>\n",
       "      <td>ISCGEM</td>\n",
       "      <td>ISCGEM</td>\n",
       "      <td>Automatic</td>\n",
       "      <td>1965-01-04 11:29:49</td>\n",
       "    </tr>\n",
       "    <tr>\n",
       "      <th>2</th>\n",
       "      <td>01/05/1965</td>\n",
       "      <td>18:05:58</td>\n",
       "      <td>-20.579</td>\n",
       "      <td>-173.972</td>\n",
       "      <td>Earthquake</td>\n",
       "      <td>20.0</td>\n",
       "      <td>NaN</td>\n",
       "      <td>NaN</td>\n",
       "      <td>6.2</td>\n",
       "      <td>MW</td>\n",
       "      <td>...</td>\n",
       "      <td>NaN</td>\n",
       "      <td>NaN</td>\n",
       "      <td>NaN</td>\n",
       "      <td>NaN</td>\n",
       "      <td>ISCGEM860762</td>\n",
       "      <td>ISCGEM</td>\n",
       "      <td>ISCGEM</td>\n",
       "      <td>ISCGEM</td>\n",
       "      <td>Automatic</td>\n",
       "      <td>1965-01-05 18:05:58</td>\n",
       "    </tr>\n",
       "    <tr>\n",
       "      <th>3</th>\n",
       "      <td>01/08/1965</td>\n",
       "      <td>18:49:43</td>\n",
       "      <td>-59.076</td>\n",
       "      <td>-23.557</td>\n",
       "      <td>Earthquake</td>\n",
       "      <td>15.0</td>\n",
       "      <td>NaN</td>\n",
       "      <td>NaN</td>\n",
       "      <td>5.8</td>\n",
       "      <td>MW</td>\n",
       "      <td>...</td>\n",
       "      <td>NaN</td>\n",
       "      <td>NaN</td>\n",
       "      <td>NaN</td>\n",
       "      <td>NaN</td>\n",
       "      <td>ISCGEM860856</td>\n",
       "      <td>ISCGEM</td>\n",
       "      <td>ISCGEM</td>\n",
       "      <td>ISCGEM</td>\n",
       "      <td>Automatic</td>\n",
       "      <td>1965-01-08 18:49:43</td>\n",
       "    </tr>\n",
       "    <tr>\n",
       "      <th>4</th>\n",
       "      <td>01/09/1965</td>\n",
       "      <td>13:32:50</td>\n",
       "      <td>11.938</td>\n",
       "      <td>126.427</td>\n",
       "      <td>Earthquake</td>\n",
       "      <td>15.0</td>\n",
       "      <td>NaN</td>\n",
       "      <td>NaN</td>\n",
       "      <td>5.8</td>\n",
       "      <td>MW</td>\n",
       "      <td>...</td>\n",
       "      <td>NaN</td>\n",
       "      <td>NaN</td>\n",
       "      <td>NaN</td>\n",
       "      <td>NaN</td>\n",
       "      <td>ISCGEM860890</td>\n",
       "      <td>ISCGEM</td>\n",
       "      <td>ISCGEM</td>\n",
       "      <td>ISCGEM</td>\n",
       "      <td>Automatic</td>\n",
       "      <td>1965-01-09 13:32:50</td>\n",
       "    </tr>\n",
       "  </tbody>\n",
       "</table>\n",
       "<p>5 rows × 22 columns</p>\n",
       "</div>"
      ],
      "text/plain": [
       "         Date      Time  Latitude  Longitude        Type  Depth  Depth Error  \\\n",
       "0  01/02/1965  13:44:18    19.246    145.616  Earthquake  131.6          NaN   \n",
       "1  01/04/1965  11:29:49     1.863    127.352  Earthquake   80.0          NaN   \n",
       "2  01/05/1965  18:05:58   -20.579   -173.972  Earthquake   20.0          NaN   \n",
       "3  01/08/1965  18:49:43   -59.076    -23.557  Earthquake   15.0          NaN   \n",
       "4  01/09/1965  13:32:50    11.938    126.427  Earthquake   15.0          NaN   \n",
       "\n",
       "   Depth Seismic Stations  Magnitude Magnitude Type  ...  Azimuthal Gap  \\\n",
       "0                     NaN        6.0             MW  ...            NaN   \n",
       "1                     NaN        5.8             MW  ...            NaN   \n",
       "2                     NaN        6.2             MW  ...            NaN   \n",
       "3                     NaN        5.8             MW  ...            NaN   \n",
       "4                     NaN        5.8             MW  ...            NaN   \n",
       "\n",
       "   Horizontal Distance  Horizontal Error  Root Mean Square            ID  \\\n",
       "0                  NaN               NaN               NaN  ISCGEM860706   \n",
       "1                  NaN               NaN               NaN  ISCGEM860737   \n",
       "2                  NaN               NaN               NaN  ISCGEM860762   \n",
       "3                  NaN               NaN               NaN  ISCGEM860856   \n",
       "4                  NaN               NaN               NaN  ISCGEM860890   \n",
       "\n",
       "   Source Location Source Magnitude Source     Status            datetime  \n",
       "0  ISCGEM          ISCGEM           ISCGEM  Automatic 1965-01-02 13:44:18  \n",
       "1  ISCGEM          ISCGEM           ISCGEM  Automatic 1965-01-04 11:29:49  \n",
       "2  ISCGEM          ISCGEM           ISCGEM  Automatic 1965-01-05 18:05:58  \n",
       "3  ISCGEM          ISCGEM           ISCGEM  Automatic 1965-01-08 18:49:43  \n",
       "4  ISCGEM          ISCGEM           ISCGEM  Automatic 1965-01-09 13:32:50  \n",
       "\n",
       "[5 rows x 22 columns]"
      ]
     },
     "execution_count": 41,
     "metadata": {},
     "output_type": "execute_result"
    }
   ],
   "source": [
    "def convert_to_date_time(n):\n",
    "    applicable_formats = ['%m/%d/%Y %H:%M:%S',\n",
    "                          '%Y-%m-%dT%H:%M:%S.%fZ'\n",
    "                         ]\n",
    "    try:\n",
    "        return datetime.strptime(n,applicable_formats[0])\n",
    "    except:\n",
    "        try:\n",
    "            return datetime.strptime(n.split(' ')[0], applicable_formats[1])\n",
    "        except Exception as e:\n",
    "            print(\"Error: {}\".format(e))\n",
    "df['datetime'] = df[\"Date\"] + \" \" + df[\"Time\"]\n",
    "df['datetime'] = df['datetime'].apply(convert_to_date_time)\n",
    "df.head()"
   ]
  },
  {
   "cell_type": "markdown",
   "metadata": {},
   "source": [
    "# Find columns with NaNs\n",
    "We are checking which columns contain NaN values. This helps us to understand whether that particular column is worth studying for or not."
   ]
  },
  {
   "cell_type": "code",
   "execution_count": 43,
   "metadata": {},
   "outputs": [
    {
     "data": {
      "text/plain": [
       "Magnitude Error               23085\n",
       "Horizontal Error              22256\n",
       "Horizontal Distance           21808\n",
       "Magnitude Seismic Stations    20848\n",
       "Depth Error                   18951\n",
       "Depth Seismic Stations        16315\n",
       "Azimuthal Gap                 16113\n",
       "Root Mean Square               6060\n",
       "Magnitude Type                    3\n",
       "Time                              0\n",
       "Latitude                          0\n",
       "Longitude                         0\n",
       "Type                              0\n",
       "Depth                             0\n",
       "datetime                          0\n",
       "Magnitude                         0\n",
       "Status                            0\n",
       "ID                                0\n",
       "Source                            0\n",
       "Location Source                   0\n",
       "Magnitude Source                  0\n",
       "Date                              0\n",
       "dtype: int64"
      ]
     },
     "execution_count": 43,
     "metadata": {},
     "output_type": "execute_result"
    }
   ],
   "source": [
    "df.isna().sum().sort_values(ascending=False)"
   ]
  },
  {
   "cell_type": "markdown",
   "metadata": {},
   "source": [
    "# Remove NaN from Magnitude Type\n",
    "We will remove rows containing NaN in Magnitude Type as it will interfere with analysis later"
   ]
  },
  {
   "cell_type": "code",
   "execution_count": 164,
   "metadata": {},
   "outputs": [],
   "source": [
    "df = df[~df['Magnitude Type'].isna()]"
   ]
  },
  {
   "cell_type": "markdown",
   "metadata": {},
   "source": [
    "# Univariate data analysis of categorical columns"
   ]
  },
  {
   "cell_type": "markdown",
   "metadata": {},
   "source": [
    "## Type\n",
    "Here we try to visualize the distribution of Type of earthquake in our dataset"
   ]
  },
  {
   "cell_type": "code",
   "execution_count": 165,
   "metadata": {},
   "outputs": [
    {
     "data": {
      "image/png": "[encoded data removed]",
      "text/plain": [
       "<Figure size 640x480 with 1 Axes>"
      ]
     },
     "metadata": {},
     "output_type": "display_data"
    },
    {
     "data": {
      "text/plain": [
       "<ggplot: (129146375786)>"
      ]
     },
     "execution_count": 165,
     "metadata": {},
     "output_type": "execute_result"
    }
   ],
   "source": [
    "(ggplot(data=df) +\n",
    " aes(x='Type') +\n",
    " geom_bar()\n",
    ")"
   ]
  },
  {
   "cell_type": "markdown",
   "metadata": {},
   "source": [
    "<b>Inference: </b>We can see that most of the data belong to type Earthquake. According to the categories we assume that Earthquake means natural earthquake."
   ]
  },
  {
   "cell_type": "markdown",
   "metadata": {},
   "source": [
    "# Univariate analysis of Continuous variable"
   ]
  },
  {
   "cell_type": "markdown",
   "metadata": {},
   "source": [
    "## Magnitude"
   ]
  },
  {
   "cell_type": "code",
   "execution_count": 169,
   "metadata": {},
   "outputs": [],
   "source": [
    "g1 = (ggplot(data=df)\n",
    "     + aes(x='Magnitude')\n",
    "     + geom_histogram(bins=20) \n",
    "     + theme(figure_size=(6,4))\n",
    "     + labs(title=\"Distribution of Magnitude\"))\n",
    "\n",
    "g2 = (ggplot(data=df)\n",
    " + aes(x='Magnitude', fill=\"Magnitude Type\")\n",
    " + geom_histogram(bins=20)\n",
    " + facet_wrap(\"Magnitude Type\", scales=\"free\")\n",
    " + theme(figure_size=(10,7), panel_spacing_y=0.3, panel_spacing_x=0.5)\n",
    " + labs(title=\"Distribution of Magnitude for different Magnitude Type\")\n",
    ")"
   ]
  },
  {
   "cell_type": "code",
   "execution_count": 170,
   "metadata": {},
   "outputs": [
    {
     "data": {
      "image/png": "[encoded data removed]",
      "text/plain": [
       "<Figure size 600x400 with 1 Axes>"
      ]
     },
     "metadata": {},
     "output_type": "display_data"
    },
    {
     "data": {
      "text/plain": [
       "<ggplot: (-9223371907702682343)>"
      ]
     },
     "execution_count": 170,
     "metadata": {},
     "output_type": "execute_result"
    }
   ],
   "source": [
    "g1"
   ]
  },
  {
   "cell_type": "code",
   "execution_count": 171,
   "metadata": {},
   "outputs": [
    {
     "data": {
      "image/png": "[encoded data removed]",
      "text/plain": [
       "<Figure size 1000x700 with 10 Axes>"
      ]
     },
     "metadata": {},
     "output_type": "display_data"
    },
    {
     "data": {
      "text/plain": [
       "<ggplot: (129152331896)>"
      ]
     },
     "execution_count": 171,
     "metadata": {},
     "output_type": "execute_result"
    }
   ],
   "source": [
    "g2"
   ]
  },
  {
   "cell_type": "markdown",
   "metadata": {},
   "source": [
    "<b>Inference: </b>From the above plots we can conclude below:\n",
    "1. Most of the earth quakes are of magnitude between 5.5 to 6.\n",
    "1. Our dataset consists of different Magnitude Type. From the 2nd plot it is evident that some Magnitude type are dedicated to measure earthquakes of magnitude lower than 5.6 while some are dedicated for magnitude higher than 5.6."
   ]
  },
  {
   "cell_type": "markdown",
   "metadata": {},
   "source": [
    "# View yearwise variations"
   ]
  },
  {
   "cell_type": "markdown",
   "metadata": {},
   "source": [
    "## Group data by year\n",
    "Below we will group our data to find the yearwise mean of the magnitudes"
   ]
  },
  {
   "cell_type": "code",
   "execution_count": 187,
   "metadata": {},
   "outputs": [
    {
     "data": {
      "text/html": [
       "<div>\n",
       "<style scoped>\n",
       "    .dataframe tbody tr th:only-of-type {\n",
       "        vertical-align: middle;\n",
       "    }\n",
       "\n",
       "    .dataframe tbody tr th {\n",
       "        vertical-align: top;\n",
       "    }\n",
       "\n",
       "    .dataframe thead th {\n",
       "        text-align: right;\n",
       "    }\n",
       "</style>\n",
       "<table border=\"1\" class=\"dataframe\">\n",
       "  <thead>\n",
       "    <tr style=\"text-align: right;\">\n",
       "      <th></th>\n",
       "      <th>YEAR</th>\n",
       "      <th>AVG(Magnitude)</th>\n",
       "      <th>COUNT(Magnitude)</th>\n",
       "    </tr>\n",
       "  </thead>\n",
       "  <tbody>\n",
       "    <tr>\n",
       "      <th>0</th>\n",
       "      <td>1965-01-01</td>\n",
       "      <td>6.014159</td>\n",
       "      <td>339</td>\n",
       "    </tr>\n",
       "    <tr>\n",
       "      <th>1</th>\n",
       "      <td>1966-01-01</td>\n",
       "      <td>6.040470</td>\n",
       "      <td>234</td>\n",
       "    </tr>\n",
       "    <tr>\n",
       "      <th>2</th>\n",
       "      <td>1967-01-01</td>\n",
       "      <td>6.003922</td>\n",
       "      <td>255</td>\n",
       "    </tr>\n",
       "    <tr>\n",
       "      <th>3</th>\n",
       "      <td>1968-01-01</td>\n",
       "      <td>6.078525</td>\n",
       "      <td>305</td>\n",
       "    </tr>\n",
       "    <tr>\n",
       "      <th>4</th>\n",
       "      <td>1969-01-01</td>\n",
       "      <td>6.009350</td>\n",
       "      <td>323</td>\n",
       "    </tr>\n",
       "  </tbody>\n",
       "</table>\n",
       "</div>"
      ],
      "text/plain": [
       "        YEAR  AVG(Magnitude)  COUNT(Magnitude)\n",
       "0 1965-01-01        6.014159               339\n",
       "1 1966-01-01        6.040470               234\n",
       "2 1967-01-01        6.003922               255\n",
       "3 1968-01-01        6.078525               305\n",
       "4 1969-01-01        6.009350               323"
      ]
     },
     "execution_count": 187,
     "metadata": {},
     "output_type": "execute_result"
    }
   ],
   "source": [
    "sql = \"\"\"\n",
    "SELECT \n",
    "strftime(\"%Y\", datetime) AS YEAR,\n",
    "AVG(Magnitude),\n",
    "COUNT(Magnitude)\n",
    "from\n",
    "df\n",
    "GROUP BY YEAR\n",
    "\"\"\"\n",
    "yearwise_mean_magnitude = sqldf(sql)\n",
    "yearwise_mean_magnitude['YEAR'] = pd.to_datetime(yearwise_mean_magnitude['YEAR'], format='%Y')\n",
    "yearwise_mean_magnitude.head()"
   ]
  },
  {
   "cell_type": "markdown",
   "metadata": {},
   "source": [
    "## View the chart\n",
    "Below we will plot yearwise mean magnitude against time"
   ]
  },
  {
   "cell_type": "code",
   "execution_count": 173,
   "metadata": {},
   "outputs": [
    {
     "data": {
      "image/png": "[encoded data removed]",
      "text/plain": [
       "<Figure size 504x360 with 1 Axes>"
      ]
     },
     "metadata": {},
     "output_type": "display_data"
    }
   ],
   "source": [
    "figure = plt.figure(figsize=(7,5))\n",
    "plt.plot(yearwise_mean_magnitude['YEAR'], yearwise_mean_magnitude['AVG(Magnitude)'])\n",
    "plt.xlabel('Year')\n",
    "plt.ylabel('Mean magnitude')\n",
    "plt.title('Variation of mean magnitude w.r.t year')\n",
    "plt.show()"
   ]
  },
  {
   "cell_type": "markdown",
   "metadata": {},
   "source": [
    "<b>Inference: </b>At first glance it appears the mean of the magnitude of the earthquakes dropped drastically in and around 1970's. But a careful observation will reveal that the drop is only 0.25 in magnitude."
   ]
  },
  {
   "cell_type": "markdown",
   "metadata": {},
   "source": [
    "## View yearwise variation of number of earthquakes"
   ]
  },
  {
   "cell_type": "code",
   "execution_count": 174,
   "metadata": {},
   "outputs": [
    {
     "data": {
      "image/png": "[encoded data removed]",
      "text/plain": [
       "<Figure size 504x360 with 1 Axes>"
      ]
     },
     "metadata": {},
     "output_type": "display_data"
    }
   ],
   "source": [
    "figure = plt.figure(figsize=(7,5))\n",
    "plt.plot(yearwise_mean_magnitude['YEAR'], yearwise_mean_magnitude['COUNT(Magnitude)'])\n",
    "plt.xlabel('Year')\n",
    "plt.ylabel('No. of earthquakes')\n",
    "plt.title('Variation of no. of earth quakes w.r.t year')\n",
    "plt.show()"
   ]
  },
  {
   "cell_type": "markdown",
   "metadata": {},
   "source": [
    "<b>Inference: </b>We can see that the variation of number of earthquakes in our dataset shows an increasing trend yearwise especially after 1980. This can be the result one of the below factors:\n",
    " - Number of earthquakes has really increased as a result of natural phenomenon\n",
    " - Use of sophisticated means of measurement methodology like Magnitude Type\n",
    " - Advent of more monitoring stations\n",
    "\n",
    "Let's delve deeper into this investigation"
   ]
  },
  {
   "cell_type": "markdown",
   "metadata": {},
   "source": [
    "# View variation in count of Magnitude Types with year"
   ]
  },
  {
   "cell_type": "markdown",
   "metadata": {},
   "source": [
    "## Group count of Magnitude Type with year"
   ]
  },
  {
   "cell_type": "code",
   "execution_count": 175,
   "metadata": {},
   "outputs": [
    {
     "data": {
      "text/html": [
       "<div>\n",
       "<style scoped>\n",
       "    .dataframe tbody tr th:only-of-type {\n",
       "        vertical-align: middle;\n",
       "    }\n",
       "\n",
       "    .dataframe tbody tr th {\n",
       "        vertical-align: top;\n",
       "    }\n",
       "\n",
       "    .dataframe thead th {\n",
       "        text-align: right;\n",
       "    }\n",
       "</style>\n",
       "<table border=\"1\" class=\"dataframe\">\n",
       "  <thead>\n",
       "    <tr style=\"text-align: right;\">\n",
       "      <th></th>\n",
       "      <th>YEAR</th>\n",
       "      <th>Magnitude Type</th>\n",
       "      <th>COUNT</th>\n",
       "    </tr>\n",
       "  </thead>\n",
       "  <tbody>\n",
       "    <tr>\n",
       "      <th>0</th>\n",
       "      <td>2016-01-01</td>\n",
       "      <td>MWW</td>\n",
       "      <td>372</td>\n",
       "    </tr>\n",
       "    <tr>\n",
       "      <th>1</th>\n",
       "      <td>2016-01-01</td>\n",
       "      <td>MWB</td>\n",
       "      <td>42</td>\n",
       "    </tr>\n",
       "    <tr>\n",
       "      <th>2</th>\n",
       "      <td>2016-01-01</td>\n",
       "      <td>MB</td>\n",
       "      <td>31</td>\n",
       "    </tr>\n",
       "    <tr>\n",
       "      <th>3</th>\n",
       "      <td>2016-01-01</td>\n",
       "      <td>MWC</td>\n",
       "      <td>16</td>\n",
       "    </tr>\n",
       "    <tr>\n",
       "      <th>4</th>\n",
       "      <td>2016-01-01</td>\n",
       "      <td>ML</td>\n",
       "      <td>5</td>\n",
       "    </tr>\n",
       "  </tbody>\n",
       "</table>\n",
       "</div>"
      ],
      "text/plain": [
       "        YEAR Magnitude Type  COUNT\n",
       "0 2016-01-01            MWW    372\n",
       "1 2016-01-01            MWB     42\n",
       "2 2016-01-01             MB     31\n",
       "3 2016-01-01            MWC     16\n",
       "4 2016-01-01             ML      5"
      ]
     },
     "execution_count": 175,
     "metadata": {},
     "output_type": "execute_result"
    }
   ],
   "source": [
    "sql = \"\"\"\n",
    "SELECT \n",
    "strftime(\"%Y\", datetime) AS YEAR,\n",
    "`Magnitude Type`,\n",
    "COUNT(`Magnitude Type`) AS COUNT\n",
    "from\n",
    "df\n",
    "GROUP BY YEAR, `Magnitude Type`\n",
    "ORDER BY YEAR DESC, COUNT DESC\n",
    "\"\"\"\n",
    "yearwise_count_magnitude_type = sqldf(sql)\n",
    "yearwise_count_magnitude_type['YEAR'] = pd.to_datetime(yearwise_count_magnitude_type['YEAR'], format='%Y')\n",
    "yearwise_count_magnitude_type.head()"
   ]
  },
  {
   "cell_type": "markdown",
   "metadata": {},
   "source": [
    "## View chart\n",
    "Below we will visualize how with the advent of years we saw introduction of new Magnitude Types"
   ]
  },
  {
   "cell_type": "code",
   "execution_count": 178,
   "metadata": {},
   "outputs": [
    {
     "data": {
      "image/png": "[encoded data removed]",
      "text/plain": [
       "<Figure size 1000x500 with 10 Axes>"
      ]
     },
     "metadata": {},
     "output_type": "display_data"
    },
    {
     "data": {
      "text/plain": [
       "<ggplot: (-9223371907712276031)>"
      ]
     },
     "execution_count": 178,
     "metadata": {},
     "output_type": "execute_result"
    }
   ],
   "source": [
    "(ggplot(data=yearwise_count_magnitude_type)\n",
    "+ aes(x='YEAR', y='COUNT', fill=\"Magnitude Type\")\n",
    "+ geom_col()\n",
    "+ facet_wrap(\"Magnitude Type\", scales=\"free_y\")\n",
    "+ theme(axis_text_x=element_text(angle=90), panel_spacing_x=0.5, figure_size=(10,5))\n",
    "+ labs(title=\"Variation of Count of Magnitude Type over Years\")\n",
    ")"
   ]
  },
  {
   "cell_type": "markdown",
   "metadata": {},
   "source": [
    "<b>Inference: </b>Here we are specifically concentrating into Magnitude Units which have high counts (> 100). The above plots show a clear example that over the years usage of magnitude type changed from \"MB\" with high usage in around 1970-1990 to \"MWB\", \"MWC\" in between 2000-2010 and \"MWW\" from 2010. This clearly indicates that the increase in number of earth quakes is in our dataset is perhaps mostly due to advent of new ways of measurements and hence higher number in reporting of the earthquakes."
   ]
  },
  {
   "cell_type": "markdown",
   "metadata": {},
   "source": [
    "# View variation in count of Sources with year"
   ]
  },
  {
   "cell_type": "markdown",
   "metadata": {},
   "source": [
    "## Group Source Counts with Year\n",
    "Let's dive to check whether with time the number of seismic network source for monitoring earthquakes has increased."
   ]
  },
  {
   "cell_type": "code",
   "execution_count": 188,
   "metadata": {},
   "outputs": [],
   "source": [
    "sql = \"\"\"\n",
    "SELECT \n",
    "strftime(\"%Y\", datetime) AS YEAR,\n",
    "`Source`,\n",
    "COUNT(`Source`) AS COUNT\n",
    "from\n",
    "df\n",
    "GROUP BY YEAR, Source\n",
    "ORDER BY COUNT DESC, YEAR DESC\n",
    "\"\"\"\n",
    "yearwise_count_Source = sqldf(sql)\n",
    "yearwise_count_Source['YEAR'] = pd.to_datetime(yearwise_count_Source['YEAR'], format='%Y')"
   ]
  },
  {
   "cell_type": "markdown",
   "metadata": {},
   "source": [
    "## View which sources reported high number of earthquakes"
   ]
  },
  {
   "cell_type": "code",
   "execution_count": 189,
   "metadata": {},
   "outputs": [
    {
     "data": {
      "text/html": [
       "<div>\n",
       "<style scoped>\n",
       "    .dataframe tbody tr th:only-of-type {\n",
       "        vertical-align: middle;\n",
       "    }\n",
       "\n",
       "    .dataframe tbody tr th {\n",
       "        vertical-align: top;\n",
       "    }\n",
       "\n",
       "    .dataframe thead th {\n",
       "        text-align: right;\n",
       "    }\n",
       "</style>\n",
       "<table border=\"1\" class=\"dataframe\">\n",
       "  <thead>\n",
       "    <tr style=\"text-align: right;\">\n",
       "      <th></th>\n",
       "      <th>YEAR</th>\n",
       "      <th>Source</th>\n",
       "      <th>COUNT</th>\n",
       "    </tr>\n",
       "  </thead>\n",
       "  <tbody>\n",
       "    <tr>\n",
       "      <th>0</th>\n",
       "      <td>2011-01-01</td>\n",
       "      <td>US</td>\n",
       "      <td>711</td>\n",
       "    </tr>\n",
       "    <tr>\n",
       "      <th>1</th>\n",
       "      <td>2007-01-01</td>\n",
       "      <td>US</td>\n",
       "      <td>606</td>\n",
       "    </tr>\n",
       "    <tr>\n",
       "      <th>2</th>\n",
       "      <td>1995-01-01</td>\n",
       "      <td>US</td>\n",
       "      <td>587</td>\n",
       "    </tr>\n",
       "    <tr>\n",
       "      <th>3</th>\n",
       "      <td>2004-01-01</td>\n",
       "      <td>US</td>\n",
       "      <td>567</td>\n",
       "    </tr>\n",
       "    <tr>\n",
       "      <th>4</th>\n",
       "      <td>2010-01-01</td>\n",
       "      <td>US</td>\n",
       "      <td>553</td>\n",
       "    </tr>\n",
       "    <tr>\n",
       "      <th>5</th>\n",
       "      <td>2000-01-01</td>\n",
       "      <td>US</td>\n",
       "      <td>551</td>\n",
       "    </tr>\n",
       "    <tr>\n",
       "      <th>6</th>\n",
       "      <td>1996-01-01</td>\n",
       "      <td>US</td>\n",
       "      <td>540</td>\n",
       "    </tr>\n",
       "    <tr>\n",
       "      <th>7</th>\n",
       "      <td>2005-01-01</td>\n",
       "      <td>US</td>\n",
       "      <td>532</td>\n",
       "    </tr>\n",
       "    <tr>\n",
       "      <th>8</th>\n",
       "      <td>1990-01-01</td>\n",
       "      <td>US</td>\n",
       "      <td>524</td>\n",
       "    </tr>\n",
       "    <tr>\n",
       "      <th>9</th>\n",
       "      <td>1992-01-01</td>\n",
       "      <td>US</td>\n",
       "      <td>518</td>\n",
       "    </tr>\n",
       "    <tr>\n",
       "      <th>10</th>\n",
       "      <td>2009-01-01</td>\n",
       "      <td>US</td>\n",
       "      <td>515</td>\n",
       "    </tr>\n",
       "    <tr>\n",
       "      <th>11</th>\n",
       "      <td>2006-01-01</td>\n",
       "      <td>US</td>\n",
       "      <td>508</td>\n",
       "    </tr>\n",
       "    <tr>\n",
       "      <th>12</th>\n",
       "      <td>2008-01-01</td>\n",
       "      <td>US</td>\n",
       "      <td>507</td>\n",
       "    </tr>\n",
       "    <tr>\n",
       "      <th>13</th>\n",
       "      <td>1994-01-01</td>\n",
       "      <td>US</td>\n",
       "      <td>497</td>\n",
       "    </tr>\n",
       "    <tr>\n",
       "      <th>14</th>\n",
       "      <td>1987-01-01</td>\n",
       "      <td>US</td>\n",
       "      <td>496</td>\n",
       "    </tr>\n",
       "    <tr>\n",
       "      <th>15</th>\n",
       "      <td>1988-01-01</td>\n",
       "      <td>US</td>\n",
       "      <td>487</td>\n",
       "    </tr>\n",
       "    <tr>\n",
       "      <th>16</th>\n",
       "      <td>2003-01-01</td>\n",
       "      <td>US</td>\n",
       "      <td>483</td>\n",
       "    </tr>\n",
       "    <tr>\n",
       "      <th>17</th>\n",
       "      <td>1989-01-01</td>\n",
       "      <td>US</td>\n",
       "      <td>474</td>\n",
       "    </tr>\n",
       "    <tr>\n",
       "      <th>18</th>\n",
       "      <td>1985-01-01</td>\n",
       "      <td>US</td>\n",
       "      <td>473</td>\n",
       "    </tr>\n",
       "    <tr>\n",
       "      <th>19</th>\n",
       "      <td>1986-01-01</td>\n",
       "      <td>US</td>\n",
       "      <td>471</td>\n",
       "    </tr>\n",
       "    <tr>\n",
       "      <th>20</th>\n",
       "      <td>1984-01-01</td>\n",
       "      <td>US</td>\n",
       "      <td>471</td>\n",
       "    </tr>\n",
       "    <tr>\n",
       "      <th>21</th>\n",
       "      <td>2014-01-01</td>\n",
       "      <td>US</td>\n",
       "      <td>470</td>\n",
       "    </tr>\n",
       "    <tr>\n",
       "      <th>22</th>\n",
       "      <td>2016-01-01</td>\n",
       "      <td>US</td>\n",
       "      <td>463</td>\n",
       "    </tr>\n",
       "    <tr>\n",
       "      <th>23</th>\n",
       "      <td>2013-01-01</td>\n",
       "      <td>US</td>\n",
       "      <td>460</td>\n",
       "    </tr>\n",
       "    <tr>\n",
       "      <th>24</th>\n",
       "      <td>1993-01-01</td>\n",
       "      <td>US</td>\n",
       "      <td>459</td>\n",
       "    </tr>\n",
       "    <tr>\n",
       "      <th>25</th>\n",
       "      <td>1997-01-01</td>\n",
       "      <td>US</td>\n",
       "      <td>453</td>\n",
       "    </tr>\n",
       "    <tr>\n",
       "      <th>26</th>\n",
       "      <td>1976-01-01</td>\n",
       "      <td>US</td>\n",
       "      <td>450</td>\n",
       "    </tr>\n",
       "    <tr>\n",
       "      <th>27</th>\n",
       "      <td>2012-01-01</td>\n",
       "      <td>US</td>\n",
       "      <td>444</td>\n",
       "    </tr>\n",
       "    <tr>\n",
       "      <th>28</th>\n",
       "      <td>1983-01-01</td>\n",
       "      <td>US</td>\n",
       "      <td>444</td>\n",
       "    </tr>\n",
       "    <tr>\n",
       "      <th>29</th>\n",
       "      <td>2015-01-01</td>\n",
       "      <td>US</td>\n",
       "      <td>442</td>\n",
       "    </tr>\n",
       "    <tr>\n",
       "      <th>30</th>\n",
       "      <td>2002-01-01</td>\n",
       "      <td>US</td>\n",
       "      <td>442</td>\n",
       "    </tr>\n",
       "    <tr>\n",
       "      <th>31</th>\n",
       "      <td>2001-01-01</td>\n",
       "      <td>US</td>\n",
       "      <td>440</td>\n",
       "    </tr>\n",
       "    <tr>\n",
       "      <th>32</th>\n",
       "      <td>1999-01-01</td>\n",
       "      <td>US</td>\n",
       "      <td>437</td>\n",
       "    </tr>\n",
       "    <tr>\n",
       "      <th>33</th>\n",
       "      <td>1991-01-01</td>\n",
       "      <td>US</td>\n",
       "      <td>424</td>\n",
       "    </tr>\n",
       "    <tr>\n",
       "      <th>34</th>\n",
       "      <td>1977-01-01</td>\n",
       "      <td>US</td>\n",
       "      <td>424</td>\n",
       "    </tr>\n",
       "    <tr>\n",
       "      <th>35</th>\n",
       "      <td>1978-01-01</td>\n",
       "      <td>US</td>\n",
       "      <td>408</td>\n",
       "    </tr>\n",
       "    <tr>\n",
       "      <th>36</th>\n",
       "      <td>1975-01-01</td>\n",
       "      <td>US</td>\n",
       "      <td>408</td>\n",
       "    </tr>\n",
       "    <tr>\n",
       "      <th>37</th>\n",
       "      <td>1973-01-01</td>\n",
       "      <td>US</td>\n",
       "      <td>399</td>\n",
       "    </tr>\n",
       "    <tr>\n",
       "      <th>38</th>\n",
       "      <td>1998-01-01</td>\n",
       "      <td>US</td>\n",
       "      <td>387</td>\n",
       "    </tr>\n",
       "    <tr>\n",
       "      <th>39</th>\n",
       "      <td>1972-01-01</td>\n",
       "      <td>ISCGEM</td>\n",
       "      <td>369</td>\n",
       "    </tr>\n",
       "    <tr>\n",
       "      <th>40</th>\n",
       "      <td>1971-01-01</td>\n",
       "      <td>ISCGEM</td>\n",
       "      <td>365</td>\n",
       "    </tr>\n",
       "    <tr>\n",
       "      <th>41</th>\n",
       "      <td>1974-01-01</td>\n",
       "      <td>US</td>\n",
       "      <td>360</td>\n",
       "    </tr>\n",
       "    <tr>\n",
       "      <th>42</th>\n",
       "      <td>1979-01-01</td>\n",
       "      <td>US</td>\n",
       "      <td>350</td>\n",
       "    </tr>\n",
       "    <tr>\n",
       "      <th>43</th>\n",
       "      <td>1982-01-01</td>\n",
       "      <td>US</td>\n",
       "      <td>345</td>\n",
       "    </tr>\n",
       "    <tr>\n",
       "      <th>44</th>\n",
       "      <td>1980-01-01</td>\n",
       "      <td>US</td>\n",
       "      <td>337</td>\n",
       "    </tr>\n",
       "    <tr>\n",
       "      <th>45</th>\n",
       "      <td>1970-01-01</td>\n",
       "      <td>ISCGEM</td>\n",
       "      <td>327</td>\n",
       "    </tr>\n",
       "    <tr>\n",
       "      <th>46</th>\n",
       "      <td>1965-01-01</td>\n",
       "      <td>ISCGEM</td>\n",
       "      <td>322</td>\n",
       "    </tr>\n",
       "    <tr>\n",
       "      <th>47</th>\n",
       "      <td>1981-01-01</td>\n",
       "      <td>US</td>\n",
       "      <td>313</td>\n",
       "    </tr>\n",
       "    <tr>\n",
       "      <th>48</th>\n",
       "      <td>1969-01-01</td>\n",
       "      <td>ISCGEM</td>\n",
       "      <td>310</td>\n",
       "    </tr>\n",
       "    <tr>\n",
       "      <th>49</th>\n",
       "      <td>1968-01-01</td>\n",
       "      <td>ISCGEM</td>\n",
       "      <td>290</td>\n",
       "    </tr>\n",
       "    <tr>\n",
       "      <th>50</th>\n",
       "      <td>1967-01-01</td>\n",
       "      <td>ISCGEM</td>\n",
       "      <td>238</td>\n",
       "    </tr>\n",
       "    <tr>\n",
       "      <th>51</th>\n",
       "      <td>1966-01-01</td>\n",
       "      <td>ISCGEM</td>\n",
       "      <td>223</td>\n",
       "    </tr>\n",
       "  </tbody>\n",
       "</table>\n",
       "</div>"
      ],
      "text/plain": [
       "         YEAR  Source  COUNT\n",
       "0  2011-01-01      US    711\n",
       "1  2007-01-01      US    606\n",
       "2  1995-01-01      US    587\n",
       "3  2004-01-01      US    567\n",
       "4  2010-01-01      US    553\n",
       "5  2000-01-01      US    551\n",
       "6  1996-01-01      US    540\n",
       "7  2005-01-01      US    532\n",
       "8  1990-01-01      US    524\n",
       "9  1992-01-01      US    518\n",
       "10 2009-01-01      US    515\n",
       "11 2006-01-01      US    508\n",
       "12 2008-01-01      US    507\n",
       "13 1994-01-01      US    497\n",
       "14 1987-01-01      US    496\n",
       "15 1988-01-01      US    487\n",
       "16 2003-01-01      US    483\n",
       "17 1989-01-01      US    474\n",
       "18 1985-01-01      US    473\n",
       "19 1986-01-01      US    471\n",
       "20 1984-01-01      US    471\n",
       "21 2014-01-01      US    470\n",
       "22 2016-01-01      US    463\n",
       "23 2013-01-01      US    460\n",
       "24 1993-01-01      US    459\n",
       "25 1997-01-01      US    453\n",
       "26 1976-01-01      US    450\n",
       "27 2012-01-01      US    444\n",
       "28 1983-01-01      US    444\n",
       "29 2015-01-01      US    442\n",
       "30 2002-01-01      US    442\n",
       "31 2001-01-01      US    440\n",
       "32 1999-01-01      US    437\n",
       "33 1991-01-01      US    424\n",
       "34 1977-01-01      US    424\n",
       "35 1978-01-01      US    408\n",
       "36 1975-01-01      US    408\n",
       "37 1973-01-01      US    399\n",
       "38 1998-01-01      US    387\n",
       "39 1972-01-01  ISCGEM    369\n",
       "40 1971-01-01  ISCGEM    365\n",
       "41 1974-01-01      US    360\n",
       "42 1979-01-01      US    350\n",
       "43 1982-01-01      US    345\n",
       "44 1980-01-01      US    337\n",
       "45 1970-01-01  ISCGEM    327\n",
       "46 1965-01-01  ISCGEM    322\n",
       "47 1981-01-01      US    313\n",
       "48 1969-01-01  ISCGEM    310\n",
       "49 1968-01-01  ISCGEM    290\n",
       "50 1967-01-01  ISCGEM    238\n",
       "51 1966-01-01  ISCGEM    223"
      ]
     },
     "execution_count": 189,
     "metadata": {},
     "output_type": "execute_result"
    }
   ],
   "source": [
    "yearwise_count_Source[yearwise_count_Source.COUNT >=100]"
   ]
  },
  {
   "cell_type": "markdown",
   "metadata": {},
   "source": [
    "## View the charts\n",
    "Below we will visualize whether with time there was increase in sources"
   ]
  },
  {
   "cell_type": "code",
   "execution_count": 190,
   "metadata": {},
   "outputs": [
    {
     "data": {
      "image/png": "[encoded data removed]",
      "text/plain": [
       "<Figure size 1000x500 with 12 Axes>"
      ]
     },
     "metadata": {},
     "output_type": "display_data"
    },
    {
     "data": {
      "text/plain": [
       "<ggplot: (129146312189)>"
      ]
     },
     "execution_count": 190,
     "metadata": {},
     "output_type": "execute_result"
    }
   ],
   "source": [
    "(ggplot(data=yearwise_count_Source)\n",
    "+ aes(x='YEAR', y='COUNT', fill=\"Source\")\n",
    "+ geom_col()\n",
    "+ facet_wrap(\"Source\", scales=\"free_y\")\n",
    "+ theme(axis_text_x=element_text(angle=90), panel_spacing_x=0.5, figure_size=(10,5))\n",
    "+ labs(title=\"Variation of Count of Source over Years\")\n",
    ")"
   ]
  },
  {
   "cell_type": "markdown",
   "metadata": {},
   "source": [
    "<b>Inference: </b>From the above plot it is seen that with the advent of years no such Source is contributing as such to the increase in earthquakes. The Source \"US\" shows consistently active from 1970-2010 and beyond with more or less uniform distribution. Thus the rise in number of earthquakes changes in Magnitude Type is probably playing as one of the key factors in measuring and reporting the earthquakes."
   ]
  },
  {
   "cell_type": "markdown",
   "metadata": {},
   "source": [
    "# Conclusion\n",
    "From the above analysis we can conclude that with the advent of time changes and sophistication in Magnitude type is playing a key role in the rise in number of earthquakes."
   ]
  },
  {
   "cell_type": "code",
   "execution_count": null,
   "metadata": {},
   "outputs": [],
   "source": []
  }
 ],
 "metadata": {
  "kernelspec": {
   "display_name": "Python 3",
   "language": "python",
   "name": "python3"
  },
  "language_info": {
   "codemirror_mode": {
    "name": "ipython",
    "version": 3
   },
   "file_extension": ".py",
   "mimetype": "text/x-python",
   "name": "python",
   "nbconvert_exporter": "python",
   "pygments_lexer": "ipython3",
   "version": "3.7.1"
  }
 },
 "nbformat": 4,
 "nbformat_minor": 4
}
