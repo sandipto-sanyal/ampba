{
 "cells": [
  {
   "cell_type": "markdown",
   "metadata": {},
   "source": [
    "# Name: Sandipto Sanyal\n",
    "# PGID: 12010004"
   ]
  },
  {
   "cell_type": "markdown",
   "metadata": {},
   "source": [
    "# Requirements\n",
    "Used Chrome driver for version Chrome version 83.<br>\n",
    "For other chrome versions Download the related driver from: https://chromedriver.chromium.org/downloads"
   ]
  },
  {
   "cell_type": "markdown",
   "metadata": {},
   "source": [
    "# Packages required\n",
    "Uncomment and run if not the below packages are installed"
   ]
  },
  {
   "cell_type": "code",
   "execution_count": 1,
   "metadata": {},
   "outputs": [],
   "source": [
    "#!pip install selenium\n",
    "#!pip install beautifulsoup4\n",
    "#!pip install pandas"
   ]
  },
  {
   "cell_type": "markdown",
   "metadata": {},
   "source": [
    "# Import libraries"
   ]
  },
  {
   "cell_type": "code",
   "execution_count": 2,
   "metadata": {},
   "outputs": [],
   "source": [
    "import time\n",
    "from selenium import webdriver\n",
    "from bs4 import BeautifulSoup\n",
    "import bs4\n",
    "import re\n",
    "import pandas as pd\n",
    "from selenium.common import exceptions\n",
    "import warnings"
   ]
  },
  {
   "cell_type": "markdown",
   "metadata": {},
   "source": [
    "# User configurable variables\n",
    "search_criteria and pages_to_scan are user configurable. They denote the course names and number of pages to scan for each course name.<br>\n",
    "To reduce the running time we are keeping number of pages to perform extract data as 25."
   ]
  },
  {
   "cell_type": "code",
   "execution_count": 3,
   "metadata": {},
   "outputs": [],
   "source": [
    "search_criteria = 'Information Technology'\n",
    "location_criteria = 'Hyderabad'\n",
    "pages_to_scan = 25"
   ]
  },
  {
   "cell_type": "markdown",
   "metadata": {},
   "source": [
    "# Launch the chrome browser"
   ]
  },
  {
   "cell_type": "code",
   "execution_count": 4,
   "metadata": {},
   "outputs": [],
   "source": [
    "options = webdriver.ChromeOptions()\n",
    "options.add_argument('--ignore-certificate-errors')\n",
    "options.add_argument(\"--test-type\")\n",
    "locationOfWebdriver = \"./chromedriver_win32/chromedriver.exe\"\n",
    "\n",
    "driver = webdriver.Chrome(locationOfWebdriver)"
   ]
  },
  {
   "cell_type": "markdown",
   "metadata": {},
   "source": [
    "# Visit Naukri.com"
   ]
  },
  {
   "cell_type": "code",
   "execution_count": 5,
   "metadata": {},
   "outputs": [],
   "source": [
    "driver.get('https://www.naukri.com/')\n",
    "time.sleep(5)"
   ]
  },
  {
   "cell_type": "markdown",
   "metadata": {},
   "source": [
    "# Search for jobs through the search bar"
   ]
  },
  {
   "cell_type": "code",
   "execution_count": 6,
   "metadata": {},
   "outputs": [],
   "source": [
    "def search_the_job(search_criteria: str, \n",
    "                      location_criteria: str):\n",
    "    '''\n",
    "    Run the website actions like scrolling to load the price tags\n",
    "    '''\n",
    "    def find_the_course_search_box():\n",
    "        '''\n",
    "        Target the search box using native Javascript and interact with it.\n",
    "        Highlevel selenium API was not able to interact with the searchbox\n",
    "        '''\n",
    "        course_search_box = driver.find_element_by_xpath('//input[@name=\"keyword\" \\\n",
    "                                                          ]')\n",
    "        location_search_box = driver.find_element_by_xpath('//input[@name=\"location\" \\\n",
    "                                                          ]')\n",
    "        # selenium highlevel API was not able to interact with the search box\n",
    "        # so went into javascript level to\n",
    "        js_actions = \"arguments[0].value='{}';arguments[1].value = '{}'\".format(search_criteria, location_criteria)\n",
    "        driver.execute_script(js_actions, \n",
    "                              course_search_box,\n",
    "                              location_search_box\n",
    "                             )\n",
    "        course_search_box.submit()\n",
    "        \n",
    "    # Now do a new search for the course in search bar\n",
    "    course_to_search = search_criteria\n",
    "    find_the_course_search_box()\n",
    "    time.sleep(3)"
   ]
  },
  {
   "cell_type": "code",
   "execution_count": 7,
   "metadata": {},
   "outputs": [],
   "source": [
    "search_the_job(search_criteria, location_criteria)"
   ]
  },
  {
   "cell_type": "markdown",
   "metadata": {},
   "source": [
    "# Go to the next page\n",
    "Below we define a method to go to the next page"
   ]
  },
  {
   "cell_type": "code",
   "execution_count": 8,
   "metadata": {},
   "outputs": [],
   "source": [
    "def go_to_next_page():\n",
    "    print('going to next page...')\n",
    "    next_button = driver.find_element_by_xpath('//a[@class=\"fright fs14 btn-secondary br2\"]')\n",
    "    js_actions = \"arguments[0].click()\"\n",
    "    driver.execute_script(js_actions, \n",
    "                          next_button,\n",
    "                         )\n",
    "    time.sleep(10)"
   ]
  },
  {
   "cell_type": "markdown",
   "metadata": {},
   "source": [
    "# Loop with all the search criteria and the individual individual whole page to extract course related information\n",
    "Go to the automated chrome browser to view how selenium is putting the search criteria one by one"
   ]
  },
  {
   "cell_type": "markdown",
   "metadata": {},
   "source": [
    "## Clean the skills required tag\n",
    "This is to remove the tag elements of the skills required section of each job to join as strings."
   ]
  },
  {
   "cell_type": "code",
   "execution_count": 9,
   "metadata": {},
   "outputs": [],
   "source": [
    "def clean_skills_required(skillset_tag_parent_tag: bs4.element.Tag):\n",
    "    '''\n",
    "    This method parses the elements under tag: <ul class=\"tags has-description\">\n",
    "    skillset_tag_parent_tag: bs4 element\n",
    "    '''\n",
    "    skills_tags = skillset_tag_parent_tag.find_all('li',class_='fleft fs12 grey-text lh16 dot')\n",
    "    skills = []\n",
    "    for skill_tag in skills_tags:\n",
    "        skills.append(skill_tag.get_text())\n",
    "    return ','.join(skills)"
   ]
  },
  {
   "cell_type": "markdown",
   "metadata": {},
   "source": [
    "## Columns we will be extracting\n",
    "Since naukri.com provides the following features of a particular job, we are extracting them as it is:<br>\n",
    "'search_criteria', 'job_title',\n",
    "'company_name', \n",
    "'experience', \n",
    "'salary', \n",
    "'location', \n",
    "'experience_description', \n",
    "'skills_required', \n",
    "'days_posted'"
   ]
  },
  {
   "cell_type": "code",
   "execution_count": 10,
   "metadata": {},
   "outputs": [
    {
     "name": "stdout",
     "output_type": "stream",
     "text": [
      "URL scraping: https://www.naukri.com/information-technology-jobs-in-hyderabad-secunderabad\n",
      "Number of jobs found on page 1: 20\n",
      "going to next page...\n",
      "URL scraping: https://www.naukri.com/information-technology-jobs-in-hyderabad-secunderabad-2\n",
      "Number of jobs found on page 2: 20\n",
      "going to next page...\n",
      "URL scraping: https://www.naukri.com/information-technology-jobs-in-hyderabad-secunderabad-3\n",
      "Number of jobs found on page 3: 20\n",
      "going to next page...\n",
      "URL scraping: https://www.naukri.com/information-technology-jobs-in-hyderabad-secunderabad-4\n",
      "Number of jobs found on page 4: 20\n",
      "going to next page...\n",
      "URL scraping: https://www.naukri.com/information-technology-jobs-in-hyderabad-secunderabad-5\n",
      "Number of jobs found on page 5: 20\n",
      "going to next page...\n",
      "URL scraping: https://www.naukri.com/information-technology-jobs-in-hyderabad-secunderabad-6\n",
      "Number of jobs found on page 6: 20\n",
      "going to next page...\n",
      "URL scraping: https://www.naukri.com/information-technology-jobs-in-hyderabad-secunderabad-7\n",
      "Number of jobs found on page 7: 20\n",
      "going to next page...\n",
      "URL scraping: https://www.naukri.com/information-technology-jobs-in-hyderabad-secunderabad-8\n",
      "Number of jobs found on page 8: 20\n",
      "going to next page...\n",
      "URL scraping: https://www.naukri.com/information-technology-jobs-in-hyderabad-secunderabad-9\n",
      "Number of jobs found on page 9: 20\n",
      "going to next page...\n",
      "URL scraping: https://www.naukri.com/information-technology-jobs-in-hyderabad-secunderabad-10\n",
      "Number of jobs found on page 10: 20\n",
      "going to next page...\n",
      "URL scraping: https://www.naukri.com/information-technology-jobs-in-hyderabad-secunderabad-11\n",
      "Number of jobs found on page 11: 20\n",
      "going to next page...\n",
      "URL scraping: https://www.naukri.com/information-technology-jobs-in-hyderabad-secunderabad-12\n",
      "Number of jobs found on page 12: 20\n",
      "going to next page...\n",
      "URL scraping: https://www.naukri.com/information-technology-jobs-in-hyderabad-secunderabad-13\n",
      "Number of jobs found on page 13: 20\n",
      "going to next page...\n",
      "URL scraping: https://www.naukri.com/information-technology-jobs-in-hyderabad-secunderabad-14\n",
      "Number of jobs found on page 14: 20\n",
      "going to next page...\n",
      "URL scraping: https://www.naukri.com/information-technology-jobs-in-hyderabad-secunderabad-15\n",
      "Number of jobs found on page 15: 20\n",
      "going to next page...\n",
      "URL scraping: https://www.naukri.com/information-technology-jobs-in-hyderabad-secunderabad-16\n",
      "Number of jobs found on page 16: 20\n",
      "going to next page...\n",
      "URL scraping: https://www.naukri.com/information-technology-jobs-in-hyderabad-secunderabad-17\n",
      "Number of jobs found on page 17: 17\n",
      "going to next page...\n",
      "URL scraping: https://www.naukri.com/information-technology-jobs-in-hyderabad-secunderabad-17\n",
      "Number of jobs found on page 18: 17\n",
      "going to next page...\n",
      "URL scraping: https://www.naukri.com/information-technology-jobs-in-hyderabad-secunderabad-17\n",
      "Number of jobs found on page 19: 17\n",
      "going to next page...\n",
      "URL scraping: https://www.naukri.com/information-technology-jobs-in-hyderabad-secunderabad-17\n",
      "Number of jobs found on page 20: 17\n",
      "going to next page...\n",
      "URL scraping: https://www.naukri.com/information-technology-jobs-in-hyderabad-secunderabad-17\n",
      "Number of jobs found on page 21: 17\n",
      "going to next page...\n",
      "URL scraping: https://www.naukri.com/information-technology-jobs-in-hyderabad-secunderabad-17\n",
      "Number of jobs found on page 22: 17\n",
      "going to next page...\n",
      "URL scraping: https://www.naukri.com/information-technology-jobs-in-hyderabad-secunderabad-17\n",
      "Number of jobs found on page 23: 17\n",
      "going to next page...\n",
      "URL scraping: https://www.naukri.com/information-technology-jobs-in-hyderabad-secunderabad-17\n",
      "Number of jobs found on page 24: 17\n",
      "going to next page...\n",
      "URL scraping: https://www.naukri.com/information-technology-jobs-in-hyderabad-secunderabad-17\n",
      "Number of jobs found on page 25: 17\n",
      "going to next page...\n",
      "Search process ended\n"
     ]
    }
   ],
   "source": [
    "data = {'search_criteria':[],\n",
    "        'job_title':[],\n",
    "        'company_name':[],\n",
    "        'experience':[],\n",
    "        'salary':[],\n",
    "        'location':[],\n",
    "        'experience_description':[],\n",
    "        'skills_required':[],\n",
    "        'days_posted':[],\n",
    "       }\n",
    "for page in range(1,pages_to_scan+1):\n",
    "    print('URL scraping: {}'.format(driver.current_url))\n",
    "    # get the page xml\n",
    "    soup = BeautifulSoup(driver.page_source, 'lxml')\n",
    "    # list the jobs\n",
    "    courses = soup.find_all('article',class_='jobTuple bgWhite br4 mb-8')\n",
    "    print('Number of jobs found on page {}: {}'.format(page, len(courses)))\n",
    "    for course in courses:\n",
    "        try: \n",
    "            data['search_criteria'].append(search_criteria)\n",
    "        except: \n",
    "            data['search_criteria'].append(None)\n",
    "        try:\n",
    "            data['job_title'].append(course.div.div.a.get_text()); \n",
    "        except: \n",
    "            data['job_title'].append(None)\n",
    "        try: \n",
    "            data['company_name'].append(course.find('div',class_='mt-7 companyInfo subheading lh16').a.get_text()); \n",
    "        except: \n",
    "            data['company_name'].append(None)\n",
    "        try: \n",
    "            data['experience'].append(course.find('ul',class_='mt-7').find('li', class_='fleft grey-text br2 placeHolderLi experience').span.get_text()); \n",
    "        except: \n",
    "            data['experience'].append(None)\n",
    "        try: \n",
    "            data['salary'].append(course.find('ul',class_='mt-7').find('li', class_='fleft grey-text br2 placeHolderLi salary').span.get_text()); \n",
    "        except: \n",
    "            data['salary'].append(None)\n",
    "        try: \n",
    "            data['location'].append(course.find('ul',class_='mt-7').find('li', class_='fleft grey-text br2 placeHolderLi location').span.get_text()); \n",
    "        except: \n",
    "            data['location'].append(None)\n",
    "        try: \n",
    "            data['experience_description'].append(course.find('div',class_='job-description fs12 grey-text').get_text());\n",
    "        except: \n",
    "            data['experience_description'].append(None)\n",
    "        try:\n",
    "            skills = clean_skills_required(course.find('ul',class_='tags has-description'))\n",
    "            data['skills_required'].append(skills);\n",
    "        except: \n",
    "            data['skills_required'].append(None)\n",
    "        try: \n",
    "            data['days_posted'].append(course.find('div', class_='jobTupleFooter mt-20').div.span.get_text()); \n",
    "        except: \n",
    "            data['days_posted'].append(None)\n",
    "    try:\n",
    "        # visit next page\n",
    "        go_to_next_page()\n",
    "    except:\n",
    "        try:\n",
    "            go_to_next_page()\n",
    "        except exceptions.ElementClickInterceptedException:\n",
    "            try:\n",
    "                go_to_next_page()\n",
    "            except Exception as e:\n",
    "                warnings.warn(\"Warning........... Couldn\\'t navigate to next page: Exception occured: {}\".format(e))\n",
    "                pass\n",
    "print('Search process ended')"
   ]
  },
  {
   "cell_type": "code",
   "execution_count": 11,
   "metadata": {
    "scrolled": true
   },
   "outputs": [
    {
     "data": {
      "text/html": [
       "<div>\n",
       "<style scoped>\n",
       "    .dataframe tbody tr th:only-of-type {\n",
       "        vertical-align: middle;\n",
       "    }\n",
       "\n",
       "    .dataframe tbody tr th {\n",
       "        vertical-align: top;\n",
       "    }\n",
       "\n",
       "    .dataframe thead th {\n",
       "        text-align: right;\n",
       "    }\n",
       "</style>\n",
       "<table border=\"1\" class=\"dataframe\">\n",
       "  <thead>\n",
       "    <tr style=\"text-align: right;\">\n",
       "      <th></th>\n",
       "      <th>search_criteria</th>\n",
       "      <th>job_title</th>\n",
       "      <th>company_name</th>\n",
       "      <th>experience</th>\n",
       "      <th>salary</th>\n",
       "      <th>location</th>\n",
       "      <th>experience_description</th>\n",
       "      <th>skills_required</th>\n",
       "      <th>days_posted</th>\n",
       "    </tr>\n",
       "  </thead>\n",
       "  <tbody>\n",
       "    <tr>\n",
       "      <th>0</th>\n",
       "      <td>Information Technology</td>\n",
       "      <td>Information Technology (.Net)</td>\n",
       "      <td>Cognia Technologies</td>\n",
       "      <td>2-4 Yrs</td>\n",
       "      <td>Not disclosed</td>\n",
       "      <td>Hyderabad</td>\n",
       "      <td>Information Technology (.Net) B.Tech , BBA , ...</td>\n",
       "      <td>assembly language,Six Sigma,JavaScript,Real Ti...</td>\n",
       "      <td>30+ Days Ago</td>\n",
       "    </tr>\n",
       "    <tr>\n",
       "      <th>1</th>\n",
       "      <td>Information Technology</td>\n",
       "      <td>GENERAL MANAGER (INFORMATION TECHNOLOGY)</td>\n",
       "      <td>Hyderabad Race Club</td>\n",
       "      <td>10-15 Yrs</td>\n",
       "      <td>Not disclosed</td>\n",
       "      <td>Hyderabad</td>\n",
       "      <td># Job Code : JOB3090 Job Description Hyderaba...</td>\n",
       "      <td>INFORMATION TECHNOLOGY,General Manager IT,Debu...</td>\n",
       "      <td>30+ Days Ago</td>\n",
       "    </tr>\n",
       "    <tr>\n",
       "      <th>2</th>\n",
       "      <td>Information Technology</td>\n",
       "      <td>GENERAL MANAGER (INFORMATION TECHNOLOGY)</td>\n",
       "      <td>Hyderabad Race Club</td>\n",
       "      <td>10-15 Yrs</td>\n",
       "      <td>Not disclosed</td>\n",
       "      <td>Hyderabad</td>\n",
       "      <td>GENERAL MANAGER (INFORMATION TECHNOLOGY) Job ...</td>\n",
       "      <td>Computer science,management information system...</td>\n",
       "      <td>30+ Days Ago</td>\n",
       "    </tr>\n",
       "    <tr>\n",
       "      <th>3</th>\n",
       "      <td>Information Technology</td>\n",
       "      <td>Information Technology</td>\n",
       "      <td>TERRA TECHNOLOGY</td>\n",
       "      <td>1-3 Yrs</td>\n",
       "      <td>Not disclosed</td>\n",
       "      <td>Hyderabad</td>\n",
       "      <td>Knowledge and experience with ticketing tools...</td>\n",
       "      <td>Unix,Service management,global operations,Linu...</td>\n",
       "      <td>30+ Days Ago</td>\n",
       "    </tr>\n",
       "    <tr>\n",
       "      <th>4</th>\n",
       "      <td>Information Technology</td>\n",
       "      <td>Information Technology</td>\n",
       "      <td>TERRA TECHNOLOGY</td>\n",
       "      <td>1-3 Yrs</td>\n",
       "      <td>Not disclosed</td>\n",
       "      <td>Hyderabad</td>\n",
       "      <td>•Knowledge and experience with ticketing tool...</td>\n",
       "      <td>Unix,Service management,global operations,Data...</td>\n",
       "      <td>30+ Days Ago</td>\n",
       "    </tr>\n",
       "  </tbody>\n",
       "</table>\n",
       "</div>"
      ],
      "text/plain": [
       "          search_criteria                                 job_title  \\\n",
       "0  Information Technology             Information Technology (.Net)   \n",
       "1  Information Technology  GENERAL MANAGER (INFORMATION TECHNOLOGY)   \n",
       "2  Information Technology  GENERAL MANAGER (INFORMATION TECHNOLOGY)   \n",
       "3  Information Technology                    Information Technology   \n",
       "4  Information Technology                    Information Technology   \n",
       "\n",
       "          company_name experience         salary   location  \\\n",
       "0  Cognia Technologies    2-4 Yrs  Not disclosed  Hyderabad   \n",
       "1  Hyderabad Race Club  10-15 Yrs  Not disclosed  Hyderabad   \n",
       "2  Hyderabad Race Club  10-15 Yrs  Not disclosed  Hyderabad   \n",
       "3     TERRA TECHNOLOGY    1-3 Yrs  Not disclosed  Hyderabad   \n",
       "4     TERRA TECHNOLOGY    1-3 Yrs  Not disclosed  Hyderabad   \n",
       "\n",
       "                              experience_description  \\\n",
       "0   Information Technology (.Net) B.Tech , BBA , ...   \n",
       "1   # Job Code : JOB3090 Job Description Hyderaba...   \n",
       "2   GENERAL MANAGER (INFORMATION TECHNOLOGY) Job ...   \n",
       "3   Knowledge and experience with ticketing tools...   \n",
       "4   •Knowledge and experience with ticketing tool...   \n",
       "\n",
       "                                     skills_required   days_posted  \n",
       "0  assembly language,Six Sigma,JavaScript,Real Ti...  30+ Days Ago  \n",
       "1  INFORMATION TECHNOLOGY,General Manager IT,Debu...  30+ Days Ago  \n",
       "2  Computer science,management information system...  30+ Days Ago  \n",
       "3  Unix,Service management,global operations,Linu...  30+ Days Ago  \n",
       "4  Unix,Service management,global operations,Data...  30+ Days Ago  "
      ]
     },
     "metadata": {},
     "output_type": "display_data"
    }
   ],
   "source": [
    "df = pd.DataFrame(data=data)\n",
    "display(df.head())\n",
    "df.to_csv('Hyderabad_Sandipto_Sanyal.csv',index=False)"
   ]
  },
  {
   "cell_type": "markdown",
   "metadata": {},
   "source": [
    "# Stop the driver"
   ]
  },
  {
   "cell_type": "code",
   "execution_count": 12,
   "metadata": {},
   "outputs": [],
   "source": [
    "driver.quit()"
   ]
  },
  {
   "cell_type": "code",
   "execution_count": null,
   "metadata": {},
   "outputs": [],
   "source": []
  }
 ],
 "metadata": {
  "kernelspec": {
   "display_name": "Python 3",
   "language": "python",
   "name": "python3"
  },
  "language_info": {
   "codemirror_mode": {
    "name": "ipython",
    "version": 3
   },
   "file_extension": ".py",
   "mimetype": "text/x-python",
   "name": "python",
   "nbconvert_exporter": "python",
   "pygments_lexer": "ipython3",
   "version": "3.7.6"
  }
 },
 "nbformat": 4,
 "nbformat_minor": 4
}
