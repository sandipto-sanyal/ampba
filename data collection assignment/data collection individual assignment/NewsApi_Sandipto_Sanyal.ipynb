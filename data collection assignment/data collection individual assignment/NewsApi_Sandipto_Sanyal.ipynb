{
 "cells": [
  {
   "cell_type": "markdown",
   "metadata": {},
   "source": [
    "# Name: Sandipto Sanyal\n",
    "# PGID: 12010004"
   ]
  },
  {
   "cell_type": "markdown",
   "metadata": {},
   "source": [
    "# Import the required libraries"
   ]
  },
  {
   "cell_type": "code",
   "execution_count": 1,
   "metadata": {},
   "outputs": [],
   "source": [
    "import requests\n",
    "import json\n",
    "import pandas as pd"
   ]
  },
  {
   "cell_type": "markdown",
   "metadata": {},
   "source": [
    "# Hit the URL\n",
    "As per the documentation the URL has to be in the below format to extract out the necessary details"
   ]
  },
  {
   "cell_type": "code",
   "execution_count": 2,
   "metadata": {},
   "outputs": [],
   "source": [
    "url = ('http://newsapi.org/v2/everything?'\n",
    "       'q=Corona Virus&'\n",
    "       'language=en&'\n",
    "       'from=2020-08-01&'\n",
    "       'sortBy=publishedAt&'\n",
    "       'pageSize=100&'\n",
    "       'apiKey=98af07d5f1054ba9b1589cf5da1b6f59'\n",
    "      )\n",
    "response = requests.get(url)"
   ]
  },
  {
   "cell_type": "markdown",
   "metadata": {},
   "source": [
    "# Dump the response to text file"
   ]
  },
  {
   "cell_type": "code",
   "execution_count": 3,
   "metadata": {},
   "outputs": [],
   "source": [
    "with open('temp.txt','w') as f:\n",
    "    json.dump(response.json(), f)"
   ]
  },
  {
   "cell_type": "markdown",
   "metadata": {},
   "source": [
    "# Create the dataframe from the JSON"
   ]
  },
  {
   "cell_type": "markdown",
   "metadata": {},
   "source": [
    "## Declare the dataframe schema"
   ]
  },
  {
   "cell_type": "code",
   "execution_count": 4,
   "metadata": {},
   "outputs": [],
   "source": [
    "data = {'source_id':[],\n",
    "        'source_name':[],\n",
    "        'author':[],\n",
    "        'title':[],\n",
    "        'description':[],\n",
    "        'content':[]\n",
    "       }\n",
    "response_json = response.json()"
   ]
  },
  {
   "cell_type": "markdown",
   "metadata": {},
   "source": [
    "## Loop all the articles returned in our response to load them"
   ]
  },
  {
   "cell_type": "code",
   "execution_count": 5,
   "metadata": {},
   "outputs": [],
   "source": [
    "for article in response_json['articles']:\n",
    "    data['source_id'].append(article.get('source').get('id'))\n",
    "    data['source_name'].append(article.get('source').get('name'))\n",
    "    data['author'].append(article.get('author'))\n",
    "    data['title'].append(article.get('title'))\n",
    "    data['description'].append(article.get('description'))\n",
    "    data['content'].append(article.get('content'))"
   ]
  },
  {
   "cell_type": "code",
   "execution_count": 6,
   "metadata": {},
   "outputs": [
    {
     "data": {
      "text/html": [
       "<div>\n",
       "<style scoped>\n",
       "    .dataframe tbody tr th:only-of-type {\n",
       "        vertical-align: middle;\n",
       "    }\n",
       "\n",
       "    .dataframe tbody tr th {\n",
       "        vertical-align: top;\n",
       "    }\n",
       "\n",
       "    .dataframe thead th {\n",
       "        text-align: right;\n",
       "    }\n",
       "</style>\n",
       "<table border=\"1\" class=\"dataframe\">\n",
       "  <thead>\n",
       "    <tr style=\"text-align: right;\">\n",
       "      <th></th>\n",
       "      <th>source_id</th>\n",
       "      <th>source_name</th>\n",
       "      <th>author</th>\n",
       "      <th>title</th>\n",
       "      <th>description</th>\n",
       "      <th>content</th>\n",
       "    </tr>\n",
       "  </thead>\n",
       "  <tbody>\n",
       "    <tr>\n",
       "      <th>0</th>\n",
       "      <td>None</td>\n",
       "      <td>Belloflostsouls.net</td>\n",
       "      <td>Thomas aka Goatboy</td>\n",
       "      <td>Goatboy’s Warhammer 40k : FAQtastic Loose Ends</td>\n",
       "      <td>Goatboy here with some unanswered questions fr...</td>\n",
       "      <td>Goatboy here with some unanswered questions fr...</td>\n",
       "    </tr>\n",
       "    <tr>\n",
       "      <th>1</th>\n",
       "      <td>None</td>\n",
       "      <td>Daily Mail</td>\n",
       "      <td>By Levi Parsons For Daily Mail Australia</td>\n",
       "      <td>Teachers are the most likely profession to see...</td>\n",
       "      <td>Teachers in coronavirus-hit Victoria have lodg...</td>\n",
       "      <td>Teachers in coronavirus-hit Victoria have lodg...</td>\n",
       "    </tr>\n",
       "    <tr>\n",
       "      <th>2</th>\n",
       "      <td>the-hindu</td>\n",
       "      <td>The Hindu</td>\n",
       "      <td>Andhra Pradesh Bureau</td>\n",
       "      <td>Andhra Pradesh steps up its fight against coro...</td>\n",
       "      <td>Here is a look at what the government of Andhr...</td>\n",
       "      <td>Here is a look at what the government of Andhr...</td>\n",
       "    </tr>\n",
       "    <tr>\n",
       "      <th>3</th>\n",
       "      <td>None</td>\n",
       "      <td>Moneycontrol</td>\n",
       "      <td>None</td>\n",
       "      <td>When COVID-19 vaccines become available, will ...</td>\n",
       "      <td>Since health policies cover hospitalisation, o...</td>\n",
       "      <td>The world is waiting with bated breath for a v...</td>\n",
       "    </tr>\n",
       "    <tr>\n",
       "      <th>4</th>\n",
       "      <td>None</td>\n",
       "      <td>All India Radio</td>\n",
       "      <td>None</td>\n",
       "      <td>News Services Division, All India Radio News -...</td>\n",
       "      <td>News Services Division, All India Radio News  ...</td>\n",
       "      <td>THE HEADLINES\\r\\n:-\\r\\n&lt;ul&gt;&lt;li&gt; Prime Minister...</td>\n",
       "    </tr>\n",
       "    <tr>\n",
       "      <th>...</th>\n",
       "      <td>...</td>\n",
       "      <td>...</td>\n",
       "      <td>...</td>\n",
       "      <td>...</td>\n",
       "      <td>...</td>\n",
       "      <td>...</td>\n",
       "    </tr>\n",
       "    <tr>\n",
       "      <th>95</th>\n",
       "      <td>None</td>\n",
       "      <td>Livejournal.com</td>\n",
       "      <td>toxic_illusion</td>\n",
       "      <td>ONTD Roundup</td>\n",
       "      <td>For Thursday, August 6, 2020:&lt;ul&gt;&lt;li&gt;SuperM an...</td>\n",
       "      <td>i'm 5 months sober from alcohol today!!!about ...</td>\n",
       "    </tr>\n",
       "    <tr>\n",
       "      <th>96</th>\n",
       "      <td>spiegel-online</td>\n",
       "      <td>Spiegel Online</td>\n",
       "      <td>Alexander Chernyshev, Wu Dandan, Georg Fahrion...</td>\n",
       "      <td>Corona: Cutting Corners in the Race for a Vaccine</td>\n",
       "      <td>Russia, China and India are racing to find a c...</td>\n",
       "      <td>When Alexander Ginzburg injected himself with ...</td>\n",
       "    </tr>\n",
       "    <tr>\n",
       "      <th>97</th>\n",
       "      <td>None</td>\n",
       "      <td>Slashdot.org</td>\n",
       "      <td>Anonymous Coward</td>\n",
       "      <td>Personal Care gifts for Staff</td>\n",
       "      <td>Even though we are right in the middle of the ...</td>\n",
       "      <td>The Fine Print: The following comments are own...</td>\n",
       "    </tr>\n",
       "    <tr>\n",
       "      <th>98</th>\n",
       "      <td>None</td>\n",
       "      <td>Slashdot.org</td>\n",
       "      <td>Anonymous Coward</td>\n",
       "      <td>A Favorite Corporate Gifting Ideas in 2020</td>\n",
       "      <td>Even though we are right in the middle of the ...</td>\n",
       "      <td>The Fine Print: The following comments are own...</td>\n",
       "    </tr>\n",
       "    <tr>\n",
       "      <th>99</th>\n",
       "      <td>None</td>\n",
       "      <td>Annvoskamp.com</td>\n",
       "      <td>Ann Voskamp</td>\n",
       "      <td>How to Show Up in Beirut as the Hands of Jesus...</td>\n",
       "      <td>When it feels like the end of the world — we c...</td>\n",
       "      <td>It feels like it’s a physical manifestation of...</td>\n",
       "    </tr>\n",
       "  </tbody>\n",
       "</table>\n",
       "<p>100 rows × 6 columns</p>\n",
       "</div>"
      ],
      "text/plain": [
       "         source_id          source_name  \\\n",
       "0             None  Belloflostsouls.net   \n",
       "1             None           Daily Mail   \n",
       "2        the-hindu            The Hindu   \n",
       "3             None         Moneycontrol   \n",
       "4             None      All India Radio   \n",
       "..             ...                  ...   \n",
       "95            None      Livejournal.com   \n",
       "96  spiegel-online       Spiegel Online   \n",
       "97            None         Slashdot.org   \n",
       "98            None         Slashdot.org   \n",
       "99            None       Annvoskamp.com   \n",
       "\n",
       "                                               author  \\\n",
       "0                                  Thomas aka Goatboy   \n",
       "1            By Levi Parsons For Daily Mail Australia   \n",
       "2                               Andhra Pradesh Bureau   \n",
       "3                                                None   \n",
       "4                                                None   \n",
       "..                                                ...   \n",
       "95                                     toxic_illusion   \n",
       "96  Alexander Chernyshev, Wu Dandan, Georg Fahrion...   \n",
       "97                                   Anonymous Coward   \n",
       "98                                   Anonymous Coward   \n",
       "99                                        Ann Voskamp   \n",
       "\n",
       "                                                title  \\\n",
       "0      Goatboy’s Warhammer 40k : FAQtastic Loose Ends   \n",
       "1   Teachers are the most likely profession to see...   \n",
       "2   Andhra Pradesh steps up its fight against coro...   \n",
       "3   When COVID-19 vaccines become available, will ...   \n",
       "4   News Services Division, All India Radio News -...   \n",
       "..                                                ...   \n",
       "95                                       ONTD Roundup   \n",
       "96  Corona: Cutting Corners in the Race for a Vaccine   \n",
       "97                      Personal Care gifts for Staff   \n",
       "98         A Favorite Corporate Gifting Ideas in 2020   \n",
       "99  How to Show Up in Beirut as the Hands of Jesus...   \n",
       "\n",
       "                                          description  \\\n",
       "0   Goatboy here with some unanswered questions fr...   \n",
       "1   Teachers in coronavirus-hit Victoria have lodg...   \n",
       "2   Here is a look at what the government of Andhr...   \n",
       "3   Since health policies cover hospitalisation, o...   \n",
       "4   News Services Division, All India Radio News  ...   \n",
       "..                                                ...   \n",
       "95  For Thursday, August 6, 2020:<ul><li>SuperM an...   \n",
       "96  Russia, China and India are racing to find a c...   \n",
       "97  Even though we are right in the middle of the ...   \n",
       "98  Even though we are right in the middle of the ...   \n",
       "99  When it feels like the end of the world — we c...   \n",
       "\n",
       "                                              content  \n",
       "0   Goatboy here with some unanswered questions fr...  \n",
       "1   Teachers in coronavirus-hit Victoria have lodg...  \n",
       "2   Here is a look at what the government of Andhr...  \n",
       "3   The world is waiting with bated breath for a v...  \n",
       "4   THE HEADLINES\\r\\n:-\\r\\n<ul><li> Prime Minister...  \n",
       "..                                                ...  \n",
       "95  i'm 5 months sober from alcohol today!!!about ...  \n",
       "96  When Alexander Ginzburg injected himself with ...  \n",
       "97  The Fine Print: The following comments are own...  \n",
       "98  The Fine Print: The following comments are own...  \n",
       "99  It feels like it’s a physical manifestation of...  \n",
       "\n",
       "[100 rows x 6 columns]"
      ]
     },
     "execution_count": 6,
     "metadata": {},
     "output_type": "execute_result"
    }
   ],
   "source": [
    "df = pd.DataFrame(data=data)\n",
    "df"
   ]
  },
  {
   "cell_type": "markdown",
   "metadata": {},
   "source": [
    "# Export the dataframe"
   ]
  },
  {
   "cell_type": "code",
   "execution_count": 7,
   "metadata": {},
   "outputs": [],
   "source": [
    "df.to_csv('News_api_Sandipto_Sanyal.csv', index=False)"
   ]
  }
 ],
 "metadata": {
  "kernelspec": {
   "display_name": "Python 3",
   "language": "python",
   "name": "python3"
  },
  "language_info": {
   "codemirror_mode": {
    "name": "ipython",
    "version": 3
   },
   "file_extension": ".py",
   "mimetype": "text/x-python",
   "name": "python",
   "nbconvert_exporter": "python",
   "pygments_lexer": "ipython3",
   "version": "3.7.6"
  }
 },
 "nbformat": 4,
 "nbformat_minor": 4
}
