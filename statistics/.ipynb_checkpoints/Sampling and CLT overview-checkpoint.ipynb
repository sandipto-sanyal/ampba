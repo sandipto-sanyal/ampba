{
 "cells": [
  {
   "cell_type": "code",
   "execution_count": 1,
   "metadata": {},
   "outputs": [],
   "source": [
    "import pandas as pd\n",
    "from itertools import combinations\n",
    "from statistics import mean, pstdev, stdev\n",
    "import matplotlib.pyplot as plt\n",
    "import numpy as np"
   ]
  },
  {
   "cell_type": "markdown",
   "metadata": {},
   "source": [
    "# Create the data of the companies"
   ]
  },
  {
   "cell_type": "code",
   "execution_count": 2,
   "metadata": {},
   "outputs": [
    {
     "data": {
      "text/html": [
       "<div>\n",
       "<style scoped>\n",
       "    .dataframe tbody tr th:only-of-type {\n",
       "        vertical-align: middle;\n",
       "    }\n",
       "\n",
       "    .dataframe tbody tr th {\n",
       "        vertical-align: top;\n",
       "    }\n",
       "\n",
       "    .dataframe thead th {\n",
       "        text-align: right;\n",
       "    }\n",
       "</style>\n",
       "<table border=\"1\" class=\"dataframe\">\n",
       "  <thead>\n",
       "    <tr style=\"text-align: right;\">\n",
       "      <th></th>\n",
       "      <th>Person names</th>\n",
       "      <th>Person age</th>\n",
       "    </tr>\n",
       "  </thead>\n",
       "  <tbody>\n",
       "    <tr>\n",
       "      <th>0</th>\n",
       "      <td>P1</td>\n",
       "      <td>65</td>\n",
       "    </tr>\n",
       "    <tr>\n",
       "      <th>1</th>\n",
       "      <td>P2</td>\n",
       "      <td>6</td>\n",
       "    </tr>\n",
       "    <tr>\n",
       "      <th>2</th>\n",
       "      <td>P3</td>\n",
       "      <td>46</td>\n",
       "    </tr>\n",
       "    <tr>\n",
       "      <th>3</th>\n",
       "      <td>P4</td>\n",
       "      <td>23</td>\n",
       "    </tr>\n",
       "    <tr>\n",
       "      <th>4</th>\n",
       "      <td>P5</td>\n",
       "      <td>46</td>\n",
       "    </tr>\n",
       "  </tbody>\n",
       "</table>\n",
       "</div>"
      ],
      "text/plain": [
       "  Person names  Person age\n",
       "0           P1          65\n",
       "1           P2           6\n",
       "2           P3          46\n",
       "3           P4          23\n",
       "4           P5          46"
      ]
     },
     "execution_count": 2,
     "metadata": {},
     "output_type": "execute_result"
    }
   ],
   "source": [
    "df = pd.read_excel('Worksheets for calculations.xlsx',sheet_name='Visualize CLT')\n",
    "trunc_df = df.head(20)\n",
    "df.head()"
   ]
  },
  {
   "cell_type": "markdown",
   "metadata": {},
   "source": [
    "# Create combinations by taking n persons at a time"
   ]
  },
  {
   "cell_type": "code",
   "execution_count": 3,
   "metadata": {},
   "outputs": [
    {
     "name": "stdout",
     "output_type": "stream",
     "text": [
      "Total Combinations: 15504\n"
     ]
    }
   ],
   "source": [
    "n_taken_at_a_time = 5\n",
    "combination_of_companies = combinations(trunc_df['Person names'],n_taken_at_a_time)\n",
    "combination_of_companies = list(combination_of_companies)\n",
    "print('Total Combinations: {}'.format(len(combination_of_companies)))"
   ]
  },
  {
   "cell_type": "markdown",
   "metadata": {},
   "source": [
    "# Store the mean of samples"
   ]
  },
  {
   "cell_type": "code",
   "execution_count": 4,
   "metadata": {},
   "outputs": [],
   "source": [
    "mean_ages_of_samples = []\n",
    "for combination in combination_of_companies:\n",
    "    sample_ages = []\n",
    "    for persons in combination:\n",
    "        sample_ages.append(trunc_df[trunc_df['Person names']==persons]['Person age'].values[0])\n",
    "    mean_ages_of_samples.append(mean(sample_ages))"
   ]
  },
  {
   "cell_type": "markdown",
   "metadata": {},
   "source": [
    "# Distribution of population age"
   ]
  },
  {
   "cell_type": "code",
   "execution_count": 5,
   "metadata": {},
   "outputs": [
    {
     "data": {
      "text/plain": [
       "<matplotlib.axes._subplots.AxesSubplot at 0x1c7562359c8>"
      ]
     },
     "execution_count": 5,
     "metadata": {},
     "output_type": "execute_result"
    },
    {
     "data": {
      "image/png": "[encoded data removed]",
      "text/plain": [
       "<Figure size 432x288 with 1 Axes>"
      ]
     },
     "metadata": {
      "needs_background": "light"
     },
     "output_type": "display_data"
    }
   ],
   "source": [
    "trunc_df['Person age'].plot.hist()"
   ]
  },
  {
   "cell_type": "markdown",
   "metadata": {},
   "source": [
    "# Distributions of sample means"
   ]
  },
  {
   "cell_type": "code",
   "execution_count": 6,
   "metadata": {},
   "outputs": [
    {
     "data": {
      "image/png": "[encoded data removed]",
      "text/plain": [
       "<Figure size 432x288 with 1 Axes>"
      ]
     },
     "metadata": {
      "needs_background": "light"
     },
     "output_type": "display_data"
    }
   ],
   "source": [
    "plt.hist(mean_ages_of_samples,bins=200)\n",
    "plt.show()"
   ]
  },
  {
   "cell_type": "markdown",
   "metadata": {},
   "source": [
    "# Population Mean and Standard deviation"
   ]
  },
  {
   "cell_type": "code",
   "execution_count": 7,
   "metadata": {},
   "outputs": [
    {
     "name": "stdout",
     "output_type": "stream",
     "text": [
      "Population mean = 41\n",
      "Population sd = 24.06241883103193\n"
     ]
    }
   ],
   "source": [
    "pop_mean = mean(trunc_df['Person age'].values)\n",
    "pop_sd = pstdev(trunc_df['Person age'].values)\n",
    "print('Population mean = {}'.format(pop_mean))\n",
    "print('Population sd = {}'.format(pop_sd))"
   ]
  },
  {
   "cell_type": "markdown",
   "metadata": {},
   "source": [
    "# Mean and Standard deviation of sample means"
   ]
  },
  {
   "cell_type": "code",
   "execution_count": 8,
   "metadata": {},
   "outputs": [
    {
     "name": "stdout",
     "output_type": "stream",
     "text": [
      "Mean of sample means: 40\n",
      "Standard deviation of mean ages of samples 9.539392014169456\n"
     ]
    }
   ],
   "source": [
    "print('Mean of sample means: {}'.format(mean(mean_ages_of_samples)))\n",
    "print('Standard deviation of mean ages of samples {}'.format(pstdev(mean_ages_of_samples)))"
   ]
  },
  {
   "cell_type": "markdown",
   "metadata": {},
   "source": [
    "# Relationship with population standard deviation"
   ]
  },
  {
   "cell_type": "code",
   "execution_count": 9,
   "metadata": {},
   "outputs": [
    {
     "data": {
      "text/plain": [
       "21.330729007701542"
      ]
     },
     "execution_count": 9,
     "metadata": {},
     "output_type": "execute_result"
    }
   ],
   "source": [
    "pstdev(mean_ages_of_samples)*n_taken_at_a_time**0.5"
   ]
  },
  {
   "cell_type": "markdown",
   "metadata": {},
   "source": [
    "# Observations and Inferences\n",
    " - Mean of sample means = mean of population\n",
    " - Also note that none of the sample mean is equal to the population mean. So suppose out of the population we take a sample it is least likely that the given sample's mean = population mean.\n",
    " - Standard deviation of sample means is a scaled version of Population standard deviations by a factor of sqrt(number of samples)\n",
    " - The distribution of sample means follow a normal distribution and the population distribution doesn't really matter. It can follow any horrible distribution it may like."
   ]
  },
  {
   "attachments": {},
   "cell_type": "markdown",
   "metadata": {},
   "source": [
    "# Why mean and standard deviation are good point estimates?\n",
    "If I slowly increase the size of my sample, what should happen to the sample mean and standard deviations? They should get closer and closer to the population parameter."
   ]
  },
  {
   "cell_type": "markdown",
   "metadata": {},
   "source": [
    "## Convergence of sample mean towards the population mean"
   ]
  },
  {
   "cell_type": "code",
   "execution_count": 20,
   "metadata": {},
   "outputs": [
    {
     "data": {
      "image/png": "[encoded data removed]",
      "text/plain": [
       "<Figure size 432x288 with 1 Axes>"
      ]
     },
     "metadata": {
      "needs_background": "light"
     },
     "output_type": "display_data"
    },
    {
     "name": "stdout",
     "output_type": "stream",
     "text": [
      "Population mean = 48.74272727272727\n"
     ]
    }
   ],
   "source": [
    "sample_means = []\n",
    "sample_sizes = []\n",
    "for sample_size in range(1,len(df)+1):\n",
    "    sample_sizes.append(sample_size)\n",
    "    # take a random sample of size sample_size from the population\n",
    "    random_rows = np.random.randint(0,len(df),size=sample_size)\n",
    "    sample_ages = []\n",
    "    for rows in random_rows:\n",
    "        # access the ages of the population\n",
    "        sample_ages.append(df.iloc[rows,1])\n",
    "    # store the sample means\n",
    "    sample_means.append(mean(sample_ages))\n",
    "# plot the variation of sample mean with sample size\n",
    "plt.plot(sample_sizes, sample_means, color='0.80', alpha=0.70)\n",
    "# plot the population mean\n",
    "plt.hlines(mean(df['Person age']),xmin=0,xmax=len(df), colors='green')\n",
    "# legends\n",
    "plt.legend(['sample means','population mean'], loc =\"lower right\")\n",
    "plt.show()\n",
    "print('Population mean = {}'.format(mean(df['Person age'])))"
   ]
  },
  {
   "cell_type": "markdown",
   "metadata": {},
   "source": [
    "## Convergence of sample standard deviation towards population standard deviation"
   ]
  },
  {
   "cell_type": "code",
   "execution_count": 27,
   "metadata": {},
   "outputs": [
    {
     "data": {
      "image/png": "[encoded data removed]",
      "text/plain": [
       "<Figure size 432x288 with 1 Axes>"
      ]
     },
     "metadata": {
      "needs_background": "light"
     },
     "output_type": "display_data"
    },
    {
     "name": "stdout",
     "output_type": "stream",
     "text": [
      "Population standard deviation = 29.1527044093711\n"
     ]
    }
   ],
   "source": [
    "sample_max = []\n",
    "sample_sizes = []\n",
    "for sample_size in range(1,len(df)+1):\n",
    "    sample_sizes.append(sample_size)\n",
    "    # take a random sample of size sample_size from the population\n",
    "    random_rows = np.random.randint(0,len(df),size=sample_size)\n",
    "    sample_ages = []\n",
    "    for rows in random_rows:\n",
    "        # access the ages of the population\n",
    "        sample_ages.append(df.iloc[rows,1])\n",
    "    # store the sample means\n",
    "    sample_max.append(pstdev(sample_ages))\n",
    "# plot the variation of sample mean with sample size\n",
    "plt.plot(sample_sizes, sample_max, color='0.75', alpha=0.70)\n",
    "# plot the population mean\n",
    "plt.hlines(pstdev(df['Person age']),xmin=0,xmax=len(df), colors='green')\n",
    "# legends\n",
    "plt.legend(['sample standard deviations','population standard deviation'], loc =\"lower right\")\n",
    "plt.show()\n",
    "print('Population standard deviation = {}'.format(pstdev(df['Person age'])))"
   ]
  },
  {
   "cell_type": "markdown",
   "metadata": {},
   "source": [
    "## Will other sample statistics (e.g. sample max) converge towards the population mean?"
   ]
  },
  {
   "cell_type": "code",
   "execution_count": 28,
   "metadata": {},
   "outputs": [
    {
     "data": {
      "image/png": "[encoded data removed]",
      "text/plain": [
       "<Figure size 432x288 with 1 Axes>"
      ]
     },
     "metadata": {
      "needs_background": "light"
     },
     "output_type": "display_data"
    },
    {
     "name": "stdout",
     "output_type": "stream",
     "text": [
      "Population mean = 29.1527044093711\n"
     ]
    }
   ],
   "source": [
    "sample_max = []\n",
    "sample_sizes = []\n",
    "for sample_size in range(1,len(df)+1):\n",
    "    sample_sizes.append(sample_size)\n",
    "    # take a random sample of size sample_size from the population\n",
    "    random_rows = np.random.randint(0,len(df),size=sample_size)\n",
    "    sample_ages = []\n",
    "    for rows in random_rows:\n",
    "        # access the ages of the population\n",
    "        sample_ages.append(df.iloc[rows,1])\n",
    "    # store the sample means\n",
    "    sample_max.append(max(sample_ages))\n",
    "# plot the variation of sample mean with sample size\n",
    "plt.plot(sample_sizes, sample_max, color='0.75', alpha=0.70)\n",
    "# plot the population mean\n",
    "plt.hlines(mean(df['Person age']),xmin=0,xmax=len(df), colors='green')\n",
    "# legends\n",
    "plt.legend(['sample maximums','population mean'], loc =\"lower right\")\n",
    "plt.show()\n",
    "print('Population mean = {}'.format(pstdev(df['Person age'])))"
   ]
  },
  {
   "cell_type": "code",
   "execution_count": null,
   "metadata": {},
   "outputs": [],
   "source": []
  }
 ],
 "metadata": {
  "kernelspec": {
   "display_name": "Python 3",
   "language": "python",
   "name": "python3"
  },
  "language_info": {
   "codemirror_mode": {
    "name": "ipython",
    "version": 3
   },
   "file_extension": ".py",
   "mimetype": "text/x-python",
   "name": "python",
   "nbconvert_exporter": "python",
   "pygments_lexer": "ipython3",
   "version": "3.7.6"
  }
 },
 "nbformat": 4,
 "nbformat_minor": 4
}
