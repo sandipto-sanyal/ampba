{
 "cells": [
  {
   "cell_type": "code",
   "execution_count": 1,
   "metadata": {},
   "outputs": [],
   "source": [
    "import pandas as pd\n",
    "from itertools import combinations\n",
    "from statistics import mean, pstdev, stdev\n",
    "import matplotlib.pyplot as plt\n",
    "import numpy as np"
   ]
  },
  {
   "cell_type": "markdown",
   "metadata": {},
   "source": [
    "# Create the data of the companies"
   ]
  },
  {
   "cell_type": "code",
   "execution_count": 2,
   "metadata": {},
   "outputs": [
    {
     "data": {
      "text/html": [
       "<div>\n",
       "<style scoped>\n",
       "    .dataframe tbody tr th:only-of-type {\n",
       "        vertical-align: middle;\n",
       "    }\n",
       "\n",
       "    .dataframe tbody tr th {\n",
       "        vertical-align: top;\n",
       "    }\n",
       "\n",
       "    .dataframe thead th {\n",
       "        text-align: right;\n",
       "    }\n",
       "</style>\n",
       "<table border=\"1\" class=\"dataframe\">\n",
       "  <thead>\n",
       "    <tr style=\"text-align: right;\">\n",
       "      <th></th>\n",
       "      <th>Person names</th>\n",
       "      <th>Person age</th>\n",
       "    </tr>\n",
       "  </thead>\n",
       "  <tbody>\n",
       "    <tr>\n",
       "      <th>0</th>\n",
       "      <td>P1</td>\n",
       "      <td>65</td>\n",
       "    </tr>\n",
       "    <tr>\n",
       "      <th>1</th>\n",
       "      <td>P2</td>\n",
       "      <td>6</td>\n",
       "    </tr>\n",
       "    <tr>\n",
       "      <th>2</th>\n",
       "      <td>P3</td>\n",
       "      <td>46</td>\n",
       "    </tr>\n",
       "    <tr>\n",
       "      <th>3</th>\n",
       "      <td>P4</td>\n",
       "      <td>23</td>\n",
       "    </tr>\n",
       "    <tr>\n",
       "      <th>4</th>\n",
       "      <td>P5</td>\n",
       "      <td>46</td>\n",
       "    </tr>\n",
       "  </tbody>\n",
       "</table>\n",
       "</div>"
      ],
      "text/plain": [
       "  Person names  Person age\n",
       "0           P1          65\n",
       "1           P2           6\n",
       "2           P3          46\n",
       "3           P4          23\n",
       "4           P5          46"
      ]
     },
     "execution_count": 2,
     "metadata": {},
     "output_type": "execute_result"
    }
   ],
   "source": [
    "df = pd.read_excel('Worksheets for calculations.xlsx',sheet_name='Visualize CLT')\n",
    "trunc_df = df.head(20)\n",
    "df.head()"
   ]
  },
  {
   "cell_type": "markdown",
   "metadata": {},
   "source": [
    "# Create combinations by taking n persons at a time\n",
    "Sample size is appropriated. Not too small not too large"
   ]
  },
  {
   "cell_type": "code",
   "execution_count": 56,
   "metadata": {},
   "outputs": [
    {
     "name": "stdout",
     "output_type": "stream",
     "text": [
      "Total Combinations: 15504\n"
     ]
    }
   ],
   "source": [
    "n_taken_at_a_time = 5\n",
    "combination_of_companies = combinations(trunc_df['Person names'],n_taken_at_a_time)\n",
    "combination_of_companies = list(combination_of_companies)\n",
    "print('Total Combinations: {}'.format(len(combination_of_companies)))"
   ]
  },
  {
   "cell_type": "markdown",
   "metadata": {},
   "source": [
    "# Store the mean of samples"
   ]
  },
  {
   "cell_type": "code",
   "execution_count": 57,
   "metadata": {},
   "outputs": [],
   "source": [
    "mean_ages_of_samples = []\n",
    "for combination in combination_of_companies:\n",
    "    sample_ages = []\n",
    "    for persons in combination:\n",
    "        sample_ages.append(trunc_df[trunc_df['Person names']==persons]['Person age'].values[0])\n",
    "    mean_ages_of_samples.append(mean(sample_ages))"
   ]
  },
  {
   "cell_type": "markdown",
   "metadata": {},
   "source": [
    "# Distribution of population age"
   ]
  },
  {
   "cell_type": "code",
   "execution_count": 58,
   "metadata": {},
   "outputs": [
    {
     "data": {
      "text/plain": [
       "<matplotlib.axes._subplots.AxesSubplot at 0x1d9efd811c8>"
      ]
     },
     "execution_count": 58,
     "metadata": {},
     "output_type": "execute_result"
    },
    {
     "data": {
      "image/png": "[encoded data removed]",
      "text/plain": [
       "<Figure size 432x288 with 1 Axes>"
      ]
     },
     "metadata": {
      "needs_background": "light"
     },
     "output_type": "display_data"
    }
   ],
   "source": [
    "trunc_df['Person age'].plot.hist()"
   ]
  },
  {
   "cell_type": "markdown",
   "metadata": {},
   "source": [
    "# Distributions of sample means"
   ]
  },
  {
   "cell_type": "code",
   "execution_count": 59,
   "metadata": {},
   "outputs": [
    {
     "data": {
      "image/png": "[encoded data removed]",
      "text/plain": [
       "<Figure size 432x288 with 1 Axes>"
      ]
     },
     "metadata": {
      "needs_background": "light"
     },
     "output_type": "display_data"
    }
   ],
   "source": [
    "plt.hist(mean_ages_of_samples, bins=200)\n",
    "plt.show()"
   ]
  },
  {
   "cell_type": "markdown",
   "metadata": {},
   "source": [
    "# Create combinations by taking n persons at a time\n",
    "Sample size is too large"
   ]
  },
  {
   "cell_type": "code",
   "execution_count": 47,
   "metadata": {},
   "outputs": [
    {
     "name": "stdout",
     "output_type": "stream",
     "text": [
      "Total Combinations: 20\n"
     ]
    }
   ],
   "source": [
    "n_taken_at_a_time = 19\n",
    "combination_of_companies = combinations(trunc_df['Person names'],n_taken_at_a_time)\n",
    "combination_of_companies = list(combination_of_companies)\n",
    "print('Total Combinations: {}'.format(len(combination_of_companies)))"
   ]
  },
  {
   "cell_type": "markdown",
   "metadata": {},
   "source": [
    "# Store the mean of samples"
   ]
  },
  {
   "cell_type": "code",
   "execution_count": 48,
   "metadata": {},
   "outputs": [],
   "source": [
    "mean_ages_of_samples = []\n",
    "for combination in combination_of_companies:\n",
    "    sample_ages = []\n",
    "    for persons in combination:\n",
    "        sample_ages.append(trunc_df[trunc_df['Person names']==persons]['Person age'].values[0])\n",
    "    mean_ages_of_samples.append(mean(sample_ages))"
   ]
  },
  {
   "cell_type": "markdown",
   "metadata": {},
   "source": [
    "# Distribution of population age"
   ]
  },
  {
   "cell_type": "code",
   "execution_count": 49,
   "metadata": {},
   "outputs": [
    {
     "data": {
      "text/plain": [
       "<matplotlib.axes._subplots.AxesSubplot at 0x1d9efa525c8>"
      ]
     },
     "execution_count": 49,
     "metadata": {},
     "output_type": "execute_result"
    },
    {
     "data": {
      "image/png": "[encoded data removed]",
      "text/plain": [
       "<Figure size 432x288 with 1 Axes>"
      ]
     },
     "metadata": {
      "needs_background": "light"
     },
     "output_type": "display_data"
    }
   ],
   "source": [
    "trunc_df['Person age'].plot.hist()"
   ]
  },
  {
   "cell_type": "markdown",
   "metadata": {},
   "source": [
    "# Distributions of sample means"
   ]
  },
  {
   "cell_type": "code",
   "execution_count": 55,
   "metadata": {},
   "outputs": [
    {
     "data": {
      "image/png": "[encoded data removed]",
      "text/plain": [
       "<Figure size 432x288 with 1 Axes>"
      ]
     },
     "metadata": {
      "needs_background": "light"
     },
     "output_type": "display_data"
    }
   ],
   "source": [
    "plt.hist(mean_ages_of_samples, bins=200)\n",
    "plt.show()"
   ]
  },
  {
   "cell_type": "markdown",
   "metadata": {},
   "source": [
    "# Create combinations by taking n persons at a time\n",
    "Sample size is too small"
   ]
  },
  {
   "cell_type": "code",
   "execution_count": 69,
   "metadata": {},
   "outputs": [
    {
     "name": "stdout",
     "output_type": "stream",
     "text": [
      "Total Combinations: 20\n"
     ]
    }
   ],
   "source": [
    "n_taken_at_a_time = 1\n",
    "combination_of_companies = combinations(trunc_df['Person names'],n_taken_at_a_time)\n",
    "combination_of_companies = list(combination_of_companies)\n",
    "print('Total Combinations: {}'.format(len(combination_of_companies)))"
   ]
  },
  {
   "cell_type": "markdown",
   "metadata": {},
   "source": [
    "# Store the mean of samples"
   ]
  },
  {
   "cell_type": "code",
   "execution_count": 70,
   "metadata": {},
   "outputs": [],
   "source": [
    "mean_ages_of_samples = []\n",
    "for combination in combination_of_companies:\n",
    "    sample_ages = []\n",
    "    for persons in combination:\n",
    "        sample_ages.append(trunc_df[trunc_df['Person names']==persons]['Person age'].values[0])\n",
    "    mean_ages_of_samples.append(mean(sample_ages))"
   ]
  },
  {
   "cell_type": "markdown",
   "metadata": {},
   "source": [
    "# Distribution of population age"
   ]
  },
  {
   "cell_type": "code",
   "execution_count": 71,
   "metadata": {},
   "outputs": [
    {
     "data": {
      "text/plain": [
       "<matplotlib.axes._subplots.AxesSubplot at 0x1d9efd26708>"
      ]
     },
     "execution_count": 71,
     "metadata": {},
     "output_type": "execute_result"
    },
    {
     "data": {
      "image/png": "[encoded data removed]",
      "text/plain": [
       "<Figure size 432x288 with 1 Axes>"
      ]
     },
     "metadata": {
      "needs_background": "light"
     },
     "output_type": "display_data"
    }
   ],
   "source": [
    "trunc_df['Person age'].plot.hist()"
   ]
  },
  {
   "cell_type": "markdown",
   "metadata": {},
   "source": [
    "# Distributions of sample means"
   ]
  },
  {
   "cell_type": "code",
   "execution_count": 72,
   "metadata": {},
   "outputs": [
    {
     "data": {
      "image/png": "[encoded data removed]",
      "text/plain": [
       "<Figure size 432x288 with 1 Axes>"
      ]
     },
     "metadata": {
      "needs_background": "light"
     },
     "output_type": "display_data"
    }
   ],
   "source": [
    "plt.hist(mean_ages_of_samples)\n",
    "plt.show()"
   ]
  },
  {
   "cell_type": "markdown",
   "metadata": {},
   "source": [
    "# Population Mean and Standard deviation"
   ]
  },
  {
   "cell_type": "code",
   "execution_count": 19,
   "metadata": {},
   "outputs": [
    {
     "name": "stdout",
     "output_type": "stream",
     "text": [
      "Population mean = 41\n",
      "Population sd = 24.06241883103193\n"
     ]
    }
   ],
   "source": [
    "pop_mean = mean(trunc_df['Person age'].values)\n",
    "pop_sd = pstdev(trunc_df['Person age'].values)\n",
    "print('Population mean = {}'.format(pop_mean))\n",
    "print('Population sd = {}'.format(pop_sd))"
   ]
  },
  {
   "cell_type": "markdown",
   "metadata": {},
   "source": [
    "# Mean and Standard deviation of sample means"
   ]
  },
  {
   "cell_type": "code",
   "execution_count": 20,
   "metadata": {},
   "outputs": [
    {
     "name": "stdout",
     "output_type": "stream",
     "text": [
      "Mean of sample means: 40\n",
      "Standard deviation of mean ages of samples 9.539392014169456\n"
     ]
    }
   ],
   "source": [
    "print('Mean of sample means: {}'.format(mean(mean_ages_of_samples)))\n",
    "print('Standard deviation of mean ages of samples {}'.format(pstdev(mean_ages_of_samples)))"
   ]
  },
  {
   "cell_type": "markdown",
   "metadata": {},
   "source": [
    "# Relationship with population standard deviation"
   ]
  },
  {
   "cell_type": "code",
   "execution_count": 21,
   "metadata": {},
   "outputs": [
    {
     "data": {
      "text/plain": [
       "21.330729007701542"
      ]
     },
     "execution_count": 21,
     "metadata": {},
     "output_type": "execute_result"
    }
   ],
   "source": [
    "pstdev(mean_ages_of_samples)*n_taken_at_a_time**0.5"
   ]
  },
  {
   "cell_type": "markdown",
   "metadata": {},
   "source": [
    "# Observations and Inferences\n",
    " - Mean of sample means = mean of population\n",
    " - Also note that none of the sample mean is equal to the population mean. So suppose out of the population we take a sample it is least likely that the given sample's mean = population mean.\n",
    " - Standard deviation of sample means is a scaled version of Population standard deviations by a factor of sqrt(number of samples)\n",
    " - The distribution of sample means follow a normal distribution and the population distribution doesn't really matter. It can follow any horrible distribution it may like."
   ]
  },
  {
   "cell_type": "markdown",
   "metadata": {},
   "source": [
    "# Why mean and standard deviation are good point estimates?\n",
    "If I slowly increase the size of my sample, what should happen to the sample mean and standard deviations? They should get closer and closer to the population parameter."
   ]
  },
  {
   "cell_type": "markdown",
   "metadata": {},
   "source": [
    "## Convergence of sample mean towards the population mean"
   ]
  },
  {
   "cell_type": "code",
   "execution_count": 22,
   "metadata": {},
   "outputs": [
    {
     "data": {
      "image/png": "[encoded data removed]",
      "text/plain": [
       "<Figure size 432x288 with 1 Axes>"
      ]
     },
     "metadata": {
      "needs_background": "light"
     },
     "output_type": "display_data"
    },
    {
     "name": "stdout",
     "output_type": "stream",
     "text": [
      "Population mean = 48.74272727272727\n"
     ]
    }
   ],
   "source": [
    "sample_means = []\n",
    "sample_sizes = []\n",
    "for sample_size in range(1,len(df)+1):\n",
    "    sample_sizes.append(sample_size)\n",
    "    # take a random sample of size sample_size from the population\n",
    "    random_rows = np.random.randint(0,len(df),size=sample_size)\n",
    "    sample_ages = []\n",
    "    for rows in random_rows:\n",
    "        # access the ages of the population\n",
    "        sample_ages.append(df.iloc[rows,1])\n",
    "    # store the sample means\n",
    "    sample_means.append(mean(sample_ages))\n",
    "# plot the variation of sample mean with sample size\n",
    "plt.plot(sample_sizes, sample_means, color='0.80', alpha=0.70)\n",
    "# plot the population mean\n",
    "plt.hlines(mean(df['Person age']),xmin=0,xmax=len(df), colors='green')\n",
    "# legends\n",
    "plt.legend(['sample means','population mean'], loc =\"lower right\")\n",
    "plt.show()\n",
    "print('Population mean = {}'.format(mean(df['Person age'])))"
   ]
  },
  {
   "cell_type": "markdown",
   "metadata": {},
   "source": [
    "## Convergence of sample standard deviation towards population standard deviation"
   ]
  },
  {
   "cell_type": "code",
   "execution_count": 23,
   "metadata": {},
   "outputs": [
    {
     "data": {
      "image/png": "[encoded data removed]",
      "text/plain": [
       "<Figure size 432x288 with 1 Axes>"
      ]
     },
     "metadata": {
      "needs_background": "light"
     },
     "output_type": "display_data"
    },
    {
     "name": "stdout",
     "output_type": "stream",
     "text": [
      "Population standard deviation = 29.1527044093711\n"
     ]
    }
   ],
   "source": [
    "sample_max = []\n",
    "sample_sizes = []\n",
    "for sample_size in range(1,len(df)+1):\n",
    "    sample_sizes.append(sample_size)\n",
    "    # take a random sample of size sample_size from the population\n",
    "    random_rows = np.random.randint(0,len(df),size=sample_size)\n",
    "    sample_ages = []\n",
    "    for rows in random_rows:\n",
    "        # access the ages of the population\n",
    "        sample_ages.append(df.iloc[rows,1])\n",
    "    # store the sample means\n",
    "    sample_max.append(pstdev(sample_ages))\n",
    "# plot the variation of sample mean with sample size\n",
    "plt.plot(sample_sizes, sample_max, color='0.75', alpha=0.70)\n",
    "# plot the population mean\n",
    "plt.hlines(pstdev(df['Person age']),xmin=0,xmax=len(df), colors='green')\n",
    "# legends\n",
    "plt.legend(['sample standard deviations','population standard deviation'], loc =\"lower right\")\n",
    "plt.show()\n",
    "print('Population standard deviation = {}'.format(pstdev(df['Person age'])))"
   ]
  },
  {
   "cell_type": "markdown",
   "metadata": {},
   "source": [
    "## Will other sample statistics (e.g. sample max) converge towards the population mean?"
   ]
  },
  {
   "cell_type": "code",
   "execution_count": 24,
   "metadata": {},
   "outputs": [
    {
     "data": {
      "image/png": "[encoded data removed]",
      "text/plain": [
       "<Figure size 432x288 with 1 Axes>"
      ]
     },
     "metadata": {
      "needs_background": "light"
     },
     "output_type": "display_data"
    },
    {
     "name": "stdout",
     "output_type": "stream",
     "text": [
      "Population mean = 29.1527044093711\n"
     ]
    }
   ],
   "source": [
    "sample_max = []\n",
    "sample_sizes = []\n",
    "for sample_size in range(1,len(df)+1):\n",
    "    sample_sizes.append(sample_size)\n",
    "    # take a random sample of size sample_size from the population\n",
    "    random_rows = np.random.randint(0,len(df),size=sample_size)\n",
    "    sample_ages = []\n",
    "    for rows in random_rows:\n",
    "        # access the ages of the population\n",
    "        sample_ages.append(df.iloc[rows,1])\n",
    "    # store the sample means\n",
    "    sample_max.append(max(sample_ages))\n",
    "# plot the variation of sample mean with sample size\n",
    "plt.plot(sample_sizes, sample_max, color='0.75', alpha=0.70)\n",
    "# plot the population mean\n",
    "plt.hlines(mean(df['Person age']),xmin=0,xmax=len(df), colors='green')\n",
    "# legends\n",
    "plt.legend(['sample maximums','population mean'], loc =\"lower right\")\n",
    "plt.show()\n",
    "print('Population mean = {}'.format(pstdev(df['Person age'])))"
   ]
  },
  {
   "cell_type": "markdown",
   "metadata": {},
   "source": [
    "<b>Inference:</b> Thus we can see that sample mean is a good estimate of population mean. Other statistics of sample is not a good estimate of population mean."
   ]
  },
  {
   "cell_type": "markdown",
   "metadata": {},
   "source": [
    "# Estimator of population proportion\n",
    "Suppose we want to estimate proportion of people with age > mean. First we will see what our population proportion is saying."
   ]
  },
  {
   "cell_type": "code",
   "execution_count": 25,
   "metadata": {},
   "outputs": [
    {
     "name": "stdout",
     "output_type": "stream",
     "text": [
      "Number of people with age > mean = 11\n",
      "Population proportion of people with age > mean = 0.55\n"
     ]
    },
    {
     "name": "stderr",
     "output_type": "stream",
     "text": [
      "C:\\Users\\sandipto.sanyal\\.conda\\envs\\tensorflow-cpu2\\lib\\site-packages\\ipykernel_launcher.py:6: SettingWithCopyWarning: \n",
      "A value is trying to be set on a copy of a slice from a DataFrame.\n",
      "Try using .loc[row_indexer,col_indexer] = value instead\n",
      "\n",
      "See the caveats in the documentation: https://pandas.pydata.org/pandas-docs/stable/user_guide/indexing.html#returning-a-view-versus-a-copy\n",
      "  \n"
     ]
    }
   ],
   "source": [
    "def check_age(age, mean):\n",
    "    if age > mean:\n",
    "        return 1\n",
    "    else:\n",
    "        return 0\n",
    "trunc_df['age_gt_mean'] = trunc_df['Person age'].apply(lambda row: check_age(row, trunc_df['Person age'].mean()))\n",
    "n_age_gt_mean = trunc_df['age_gt_mean'].sum()\n",
    "print('Number of people with age > mean = {}'.format(n_age_gt_mean))\n",
    "print('Population proportion of people with age > mean = {}'.format(n_age_gt_mean/len(trunc_df)))"
   ]
  },
  {
   "cell_type": "markdown",
   "metadata": {},
   "source": [
    "## Store the sample proportions\n",
    "Below we will do the same thing for the samples"
   ]
  },
  {
   "cell_type": "code",
   "execution_count": 26,
   "metadata": {},
   "outputs": [],
   "source": [
    "sample_proportions = []\n",
    "for combination in combination_of_companies:\n",
    "    sample_ages = []\n",
    "    for persons in combination:\n",
    "        # store the sample ages\n",
    "        sample_ages.append(trunc_df[trunc_df['Person names']==persons]['Person age'].values[0])\n",
    "    mean_age = mean(sample_ages)\n",
    "    # store the proportions of people with age > the mean ages of the given sample\n",
    "    proportion = map(lambda age: check_age(age,mean_age), sample_ages)\n",
    "    sample_proportions.append(mean(list(proportion)))"
   ]
  },
  {
   "cell_type": "markdown",
   "metadata": {},
   "source": [
    "## Distribution of sample proportions\n",
    "Below we will see the distribution that we got for the sample proportions"
   ]
  },
  {
   "cell_type": "code",
   "execution_count": 27,
   "metadata": {},
   "outputs": [
    {
     "data": {
      "image/png": "[encoded data removed]",
      "text/plain": [
       "<Figure size 432x288 with 1 Axes>"
      ]
     },
     "metadata": {
      "needs_background": "light"
     },
     "output_type": "display_data"
    }
   ],
   "source": [
    "plt.hist(sample_proportions)\n",
    "plt.show()"
   ]
  },
  {
   "cell_type": "code",
   "execution_count": 28,
   "metadata": {},
   "outputs": [
    {
     "name": "stdout",
     "output_type": "stream",
     "text": [
      "Mean of sample proportions = 0.5012899896800825\n",
      "Standard deviation of sample proportions = 0.12379176766655815\n"
     ]
    }
   ],
   "source": [
    "print('Mean of sample proportions = {}'.format(mean(sample_proportions)))\n",
    "print('Standard deviation of sample proportions = {}'.format(stdev(sample_proportions)))"
   ]
  },
  {
   "cell_type": "code",
   "execution_count": 29,
   "metadata": {},
   "outputs": [
    {
     "data": {
      "text/plain": [
       "0.11068536488623959"
      ]
     },
     "execution_count": 29,
     "metadata": {},
     "output_type": "execute_result"
    }
   ],
   "source": [
    "0.55*(1-0.55)/n_taken_at_a_time**0.5"
   ]
  },
  {
   "cell_type": "markdown",
   "metadata": {},
   "source": [
    "<b>Inference: </b>Though this is not clear with such a low population and sample size but the distribution of sample proportions look like a normal distribution with mean ~ population proportion and std. deviation ~ population proportionx(1 - population proportion)/sqrt(n)"
   ]
  },
  {
   "cell_type": "code",
   "execution_count": null,
   "metadata": {},
   "outputs": [],
   "source": []
  }
 ],
 "metadata": {
  "kernelspec": {
   "display_name": "Python 3",
   "language": "python",
   "name": "python3"
  },
  "language_info": {
   "codemirror_mode": {
    "name": "ipython",
    "version": 3
   },
   "file_extension": ".py",
   "mimetype": "text/x-python",
   "name": "python",
   "nbconvert_exporter": "python",
   "pygments_lexer": "ipython3",
   "version": "3.7.7"
  }
 },
 "nbformat": 4,
 "nbformat_minor": 4
}
