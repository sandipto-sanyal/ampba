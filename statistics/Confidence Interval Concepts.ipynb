{
 "cells": [
  {
   "cell_type": "code",
   "execution_count": 1,
   "metadata": {},
   "outputs": [],
   "source": [
    "import pandas as pd\n",
    "from itertools import combinations\n",
    "from statistics import mean, pstdev, stdev\n",
    "import matplotlib.pyplot as plt\n",
    "import numpy as np"
   ]
  },
  {
   "cell_type": "markdown",
   "metadata": {},
   "source": [
    "# Create the data of the companies"
   ]
  },
  {
   "cell_type": "code",
   "execution_count": 2,
   "metadata": {},
   "outputs": [
    {
     "data": {
      "text/html": [
       "<div>\n",
       "<style scoped>\n",
       "    .dataframe tbody tr th:only-of-type {\n",
       "        vertical-align: middle;\n",
       "    }\n",
       "\n",
       "    .dataframe tbody tr th {\n",
       "        vertical-align: top;\n",
       "    }\n",
       "\n",
       "    .dataframe thead th {\n",
       "        text-align: right;\n",
       "    }\n",
       "</style>\n",
       "<table border=\"1\" class=\"dataframe\">\n",
       "  <thead>\n",
       "    <tr style=\"text-align: right;\">\n",
       "      <th></th>\n",
       "      <th>Person names</th>\n",
       "      <th>Person age</th>\n",
       "    </tr>\n",
       "  </thead>\n",
       "  <tbody>\n",
       "    <tr>\n",
       "      <th>0</th>\n",
       "      <td>P1</td>\n",
       "      <td>65</td>\n",
       "    </tr>\n",
       "    <tr>\n",
       "      <th>1</th>\n",
       "      <td>P2</td>\n",
       "      <td>6</td>\n",
       "    </tr>\n",
       "    <tr>\n",
       "      <th>2</th>\n",
       "      <td>P3</td>\n",
       "      <td>46</td>\n",
       "    </tr>\n",
       "    <tr>\n",
       "      <th>3</th>\n",
       "      <td>P4</td>\n",
       "      <td>23</td>\n",
       "    </tr>\n",
       "    <tr>\n",
       "      <th>4</th>\n",
       "      <td>P5</td>\n",
       "      <td>46</td>\n",
       "    </tr>\n",
       "  </tbody>\n",
       "</table>\n",
       "</div>"
      ],
      "text/plain": [
       "  Person names  Person age\n",
       "0           P1          65\n",
       "1           P2           6\n",
       "2           P3          46\n",
       "3           P4          23\n",
       "4           P5          46"
      ]
     },
     "execution_count": 2,
     "metadata": {},
     "output_type": "execute_result"
    }
   ],
   "source": [
    "df = pd.read_excel('Worksheets for calculations.xlsx',sheet_name='Visualize CLT')\n",
    "trunc_df = df.head(20)\n",
    "df.head()"
   ]
  },
  {
   "cell_type": "markdown",
   "metadata": {},
   "source": [
    "# Create combinations by taking n persons at a time"
   ]
  },
  {
   "cell_type": "code",
   "execution_count": 3,
   "metadata": {},
   "outputs": [
    {
     "name": "stdout",
     "output_type": "stream",
     "text": [
      "Total Combinations: 15504\n"
     ]
    }
   ],
   "source": [
    "n_taken_at_a_time = 5\n",
    "combination_of_companies = combinations(trunc_df['Person names'],n_taken_at_a_time)\n",
    "combination_of_companies = list(combination_of_companies)\n",
    "print('Total Combinations: {}'.format(len(combination_of_companies)))"
   ]
  },
  {
   "cell_type": "markdown",
   "metadata": {},
   "source": [
    "# Store the mean of samples"
   ]
  },
  {
   "cell_type": "code",
   "execution_count": 4,
   "metadata": {},
   "outputs": [],
   "source": [
    "mean_ages_of_samples = []\n",
    "for combination in combination_of_companies:\n",
    "    sample_ages = []\n",
    "    for persons in combination:\n",
    "        sample_ages.append(trunc_df[trunc_df['Person names']==persons]['Person age'].values[0])\n",
    "    mean_ages_of_samples.append(mean(sample_ages))"
   ]
  },
  {
   "cell_type": "markdown",
   "metadata": {},
   "source": [
    "# Distribution of population age"
   ]
  },
  {
   "cell_type": "code",
   "execution_count": 5,
   "metadata": {},
   "outputs": [
    {
     "data": {
      "text/plain": [
       "<matplotlib.axes._subplots.AxesSubplot at 0x27d534ea948>"
      ]
     },
     "execution_count": 5,
     "metadata": {},
     "output_type": "execute_result"
    },
    {
     "data": {
      "image/png": "[encoded data removed]",
      "text/plain": [
       "<Figure size 432x288 with 1 Axes>"
      ]
     },
     "metadata": {
      "needs_background": "light"
     },
     "output_type": "display_data"
    }
   ],
   "source": [
    "trunc_df['Person age'].plot.hist()"
   ]
  },
  {
   "cell_type": "markdown",
   "metadata": {},
   "source": [
    "# Distributions of sample means"
   ]
  },
  {
   "cell_type": "code",
   "execution_count": 6,
   "metadata": {},
   "outputs": [
    {
     "data": {
      "image/png": "[encoded data removed]",
      "text/plain": [
       "<Figure size 432x288 with 1 Axes>"
      ]
     },
     "metadata": {
      "needs_background": "light"
     },
     "output_type": "display_data"
    }
   ],
   "source": [
    "plt.hist(mean_ages_of_samples,bins=200)\n",
    "plt.show()"
   ]
  },
  {
   "cell_type": "markdown",
   "metadata": {},
   "source": [
    "# Population Mean and Standard deviation"
   ]
  },
  {
   "cell_type": "code",
   "execution_count": 7,
   "metadata": {},
   "outputs": [
    {
     "name": "stdout",
     "output_type": "stream",
     "text": [
      "Population mean = 41\n",
      "Population sd = 24.06241883103193\n"
     ]
    }
   ],
   "source": [
    "pop_mean = mean(trunc_df['Person age'].values)\n",
    "pop_sd = pstdev(trunc_df['Person age'].values)\n",
    "print('Population mean = {}'.format(pop_mean))\n",
    "print('Population sd = {}'.format(pop_sd))"
   ]
  },
  {
   "cell_type": "markdown",
   "metadata": {},
   "source": [
    "# Mean and Standard deviation of sample means"
   ]
  },
  {
   "cell_type": "code",
   "execution_count": 8,
   "metadata": {},
   "outputs": [
    {
     "name": "stdout",
     "output_type": "stream",
     "text": [
      "Mean of sample means: 40\n",
      "Standard deviation of mean ages of samples 9.539392014169456\n"
     ]
    }
   ],
   "source": [
    "print('Mean of sample means: {}'.format(mean(mean_ages_of_samples)))\n",
    "print('Standard deviation of mean ages of samples {}'.format(pstdev(mean_ages_of_samples)))"
   ]
  },
  {
   "cell_type": "markdown",
   "metadata": {},
   "source": [
    "# Relationship with population standard deviation"
   ]
  },
  {
   "cell_type": "code",
   "execution_count": 9,
   "metadata": {},
   "outputs": [
    {
     "data": {
      "text/plain": [
       "21.330729007701542"
      ]
     },
     "execution_count": 9,
     "metadata": {},
     "output_type": "execute_result"
    }
   ],
   "source": [
    "pstdev(mean_ages_of_samples)*n_taken_at_a_time**0.5"
   ]
  },
  {
   "cell_type": "markdown",
   "metadata": {},
   "source": [
    "# Observations and Inferences\n",
    " - Mean of sample means = mean of population\n",
    " - Also note that none of the sample mean is equal to the population mean. So suppose out of the population we take a sample it is least likely that the given sample's mean = population mean.\n",
    " - Standard deviation of sample means is a scaled version of Population standard deviations by a factor of sqrt(number of samples)\n",
    " - The distribution of sample means follow a normal distribution and the population distribution doesn't really matter. It can follow any horrible distribution it may like."
   ]
  },
  {
   "cell_type": "code",
   "execution_count": 10,
   "metadata": {},
   "outputs": [],
   "source": [
    "def generate_random_samples(population_array: list,\n",
    "                            sample_size:int=30) -> list:\n",
    "    '''\n",
    "    Given an array like object return some random samples of size = sample_size\n",
    "    '''\n",
    "    random_sample_indices = np.random.randint(low=0,high=len(population_array), size=sample_size)\n",
    "    random_samples = []\n",
    "    for indices in random_sample_indices:\n",
    "        random_samples.append(population_array[indices])\n",
    "    return random_samples"
   ]
  },
  {
   "cell_type": "markdown",
   "metadata": {},
   "source": [
    "# Confidence Interval using Z statistics\n",
    "Take a random sample of size large enough for CLT to be applicable (Typically 30), given population standard deviation σ, number of samples = n, sample mean = X_bar estimate the range of values within which population mean is going to lie"
   ]
  },
  {
   "cell_type": "code",
   "execution_count": 11,
   "metadata": {},
   "outputs": [],
   "source": [
    "from scipy.stats import norm, t"
   ]
  },
  {
   "cell_type": "code",
   "execution_count": 12,
   "metadata": {},
   "outputs": [
    {
     "name": "stdout",
     "output_type": "stream",
     "text": [
      "With 90.0% confidence population mean is going to lie within (43.745, 61.255)\n",
      "Actual population mean = 48.743\n"
     ]
    }
   ],
   "source": [
    "population_mean = round(mean(df['Person age']),3)\n",
    "sample_size = 30\n",
    "random_samples = generate_random_samples(population_array=df['Person age'].tolist(), sample_size=sample_size)\n",
    "sample_mean = mean(random_samples)\n",
    "population_std_dev = pstdev(df['Person age'].tolist())\n",
    "sample_std_dev = population_std_dev/sample_size**0.5\n",
    "confidence_interval = 0.90\n",
    "prob_high = (1+confidence_interval)/2\n",
    "prob_low = (1-confidence_interval)/2\n",
    "x_high = round(norm.ppf(prob_high,loc=sample_mean,scale=sample_std_dev),3)\n",
    "x_low = round(norm.ppf(prob_low,loc=sample_mean,scale=sample_std_dev),3)\n",
    "print('With {}% confidence population mean is going to lie within {}'.format(confidence_interval*100, tuple([x_low,x_high])))\n",
    "print('Actual population mean = {}'.format(population_mean))"
   ]
  },
  {
   "cell_type": "markdown",
   "metadata": {},
   "source": [
    "# What is the Random Variable?\n",
    "An important concept to understand here what is the random variable. Suppose we take another random sample of the same size. Its mean will be changed. Accordingly the given range will also change. What confidence interval gives is the probability that if we take the different samples how many times the calculated range will contain population mean?<br><br>\n",
    "Below we will take samples of size 30, 10000 times and find out how many times the ranges calculated will contain population mean. For better understanding we will decrease the confidence interval to 60%"
   ]
  },
  {
   "cell_type": "code",
   "execution_count": 13,
   "metadata": {},
   "outputs": [],
   "source": [
    "def what_is_random_var(confidence_interval = 0.60,\n",
    "                       iterations = 1000):\n",
    "    times_range_contains_mu = 0;\n",
    "    for i in range(0,iterations):\n",
    "        sample_size = 30\n",
    "        random_samples = generate_random_samples(population_array=df['Person age'].tolist(), \n",
    "                                                 sample_size=sample_size)\n",
    "        sample_mean = mean(random_samples)\n",
    "        population_std_dev = pstdev(df['Person age'].tolist())\n",
    "        sample_std_dev = population_std_dev/sample_size**0.5\n",
    "        prob_high = (1+confidence_interval)/2\n",
    "        prob_low = (1-confidence_interval)/2\n",
    "        x_high = round(norm.ppf(prob_high,loc=sample_mean,scale=sample_std_dev),3)\n",
    "        x_low = round(norm.ppf(prob_low,loc=sample_mean,scale=sample_std_dev),3)\n",
    "\n",
    "        #check whether population mean lies within the calculated ranges\n",
    "        if x_low <= population_mean <= x_high:\n",
    "            # increment the counter\n",
    "            times_range_contains_mu+=1\n",
    "        else:\n",
    "            pass\n",
    "    print('Number of times the ranges contain population mean = {}'.format(times_range_contains_mu))"
   ]
  },
  {
   "cell_type": "code",
   "execution_count": 14,
   "metadata": {},
   "outputs": [
    {
     "name": "stdout",
     "output_type": "stream",
     "text": [
      "Number of times the ranges contain population mean = 600\n"
     ]
    }
   ],
   "source": [
    "what_is_random_var(confidence_interval = 0.60,\n",
    "                   iterations = 1000\n",
    "                  )"
   ]
  },
  {
   "cell_type": "code",
   "execution_count": 17,
   "metadata": {},
   "outputs": [
    {
     "name": "stdout",
     "output_type": "stream",
     "text": [
      "Number of times the ranges contain population mean = 74\n"
     ]
    }
   ],
   "source": [
    "what_is_random_var(confidence_interval = 0.75,\n",
    "                   iterations = 100\n",
    "                  )"
   ]
  },
  {
   "cell_type": "code",
   "execution_count": 16,
   "metadata": {},
   "outputs": [
    {
     "name": "stdout",
     "output_type": "stream",
     "text": [
      "Number of times the ranges contain population mean = 9326\n"
     ]
    }
   ],
   "source": [
    "what_is_random_var(confidence_interval = 0.935,\n",
    "                   iterations = 10000\n",
    "                  )"
   ]
  },
  {
   "cell_type": "markdown",
   "metadata": {},
   "source": [
    "<b>Inference:</b> The above experiment shows that no matter how many times we do the samplings number of times the calculated ranges will contain population mean = confidence interval x no. of sampling iterations"
   ]
  },
  {
   "cell_type": "code",
   "execution_count": null,
   "metadata": {},
   "outputs": [],
   "source": []
  }
 ],
 "metadata": {
  "kernelspec": {
   "display_name": "Python 3",
   "language": "python",
   "name": "python3"
  },
  "language_info": {
   "codemirror_mode": {
    "name": "ipython",
    "version": 3
   },
   "file_extension": ".py",
   "mimetype": "text/x-python",
   "name": "python",
   "nbconvert_exporter": "python",
   "pygments_lexer": "ipython3",
   "version": "3.7.6"
  }
 },
 "nbformat": 4,
 "nbformat_minor": 4
}
