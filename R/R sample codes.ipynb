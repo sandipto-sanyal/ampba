{
 "cells": [
  {
   "cell_type": "markdown",
   "metadata": {},
   "source": [
    "# Basic data types"
   ]
  },
  {
   "cell_type": "markdown",
   "metadata": {},
   "source": [
    "## Vectors"
   ]
  },
  {
   "cell_type": "code",
   "execution_count": 1,
   "metadata": {},
   "outputs": [
    {
     "name": "stdout",
     "output_type": "stream",
     "text": [
      "[1] \"1\" \"2\" \"3\" \"A\" \"B\" \"C\"\n"
     ]
    }
   ],
   "source": [
    "v1 = c(1,2,3,\"A\",\"B\",\"C\")\n",
    "print(v1)"
   ]
  },
  {
   "cell_type": "markdown",
   "metadata": {},
   "source": [
    "## Vector operations"
   ]
  },
  {
   "cell_type": "markdown",
   "metadata": {},
   "source": [
    "### Accessing elements\n",
    "In R index starts from 1"
   ]
  },
  {
   "cell_type": "code",
   "execution_count": 2,
   "metadata": {},
   "outputs": [
    {
     "data": {
      "text/html": [
       "'1'"
      ],
      "text/latex": [
       "'1'"
      ],
      "text/markdown": [
       "'1'"
      ],
      "text/plain": [
       "[1] \"1\""
      ]
     },
     "metadata": {},
     "output_type": "display_data"
    }
   ],
   "source": [
    "v1[1]"
   ]
  },
  {
   "cell_type": "markdown",
   "metadata": {},
   "source": [
    "### Getting length of vector"
   ]
  },
  {
   "cell_type": "code",
   "execution_count": 3,
   "metadata": {},
   "outputs": [
    {
     "data": {
      "text/html": [
       "6"
      ],
      "text/latex": [
       "6"
      ],
      "text/markdown": [
       "6"
      ],
      "text/plain": [
       "[1] 6"
      ]
     },
     "metadata": {},
     "output_type": "display_data"
    }
   ],
   "source": [
    "length(v1)"
   ]
  },
  {
   "cell_type": "markdown",
   "metadata": {},
   "source": [
    "### Slicing elements"
   ]
  },
  {
   "cell_type": "markdown",
   "metadata": {},
   "source": [
    "#### From To"
   ]
  },
  {
   "cell_type": "code",
   "execution_count": 4,
   "metadata": {},
   "outputs": [
    {
     "name": "stdout",
     "output_type": "stream",
     "text": [
      "Elements from position 2 to 5 2 3 A B"
     ]
    }
   ],
   "source": [
    "cat(\"Elements from position 2 to 5 \")\n",
    "cat(v1[2:5])"
   ]
  },
  {
   "cell_type": "markdown",
   "metadata": {},
   "source": [
    "#### Give last 2 elements"
   ]
  },
  {
   "cell_type": "code",
   "execution_count": 5,
   "metadata": {},
   "outputs": [
    {
     "data": {
      "text/html": [
       "<ol class=list-inline>\n",
       "\t<li>'B'</li>\n",
       "\t<li>'C'</li>\n",
       "</ol>\n"
      ],
      "text/latex": [
       "\\begin{enumerate*}\n",
       "\\item 'B'\n",
       "\\item 'C'\n",
       "\\end{enumerate*}\n"
      ],
      "text/markdown": [
       "1. 'B'\n",
       "2. 'C'\n",
       "\n",
       "\n"
      ],
      "text/plain": [
       "[1] \"B\" \"C\""
      ]
     },
     "metadata": {},
     "output_type": "display_data"
    }
   ],
   "source": [
    "tail(v1, 2)"
   ]
  },
  {
   "cell_type": "markdown",
   "metadata": {},
   "source": [
    "#### Remove 2nd element"
   ]
  },
  {
   "cell_type": "code",
   "execution_count": 6,
   "metadata": {},
   "outputs": [
    {
     "data": {
      "text/html": [
       "<ol class=list-inline>\n",
       "\t<li>'1'</li>\n",
       "\t<li>'3'</li>\n",
       "\t<li>'A'</li>\n",
       "\t<li>'B'</li>\n",
       "\t<li>'C'</li>\n",
       "</ol>\n"
      ],
      "text/latex": [
       "\\begin{enumerate*}\n",
       "\\item '1'\n",
       "\\item '3'\n",
       "\\item 'A'\n",
       "\\item 'B'\n",
       "\\item 'C'\n",
       "\\end{enumerate*}\n"
      ],
      "text/markdown": [
       "1. '1'\n",
       "2. '3'\n",
       "3. 'A'\n",
       "4. 'B'\n",
       "5. 'C'\n",
       "\n",
       "\n"
      ],
      "text/plain": [
       "[1] \"1\" \"3\" \"A\" \"B\" \"C\""
      ]
     },
     "metadata": {},
     "output_type": "display_data"
    }
   ],
   "source": [
    "v1[-2]"
   ]
  },
  {
   "cell_type": "markdown",
   "metadata": {},
   "source": [
    "#### Remove 2nd to 4th elements"
   ]
  },
  {
   "cell_type": "code",
   "execution_count": 7,
   "metadata": {},
   "outputs": [
    {
     "data": {
      "text/html": [
       "<ol class=list-inline>\n",
       "\t<li>'1'</li>\n",
       "\t<li>'B'</li>\n",
       "\t<li>'C'</li>\n",
       "</ol>\n"
      ],
      "text/latex": [
       "\\begin{enumerate*}\n",
       "\\item '1'\n",
       "\\item 'B'\n",
       "\\item 'C'\n",
       "\\end{enumerate*}\n"
      ],
      "text/markdown": [
       "1. '1'\n",
       "2. 'B'\n",
       "3. 'C'\n",
       "\n",
       "\n"
      ],
      "text/plain": [
       "[1] \"1\" \"B\" \"C\""
      ]
     },
     "metadata": {},
     "output_type": "display_data"
    }
   ],
   "source": [
    "v1[-2:-4]"
   ]
  },
  {
   "cell_type": "markdown",
   "metadata": {},
   "source": [
    "### Element wise addition"
   ]
  },
  {
   "cell_type": "code",
   "execution_count": 8,
   "metadata": {},
   "outputs": [
    {
     "data": {
      "text/html": [
       "<ol class=list-inline>\n",
       "\t<li>3</li>\n",
       "\t<li>5</li>\n",
       "\t<li>7</li>\n",
       "</ol>\n"
      ],
      "text/latex": [
       "\\begin{enumerate*}\n",
       "\\item 3\n",
       "\\item 5\n",
       "\\item 7\n",
       "\\end{enumerate*}\n"
      ],
      "text/markdown": [
       "1. 3\n",
       "2. 5\n",
       "3. 7\n",
       "\n",
       "\n"
      ],
      "text/plain": [
       "[1] 3 5 7"
      ]
     },
     "metadata": {},
     "output_type": "display_data"
    }
   ],
   "source": [
    "v2 = c(1,2,3)\n",
    "v3 = c(2,3,4)\n",
    "v2 + v3"
   ]
  },
  {
   "cell_type": "markdown",
   "metadata": {},
   "source": [
    "## Append to vector"
   ]
  },
  {
   "cell_type": "code",
   "execution_count": 9,
   "metadata": {},
   "outputs": [
    {
     "data": {
      "text/html": [
       "<ol class=list-inline>\n",
       "\t<li>'1'</li>\n",
       "\t<li>'2'</li>\n",
       "\t<li>'3'</li>\n",
       "\t<li>'A'</li>\n",
       "\t<li>'B'</li>\n",
       "\t<li>'C'</li>\n",
       "\t<li>'D'</li>\n",
       "</ol>\n"
      ],
      "text/latex": [
       "\\begin{enumerate*}\n",
       "\\item '1'\n",
       "\\item '2'\n",
       "\\item '3'\n",
       "\\item 'A'\n",
       "\\item 'B'\n",
       "\\item 'C'\n",
       "\\item 'D'\n",
       "\\end{enumerate*}\n"
      ],
      "text/markdown": [
       "1. '1'\n",
       "2. '2'\n",
       "3. '3'\n",
       "4. 'A'\n",
       "5. 'B'\n",
       "6. 'C'\n",
       "7. 'D'\n",
       "\n",
       "\n"
      ],
      "text/plain": [
       "[1] \"1\" \"2\" \"3\" \"A\" \"B\" \"C\" \"D\""
      ]
     },
     "metadata": {},
     "output_type": "display_data"
    }
   ],
   "source": [
    "v1 = c(v1,\"D\")\n",
    "v1"
   ]
  },
  {
   "cell_type": "markdown",
   "metadata": {},
   "source": [
    "### Dot and cross product"
   ]
  },
  {
   "cell_type": "code",
   "execution_count": 10,
   "metadata": {},
   "outputs": [],
   "source": [
    "#install.packages('pracma')"
   ]
  },
  {
   "cell_type": "code",
   "execution_count": 11,
   "metadata": {},
   "outputs": [
    {
     "name": "stderr",
     "output_type": "stream",
     "text": [
      "Warning message:\n",
      "\"package 'pracma' was built under R version 3.6.3\""
     ]
    },
    {
     "name": "stdout",
     "output_type": "stream",
     "text": [
      "[1] 20\n",
      "[1] -1  2 -1\n"
     ]
    }
   ],
   "source": [
    "library(pracma)\n",
    "print(dot(v2,v3))\n",
    "print(cross(v2,v3))"
   ]
  },
  {
   "cell_type": "markdown",
   "metadata": {},
   "source": [
    "#### Check whether a value is in the vector"
   ]
  },
  {
   "cell_type": "code",
   "execution_count": 12,
   "metadata": {},
   "outputs": [
    {
     "data": {
      "text/html": [
       "TRUE"
      ],
      "text/latex": [
       "TRUE"
      ],
      "text/markdown": [
       "TRUE"
      ],
      "text/plain": [
       "[1] TRUE"
      ]
     },
     "metadata": {},
     "output_type": "display_data"
    }
   ],
   "source": [
    "2 %in% v2"
   ]
  },
  {
   "cell_type": "markdown",
   "metadata": {},
   "source": [
    "## Sequences"
   ]
  },
  {
   "cell_type": "code",
   "execution_count": 13,
   "metadata": {},
   "outputs": [
    {
     "data": {
      "text/html": [
       "<ol class=list-inline>\n",
       "\t<li>20</li>\n",
       "\t<li>19.5</li>\n",
       "\t<li>19</li>\n",
       "\t<li>18.5</li>\n",
       "\t<li>18</li>\n",
       "\t<li>17.5</li>\n",
       "\t<li>17</li>\n",
       "\t<li>16.5</li>\n",
       "\t<li>16</li>\n",
       "\t<li>15.5</li>\n",
       "\t<li>15</li>\n",
       "\t<li>14.5</li>\n",
       "\t<li>14</li>\n",
       "\t<li>13.5</li>\n",
       "\t<li>13</li>\n",
       "\t<li>12.5</li>\n",
       "\t<li>12</li>\n",
       "\t<li>11.5</li>\n",
       "\t<li>11</li>\n",
       "\t<li>10.5</li>\n",
       "\t<li>10</li>\n",
       "\t<li>9.5</li>\n",
       "\t<li>9</li>\n",
       "\t<li>8.5</li>\n",
       "\t<li>8</li>\n",
       "\t<li>7.5</li>\n",
       "\t<li>7</li>\n",
       "\t<li>6.5</li>\n",
       "\t<li>6</li>\n",
       "\t<li>5.5</li>\n",
       "\t<li>5</li>\n",
       "\t<li>4.5</li>\n",
       "\t<li>4</li>\n",
       "\t<li>3.5</li>\n",
       "\t<li>3</li>\n",
       "\t<li>2.5</li>\n",
       "\t<li>2</li>\n",
       "\t<li>1.5</li>\n",
       "\t<li>1</li>\n",
       "</ol>\n"
      ],
      "text/latex": [
       "\\begin{enumerate*}\n",
       "\\item 20\n",
       "\\item 19.5\n",
       "\\item 19\n",
       "\\item 18.5\n",
       "\\item 18\n",
       "\\item 17.5\n",
       "\\item 17\n",
       "\\item 16.5\n",
       "\\item 16\n",
       "\\item 15.5\n",
       "\\item 15\n",
       "\\item 14.5\n",
       "\\item 14\n",
       "\\item 13.5\n",
       "\\item 13\n",
       "\\item 12.5\n",
       "\\item 12\n",
       "\\item 11.5\n",
       "\\item 11\n",
       "\\item 10.5\n",
       "\\item 10\n",
       "\\item 9.5\n",
       "\\item 9\n",
       "\\item 8.5\n",
       "\\item 8\n",
       "\\item 7.5\n",
       "\\item 7\n",
       "\\item 6.5\n",
       "\\item 6\n",
       "\\item 5.5\n",
       "\\item 5\n",
       "\\item 4.5\n",
       "\\item 4\n",
       "\\item 3.5\n",
       "\\item 3\n",
       "\\item 2.5\n",
       "\\item 2\n",
       "\\item 1.5\n",
       "\\item 1\n",
       "\\end{enumerate*}\n"
      ],
      "text/markdown": [
       "1. 20\n",
       "2. 19.5\n",
       "3. 19\n",
       "4. 18.5\n",
       "5. 18\n",
       "6. 17.5\n",
       "7. 17\n",
       "8. 16.5\n",
       "9. 16\n",
       "10. 15.5\n",
       "11. 15\n",
       "12. 14.5\n",
       "13. 14\n",
       "14. 13.5\n",
       "15. 13\n",
       "16. 12.5\n",
       "17. 12\n",
       "18. 11.5\n",
       "19. 11\n",
       "20. 10.5\n",
       "21. 10\n",
       "22. 9.5\n",
       "23. 9\n",
       "24. 8.5\n",
       "25. 8\n",
       "26. 7.5\n",
       "27. 7\n",
       "28. 6.5\n",
       "29. 6\n",
       "30. 5.5\n",
       "31. 5\n",
       "32. 4.5\n",
       "33. 4\n",
       "34. 3.5\n",
       "35. 3\n",
       "36. 2.5\n",
       "37. 2\n",
       "38. 1.5\n",
       "39. 1\n",
       "\n",
       "\n"
      ],
      "text/plain": [
       " [1] 20.0 19.5 19.0 18.5 18.0 17.5 17.0 16.5 16.0 15.5 15.0 14.5 14.0 13.5 13.0\n",
       "[16] 12.5 12.0 11.5 11.0 10.5 10.0  9.5  9.0  8.5  8.0  7.5  7.0  6.5  6.0  5.5\n",
       "[31]  5.0  4.5  4.0  3.5  3.0  2.5  2.0  1.5  1.0"
      ]
     },
     "metadata": {},
     "output_type": "display_data"
    }
   ],
   "source": [
    "seq1 = seq(20,1, -0.5)\n",
    "seq1"
   ]
  },
  {
   "cell_type": "markdown",
   "metadata": {},
   "source": [
    "### Operations\n",
    "Same as that of Vectors"
   ]
  },
  {
   "cell_type": "markdown",
   "metadata": {},
   "source": [
    "## Repeats"
   ]
  },
  {
   "cell_type": "code",
   "execution_count": 14,
   "metadata": {},
   "outputs": [
    {
     "data": {
      "text/html": [
       "<ol class=list-inline>\n",
       "\t<li>1</li>\n",
       "\t<li>1</li>\n",
       "\t<li>1</li>\n",
       "\t<li>2</li>\n",
       "\t<li>2</li>\n",
       "\t<li>2</li>\n",
       "\t<li>3</li>\n",
       "\t<li>3</li>\n",
       "\t<li>3</li>\n",
       "\t<li>4</li>\n",
       "\t<li>4</li>\n",
       "\t<li>4</li>\n",
       "\t<li>5</li>\n",
       "\t<li>5</li>\n",
       "\t<li>5</li>\n",
       "\t<li>6</li>\n",
       "\t<li>6</li>\n",
       "\t<li>6</li>\n",
       "\t<li>7</li>\n",
       "\t<li>7</li>\n",
       "\t<li>7</li>\n",
       "</ol>\n"
      ],
      "text/latex": [
       "\\begin{enumerate*}\n",
       "\\item 1\n",
       "\\item 1\n",
       "\\item 1\n",
       "\\item 2\n",
       "\\item 2\n",
       "\\item 2\n",
       "\\item 3\n",
       "\\item 3\n",
       "\\item 3\n",
       "\\item 4\n",
       "\\item 4\n",
       "\\item 4\n",
       "\\item 5\n",
       "\\item 5\n",
       "\\item 5\n",
       "\\item 6\n",
       "\\item 6\n",
       "\\item 6\n",
       "\\item 7\n",
       "\\item 7\n",
       "\\item 7\n",
       "\\end{enumerate*}\n"
      ],
      "text/markdown": [
       "1. 1\n",
       "2. 1\n",
       "3. 1\n",
       "4. 2\n",
       "5. 2\n",
       "6. 2\n",
       "7. 3\n",
       "8. 3\n",
       "9. 3\n",
       "10. 4\n",
       "11. 4\n",
       "12. 4\n",
       "13. 5\n",
       "14. 5\n",
       "15. 5\n",
       "16. 6\n",
       "17. 6\n",
       "18. 6\n",
       "19. 7\n",
       "20. 7\n",
       "21. 7\n",
       "\n",
       "\n"
      ],
      "text/plain": [
       " [1] 1 1 1 2 2 2 3 3 3 4 4 4 5 5 5 6 6 6 7 7 7"
      ]
     },
     "metadata": {},
     "output_type": "display_data"
    }
   ],
   "source": [
    "rep(1:7,each=3)"
   ]
  },
  {
   "cell_type": "markdown",
   "metadata": {},
   "source": [
    "## Sets"
   ]
  },
  {
   "cell_type": "code",
   "execution_count": 15,
   "metadata": {},
   "outputs": [
    {
     "name": "stdout",
     "output_type": "stream",
     "text": [
      "[1] \"a\" \"b\" \"c\" \"d\" \"e\" \"f\" \"g\"\n",
      "[1] \"d\" \"e\"\n",
      "[1] \"a\" \"b\" \"c\"\n"
     ]
    }
   ],
   "source": [
    "setA <- c(\"a\", \"b\", \"c\", \"d\", \"e\")\n",
    "setB <- c(\"d\", \"e\", \"f\", \"g\")\n",
    "print(union(setA, setB))\n",
    "print(intersect(setA, setB))\n",
    "print(setdiff(setA,setB))"
   ]
  },
  {
   "cell_type": "markdown",
   "metadata": {},
   "source": [
    "# Dataframes"
   ]
  },
  {
   "cell_type": "markdown",
   "metadata": {},
   "source": [
    "## Create dataframe"
   ]
  },
  {
   "cell_type": "code",
   "execution_count": 16,
   "metadata": {},
   "outputs": [
    {
     "data": {
      "text/html": [
       "<table>\n",
       "<thead><tr><th scope=col>col1</th><th scope=col>col2</th><th scope=col>col3</th></tr></thead>\n",
       "<tbody>\n",
       "\t<tr><td> 1        </td><td>A         </td><td>03/20/2020</td></tr>\n",
       "\t<tr><td> 2        </td><td>B         </td><td>03/21/2020</td></tr>\n",
       "\t<tr><td> 3        </td><td>C         </td><td>03/22/2020</td></tr>\n",
       "\t<tr><td> 4        </td><td>D         </td><td>03/23/2020</td></tr>\n",
       "\t<tr><td> 5        </td><td>A         </td><td>03/20/2020</td></tr>\n",
       "\t<tr><td> 6        </td><td>B         </td><td>03/21/2020</td></tr>\n",
       "\t<tr><td> 7        </td><td>C         </td><td>03/22/2020</td></tr>\n",
       "\t<tr><td> 8        </td><td>D         </td><td>03/23/2020</td></tr>\n",
       "\t<tr><td> 9        </td><td>A         </td><td>03/20/2020</td></tr>\n",
       "\t<tr><td>10        </td><td>B         </td><td>03/21/2020</td></tr>\n",
       "\t<tr><td>11        </td><td>C         </td><td>03/22/2020</td></tr>\n",
       "\t<tr><td>12        </td><td>D         </td><td>03/23/2020</td></tr>\n",
       "\t<tr><td>13        </td><td>A         </td><td>03/20/2020</td></tr>\n",
       "\t<tr><td>14        </td><td>B         </td><td>03/21/2020</td></tr>\n",
       "\t<tr><td>15        </td><td>C         </td><td>03/22/2020</td></tr>\n",
       "\t<tr><td>16        </td><td>D         </td><td>03/23/2020</td></tr>\n",
       "\t<tr><td>17        </td><td>A         </td><td>03/20/2020</td></tr>\n",
       "\t<tr><td>18        </td><td>B         </td><td>03/21/2020</td></tr>\n",
       "\t<tr><td>19        </td><td>C         </td><td>03/22/2020</td></tr>\n",
       "\t<tr><td>20        </td><td>D         </td><td>03/23/2020</td></tr>\n",
       "</tbody>\n",
       "</table>\n"
      ],
      "text/latex": [
       "\\begin{tabular}{r|lll}\n",
       " col1 & col2 & col3\\\\\n",
       "\\hline\n",
       "\t  1         & A          & 03/20/2020\\\\\n",
       "\t  2         & B          & 03/21/2020\\\\\n",
       "\t  3         & C          & 03/22/2020\\\\\n",
       "\t  4         & D          & 03/23/2020\\\\\n",
       "\t  5         & A          & 03/20/2020\\\\\n",
       "\t  6         & B          & 03/21/2020\\\\\n",
       "\t  7         & C          & 03/22/2020\\\\\n",
       "\t  8         & D          & 03/23/2020\\\\\n",
       "\t  9         & A          & 03/20/2020\\\\\n",
       "\t 10         & B          & 03/21/2020\\\\\n",
       "\t 11         & C          & 03/22/2020\\\\\n",
       "\t 12         & D          & 03/23/2020\\\\\n",
       "\t 13         & A          & 03/20/2020\\\\\n",
       "\t 14         & B          & 03/21/2020\\\\\n",
       "\t 15         & C          & 03/22/2020\\\\\n",
       "\t 16         & D          & 03/23/2020\\\\\n",
       "\t 17         & A          & 03/20/2020\\\\\n",
       "\t 18         & B          & 03/21/2020\\\\\n",
       "\t 19         & C          & 03/22/2020\\\\\n",
       "\t 20         & D          & 03/23/2020\\\\\n",
       "\\end{tabular}\n"
      ],
      "text/markdown": [
       "\n",
       "| col1 | col2 | col3 |\n",
       "|---|---|---|\n",
       "|  1         | A          | 03/20/2020 |\n",
       "|  2         | B          | 03/21/2020 |\n",
       "|  3         | C          | 03/22/2020 |\n",
       "|  4         | D          | 03/23/2020 |\n",
       "|  5         | A          | 03/20/2020 |\n",
       "|  6         | B          | 03/21/2020 |\n",
       "|  7         | C          | 03/22/2020 |\n",
       "|  8         | D          | 03/23/2020 |\n",
       "|  9         | A          | 03/20/2020 |\n",
       "| 10         | B          | 03/21/2020 |\n",
       "| 11         | C          | 03/22/2020 |\n",
       "| 12         | D          | 03/23/2020 |\n",
       "| 13         | A          | 03/20/2020 |\n",
       "| 14         | B          | 03/21/2020 |\n",
       "| 15         | C          | 03/22/2020 |\n",
       "| 16         | D          | 03/23/2020 |\n",
       "| 17         | A          | 03/20/2020 |\n",
       "| 18         | B          | 03/21/2020 |\n",
       "| 19         | C          | 03/22/2020 |\n",
       "| 20         | D          | 03/23/2020 |\n",
       "\n"
      ],
      "text/plain": [
       "   col1 col2 col3      \n",
       "1   1   A    03/20/2020\n",
       "2   2   B    03/21/2020\n",
       "3   3   C    03/22/2020\n",
       "4   4   D    03/23/2020\n",
       "5   5   A    03/20/2020\n",
       "6   6   B    03/21/2020\n",
       "7   7   C    03/22/2020\n",
       "8   8   D    03/23/2020\n",
       "9   9   A    03/20/2020\n",
       "10 10   B    03/21/2020\n",
       "11 11   C    03/22/2020\n",
       "12 12   D    03/23/2020\n",
       "13 13   A    03/20/2020\n",
       "14 14   B    03/21/2020\n",
       "15 15   C    03/22/2020\n",
       "16 16   D    03/23/2020\n",
       "17 17   A    03/20/2020\n",
       "18 18   B    03/21/2020\n",
       "19 19   C    03/22/2020\n",
       "20 20   D    03/23/2020"
      ]
     },
     "metadata": {},
     "output_type": "display_data"
    }
   ],
   "source": [
    "c1 = seq(1:20)\n",
    "c2 = c(\"A\",\"B\",\"C\", \"D\")\n",
    "c3 = c(\"03/20/2020\",\"03/21/2020\",\"03/22/2020\",\"03/23/2020\")\n",
    "df1 = data.frame(col1=c1, col2=c2, col3=c3, stringsAsFactors = FALSE)\n",
    "df1"
   ]
  },
  {
   "cell_type": "markdown",
   "metadata": {},
   "source": [
    "## Access n<sup>th</sup> row"
   ]
  },
  {
   "cell_type": "code",
   "execution_count": 17,
   "metadata": {},
   "outputs": [
    {
     "data": {
      "text/html": [
       "<table>\n",
       "<thead><tr><th></th><th scope=col>col1</th><th scope=col>col2</th><th scope=col>col3</th></tr></thead>\n",
       "<tbody>\n",
       "\t<tr><th scope=row>15</th><td>15        </td><td>C         </td><td>03/22/2020</td></tr>\n",
       "</tbody>\n",
       "</table>\n"
      ],
      "text/latex": [
       "\\begin{tabular}{r|lll}\n",
       "  & col1 & col2 & col3\\\\\n",
       "\\hline\n",
       "\t15 & 15         & C          & 03/22/2020\\\\\n",
       "\\end{tabular}\n"
      ],
      "text/markdown": [
       "\n",
       "| <!--/--> | col1 | col2 | col3 |\n",
       "|---|---|---|---|\n",
       "| 15 | 15         | C          | 03/22/2020 |\n",
       "\n"
      ],
      "text/plain": [
       "   col1 col2 col3      \n",
       "15 15   C    03/22/2020"
      ]
     },
     "metadata": {},
     "output_type": "display_data"
    }
   ],
   "source": [
    "n = 15\n",
    "df1[n,]"
   ]
  },
  {
   "cell_type": "markdown",
   "metadata": {},
   "source": [
    "## Assign NA to a particular row"
   ]
  },
  {
   "cell_type": "code",
   "execution_count": 18,
   "metadata": {},
   "outputs": [
    {
     "data": {
      "text/html": [
       "<table>\n",
       "<thead><tr><th scope=col>col1</th><th scope=col>col2</th><th scope=col>col3</th></tr></thead>\n",
       "<tbody>\n",
       "\t<tr><td> 1        </td><td>A         </td><td>03/20/2020</td></tr>\n",
       "\t<tr><td> 2        </td><td>B         </td><td>03/21/2020</td></tr>\n",
       "\t<tr><td> 3        </td><td>C         </td><td>03/22/2020</td></tr>\n",
       "\t<tr><td> 4        </td><td>D         </td><td>03/23/2020</td></tr>\n",
       "\t<tr><td> 5        </td><td>A         </td><td>03/20/2020</td></tr>\n",
       "\t<tr><td> 6        </td><td>B         </td><td>03/21/2020</td></tr>\n",
       "\t<tr><td> 7        </td><td>C         </td><td>03/22/2020</td></tr>\n",
       "\t<tr><td> 8        </td><td>D         </td><td>03/23/2020</td></tr>\n",
       "\t<tr><td> 9        </td><td>A         </td><td>03/20/2020</td></tr>\n",
       "\t<tr><td>10        </td><td>B         </td><td>03/21/2020</td></tr>\n",
       "\t<tr><td>11        </td><td>C         </td><td>03/22/2020</td></tr>\n",
       "\t<tr><td>12        </td><td>D         </td><td>03/23/2020</td></tr>\n",
       "\t<tr><td>13        </td><td>A         </td><td>03/20/2020</td></tr>\n",
       "\t<tr><td>14        </td><td>B         </td><td>03/21/2020</td></tr>\n",
       "\t<tr><td>15        </td><td>C         </td><td>03/22/2020</td></tr>\n",
       "\t<tr><td>16        </td><td>D         </td><td>03/23/2020</td></tr>\n",
       "\t<tr><td>17        </td><td>A         </td><td>03/20/2020</td></tr>\n",
       "\t<tr><td>18        </td><td>B         </td><td>03/21/2020</td></tr>\n",
       "\t<tr><td>19        </td><td>C         </td><td>03/22/2020</td></tr>\n",
       "\t<tr><td>20        </td><td>NA        </td><td>03/23/2020</td></tr>\n",
       "</tbody>\n",
       "</table>\n"
      ],
      "text/latex": [
       "\\begin{tabular}{r|lll}\n",
       " col1 & col2 & col3\\\\\n",
       "\\hline\n",
       "\t  1         & A          & 03/20/2020\\\\\n",
       "\t  2         & B          & 03/21/2020\\\\\n",
       "\t  3         & C          & 03/22/2020\\\\\n",
       "\t  4         & D          & 03/23/2020\\\\\n",
       "\t  5         & A          & 03/20/2020\\\\\n",
       "\t  6         & B          & 03/21/2020\\\\\n",
       "\t  7         & C          & 03/22/2020\\\\\n",
       "\t  8         & D          & 03/23/2020\\\\\n",
       "\t  9         & A          & 03/20/2020\\\\\n",
       "\t 10         & B          & 03/21/2020\\\\\n",
       "\t 11         & C          & 03/22/2020\\\\\n",
       "\t 12         & D          & 03/23/2020\\\\\n",
       "\t 13         & A          & 03/20/2020\\\\\n",
       "\t 14         & B          & 03/21/2020\\\\\n",
       "\t 15         & C          & 03/22/2020\\\\\n",
       "\t 16         & D          & 03/23/2020\\\\\n",
       "\t 17         & A          & 03/20/2020\\\\\n",
       "\t 18         & B          & 03/21/2020\\\\\n",
       "\t 19         & C          & 03/22/2020\\\\\n",
       "\t 20         & NA         & 03/23/2020\\\\\n",
       "\\end{tabular}\n"
      ],
      "text/markdown": [
       "\n",
       "| col1 | col2 | col3 |\n",
       "|---|---|---|\n",
       "|  1         | A          | 03/20/2020 |\n",
       "|  2         | B          | 03/21/2020 |\n",
       "|  3         | C          | 03/22/2020 |\n",
       "|  4         | D          | 03/23/2020 |\n",
       "|  5         | A          | 03/20/2020 |\n",
       "|  6         | B          | 03/21/2020 |\n",
       "|  7         | C          | 03/22/2020 |\n",
       "|  8         | D          | 03/23/2020 |\n",
       "|  9         | A          | 03/20/2020 |\n",
       "| 10         | B          | 03/21/2020 |\n",
       "| 11         | C          | 03/22/2020 |\n",
       "| 12         | D          | 03/23/2020 |\n",
       "| 13         | A          | 03/20/2020 |\n",
       "| 14         | B          | 03/21/2020 |\n",
       "| 15         | C          | 03/22/2020 |\n",
       "| 16         | D          | 03/23/2020 |\n",
       "| 17         | A          | 03/20/2020 |\n",
       "| 18         | B          | 03/21/2020 |\n",
       "| 19         | C          | 03/22/2020 |\n",
       "| 20         | NA         | 03/23/2020 |\n",
       "\n"
      ],
      "text/plain": [
       "   col1 col2 col3      \n",
       "1   1   A    03/20/2020\n",
       "2   2   B    03/21/2020\n",
       "3   3   C    03/22/2020\n",
       "4   4   D    03/23/2020\n",
       "5   5   A    03/20/2020\n",
       "6   6   B    03/21/2020\n",
       "7   7   C    03/22/2020\n",
       "8   8   D    03/23/2020\n",
       "9   9   A    03/20/2020\n",
       "10 10   B    03/21/2020\n",
       "11 11   C    03/22/2020\n",
       "12 12   D    03/23/2020\n",
       "13 13   A    03/20/2020\n",
       "14 14   B    03/21/2020\n",
       "15 15   C    03/22/2020\n",
       "16 16   D    03/23/2020\n",
       "17 17   A    03/20/2020\n",
       "18 18   B    03/21/2020\n",
       "19 19   C    03/22/2020\n",
       "20 20   NA   03/23/2020"
      ]
     },
     "metadata": {},
     "output_type": "display_data"
    }
   ],
   "source": [
    "df1[20,'col2'] = NA\n",
    "df1"
   ]
  },
  {
   "cell_type": "markdown",
   "metadata": {},
   "source": [
    "## Filter out rows containing NA"
   ]
  },
  {
   "cell_type": "code",
   "execution_count": 19,
   "metadata": {},
   "outputs": [
    {
     "data": {
      "text/html": [
       "<table>\n",
       "<thead><tr><th scope=col>col1</th><th scope=col>col2</th><th scope=col>col3</th></tr></thead>\n",
       "<tbody>\n",
       "\t<tr><td> 1        </td><td>A         </td><td>03/20/2020</td></tr>\n",
       "\t<tr><td> 2        </td><td>B         </td><td>03/21/2020</td></tr>\n",
       "\t<tr><td> 3        </td><td>C         </td><td>03/22/2020</td></tr>\n",
       "\t<tr><td> 4        </td><td>D         </td><td>03/23/2020</td></tr>\n",
       "\t<tr><td> 5        </td><td>A         </td><td>03/20/2020</td></tr>\n",
       "\t<tr><td> 6        </td><td>B         </td><td>03/21/2020</td></tr>\n",
       "\t<tr><td> 7        </td><td>C         </td><td>03/22/2020</td></tr>\n",
       "\t<tr><td> 8        </td><td>D         </td><td>03/23/2020</td></tr>\n",
       "\t<tr><td> 9        </td><td>A         </td><td>03/20/2020</td></tr>\n",
       "\t<tr><td>10        </td><td>B         </td><td>03/21/2020</td></tr>\n",
       "\t<tr><td>11        </td><td>C         </td><td>03/22/2020</td></tr>\n",
       "\t<tr><td>12        </td><td>D         </td><td>03/23/2020</td></tr>\n",
       "\t<tr><td>13        </td><td>A         </td><td>03/20/2020</td></tr>\n",
       "\t<tr><td>14        </td><td>B         </td><td>03/21/2020</td></tr>\n",
       "\t<tr><td>15        </td><td>C         </td><td>03/22/2020</td></tr>\n",
       "\t<tr><td>16        </td><td>D         </td><td>03/23/2020</td></tr>\n",
       "\t<tr><td>17        </td><td>A         </td><td>03/20/2020</td></tr>\n",
       "\t<tr><td>18        </td><td>B         </td><td>03/21/2020</td></tr>\n",
       "\t<tr><td>19        </td><td>C         </td><td>03/22/2020</td></tr>\n",
       "</tbody>\n",
       "</table>\n"
      ],
      "text/latex": [
       "\\begin{tabular}{r|lll}\n",
       " col1 & col2 & col3\\\\\n",
       "\\hline\n",
       "\t  1         & A          & 03/20/2020\\\\\n",
       "\t  2         & B          & 03/21/2020\\\\\n",
       "\t  3         & C          & 03/22/2020\\\\\n",
       "\t  4         & D          & 03/23/2020\\\\\n",
       "\t  5         & A          & 03/20/2020\\\\\n",
       "\t  6         & B          & 03/21/2020\\\\\n",
       "\t  7         & C          & 03/22/2020\\\\\n",
       "\t  8         & D          & 03/23/2020\\\\\n",
       "\t  9         & A          & 03/20/2020\\\\\n",
       "\t 10         & B          & 03/21/2020\\\\\n",
       "\t 11         & C          & 03/22/2020\\\\\n",
       "\t 12         & D          & 03/23/2020\\\\\n",
       "\t 13         & A          & 03/20/2020\\\\\n",
       "\t 14         & B          & 03/21/2020\\\\\n",
       "\t 15         & C          & 03/22/2020\\\\\n",
       "\t 16         & D          & 03/23/2020\\\\\n",
       "\t 17         & A          & 03/20/2020\\\\\n",
       "\t 18         & B          & 03/21/2020\\\\\n",
       "\t 19         & C          & 03/22/2020\\\\\n",
       "\\end{tabular}\n"
      ],
      "text/markdown": [
       "\n",
       "| col1 | col2 | col3 |\n",
       "|---|---|---|\n",
       "|  1         | A          | 03/20/2020 |\n",
       "|  2         | B          | 03/21/2020 |\n",
       "|  3         | C          | 03/22/2020 |\n",
       "|  4         | D          | 03/23/2020 |\n",
       "|  5         | A          | 03/20/2020 |\n",
       "|  6         | B          | 03/21/2020 |\n",
       "|  7         | C          | 03/22/2020 |\n",
       "|  8         | D          | 03/23/2020 |\n",
       "|  9         | A          | 03/20/2020 |\n",
       "| 10         | B          | 03/21/2020 |\n",
       "| 11         | C          | 03/22/2020 |\n",
       "| 12         | D          | 03/23/2020 |\n",
       "| 13         | A          | 03/20/2020 |\n",
       "| 14         | B          | 03/21/2020 |\n",
       "| 15         | C          | 03/22/2020 |\n",
       "| 16         | D          | 03/23/2020 |\n",
       "| 17         | A          | 03/20/2020 |\n",
       "| 18         | B          | 03/21/2020 |\n",
       "| 19         | C          | 03/22/2020 |\n",
       "\n"
      ],
      "text/plain": [
       "   col1 col2 col3      \n",
       "1   1   A    03/20/2020\n",
       "2   2   B    03/21/2020\n",
       "3   3   C    03/22/2020\n",
       "4   4   D    03/23/2020\n",
       "5   5   A    03/20/2020\n",
       "6   6   B    03/21/2020\n",
       "7   7   C    03/22/2020\n",
       "8   8   D    03/23/2020\n",
       "9   9   A    03/20/2020\n",
       "10 10   B    03/21/2020\n",
       "11 11   C    03/22/2020\n",
       "12 12   D    03/23/2020\n",
       "13 13   A    03/20/2020\n",
       "14 14   B    03/21/2020\n",
       "15 15   C    03/22/2020\n",
       "16 16   D    03/23/2020\n",
       "17 17   A    03/20/2020\n",
       "18 18   B    03/21/2020\n",
       "19 19   C    03/22/2020"
      ]
     },
     "metadata": {},
     "output_type": "display_data"
    }
   ],
   "source": [
    "subset.data.frame(df1, !is.na(col2))"
   ]
  },
  {
   "cell_type": "markdown",
   "metadata": {},
   "source": [
    "## View datatypes of columns"
   ]
  },
  {
   "cell_type": "code",
   "execution_count": 20,
   "metadata": {},
   "outputs": [
    {
     "name": "stdout",
     "output_type": "stream",
     "text": [
      "'data.frame':\t20 obs. of  3 variables:\n",
      " $ col1: int  1 2 3 4 5 6 7 8 9 10 ...\n",
      " $ col2: chr  \"A\" \"B\" \"C\" \"D\" ...\n",
      " $ col3: chr  \"03/20/2020\" \"03/21/2020\" \"03/22/2020\" \"03/23/2020\" ...\n"
     ]
    }
   ],
   "source": [
    "str(df1)"
   ]
  },
  {
   "cell_type": "markdown",
   "metadata": {},
   "source": [
    "## Convert dates from String"
   ]
  },
  {
   "cell_type": "code",
   "execution_count": 21,
   "metadata": {},
   "outputs": [
    {
     "name": "stdout",
     "output_type": "stream",
     "text": [
      "'data.frame':\t20 obs. of  3 variables:\n",
      " $ col1: int  1 2 3 4 5 6 7 8 9 10 ...\n",
      " $ col2: chr  \"A\" \"B\" \"C\" \"D\" ...\n",
      " $ col3: Date, format: \"2020-03-20\" \"2020-03-21\" ...\n"
     ]
    }
   ],
   "source": [
    "df1$col3 = as.Date(df1$col3, format=\"%m/%d/%Y\")\n",
    "str(df1)"
   ]
  },
  {
   "cell_type": "markdown",
   "metadata": {},
   "source": [
    "## Convert to factors/Label Encoding"
   ]
  },
  {
   "cell_type": "code",
   "execution_count": 22,
   "metadata": {},
   "outputs": [
    {
     "name": "stdout",
     "output_type": "stream",
     "text": [
      "'data.frame':\t20 obs. of  3 variables:\n",
      " $ col1: int  1 2 3 4 5 6 7 8 9 10 ...\n",
      " $ col2: Factor w/ 4 levels \"A\",\"B\",\"C\",\"D\": 1 2 3 4 1 2 3 4 1 2 ...\n",
      " $ col3: Date, format: \"2020-03-20\" \"2020-03-21\" ...\n"
     ]
    }
   ],
   "source": [
    "df1$col2 = factor(df1$col2)\n",
    "str(df1)"
   ]
  },
  {
   "cell_type": "markdown",
   "metadata": {},
   "source": [
    "## Statistical Summary of dataframe"
   ]
  },
  {
   "cell_type": "code",
   "execution_count": 23,
   "metadata": {},
   "outputs": [
    {
     "data": {
      "text/plain": [
       "      col1         col2        col3           \n",
       " Min.   : 1.00   A   :5   Min.   :2020-03-20  \n",
       " 1st Qu.: 5.75   B   :5   1st Qu.:2020-03-20  \n",
       " Median :10.50   C   :5   Median :2020-03-21  \n",
       " Mean   :10.50   D   :4   Mean   :2020-03-21  \n",
       " 3rd Qu.:15.25   NA's:1   3rd Qu.:2020-03-22  \n",
       " Max.   :20.00            Max.   :2020-03-23  "
      ]
     },
     "metadata": {},
     "output_type": "display_data"
    }
   ],
   "source": [
    "summary(df1)"
   ]
  },
  {
   "cell_type": "markdown",
   "metadata": {},
   "source": [
    "## Select two columns"
   ]
  },
  {
   "cell_type": "code",
   "execution_count": 24,
   "metadata": {},
   "outputs": [
    {
     "data": {
      "text/html": [
       "<table>\n",
       "<thead><tr><th scope=col>col1</th><th scope=col>col2</th></tr></thead>\n",
       "<tbody>\n",
       "\t<tr><td> 1</td><td>A </td></tr>\n",
       "\t<tr><td> 2</td><td>B </td></tr>\n",
       "\t<tr><td> 3</td><td>C </td></tr>\n",
       "\t<tr><td> 4</td><td>D </td></tr>\n",
       "\t<tr><td> 5</td><td>A </td></tr>\n",
       "\t<tr><td> 6</td><td>B </td></tr>\n",
       "\t<tr><td> 7</td><td>C </td></tr>\n",
       "\t<tr><td> 8</td><td>D </td></tr>\n",
       "\t<tr><td> 9</td><td>A </td></tr>\n",
       "\t<tr><td>10</td><td>B </td></tr>\n",
       "\t<tr><td>11</td><td>C </td></tr>\n",
       "\t<tr><td>12</td><td>D </td></tr>\n",
       "\t<tr><td>13</td><td>A </td></tr>\n",
       "\t<tr><td>14</td><td>B </td></tr>\n",
       "\t<tr><td>15</td><td>C </td></tr>\n",
       "\t<tr><td>16</td><td>D </td></tr>\n",
       "\t<tr><td>17</td><td>A </td></tr>\n",
       "\t<tr><td>18</td><td>B </td></tr>\n",
       "\t<tr><td>19</td><td>C </td></tr>\n",
       "\t<tr><td>20</td><td>NA</td></tr>\n",
       "</tbody>\n",
       "</table>\n"
      ],
      "text/latex": [
       "\\begin{tabular}{r|ll}\n",
       " col1 & col2\\\\\n",
       "\\hline\n",
       "\t  1 & A \\\\\n",
       "\t  2 & B \\\\\n",
       "\t  3 & C \\\\\n",
       "\t  4 & D \\\\\n",
       "\t  5 & A \\\\\n",
       "\t  6 & B \\\\\n",
       "\t  7 & C \\\\\n",
       "\t  8 & D \\\\\n",
       "\t  9 & A \\\\\n",
       "\t 10 & B \\\\\n",
       "\t 11 & C \\\\\n",
       "\t 12 & D \\\\\n",
       "\t 13 & A \\\\\n",
       "\t 14 & B \\\\\n",
       "\t 15 & C \\\\\n",
       "\t 16 & D \\\\\n",
       "\t 17 & A \\\\\n",
       "\t 18 & B \\\\\n",
       "\t 19 & C \\\\\n",
       "\t 20 & NA\\\\\n",
       "\\end{tabular}\n"
      ],
      "text/markdown": [
       "\n",
       "| col1 | col2 |\n",
       "|---|---|\n",
       "|  1 | A  |\n",
       "|  2 | B  |\n",
       "|  3 | C  |\n",
       "|  4 | D  |\n",
       "|  5 | A  |\n",
       "|  6 | B  |\n",
       "|  7 | C  |\n",
       "|  8 | D  |\n",
       "|  9 | A  |\n",
       "| 10 | B  |\n",
       "| 11 | C  |\n",
       "| 12 | D  |\n",
       "| 13 | A  |\n",
       "| 14 | B  |\n",
       "| 15 | C  |\n",
       "| 16 | D  |\n",
       "| 17 | A  |\n",
       "| 18 | B  |\n",
       "| 19 | C  |\n",
       "| 20 | NA |\n",
       "\n"
      ],
      "text/plain": [
       "   col1 col2\n",
       "1   1   A   \n",
       "2   2   B   \n",
       "3   3   C   \n",
       "4   4   D   \n",
       "5   5   A   \n",
       "6   6   B   \n",
       "7   7   C   \n",
       "8   8   D   \n",
       "9   9   A   \n",
       "10 10   B   \n",
       "11 11   C   \n",
       "12 12   D   \n",
       "13 13   A   \n",
       "14 14   B   \n",
       "15 15   C   \n",
       "16 16   D   \n",
       "17 17   A   \n",
       "18 18   B   \n",
       "19 19   C   \n",
       "20 20   NA  "
      ]
     },
     "metadata": {},
     "output_type": "display_data"
    }
   ],
   "source": [
    "df1[c('col1', 'col2')]"
   ]
  },
  {
   "cell_type": "markdown",
   "metadata": {},
   "source": [
    "## Conditional slicing"
   ]
  },
  {
   "cell_type": "code",
   "execution_count": 25,
   "metadata": {},
   "outputs": [
    {
     "data": {
      "text/html": [
       "<table>\n",
       "<thead><tr><th></th><th scope=col>col1</th><th scope=col>col2</th><th scope=col>col3</th></tr></thead>\n",
       "<tbody>\n",
       "\t<tr><th scope=row>15</th><td>15        </td><td>C         </td><td>2020-03-22</td></tr>\n",
       "\t<tr><th scope=row>16</th><td>16        </td><td>D         </td><td>2020-03-23</td></tr>\n",
       "\t<tr><th scope=row>17</th><td>17        </td><td>A         </td><td>2020-03-20</td></tr>\n",
       "\t<tr><th scope=row>18</th><td>18        </td><td>B         </td><td>2020-03-21</td></tr>\n",
       "\t<tr><th scope=row>19</th><td>19        </td><td>C         </td><td>2020-03-22</td></tr>\n",
       "\t<tr><th scope=row>20</th><td>20        </td><td>NA        </td><td>2020-03-23</td></tr>\n",
       "</tbody>\n",
       "</table>\n"
      ],
      "text/latex": [
       "\\begin{tabular}{r|lll}\n",
       "  & col1 & col2 & col3\\\\\n",
       "\\hline\n",
       "\t15 & 15         & C          & 2020-03-22\\\\\n",
       "\t16 & 16         & D          & 2020-03-23\\\\\n",
       "\t17 & 17         & A          & 2020-03-20\\\\\n",
       "\t18 & 18         & B          & 2020-03-21\\\\\n",
       "\t19 & 19         & C          & 2020-03-22\\\\\n",
       "\t20 & 20         & NA         & 2020-03-23\\\\\n",
       "\\end{tabular}\n"
      ],
      "text/markdown": [
       "\n",
       "| <!--/--> | col1 | col2 | col3 |\n",
       "|---|---|---|---|\n",
       "| 15 | 15         | C          | 2020-03-22 |\n",
       "| 16 | 16         | D          | 2020-03-23 |\n",
       "| 17 | 17         | A          | 2020-03-20 |\n",
       "| 18 | 18         | B          | 2020-03-21 |\n",
       "| 19 | 19         | C          | 2020-03-22 |\n",
       "| 20 | 20         | NA         | 2020-03-23 |\n",
       "\n"
      ],
      "text/plain": [
       "   col1 col2 col3      \n",
       "15 15   C    2020-03-22\n",
       "16 16   D    2020-03-23\n",
       "17 17   A    2020-03-20\n",
       "18 18   B    2020-03-21\n",
       "19 19   C    2020-03-22\n",
       "20 20   NA   2020-03-23"
      ]
     },
     "metadata": {},
     "output_type": "display_data"
    }
   ],
   "source": [
    "subset.data.frame(df1, col1 >= 15)"
   ]
  },
  {
   "cell_type": "code",
   "execution_count": 26,
   "metadata": {},
   "outputs": [
    {
     "data": {
      "text/html": [
       "<table>\n",
       "<thead><tr><th></th><th scope=col>col1</th><th scope=col>col2</th><th scope=col>col3</th></tr></thead>\n",
       "<tbody>\n",
       "\t<tr><th scope=row>9</th><td> 9        </td><td>A         </td><td>2020-03-20</td></tr>\n",
       "\t<tr><th scope=row>12</th><td>12        </td><td>D         </td><td>2020-03-23</td></tr>\n",
       "\t<tr><th scope=row>15</th><td>15        </td><td>C         </td><td>2020-03-22</td></tr>\n",
       "</tbody>\n",
       "</table>\n"
      ],
      "text/latex": [
       "\\begin{tabular}{r|lll}\n",
       "  & col1 & col2 & col3\\\\\n",
       "\\hline\n",
       "\t9 &  9         & A          & 2020-03-20\\\\\n",
       "\t12 & 12         & D          & 2020-03-23\\\\\n",
       "\t15 & 15         & C          & 2020-03-22\\\\\n",
       "\\end{tabular}\n"
      ],
      "text/markdown": [
       "\n",
       "| <!--/--> | col1 | col2 | col3 |\n",
       "|---|---|---|---|\n",
       "| 9 |  9         | A          | 2020-03-20 |\n",
       "| 12 | 12         | D          | 2020-03-23 |\n",
       "| 15 | 15         | C          | 2020-03-22 |\n",
       "\n"
      ],
      "text/plain": [
       "   col1 col2 col3      \n",
       "9   9   A    2020-03-20\n",
       "12 12   D    2020-03-23\n",
       "15 15   C    2020-03-22"
      ]
     },
     "metadata": {},
     "output_type": "display_data"
    }
   ],
   "source": [
    "subset.data.frame(df1, col1 %in% c(15,12,9))"
   ]
  },
  {
   "cell_type": "markdown",
   "metadata": {},
   "source": [
    "## Condition based column creation"
   ]
  },
  {
   "cell_type": "code",
   "execution_count": 27,
   "metadata": {},
   "outputs": [
    {
     "data": {
      "text/html": [
       "<table>\n",
       "<thead><tr><th scope=col>col1</th><th scope=col>col2</th><th scope=col>col3</th><th scope=col>col4</th></tr></thead>\n",
       "<tbody>\n",
       "\t<tr><td> 1        </td><td>A         </td><td>2020-03-20</td><td>1         </td></tr>\n",
       "\t<tr><td> 2        </td><td>B         </td><td>2020-03-21</td><td>1         </td></tr>\n",
       "\t<tr><td> 3        </td><td>C         </td><td>2020-03-22</td><td>2         </td></tr>\n",
       "\t<tr><td> 4        </td><td>D         </td><td>2020-03-23</td><td>2         </td></tr>\n",
       "\t<tr><td> 5        </td><td>A         </td><td>2020-03-20</td><td>1         </td></tr>\n",
       "\t<tr><td> 6        </td><td>B         </td><td>2020-03-21</td><td>1         </td></tr>\n",
       "\t<tr><td> 7        </td><td>C         </td><td>2020-03-22</td><td>2         </td></tr>\n",
       "\t<tr><td> 8        </td><td>D         </td><td>2020-03-23</td><td>2         </td></tr>\n",
       "\t<tr><td> 9        </td><td>A         </td><td>2020-03-20</td><td>1         </td></tr>\n",
       "\t<tr><td>10        </td><td>B         </td><td>2020-03-21</td><td>1         </td></tr>\n",
       "\t<tr><td>11        </td><td>C         </td><td>2020-03-22</td><td>2         </td></tr>\n",
       "\t<tr><td>12        </td><td>D         </td><td>2020-03-23</td><td>2         </td></tr>\n",
       "\t<tr><td>13        </td><td>A         </td><td>2020-03-20</td><td>1         </td></tr>\n",
       "\t<tr><td>14        </td><td>B         </td><td>2020-03-21</td><td>1         </td></tr>\n",
       "\t<tr><td>15        </td><td>C         </td><td>2020-03-22</td><td>2         </td></tr>\n",
       "\t<tr><td>16        </td><td>D         </td><td>2020-03-23</td><td>2         </td></tr>\n",
       "\t<tr><td>17        </td><td>A         </td><td>2020-03-20</td><td>1         </td></tr>\n",
       "\t<tr><td>18        </td><td>B         </td><td>2020-03-21</td><td>1         </td></tr>\n",
       "\t<tr><td>19        </td><td>C         </td><td>2020-03-22</td><td>2         </td></tr>\n",
       "\t<tr><td>20        </td><td>NA        </td><td>2020-03-23</td><td>2         </td></tr>\n",
       "</tbody>\n",
       "</table>\n"
      ],
      "text/latex": [
       "\\begin{tabular}{r|llll}\n",
       " col1 & col2 & col3 & col4\\\\\n",
       "\\hline\n",
       "\t  1         & A          & 2020-03-20 & 1         \\\\\n",
       "\t  2         & B          & 2020-03-21 & 1         \\\\\n",
       "\t  3         & C          & 2020-03-22 & 2         \\\\\n",
       "\t  4         & D          & 2020-03-23 & 2         \\\\\n",
       "\t  5         & A          & 2020-03-20 & 1         \\\\\n",
       "\t  6         & B          & 2020-03-21 & 1         \\\\\n",
       "\t  7         & C          & 2020-03-22 & 2         \\\\\n",
       "\t  8         & D          & 2020-03-23 & 2         \\\\\n",
       "\t  9         & A          & 2020-03-20 & 1         \\\\\n",
       "\t 10         & B          & 2020-03-21 & 1         \\\\\n",
       "\t 11         & C          & 2020-03-22 & 2         \\\\\n",
       "\t 12         & D          & 2020-03-23 & 2         \\\\\n",
       "\t 13         & A          & 2020-03-20 & 1         \\\\\n",
       "\t 14         & B          & 2020-03-21 & 1         \\\\\n",
       "\t 15         & C          & 2020-03-22 & 2         \\\\\n",
       "\t 16         & D          & 2020-03-23 & 2         \\\\\n",
       "\t 17         & A          & 2020-03-20 & 1         \\\\\n",
       "\t 18         & B          & 2020-03-21 & 1         \\\\\n",
       "\t 19         & C          & 2020-03-22 & 2         \\\\\n",
       "\t 20         & NA         & 2020-03-23 & 2         \\\\\n",
       "\\end{tabular}\n"
      ],
      "text/markdown": [
       "\n",
       "| col1 | col2 | col3 | col4 |\n",
       "|---|---|---|---|\n",
       "|  1         | A          | 2020-03-20 | 1          |\n",
       "|  2         | B          | 2020-03-21 | 1          |\n",
       "|  3         | C          | 2020-03-22 | 2          |\n",
       "|  4         | D          | 2020-03-23 | 2          |\n",
       "|  5         | A          | 2020-03-20 | 1          |\n",
       "|  6         | B          | 2020-03-21 | 1          |\n",
       "|  7         | C          | 2020-03-22 | 2          |\n",
       "|  8         | D          | 2020-03-23 | 2          |\n",
       "|  9         | A          | 2020-03-20 | 1          |\n",
       "| 10         | B          | 2020-03-21 | 1          |\n",
       "| 11         | C          | 2020-03-22 | 2          |\n",
       "| 12         | D          | 2020-03-23 | 2          |\n",
       "| 13         | A          | 2020-03-20 | 1          |\n",
       "| 14         | B          | 2020-03-21 | 1          |\n",
       "| 15         | C          | 2020-03-22 | 2          |\n",
       "| 16         | D          | 2020-03-23 | 2          |\n",
       "| 17         | A          | 2020-03-20 | 1          |\n",
       "| 18         | B          | 2020-03-21 | 1          |\n",
       "| 19         | C          | 2020-03-22 | 2          |\n",
       "| 20         | NA         | 2020-03-23 | 2          |\n",
       "\n"
      ],
      "text/plain": [
       "   col1 col2 col3       col4\n",
       "1   1   A    2020-03-20 1   \n",
       "2   2   B    2020-03-21 1   \n",
       "3   3   C    2020-03-22 2   \n",
       "4   4   D    2020-03-23 2   \n",
       "5   5   A    2020-03-20 1   \n",
       "6   6   B    2020-03-21 1   \n",
       "7   7   C    2020-03-22 2   \n",
       "8   8   D    2020-03-23 2   \n",
       "9   9   A    2020-03-20 1   \n",
       "10 10   B    2020-03-21 1   \n",
       "11 11   C    2020-03-22 2   \n",
       "12 12   D    2020-03-23 2   \n",
       "13 13   A    2020-03-20 1   \n",
       "14 14   B    2020-03-21 1   \n",
       "15 15   C    2020-03-22 2   \n",
       "16 16   D    2020-03-23 2   \n",
       "17 17   A    2020-03-20 1   \n",
       "18 18   B    2020-03-21 1   \n",
       "19 19   C    2020-03-22 2   \n",
       "20 20   NA   2020-03-23 2   "
      ]
     },
     "metadata": {},
     "output_type": "display_data"
    }
   ],
   "source": [
    "df1$col4 = ifelse(df1$col2 %in% c('A','B'), 1, 2)\n",
    "df1"
   ]
  },
  {
   "cell_type": "markdown",
   "metadata": {},
   "source": [
    "## Calculation based column creation"
   ]
  },
  {
   "cell_type": "code",
   "execution_count": 28,
   "metadata": {},
   "outputs": [
    {
     "data": {
      "text/html": [
       "<table>\n",
       "<thead><tr><th scope=col>col1</th><th scope=col>col2</th><th scope=col>col3</th><th scope=col>col4</th><th scope=col>col5</th></tr></thead>\n",
       "<tbody>\n",
       "\t<tr><td> 1          </td><td>A           </td><td>2020-03-20  </td><td>1           </td><td>7.991871e-06</td></tr>\n",
       "\t<tr><td> 2          </td><td>B           </td><td>2020-03-21  </td><td>1           </td><td>6.691511e-05</td></tr>\n",
       "\t<tr><td> 3          </td><td>C           </td><td>2020-03-22  </td><td>2           </td><td>4.363413e-04</td></tr>\n",
       "\t<tr><td> 4          </td><td>D           </td><td>2020-03-23  </td><td>2           </td><td>2.215924e-03</td></tr>\n",
       "\t<tr><td> 5          </td><td>A           </td><td>2020-03-20  </td><td>1           </td><td>8.764150e-03</td></tr>\n",
       "\t<tr><td> 6          </td><td>B           </td><td>2020-03-21  </td><td>1           </td><td>2.699548e-02</td></tr>\n",
       "\t<tr><td> 7          </td><td>C           </td><td>2020-03-22  </td><td>2           </td><td>6.475880e-02</td></tr>\n",
       "\t<tr><td> 8          </td><td>D           </td><td>2020-03-23  </td><td>2           </td><td>1.209854e-01</td></tr>\n",
       "\t<tr><td> 9          </td><td>A           </td><td>2020-03-20  </td><td>1           </td><td>1.760327e-01</td></tr>\n",
       "\t<tr><td>10          </td><td>B           </td><td>2020-03-21  </td><td>1           </td><td>1.994711e-01</td></tr>\n",
       "\t<tr><td>11          </td><td>C           </td><td>2020-03-22  </td><td>2           </td><td>1.760327e-01</td></tr>\n",
       "\t<tr><td>12          </td><td>D           </td><td>2020-03-23  </td><td>2           </td><td>1.209854e-01</td></tr>\n",
       "\t<tr><td>13          </td><td>A           </td><td>2020-03-20  </td><td>1           </td><td>6.475880e-02</td></tr>\n",
       "\t<tr><td>14          </td><td>B           </td><td>2020-03-21  </td><td>1           </td><td>2.699548e-02</td></tr>\n",
       "\t<tr><td>15          </td><td>C           </td><td>2020-03-22  </td><td>2           </td><td>8.764150e-03</td></tr>\n",
       "\t<tr><td>16          </td><td>D           </td><td>2020-03-23  </td><td>2           </td><td>2.215924e-03</td></tr>\n",
       "\t<tr><td>17          </td><td>A           </td><td>2020-03-20  </td><td>1           </td><td>4.363413e-04</td></tr>\n",
       "\t<tr><td>18          </td><td>B           </td><td>2020-03-21  </td><td>1           </td><td>6.691511e-05</td></tr>\n",
       "\t<tr><td>19          </td><td>C           </td><td>2020-03-22  </td><td>2           </td><td>7.991871e-06</td></tr>\n",
       "\t<tr><td>20          </td><td>NA          </td><td>2020-03-23  </td><td>2           </td><td>7.433598e-07</td></tr>\n",
       "</tbody>\n",
       "</table>\n"
      ],
      "text/latex": [
       "\\begin{tabular}{r|lllll}\n",
       " col1 & col2 & col3 & col4 & col5\\\\\n",
       "\\hline\n",
       "\t  1           & A            & 2020-03-20   & 1            & 7.991871e-06\\\\\n",
       "\t  2           & B            & 2020-03-21   & 1            & 6.691511e-05\\\\\n",
       "\t  3           & C            & 2020-03-22   & 2            & 4.363413e-04\\\\\n",
       "\t  4           & D            & 2020-03-23   & 2            & 2.215924e-03\\\\\n",
       "\t  5           & A            & 2020-03-20   & 1            & 8.764150e-03\\\\\n",
       "\t  6           & B            & 2020-03-21   & 1            & 2.699548e-02\\\\\n",
       "\t  7           & C            & 2020-03-22   & 2            & 6.475880e-02\\\\\n",
       "\t  8           & D            & 2020-03-23   & 2            & 1.209854e-01\\\\\n",
       "\t  9           & A            & 2020-03-20   & 1            & 1.760327e-01\\\\\n",
       "\t 10           & B            & 2020-03-21   & 1            & 1.994711e-01\\\\\n",
       "\t 11           & C            & 2020-03-22   & 2            & 1.760327e-01\\\\\n",
       "\t 12           & D            & 2020-03-23   & 2            & 1.209854e-01\\\\\n",
       "\t 13           & A            & 2020-03-20   & 1            & 6.475880e-02\\\\\n",
       "\t 14           & B            & 2020-03-21   & 1            & 2.699548e-02\\\\\n",
       "\t 15           & C            & 2020-03-22   & 2            & 8.764150e-03\\\\\n",
       "\t 16           & D            & 2020-03-23   & 2            & 2.215924e-03\\\\\n",
       "\t 17           & A            & 2020-03-20   & 1            & 4.363413e-04\\\\\n",
       "\t 18           & B            & 2020-03-21   & 1            & 6.691511e-05\\\\\n",
       "\t 19           & C            & 2020-03-22   & 2            & 7.991871e-06\\\\\n",
       "\t 20           & NA           & 2020-03-23   & 2            & 7.433598e-07\\\\\n",
       "\\end{tabular}\n"
      ],
      "text/markdown": [
       "\n",
       "| col1 | col2 | col3 | col4 | col5 |\n",
       "|---|---|---|---|---|\n",
       "|  1           | A            | 2020-03-20   | 1            | 7.991871e-06 |\n",
       "|  2           | B            | 2020-03-21   | 1            | 6.691511e-05 |\n",
       "|  3           | C            | 2020-03-22   | 2            | 4.363413e-04 |\n",
       "|  4           | D            | 2020-03-23   | 2            | 2.215924e-03 |\n",
       "|  5           | A            | 2020-03-20   | 1            | 8.764150e-03 |\n",
       "|  6           | B            | 2020-03-21   | 1            | 2.699548e-02 |\n",
       "|  7           | C            | 2020-03-22   | 2            | 6.475880e-02 |\n",
       "|  8           | D            | 2020-03-23   | 2            | 1.209854e-01 |\n",
       "|  9           | A            | 2020-03-20   | 1            | 1.760327e-01 |\n",
       "| 10           | B            | 2020-03-21   | 1            | 1.994711e-01 |\n",
       "| 11           | C            | 2020-03-22   | 2            | 1.760327e-01 |\n",
       "| 12           | D            | 2020-03-23   | 2            | 1.209854e-01 |\n",
       "| 13           | A            | 2020-03-20   | 1            | 6.475880e-02 |\n",
       "| 14           | B            | 2020-03-21   | 1            | 2.699548e-02 |\n",
       "| 15           | C            | 2020-03-22   | 2            | 8.764150e-03 |\n",
       "| 16           | D            | 2020-03-23   | 2            | 2.215924e-03 |\n",
       "| 17           | A            | 2020-03-20   | 1            | 4.363413e-04 |\n",
       "| 18           | B            | 2020-03-21   | 1            | 6.691511e-05 |\n",
       "| 19           | C            | 2020-03-22   | 2            | 7.991871e-06 |\n",
       "| 20           | NA           | 2020-03-23   | 2            | 7.433598e-07 |\n",
       "\n"
      ],
      "text/plain": [
       "   col1 col2 col3       col4 col5        \n",
       "1   1   A    2020-03-20 1    7.991871e-06\n",
       "2   2   B    2020-03-21 1    6.691511e-05\n",
       "3   3   C    2020-03-22 2    4.363413e-04\n",
       "4   4   D    2020-03-23 2    2.215924e-03\n",
       "5   5   A    2020-03-20 1    8.764150e-03\n",
       "6   6   B    2020-03-21 1    2.699548e-02\n",
       "7   7   C    2020-03-22 2    6.475880e-02\n",
       "8   8   D    2020-03-23 2    1.209854e-01\n",
       "9   9   A    2020-03-20 1    1.760327e-01\n",
       "10 10   B    2020-03-21 1    1.994711e-01\n",
       "11 11   C    2020-03-22 2    1.760327e-01\n",
       "12 12   D    2020-03-23 2    1.209854e-01\n",
       "13 13   A    2020-03-20 1    6.475880e-02\n",
       "14 14   B    2020-03-21 1    2.699548e-02\n",
       "15 15   C    2020-03-22 2    8.764150e-03\n",
       "16 16   D    2020-03-23 2    2.215924e-03\n",
       "17 17   A    2020-03-20 1    4.363413e-04\n",
       "18 18   B    2020-03-21 1    6.691511e-05\n",
       "19 19   C    2020-03-22 2    7.991871e-06\n",
       "20 20   NA   2020-03-23 2    7.433598e-07"
      ]
     },
     "metadata": {},
     "output_type": "display_data"
    }
   ],
   "source": [
    "df1$col5 = dnorm(df1$col1, mean=10, sd=2)\n",
    "df1"
   ]
  },
  {
   "cell_type": "markdown",
   "metadata": {},
   "source": [
    "## Univariate Categorical value distribution visualization"
   ]
  },
  {
   "cell_type": "code",
   "execution_count": 29,
   "metadata": {},
   "outputs": [],
   "source": [
    "library(ggplot2)"
   ]
  },
  {
   "cell_type": "code",
   "execution_count": 30,
   "metadata": {},
   "outputs": [
    {
     "data": {
      "image/png": "[encoded data removed]",
      "text/plain": [
       "plot without title"
      ]
     },
     "metadata": {},
     "output_type": "display_data"
    }
   ],
   "source": [
    "ggplot(data=df1) +\n",
    "aes(x=col2, fill=col3) +\n",
    "geom_bar() +\n",
    "scale_x_discrete()"
   ]
  },
  {
   "cell_type": "markdown",
   "metadata": {},
   "source": [
    "## Univariate numerical column distribution"
   ]
  },
  {
   "cell_type": "code",
   "execution_count": 31,
   "metadata": {},
   "outputs": [
    {
     "data": {
      "image/png": "[encoded data removed]",
      "text/plain": [
       "plot without title"
      ]
     },
     "metadata": {},
     "output_type": "display_data"
    }
   ],
   "source": [
    "ggplot(df1) + \n",
    "aes(x=col5) +\n",
    "geom_histogram(bins=10)"
   ]
  },
  {
   "cell_type": "markdown",
   "metadata": {},
   "source": [
    "## Multivariate plotting"
   ]
  },
  {
   "cell_type": "code",
   "execution_count": 32,
   "metadata": {},
   "outputs": [
    {
     "data": {
      "image/png": "[encoded data removed]",
      "text/plain": [
       "plot without title"
      ]
     },
     "metadata": {},
     "output_type": "display_data"
    }
   ],
   "source": [
    "ggplot(df1) + \n",
    "aes(x=col1,y=col5) +\n",
    "geom_line() +\n",
    "geom_vline(xintercept = 10, color='red')"
   ]
  },
  {
   "cell_type": "markdown",
   "metadata": {},
   "source": [
    "## Export dataframe"
   ]
  },
  {
   "cell_type": "code",
   "execution_count": 33,
   "metadata": {},
   "outputs": [],
   "source": [
    "write.csv(x=df1, 'datasets/sample.csv')"
   ]
  },
  {
   "cell_type": "markdown",
   "metadata": {},
   "source": [
    "## Read CSV"
   ]
  },
  {
   "cell_type": "code",
   "execution_count": 34,
   "metadata": {},
   "outputs": [],
   "source": [
    "df2 = read.csv('datasets//train.csv', stringsAsFactors = FALSE)"
   ]
  },
  {
   "cell_type": "code",
   "execution_count": 35,
   "metadata": {},
   "outputs": [
    {
     "data": {
      "text/html": [
       "<table>\n",
       "<thead><tr><th scope=col>PassengerId</th><th scope=col>Survived</th><th scope=col>Pclass</th><th scope=col>Name</th><th scope=col>Sex</th><th scope=col>Age</th><th scope=col>SibSp</th><th scope=col>Parch</th><th scope=col>Ticket</th><th scope=col>Fare</th><th scope=col>Cabin</th><th scope=col>Embarked</th></tr></thead>\n",
       "<tbody>\n",
       "\t<tr><td>1                                                  </td><td>0                                                  </td><td>3                                                  </td><td>Braund, Mr. Owen Harris                            </td><td>male                                               </td><td>22                                                 </td><td>1                                                  </td><td>0                                                  </td><td>A/5 21171                                          </td><td> 7.2500                                            </td><td>                                                   </td><td>S                                                  </td></tr>\n",
       "\t<tr><td>2                                                  </td><td>1                                                  </td><td>1                                                  </td><td>Cumings, Mrs. John Bradley (Florence Briggs Thayer)</td><td>female                                             </td><td>38                                                 </td><td>1                                                  </td><td>0                                                  </td><td>PC 17599                                           </td><td>71.2833                                            </td><td>C85                                                </td><td>C                                                  </td></tr>\n",
       "\t<tr><td>3                                                  </td><td>1                                                  </td><td>3                                                  </td><td>Heikkinen, Miss. Laina                             </td><td>female                                             </td><td>26                                                 </td><td>0                                                  </td><td>0                                                  </td><td>STON/O2. 3101282                                   </td><td> 7.9250                                            </td><td>                                                   </td><td>S                                                  </td></tr>\n",
       "\t<tr><td>4                                                  </td><td>1                                                  </td><td>1                                                  </td><td>Futrelle, Mrs. Jacques Heath (Lily May Peel)       </td><td>female                                             </td><td>35                                                 </td><td>1                                                  </td><td>0                                                  </td><td>113803                                             </td><td>53.1000                                            </td><td>C123                                               </td><td>S                                                  </td></tr>\n",
       "\t<tr><td>5                                                  </td><td>0                                                  </td><td>3                                                  </td><td>Allen, Mr. William Henry                           </td><td>male                                               </td><td>35                                                 </td><td>0                                                  </td><td>0                                                  </td><td>373450                                             </td><td> 8.0500                                            </td><td>                                                   </td><td>S                                                  </td></tr>\n",
       "\t<tr><td>6                                                  </td><td>0                                                  </td><td>3                                                  </td><td>Moran, Mr. James                                   </td><td>male                                               </td><td>NA                                                 </td><td>0                                                  </td><td>0                                                  </td><td>330877                                             </td><td> 8.4583                                            </td><td>                                                   </td><td>Q                                                  </td></tr>\n",
       "</tbody>\n",
       "</table>\n"
      ],
      "text/latex": [
       "\\begin{tabular}{r|llllllllllll}\n",
       " PassengerId & Survived & Pclass & Name & Sex & Age & SibSp & Parch & Ticket & Fare & Cabin & Embarked\\\\\n",
       "\\hline\n",
       "\t 1                                                   & 0                                                   & 3                                                   & Braund, Mr. Owen Harris                             & male                                                & 22                                                  & 1                                                   & 0                                                   & A/5 21171                                           &  7.2500                                             &                                                     & S                                                  \\\\\n",
       "\t 2                                                   & 1                                                   & 1                                                   & Cumings, Mrs. John Bradley (Florence Briggs Thayer) & female                                              & 38                                                  & 1                                                   & 0                                                   & PC 17599                                            & 71.2833                                             & C85                                                 & C                                                  \\\\\n",
       "\t 3                                                   & 1                                                   & 3                                                   & Heikkinen, Miss. Laina                              & female                                              & 26                                                  & 0                                                   & 0                                                   & STON/O2. 3101282                                    &  7.9250                                             &                                                     & S                                                  \\\\\n",
       "\t 4                                                   & 1                                                   & 1                                                   & Futrelle, Mrs. Jacques Heath (Lily May Peel)        & female                                              & 35                                                  & 1                                                   & 0                                                   & 113803                                              & 53.1000                                             & C123                                                & S                                                  \\\\\n",
       "\t 5                                                   & 0                                                   & 3                                                   & Allen, Mr. William Henry                            & male                                                & 35                                                  & 0                                                   & 0                                                   & 373450                                              &  8.0500                                             &                                                     & S                                                  \\\\\n",
       "\t 6                                                   & 0                                                   & 3                                                   & Moran, Mr. James                                    & male                                                & NA                                                  & 0                                                   & 0                                                   & 330877                                              &  8.4583                                             &                                                     & Q                                                  \\\\\n",
       "\\end{tabular}\n"
      ],
      "text/markdown": [
       "\n",
       "| PassengerId | Survived | Pclass | Name | Sex | Age | SibSp | Parch | Ticket | Fare | Cabin | Embarked |\n",
       "|---|---|---|---|---|---|---|---|---|---|---|---|\n",
       "| 1                                                   | 0                                                   | 3                                                   | Braund, Mr. Owen Harris                             | male                                                | 22                                                  | 1                                                   | 0                                                   | A/5 21171                                           |  7.2500                                             |                                                     | S                                                   |\n",
       "| 2                                                   | 1                                                   | 1                                                   | Cumings, Mrs. John Bradley (Florence Briggs Thayer) | female                                              | 38                                                  | 1                                                   | 0                                                   | PC 17599                                            | 71.2833                                             | C85                                                 | C                                                   |\n",
       "| 3                                                   | 1                                                   | 3                                                   | Heikkinen, Miss. Laina                              | female                                              | 26                                                  | 0                                                   | 0                                                   | STON/O2. 3101282                                    |  7.9250                                             |                                                     | S                                                   |\n",
       "| 4                                                   | 1                                                   | 1                                                   | Futrelle, Mrs. Jacques Heath (Lily May Peel)        | female                                              | 35                                                  | 1                                                   | 0                                                   | 113803                                              | 53.1000                                             | C123                                                | S                                                   |\n",
       "| 5                                                   | 0                                                   | 3                                                   | Allen, Mr. William Henry                            | male                                                | 35                                                  | 0                                                   | 0                                                   | 373450                                              |  8.0500                                             |                                                     | S                                                   |\n",
       "| 6                                                   | 0                                                   | 3                                                   | Moran, Mr. James                                    | male                                                | NA                                                  | 0                                                   | 0                                                   | 330877                                              |  8.4583                                             |                                                     | Q                                                   |\n",
       "\n"
      ],
      "text/plain": [
       "  PassengerId Survived Pclass\n",
       "1 1           0        3     \n",
       "2 2           1        1     \n",
       "3 3           1        3     \n",
       "4 4           1        1     \n",
       "5 5           0        3     \n",
       "6 6           0        3     \n",
       "  Name                                                Sex    Age SibSp Parch\n",
       "1 Braund, Mr. Owen Harris                             male   22  1     0    \n",
       "2 Cumings, Mrs. John Bradley (Florence Briggs Thayer) female 38  1     0    \n",
       "3 Heikkinen, Miss. Laina                              female 26  0     0    \n",
       "4 Futrelle, Mrs. Jacques Heath (Lily May Peel)        female 35  1     0    \n",
       "5 Allen, Mr. William Henry                            male   35  0     0    \n",
       "6 Moran, Mr. James                                    male   NA  0     0    \n",
       "  Ticket           Fare    Cabin Embarked\n",
       "1 A/5 21171         7.2500       S       \n",
       "2 PC 17599         71.2833 C85   C       \n",
       "3 STON/O2. 3101282  7.9250       S       \n",
       "4 113803           53.1000 C123  S       \n",
       "5 373450            8.0500       S       \n",
       "6 330877            8.4583       Q       "
      ]
     },
     "metadata": {},
     "output_type": "display_data"
    }
   ],
   "source": [
    "head(df2)"
   ]
  },
  {
   "cell_type": "markdown",
   "metadata": {},
   "source": [
    "## Get structure"
   ]
  },
  {
   "cell_type": "code",
   "execution_count": 36,
   "metadata": {},
   "outputs": [
    {
     "name": "stdout",
     "output_type": "stream",
     "text": [
      "'data.frame':\t891 obs. of  12 variables:\n",
      " $ PassengerId: int  1 2 3 4 5 6 7 8 9 10 ...\n",
      " $ Survived   : int  0 1 1 1 0 0 0 0 1 1 ...\n",
      " $ Pclass     : int  3 1 3 1 3 3 1 3 3 2 ...\n",
      " $ Name       : chr  \"Braund, Mr. Owen Harris\" \"Cumings, Mrs. John Bradley (Florence Briggs Thayer)\" \"Heikkinen, Miss. Laina\" \"Futrelle, Mrs. Jacques Heath (Lily May Peel)\" ...\n",
      " $ Sex        : chr  \"male\" \"female\" \"female\" \"female\" ...\n",
      " $ Age        : num  22 38 26 35 35 NA 54 2 27 14 ...\n",
      " $ SibSp      : int  1 1 0 1 0 0 0 3 0 1 ...\n",
      " $ Parch      : int  0 0 0 0 0 0 0 1 2 0 ...\n",
      " $ Ticket     : chr  \"A/5 21171\" \"PC 17599\" \"STON/O2. 3101282\" \"113803\" ...\n",
      " $ Fare       : num  7.25 71.28 7.92 53.1 8.05 ...\n",
      " $ Cabin      : chr  \"\" \"C85\" \"\" \"C123\" ...\n",
      " $ Embarked   : chr  \"S\" \"C\" \"S\" \"S\" ...\n"
     ]
    }
   ],
   "source": [
    "str(df2)"
   ]
  },
  {
   "cell_type": "markdown",
   "metadata": {},
   "source": [
    "## Visualize"
   ]
  },
  {
   "cell_type": "code",
   "execution_count": 37,
   "metadata": {},
   "outputs": [],
   "source": [
    "library(ggplot2)"
   ]
  },
  {
   "cell_type": "code",
   "execution_count": 38,
   "metadata": {},
   "outputs": [],
   "source": [
    "df2$Survived = factor(df2$Survived)"
   ]
  },
  {
   "cell_type": "code",
   "execution_count": 39,
   "metadata": {},
   "outputs": [
    {
     "data": {
      "image/png": "[encoded data removed]",
      "text/plain": [
       "plot without title"
      ]
     },
     "metadata": {},
     "output_type": "display_data"
    }
   ],
   "source": [
    "# Both x and fill columns have to be converted to string or factors before this\n",
    "ggplot(df2) + \n",
    "    aes(Sex, fill=Survived) + \n",
    "    geom_bar() +\n",
    "    scale_x_discrete()"
   ]
  },
  {
   "cell_type": "code",
   "execution_count": 40,
   "metadata": {},
   "outputs": [
    {
     "name": "stderr",
     "output_type": "stream",
     "text": [
      "Warning message:\n",
      "\"Removed 177 rows containing non-finite values (stat_bin).\""
     ]
    },
    {
     "data": {
      "image/png": "[encoded data removed]",
      "text/plain": [
       "plot without title"
      ]
     },
     "metadata": {},
     "output_type": "display_data"
    }
   ],
   "source": [
    "ggplot(data=df2) +\n",
    "  aes(x=Age, fill=Survived) + # categories for fill should have to be converted to string first\n",
    "  geom_histogram(bins = 30)"
   ]
  },
  {
   "cell_type": "markdown",
   "metadata": {},
   "source": [
    "# Basic statistics"
   ]
  },
  {
   "cell_type": "markdown",
   "metadata": {},
   "source": [
    "## Normal Distribution"
   ]
  },
  {
   "cell_type": "markdown",
   "metadata": {},
   "source": [
    "### Generate normal distribution"
   ]
  },
  {
   "cell_type": "code",
   "execution_count": 41,
   "metadata": {},
   "outputs": [
    {
     "data": {
      "image/png": "[encoded data removed]",
      "text/plain": [
       "plot without title"
      ]
     },
     "metadata": {},
     "output_type": "display_data"
    }
   ],
   "source": [
    "x = seq(0, 100, by=0.1)\n",
    "y = dnorm(x, mean = 50, sd=10)\n",
    "plot(x,y, type='l')"
   ]
  },
  {
   "cell_type": "markdown",
   "metadata": {},
   "source": [
    "### Get P(X<=x)"
   ]
  },
  {
   "cell_type": "code",
   "execution_count": 42,
   "metadata": {},
   "outputs": [
    {
     "data": {
      "text/html": [
       "0.308537538725987"
      ],
      "text/latex": [
       "0.308537538725987"
      ],
      "text/markdown": [
       "0.308537538725987"
      ],
      "text/plain": [
       "[1] 0.3085375"
      ]
     },
     "metadata": {},
     "output_type": "display_data"
    }
   ],
   "source": [
    "prob = pnorm(45, mean=50, sd=10)\n",
    "prob"
   ]
  },
  {
   "cell_type": "markdown",
   "metadata": {},
   "source": [
    "### Get X such that P(X<=x) = prob"
   ]
  },
  {
   "cell_type": "code",
   "execution_count": 43,
   "metadata": {},
   "outputs": [
    {
     "data": {
      "text/html": [
       "45"
      ],
      "text/latex": [
       "45"
      ],
      "text/markdown": [
       "45"
      ],
      "text/plain": [
       "[1] 45"
      ]
     },
     "metadata": {},
     "output_type": "display_data"
    }
   ],
   "source": [
    "prob = 0.308537538725987\n",
    "qnorm(prob, mean=50, sd=10)"
   ]
  },
  {
   "cell_type": "markdown",
   "metadata": {},
   "source": [
    "## Bernoulli distribution\n",
    "Flip a coin: You do the experiment <b>Only Once</b><br>\n",
    "\n",
    "| Outcome (x) | Probability (p) |\n",
    "| ---- | ---- |\n",
    "| Head | p |\n",
    "| Tail | (1-p) |\n",
    "\n",
    "X ~ Bernoulli(p)"
   ]
  },
  {
   "cell_type": "code",
   "execution_count": 44,
   "metadata": {},
   "outputs": [
    {
     "data": {
      "text/html": [
       "1"
      ],
      "text/latex": [
       "1"
      ],
      "text/markdown": [
       "1"
      ],
      "text/plain": [
       "[1] 1"
      ]
     },
     "metadata": {},
     "output_type": "display_data"
    }
   ],
   "source": [
    "q = 2\n",
    "prob = 0.2\n",
    "pbinom(q, size = 1, prob = prob)"
   ]
  },
  {
   "cell_type": "markdown",
   "metadata": {},
   "source": [
    "## Binomial distribution\n",
    "Extension of Bernoulli distribution.\n",
    " - Run the trials n times\n",
    " - Outcome is 2\n",
    "\n",
    "Suppose there are twelve multiple choice questions in an English class quiz. Each question has five possible answers, and only one of them is correct.\n",
    "p = 1/5 = 0.2 <br>"
   ]
  },
  {
   "cell_type": "markdown",
   "metadata": {},
   "source": [
    "### Visualize Binom Distribution"
   ]
  },
  {
   "cell_type": "code",
   "execution_count": 45,
   "metadata": {
    "scrolled": false
   },
   "outputs": [
    {
     "data": {
      "image/png": "[encoded data removed]",
      "text/plain": [
       "plot without title"
      ]
     },
     "metadata": {},
     "output_type": "display_data"
    }
   ],
   "source": [
    "x = seq(0,12,1)\n",
    "y = dbinom(x, size=12,prob=0.2)\n",
    "plot(x, y)"
   ]
  },
  {
   "cell_type": "markdown",
   "metadata": {},
   "source": [
    "Find the probability that the student answers any 4 correctly.<br>\n",
    "P(X=4) = <sup>n</sup>C<sub>4</sub>0.2<sup>4</sup>0.8<sup>8</sup>"
   ]
  },
  {
   "cell_type": "code",
   "execution_count": 46,
   "metadata": {},
   "outputs": [
    {
     "data": {
      "text/html": [
       "0.13287555072"
      ],
      "text/latex": [
       "0.13287555072"
      ],
      "text/markdown": [
       "0.13287555072"
      ],
      "text/plain": [
       "[1] 0.1328756"
      ]
     },
     "metadata": {},
     "output_type": "display_data"
    }
   ],
   "source": [
    "dim(combn(12,4))[2]*0.2**4*0.8**8"
   ]
  },
  {
   "cell_type": "code",
   "execution_count": 47,
   "metadata": {},
   "outputs": [
    {
     "data": {
      "text/html": [
       "0.13287555072"
      ],
      "text/latex": [
       "0.13287555072"
      ],
      "text/markdown": [
       "0.13287555072"
      ],
      "text/plain": [
       "[1] 0.1328756"
      ]
     },
     "metadata": {},
     "output_type": "display_data"
    }
   ],
   "source": [
    "y[x==4]"
   ]
  },
  {
   "cell_type": "markdown",
   "metadata": {},
   "source": [
    "Find the probability of having four or less correct answers if a student attempts to answer every question at random.<br>\n",
    "P(X<=4) = <sup>n</sup>C<sub>0</sub>0.2<sup>0</sup>0.8<sup>12</sup> + \n",
    "<sup>n</sup>C<sub>1</sub>0.2<sup>1</sup>0.8<sup>11</sup> + \n",
    "<sup>n</sup>C<sub>2</sub>0.2<sup>2</sup>0.8<sup>10</sup> + \n",
    "<sup>n</sup>C<sub>3</sub>0.2<sup>3</sup>0.8<sup>9</sup> + \n",
    "<sup>n</sup>C<sub>4</sub>0.2<sup>4</sup>0.8<sup>8</sup>"
   ]
  },
  {
   "cell_type": "code",
   "execution_count": 48,
   "metadata": {},
   "outputs": [
    {
     "data": {
      "text/html": [
       "0.92744450048"
      ],
      "text/latex": [
       "0.92744450048"
      ],
      "text/markdown": [
       "0.92744450048"
      ],
      "text/plain": [
       "[1] 0.9274445"
      ]
     },
     "metadata": {},
     "output_type": "display_data"
    }
   ],
   "source": [
    "pbinom(q=4, size=12, prob=0.2)"
   ]
  },
  {
   "cell_type": "markdown",
   "metadata": {},
   "source": [
    "### Poisson distribution\n",
    "A LIC salesman sells on the average 3 insurance\n",
    "policies per week. Calculate the probability that in a\n",
    "given week he will sell\n",
    " - A) Some policies\n",
    " - B) 2 or more policies but less than 5 policies\n",
    " - C) Assuming that there are 5 working days per week, what is the probability that in a given day he/she will\n",
    "sell one policy?"
   ]
  },
  {
   "cell_type": "code",
   "execution_count": 49,
   "metadata": {},
   "outputs": [
    {
     "data": {
      "image/png": "[encoded data removed]",
      "text/plain": [
       "plot without title"
      ]
     },
     "metadata": {},
     "output_type": "display_data"
    }
   ],
   "source": [
    "x = seq(0,10,1)\n",
    "y = dpois(x, lambda = 3)\n",
    "plot(x,y)"
   ]
  },
  {
   "cell_type": "markdown",
   "metadata": {},
   "source": [
    "### A) Some policies"
   ]
  },
  {
   "cell_type": "code",
   "execution_count": 50,
   "metadata": {},
   "outputs": [
    {
     "data": {
      "text/html": [
       "0.950212931632136"
      ],
      "text/latex": [
       "0.950212931632136"
      ],
      "text/markdown": [
       "0.950212931632136"
      ],
      "text/plain": [
       "[1] 0.9502129"
      ]
     },
     "metadata": {},
     "output_type": "display_data"
    }
   ],
   "source": [
    "ppois(0, lambda = 3, lower=FALSE)"
   ]
  },
  {
   "cell_type": "markdown",
   "metadata": {},
   "source": [
    "### B) 2 or more policies but less than 5 policies\n",
    "P(x<sub>2</sub>) + P(x<sub>3</sub>) + P(x<sub>4</sub>)"
   ]
  },
  {
   "cell_type": "code",
   "execution_count": 51,
   "metadata": {},
   "outputs": [
    {
     "data": {
      "text/html": [
       "0.616114971052316"
      ],
      "text/latex": [
       "0.616114971052316"
      ],
      "text/markdown": [
       "0.616114971052316"
      ],
      "text/plain": [
       "[1] 0.616115"
      ]
     },
     "metadata": {},
     "output_type": "display_data"
    }
   ],
   "source": [
    "y[x==2] + y[x==3] + y[x==4]"
   ]
  },
  {
   "cell_type": "markdown",
   "metadata": {},
   "source": [
    "### C) Assuming that there are 5 working days per week,\n",
    "what is the probability that in a given day he/she will\n",
    "sell one policy?<br>\n",
    "P(X=1)"
   ]
  },
  {
   "cell_type": "code",
   "execution_count": 52,
   "metadata": {},
   "outputs": [
    {
     "data": {
      "text/html": [
       "0.329286981656416"
      ],
      "text/latex": [
       "0.329286981656416"
      ],
      "text/markdown": [
       "0.329286981656416"
      ],
      "text/plain": [
       "[1] 0.329287"
      ]
     },
     "metadata": {},
     "output_type": "display_data"
    }
   ],
   "source": [
    "x = 1\n",
    "avg_no_of_policies_sold_per_day = 3/5\n",
    "lambda = avg_no_of_policies_sold_per_day\n",
    "dpois(x=x, lambda = lambda)"
   ]
  },
  {
   "cell_type": "markdown",
   "metadata": {},
   "source": [
    "# Sample Exam papers"
   ]
  },
  {
   "cell_type": "markdown",
   "metadata": {},
   "source": [
    "## Question 1\n",
    "Virat Kohli’s scores in the last ten innings are as follows:\n",
    "78, 94, 134, 56, 2, 67, 89, 152, 26, 42\n",
    "Based on the above data, compute the expected value and standard deviation of Virat\n",
    "Kohli’s batting score."
   ]
  },
  {
   "cell_type": "code",
   "execution_count": 53,
   "metadata": {},
   "outputs": [
    {
     "name": "stdout",
     "output_type": "stream",
     "text": [
      "Expected value 74\n",
      "Standard deviation 46.20005"
     ]
    }
   ],
   "source": [
    "scores = c(78, 94, 134, 56, 2, 67, 89, 152, 26, 42)\n",
    "expected_val = mean(scores)\n",
    "std_dev = sd(scores)\n",
    "cat(\"Expected value\",expected_val)\n",
    "cat(\"\\nStandard deviation\",std_dev)"
   ]
  },
  {
   "cell_type": "markdown",
   "metadata": {},
   "source": [
    "## Question 2\n",
    "The amount of regular unleaded gasoline purchased every week at a gas station near UCLA\n",
    "follows the normal distribution with mean 50000 gallons and standard deviation 10000\n",
    "gallons. The starting supply of gasoline is 74000 gallons, and there is a scheduled weekly\n",
    "delivery of 47000 gallons.\n",
    " * Find the probability that, after 11 weeks, the supply of gasoline will be below 20000\n",
    "gallons.\n",
    " * How much should the weekly delivery be so that after 11 weeks the probability\n",
    "that the supply is below 20000 gallons is only 0.5%?"
   ]
  },
  {
   "cell_type": "code",
   "execution_count": 54,
   "metadata": {},
   "outputs": [
    {
     "name": "stdout",
     "output_type": "stream",
     "text": [
      "Total supply after 11 weeks =  591000  gallons\n",
      "Total gasoline purchased in 11 weeks >=  571000  gallons for supply to be <= 20000"
     ]
    }
   ],
   "source": [
    "total_gasoline_supplied = 74000 + 47000*11\n",
    "cat(\"Total supply after 11 weeks = \",total_gasoline_supplied,\" gallons\")\n",
    "threshold_of_gasoline = 20000\n",
    "total_gasoline_purchased = total_gasoline_supplied-threshold_of_gasoline\n",
    "cat(\"\\nTotal gasoline purchased in 11 weeks >= \",total_gasoline_purchased,\" gallons for supply to be <=\", threshold_of_gasoline)"
   ]
  },
  {
   "cell_type": "markdown",
   "metadata": {},
   "source": [
    "Now we know that for a normal distribution mean and standard deviation will be multiplied by a constant when x is multiplied by a constant"
   ]
  },
  {
   "cell_type": "code",
   "execution_count": 55,
   "metadata": {},
   "outputs": [],
   "source": [
    "new_mean_for_11_weeks = 50000*11\n",
    "new_sd_for_11_weeks = 10000*11"
   ]
  },
  {
   "cell_type": "markdown",
   "metadata": {},
   "source": [
    "Now we will find the probability of Total gasoline purchased in 11 weeks >= 571000 gallons with new mean and std. dev"
   ]
  },
  {
   "cell_type": "code",
   "execution_count": 56,
   "metadata": {},
   "outputs": [
    {
     "name": "stdout",
     "output_type": "stream",
     "text": [
      "\n",
      "probability that, after 11 weeks, the supply of gasoline will be below 20000 gallons =  0.4242984"
     ]
    }
   ],
   "source": [
    "probability = 1-pnorm(total_gasoline_purchased, new_mean_for_11_weeks, new_sd_for_11_weeks)\n",
    "cat(\"\\nprobability that, after 11 weeks, the supply of gasoline will be below 20000 gallons = \",probability)"
   ]
  },
  {
   "cell_type": "markdown",
   "metadata": {},
   "source": [
    "Now we are asked to find bring the probability that the supply of Gasoline coming below 20000 down to 0.5%. We will perform the following:\n",
    "1. Let n be the total weekly supply. So total supply after 11 weeks = 74000 + n*11 = TS\n",
    "1. Reserve should be <= 20000\n",
    "1. So purchase of gasoline (S) should be >= TS - Reserve\n",
    "1. Now P(S) = 0.005"
   ]
  },
  {
   "cell_type": "markdown",
   "metadata": {},
   "source": [
    "## First calculate S = P<sup>-1</sup>(0.005)"
   ]
  },
  {
   "cell_type": "code",
   "execution_count": 57,
   "metadata": {},
   "outputs": [
    {
     "name": "stdout",
     "output_type": "stream",
     "text": [
      "Purchase of gasoline should be >=  833341.2  gallons"
     ]
    }
   ],
   "source": [
    "probability = 0.5/100\n",
    "S = qnorm(1-probability,mean=new_mean_for_11_weeks, sd=new_sd_for_11_weeks)\n",
    "cat(\"Purchase of gasoline should be >= \",S,\" gallons\")"
   ]
  },
  {
   "cell_type": "markdown",
   "metadata": {},
   "source": [
    "## Now from point 3 TS = S + Reserve"
   ]
  },
  {
   "cell_type": "code",
   "execution_count": 58,
   "metadata": {},
   "outputs": [
    {
     "name": "stdout",
     "output_type": "stream",
     "text": [
      "Total supply for 11 weeeks =  853341.2  gallons"
     ]
    }
   ],
   "source": [
    "TS = S + 20000\n",
    "cat(\"Total supply for 11 weeeks = \",TS, \" gallons\")"
   ]
  },
  {
   "cell_type": "markdown",
   "metadata": {},
   "source": [
    "## Now from point 1. rate of supply (n) = (TS - 74000)/11"
   ]
  },
  {
   "cell_type": "code",
   "execution_count": 59,
   "metadata": {},
   "outputs": [
    {
     "name": "stdout",
     "output_type": "stream",
     "text": [
      "Weekly rate of supply >=  70849.2  gallons"
     ]
    }
   ],
   "source": [
    "n = (TS - 74000)/11\n",
    "cat(\"Weekly rate of supply >= \",n, \" gallons\")"
   ]
  },
  {
   "cell_type": "markdown",
   "metadata": {},
   "source": [
    "# Question 3\n",
    "If the average number of claims handled daily by an insurance company is 5, what\n",
    "proportions of days have less than 3 claims? What is the probability that there will be 4\n",
    "claims in exactly 3 of the next 5 days? Assume that the number of claims on different days is\n",
    "independent."
   ]
  },
  {
   "cell_type": "markdown",
   "metadata": {},
   "source": [
    "## Vizualize the Poisson distribution"
   ]
  },
  {
   "cell_type": "code",
   "execution_count": 60,
   "metadata": {},
   "outputs": [
    {
     "data": {
      "image/png": "[encoded data removed]",
      "text/plain": [
       "plot without title"
      ]
     },
     "metadata": {},
     "output_type": "display_data"
    }
   ],
   "source": [
    "x = seq(0,10,1)\n",
    "y= dpois(x,lambda=5)\n",
    "plot(x,y)"
   ]
  },
  {
   "cell_type": "markdown",
   "metadata": {},
   "source": [
    "## what proportions of days have less than 3 claims?\n",
    "P(X<3)"
   ]
  },
  {
   "cell_type": "code",
   "execution_count": 61,
   "metadata": {},
   "outputs": [
    {
     "data": {
      "text/html": [
       "0.124652019483081"
      ],
      "text/latex": [
       "0.124652019483081"
      ],
      "text/markdown": [
       "0.124652019483081"
      ],
      "text/plain": [
       "[1] 0.124652"
      ]
     },
     "metadata": {},
     "output_type": "display_data"
    }
   ],
   "source": [
    "lambda = 5\n",
    "ppois(q=2, lambda=lambda)"
   ]
  },
  {
   "cell_type": "markdown",
   "metadata": {},
   "source": [
    "## What is the probability that there will be 4 claims in exactly 3 of the next 5 days?\n",
    "1. Find P(X=4)\n",
    "1. Binomial distribution with P(X=4) as probability of success = <sup>5</sup>C<sub>3</sub>*p^3x(1-p)^2"
   ]
  },
  {
   "cell_type": "code",
   "execution_count": 62,
   "metadata": {},
   "outputs": [
    {
     "data": {
      "text/html": [
       "0.0367286353715121"
      ],
      "text/latex": [
       "0.0367286353715121"
      ],
      "text/markdown": [
       "0.0367286353715121"
      ],
      "text/plain": [
       "[1] 0.03672864"
      ]
     },
     "metadata": {},
     "output_type": "display_data"
    }
   ],
   "source": [
    "probability_of_4_claims_filed_each_day = dpois(4, lambda = 5)\n",
    "dbinom(x=3,prob = probability_of_4_claims_filed_each_day, size=5)"
   ]
  },
  {
   "cell_type": "markdown",
   "metadata": {},
   "source": [
    "# Question 4\n",
    "An architect is designing a doorway for a public building to be used by people whose heights\n",
    "are normally distributed, with mean 1 meter 75 centimeter, and standard deviation 7.5\n",
    "centimeter. How long can the doorway be so that no more than 1 % of the people bump\n",
    "their heads?"
   ]
  },
  {
   "cell_type": "code",
   "execution_count": 63,
   "metadata": {},
   "outputs": [],
   "source": [
    "u = 1.75\n",
    "std = 7.5/100\n",
    "prob = 1/100"
   ]
  },
  {
   "cell_type": "markdown",
   "metadata": {},
   "source": [
    "If P(Height of door) = 0.01, Height of door >= P<sup>-1</sup>(0.01)"
   ]
  },
  {
   "cell_type": "code",
   "execution_count": 64,
   "metadata": {},
   "outputs": [
    {
     "name": "stdout",
     "output_type": "stream",
     "text": [
      "Height of the door >=  1.575524  meter"
     ]
    }
   ],
   "source": [
    "min_height_of_door = qnorm(prob, mean=u, sd=std)\n",
    "cat(\"Height of the door >= \",min_height_of_door,\" meter\")"
   ]
  },
  {
   "cell_type": "code",
   "execution_count": null,
   "metadata": {},
   "outputs": [],
   "source": []
  }
 ],
 "metadata": {
  "kernelspec": {
   "display_name": "R",
   "language": "R",
   "name": "ir"
  },
  "language_info": {
   "codemirror_mode": "r",
   "file_extension": ".r",
   "mimetype": "text/x-r-source",
   "name": "R",
   "pygments_lexer": "r",
   "version": "3.6.1"
  }
 },
 "nbformat": 4,
 "nbformat_minor": 4
}
